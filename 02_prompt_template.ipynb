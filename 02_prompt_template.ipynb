{
 "cells": [
  {
   "cell_type": "markdown",
   "id": "72cc63d7-cf7e-4695-8ef9-2f8af67c56d3",
   "metadata": {},
   "source": [
    "# Prompt Template"
   ]
  },
  {
   "cell_type": "code",
   "execution_count": 1,
   "id": "61e7e357-4447-4133-85b0-04279d4bbca6",
   "metadata": {},
   "outputs": [],
   "source": [
    "from langchain_openai import OpenAI, ChatOpenAI\n",
    "from langchain_core.prompts import PromptTemplate, ChatPromptTemplate\n",
    "from langchain_core.prompts import SystemMessagePromptTemplate, HumanMessagePromptTemplate, AIMessagePromptTemplate\n",
    "from langchain.schema import SystemMessage, HumanMessage, AIMessage"
   ]
  },
  {
   "cell_type": "code",
   "execution_count": 2,
   "id": "5477ad1f-1bcb-4ca5-965a-0b11265ab04e",
   "metadata": {},
   "outputs": [
    {
     "data": {
      "text/plain": [
       "True"
      ]
     },
     "execution_count": 2,
     "metadata": {},
     "output_type": "execute_result"
    }
   ],
   "source": [
    "from dotenv import load_dotenv\n",
    "\n",
    "load_dotenv()"
   ]
  },
  {
   "cell_type": "code",
   "execution_count": 3,
   "id": "b66f413b-a499-4677-95fe-ca46e70e139b",
   "metadata": {},
   "outputs": [],
   "source": [
    "chat = ChatOpenAI(model=\"gpt-4o-mini-2024-07-18\",\n",
    "                  max_completion_tokens=300,\n",
    "                  temperature=0.7)"
   ]
  },
  {
   "cell_type": "markdown",
   "id": "800e4756-3faa-4b6a-80ee-0444b7db9f82",
   "metadata": {},
   "source": [
    "## Literal String"
   ]
  },
  {
   "cell_type": "code",
   "execution_count": 4,
   "id": "fc1d537c-5c26-4319-a559-327a3077757d",
   "metadata": {},
   "outputs": [
    {
     "name": "stdout",
     "output_type": "stream",
     "text": [
      "The diameter of Earth is approximately 12,742 kilometers (7,918 miles) when measured at the equator. However, due to the Earth's slightly oblate shape (it is slightly flattened at the poles and bulges at the equator), the polar diameter is about 12,714 kilometers (7,900 miles).\n"
     ]
    }
   ],
   "source": [
    "print(chat.invoke('What is the diameter of Earth').content)"
   ]
  },
  {
   "cell_type": "markdown",
   "id": "3097bdc0-12b7-4a3b-8f0a-a82c31349e20",
   "metadata": {},
   "source": [
    "## PromptTemplate"
   ]
  },
  {
   "cell_type": "markdown",
   "id": "52cda1f0-e891-49db-a22a-e99bf6d472a6",
   "metadata": {},
   "source": [
    "### from_template method"
   ]
  },
  {
   "cell_type": "code",
   "execution_count": 5,
   "id": "eb4a5bb0-f87e-48b8-8e68-a50e7b2f2bf9",
   "metadata": {},
   "outputs": [],
   "source": [
    "message_template = 'You are a python programming expert. {query}'"
   ]
  },
  {
   "cell_type": "code",
   "execution_count": 6,
   "id": "700e7af5-c3cf-4ae5-9e45-b683d9fa10cd",
   "metadata": {},
   "outputs": [],
   "source": [
    "template1 = PromptTemplate.from_template(message_template)"
   ]
  },
  {
   "cell_type": "code",
   "execution_count": 7,
   "id": "5166ba31-9de5-41f0-a674-a80a4f1a46cb",
   "metadata": {},
   "outputs": [
    {
     "data": {
      "text/plain": [
       "PromptTemplate(input_variables=['query'], input_types={}, partial_variables={}, template='You are a python programming expert. {query}')"
      ]
     },
     "execution_count": 7,
     "metadata": {},
     "output_type": "execute_result"
    }
   ],
   "source": [
    "template1"
   ]
  },
  {
   "cell_type": "code",
   "execution_count": 9,
   "id": "21804b67-ce89-44fc-80de-8f992fa9cf3a",
   "metadata": {},
   "outputs": [],
   "source": [
    "prompt1 = template1.format(query=\"What is LangChain?\")"
   ]
  },
  {
   "cell_type": "code",
   "execution_count": 10,
   "id": "d99f4d41-8bd9-4bfc-b6d0-38252e210848",
   "metadata": {},
   "outputs": [
    {
     "name": "stdout",
     "output_type": "stream",
     "text": [
      "LangChain is a framework designed for developing applications powered by language models, such as OpenAI's GPT series. It provides a structured way to build applications that utilize natural language processing (NLP) capabilities, making it easier to integrate language models into various applications. \n",
      "\n",
      "Key features of LangChain include:\n",
      "\n",
      "1. **Modular Components**: LangChain offers a variety of components that can be used independently or combined to build complex applications. These components include models, prompts, chains, agents, and memory.\n",
      "\n",
      "2. **Chains**: These are sequences of operations or steps that can be executed in order. For example, you can create a chain that takes user input, processes it through a language model, and then returns a response.\n",
      "\n",
      "3. **Agents**: LangChain allows you to build agents that can make decisions based on user input, context, and other factors. Agents can utilize language models to interpret natural language queries and perform actions accordingly.\n",
      "\n",
      "4. **Memory**: LangChain supports memory capabilities, enabling applications to remember previous interactions, which can enhance user experience and contextual understanding in ongoing conversations.\n",
      "\n",
      "5. **Integrations**: LangChain can be integrated with various data sources, APIs, and other tools, making it suitable for a wide range of applications, from chatbots to data analysis tools.\n",
      "\n",
      "6. **Prompting**: It includes utilities for prompt engineering, enabling the crafting of effective prompts to elicit desired responses from language models.\n",
      "\n",
      "LangChain is particularly useful for developers looking to\n"
     ]
    }
   ],
   "source": [
    "print(chat.invoke(prompt1).content)"
   ]
  },
  {
   "cell_type": "markdown",
   "id": "c10bd0e2-1838-4543-a794-d4431a8a2455",
   "metadata": {},
   "source": [
    "### Call method"
   ]
  },
  {
   "cell_type": "code",
   "execution_count": 11,
   "id": "27b2f2f2-7faa-4176-a862-7d5440e5866f",
   "metadata": {},
   "outputs": [],
   "source": [
    "template2 = PromptTemplate(partial_variables = {'query': 'What is ChatGPT?'},\n",
    "                           template = 'You are a python programming expert. {query}',\n",
    "                           template_format = 'f-string')"
   ]
  },
  {
   "cell_type": "code",
   "execution_count": 12,
   "id": "ced477a7-05d4-4260-bb8f-c9c719afbd15",
   "metadata": {},
   "outputs": [
    {
     "data": {
      "text/plain": [
       "PromptTemplate(input_variables=[], input_types={}, partial_variables={'query': 'What is ChatGPT?'}, template='You are a python programming expert. {query}')"
      ]
     },
     "execution_count": 12,
     "metadata": {},
     "output_type": "execute_result"
    }
   ],
   "source": [
    "template2"
   ]
  },
  {
   "cell_type": "code",
   "execution_count": 13,
   "id": "089de94c-6a0b-4d26-b5e3-6efee89d951c",
   "metadata": {},
   "outputs": [],
   "source": [
    "prompt2 = template2.format(query=\"What is LangGraph?\")"
   ]
  },
  {
   "cell_type": "code",
   "execution_count": 14,
   "id": "4db0f30e-72d3-48b9-82f4-d893690a24db",
   "metadata": {},
   "outputs": [
    {
     "name": "stdout",
     "output_type": "stream",
     "text": [
      "As of my last knowledge update in October 2023, LangGraph is not a widely recognized term or concept in the Python programming community or in general technology discussions. However, it may refer to a framework, library, or tool related to language models, graph structures, or natural language processing, potentially used for tasks such as graph-based reasoning or knowledge representation.\n",
      "\n",
      "If it is a recent development or a specific library, I recommend checking the official documentation, GitHub repositories, or community discussions for the most accurate and up-to-date information. If you have more context or details about LangGraph, I’d be happy to help explain further!\n"
     ]
    }
   ],
   "source": [
    "print(chat.invoke(prompt2).content)"
   ]
  },
  {
   "cell_type": "markdown",
   "id": "015c4bc6-fa44-41dd-aa14-8d68ea6381bf",
   "metadata": {},
   "source": [
    "### Multiple input variables"
   ]
  },
  {
   "cell_type": "code",
   "execution_count": 15,
   "id": "17f8ce4e-9a57-4fed-a84e-ffaf28c59010",
   "metadata": {},
   "outputs": [],
   "source": [
    "template3 = PromptTemplate(partial_variables = {'language': 'python'},\n",
    "                           template = 'You are a programming expert in {language}. {query}',\n",
    "                           template_format = 'f-string')"
   ]
  },
  {
   "cell_type": "code",
   "execution_count": 16,
   "id": "8d593824-bc26-4234-8c58-4428bf6d556d",
   "metadata": {},
   "outputs": [],
   "source": [
    "prompt3 = template3.format(language='python', query=\"Write me the code to find the nth Fibonacci number.\")"
   ]
  },
  {
   "cell_type": "code",
   "execution_count": 17,
   "id": "45db31ac-a415-450b-ad25-cb62cb97eecb",
   "metadata": {},
   "outputs": [
    {
     "data": {
      "text/plain": [
       "'You are a programming expert in python. Write me the code to find the nth Fibonacci number.'"
      ]
     },
     "execution_count": 17,
     "metadata": {},
     "output_type": "execute_result"
    }
   ],
   "source": [
    "prompt3"
   ]
  },
  {
   "cell_type": "code",
   "execution_count": 18,
   "id": "e68c9e6b-93e4-45b6-8ae7-882043e42dde",
   "metadata": {},
   "outputs": [
    {
     "name": "stdout",
     "output_type": "stream",
     "text": [
      "Certainly! You can find the nth Fibonacci number using various methods. Below are three popular approaches: using recursion, iteration, and dynamic programming.\n",
      "\n",
      "### 1. Recursive Approach\n",
      "This approach is simple but not efficient for large `n` due to its exponential time complexity.\n",
      "\n",
      "```python\n",
      "def fibonacci_recursive(n):\n",
      "    if n <= 0:\n",
      "        return 0\n",
      "    elif n == 1:\n",
      "        return 1\n",
      "    else:\n",
      "        return fibonacci_recursive(n - 1) + fibonacci_recursive(n - 2)\n",
      "\n",
      "# Example usage\n",
      "n = 10\n",
      "print(f\"The {n}th Fibonacci number is: {fibonacci_recursive(n)}\")\n",
      "```\n",
      "\n",
      "### 2. Iterative Approach\n",
      "This method uses a loop and is much more efficient, with a time complexity of O(n).\n",
      "\n",
      "```python\n",
      "def fibonacci_iterative(n):\n",
      "    if n <= 0:\n",
      "        return 0\n",
      "    elif n == 1:\n",
      "        return 1\n",
      "    \n",
      "    a, b = 0, 1\n",
      "    for _ in range(2, n + 1):\n",
      "        a, b = b, a + b\n",
      "    return b\n",
      "\n",
      "# Example usage\n",
      "n = 10\n",
      "print(f\"The {n}th Fibonacci number is: {fibonacci_iterative(n)}\")\n",
      "```\n",
      "\n",
      "### 3. Dynamic Programming Approach\n",
      "This approach uses an array to store previously computed Fibonacci numbers, thus reducing redundant calculations.\n",
      "\n",
      "```python\n",
      "def fibonacci_dynamic(n):\n",
      "    if n\n"
     ]
    }
   ],
   "source": [
    "print(chat.invoke(prompt3).content)"
   ]
  },
  {
   "cell_type": "markdown",
   "id": "8286863e-63c5-459d-a4b0-2c178993136d",
   "metadata": {},
   "source": [
    "## ChatPromptTemplate"
   ]
  },
  {
   "cell_type": "markdown",
   "id": "91e2fc26-4cec-40d7-946e-7d7cbb797984",
   "metadata": {},
   "source": [
    "### Call method"
   ]
  },
  {
   "cell_type": "code",
   "execution_count": 19,
   "id": "018f587c-8179-4a93-8588-c9dd0f6a7dfd",
   "metadata": {},
   "outputs": [],
   "source": [
    "system_message = SystemMessagePromptTemplate.from_template(template = 'You are a helpful assistant.',\n",
    "                                                           template_format = 'f-string',\n",
    "                                                           partial_variables = {})\n",
    "\n",
    "human_message = HumanMessagePromptTemplate.from_template(template = 'What is the diameter of {planet}?',\n",
    "                                                         template_format = 'f-string',\n",
    "                                                         partial_variables = {'planet': 'Earth'})"
   ]
  },
  {
   "cell_type": "code",
   "execution_count": 20,
   "id": "bf5ee605-3fa5-4b8c-b6c6-2f28362f4450",
   "metadata": {},
   "outputs": [],
   "source": [
    "chat_template1 = ChatPromptTemplate(messages=[system_message, human_message],\n",
    "                                 template_format = 'f-string',\n",
    "                                 input_variables = ['planet'])"
   ]
  },
  {
   "cell_type": "code",
   "execution_count": 21,
   "id": "144d2816-2079-43be-982b-005de27d0533",
   "metadata": {},
   "outputs": [
    {
     "data": {
      "text/plain": [
       "ChatPromptTemplate(input_variables=[], input_types={}, partial_variables={}, messages=[SystemMessagePromptTemplate(prompt=PromptTemplate(input_variables=[], input_types={}, partial_variables={}, template='You are a helpful assistant.'), additional_kwargs={}), HumanMessagePromptTemplate(prompt=PromptTemplate(input_variables=[], input_types={}, partial_variables={'planet': 'Earth'}, template='What is the diameter of {planet}?'), additional_kwargs={})])"
      ]
     },
     "execution_count": 21,
     "metadata": {},
     "output_type": "execute_result"
    }
   ],
   "source": [
    "chat_template1"
   ]
  },
  {
   "cell_type": "code",
   "execution_count": 23,
   "id": "7cf036e6-1b2c-460f-af8f-6a8de6796295",
   "metadata": {},
   "outputs": [],
   "source": [
    "chat_prompt1 = chat_template1.format(planet = \"Earth\")"
   ]
  },
  {
   "cell_type": "code",
   "execution_count": 24,
   "id": "812d7e11-ba80-40a9-abb8-e123ce597561",
   "metadata": {},
   "outputs": [
    {
     "name": "stdout",
     "output_type": "stream",
     "text": [
      "The diameter of Earth is approximately 12,742 kilometers (7,918 miles) when measured at the equator. The diameter is slightly smaller when measured from pole to pole, about 12,714 kilometers (7,900 miles), due to the Earth's slightly oblate shape.\n"
     ]
    }
   ],
   "source": [
    "print(chat.invoke(chat_prompt1).content)"
   ]
  },
  {
   "cell_type": "markdown",
   "id": "7dc2b9b3-278b-48a8-a052-6ad42f54a9cd",
   "metadata": {},
   "source": [
    "### from_template method"
   ]
  },
  {
   "cell_type": "code",
   "execution_count": 25,
   "id": "65d8ab08-ea50-4647-995b-44aa3854842a",
   "metadata": {},
   "outputs": [],
   "source": [
    "chat_template2 = ChatPromptTemplate.from_template(template= 'What is the diameter of {planet}?')"
   ]
  },
  {
   "cell_type": "code",
   "execution_count": 26,
   "id": "5d5e223b-c067-407c-9c7b-9ea581e6ee84",
   "metadata": {},
   "outputs": [],
   "source": [
    "chat_prompt2 = chat_template2.format_prompt(planet = \"Earth\")"
   ]
  },
  {
   "cell_type": "code",
   "execution_count": 27,
   "id": "253f17dc-7f7f-4027-a165-906d0459eb29",
   "metadata": {},
   "outputs": [
    {
     "name": "stdout",
     "output_type": "stream",
     "text": [
      "The diameter of Earth is approximately 12,742 kilometers (7,918 miles) when measured at the equator. However, due to its slightly oblate shape, the diameter measured from pole to pole is about 12,714 kilometers (7,900 miles).\n"
     ]
    }
   ],
   "source": [
    "print(chat.invoke(chat_prompt2).content)"
   ]
  },
  {
   "cell_type": "markdown",
   "id": "347e9ca7-4ae2-46de-a754-d7fc4f0aa01f",
   "metadata": {},
   "source": [
    "### from_messages method"
   ]
  },
  {
   "cell_type": "code",
   "execution_count": 28,
   "id": "c2e61215-1fc0-48ac-8e1a-93e3afaffb39",
   "metadata": {},
   "outputs": [],
   "source": [
    "messages = [system_message, human_message]"
   ]
  },
  {
   "cell_type": "code",
   "execution_count": 34,
   "id": "d13c8e48-54b5-43cc-b676-c86d727fa52e",
   "metadata": {},
   "outputs": [],
   "source": [
    "chat_template3 = ChatPromptTemplate.from_messages(messages)"
   ]
  },
  {
   "cell_type": "code",
   "execution_count": 35,
   "id": "749a20b9-ff72-4535-a756-faafc367e666",
   "metadata": {},
   "outputs": [
    {
     "data": {
      "text/plain": [
       "ChatPromptTemplate(input_variables=[], input_types={}, partial_variables={}, messages=[SystemMessagePromptTemplate(prompt=PromptTemplate(input_variables=[], input_types={}, partial_variables={}, template='You are a helpful assistant.'), additional_kwargs={}), HumanMessagePromptTemplate(prompt=PromptTemplate(input_variables=[], input_types={}, partial_variables={'planet': 'Earth'}, template='What is the diameter of {planet}?'), additional_kwargs={})])"
      ]
     },
     "execution_count": 35,
     "metadata": {},
     "output_type": "execute_result"
    }
   ],
   "source": [
    "chat_template3"
   ]
  },
  {
   "cell_type": "code",
   "execution_count": 36,
   "id": "781547f0-7514-4a5e-8997-7dcb5b69e78d",
   "metadata": {},
   "outputs": [],
   "source": [
    "chat_prompt3 = chat_template3.format_prompt(planet = \"Earth\").to_messages()"
   ]
  },
  {
   "cell_type": "code",
   "execution_count": 37,
   "id": "35d9ca59-bde3-40c0-9ec8-7418ffcd0e59",
   "metadata": {},
   "outputs": [
    {
     "data": {
      "text/plain": [
       "[SystemMessage(content='You are a helpful assistant.', additional_kwargs={}, response_metadata={}),\n",
       " HumanMessage(content='What is the diameter of Earth?', additional_kwargs={}, response_metadata={})]"
      ]
     },
     "execution_count": 37,
     "metadata": {},
     "output_type": "execute_result"
    }
   ],
   "source": [
    "chat_prompt3"
   ]
  },
  {
   "cell_type": "code",
   "execution_count": 38,
   "id": "efa1391a-1f95-4dfd-b55b-88de01d37090",
   "metadata": {},
   "outputs": [
    {
     "name": "stdout",
     "output_type": "stream",
     "text": [
      "The diameter of Earth is approximately 12,742 kilometers (7,918 miles) when measured at the equator. However, due to the Earth's slight flattening at the poles (an oblate spheroid shape), the diameter measured from pole to pole is about 12,714 kilometers (7,900 miles).\n"
     ]
    }
   ],
   "source": [
    "print(chat.invoke(chat_prompt3).content)"
   ]
  },
  {
   "cell_type": "code",
   "execution_count": null,
   "id": "5ee82ea4-918a-474f-be39-5c94cf60c497",
   "metadata": {},
   "outputs": [],
   "source": []
  }
 ],
 "metadata": {
  "kernelspec": {
   "display_name": "Python 3 (ipykernel)",
   "language": "python",
   "name": "python3"
  },
  "language_info": {
   "codemirror_mode": {
    "name": "ipython",
    "version": 3
   },
   "file_extension": ".py",
   "mimetype": "text/x-python",
   "name": "python",
   "nbconvert_exporter": "python",
   "pygments_lexer": "ipython3",
   "version": "3.12.9"
  }
 },
 "nbformat": 4,
 "nbformat_minor": 5
}
