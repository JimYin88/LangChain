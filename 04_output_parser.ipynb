{
 "cells": [
  {
   "cell_type": "code",
   "execution_count": 1,
   "id": "d7fb2cf8-cad8-48a6-95b5-567fd15f5dbc",
   "metadata": {},
   "outputs": [],
   "source": [
    "from langchain_openai import ChatOpenAI\n",
    "from langchain_core.prompts import PromptTemplate, ChatPromptTemplate\n",
    "from langchain_core.prompts import SystemMessagePromptTemplate, HumanMessagePromptTemplate, AIMessagePromptTemplate\n",
    "from langchain.schema import SystemMessage, HumanMessage, AIMessage\n",
    "from langchain.output_parsers import CommaSeparatedListOutputParser, DatetimeOutputParser, OutputFixingParser, PydanticOutputParser\n",
    "from pydantic import BaseModel, Field\n",
    "from langchain.prompts import load_prompt\n",
    "\n",
    "from dotenv import load_dotenv"
   ]
  },
  {
   "cell_type": "code",
   "execution_count": 2,
   "id": "798268f1-e511-41be-837a-b59a0fe75a62",
   "metadata": {},
   "outputs": [
    {
     "data": {
      "text/plain": [
       "True"
      ]
     },
     "execution_count": 2,
     "metadata": {},
     "output_type": "execute_result"
    }
   ],
   "source": [
    "load_dotenv()"
   ]
  },
  {
   "cell_type": "code",
   "execution_count": 3,
   "id": "6d873922-4257-4f2c-8e53-c82cc2ef7ff5",
   "metadata": {},
   "outputs": [],
   "source": [
    "model = ChatOpenAI(model=\"gpt-4o-mini-2024-07-18\",\n",
    "                   max_completion_tokens=300,\n",
    "                   temperature=0.7)"
   ]
  },
  {
   "cell_type": "code",
   "execution_count": 4,
   "id": "970881ad-2e10-4c3b-ae5f-5ade9a72ba86",
   "metadata": {},
   "outputs": [],
   "source": [
    "output_parser = CommaSeparatedListOutputParser()"
   ]
  },
  {
   "cell_type": "code",
   "execution_count": 5,
   "id": "23ecdcba-b6f8-40c2-9bc8-440d4f433a7b",
   "metadata": {},
   "outputs": [
    {
     "data": {
      "text/plain": [
       "'Your response should be a list of comma separated values, eg: `foo, bar, baz` or `foo,bar,baz`'"
      ]
     },
     "execution_count": 5,
     "metadata": {},
     "output_type": "execute_result"
    }
   ],
   "source": [
    "output_parser.get_format_instructions()"
   ]
  },
  {
   "cell_type": "code",
   "execution_count": 6,
   "id": "db1c5461-a5a2-4056-b1d0-9346cc9f9e8c",
   "metadata": {},
   "outputs": [
    {
     "data": {
      "text/plain": [
       "['red', 'blue', 'white']"
      ]
     },
     "execution_count": 6,
     "metadata": {},
     "output_type": "execute_result"
    }
   ],
   "source": [
    "output_parser.parse(\"red, blue, white\")"
   ]
  },
  {
   "cell_type": "code",
   "execution_count": 7,
   "id": "e67d2373-1d94-426a-83c3-3dc07c1f3fd2",
   "metadata": {},
   "outputs": [],
   "source": [
    "human_template = \"{request} /n {format_instructions}\"\n",
    "human_prompt = HumanMessagePromptTemplate.from_template(template=human_template)"
   ]
  },
  {
   "cell_type": "code",
   "execution_count": 8,
   "id": "c05e5816-bca4-429b-8b7a-f0caf165ffa1",
   "metadata": {},
   "outputs": [
    {
     "data": {
      "text/plain": [
       "HumanMessagePromptTemplate(prompt=PromptTemplate(input_variables=['format_instructions', 'request'], input_types={}, partial_variables={}, template='{request} /n {format_instructions}'), additional_kwargs={})"
      ]
     },
     "execution_count": 8,
     "metadata": {},
     "output_type": "execute_result"
    }
   ],
   "source": [
    "human_prompt"
   ]
  },
  {
   "cell_type": "code",
   "execution_count": 9,
   "id": "773de53c-40dc-4e5e-b82a-0badd449eee0",
   "metadata": {},
   "outputs": [],
   "source": [
    "chat_prompt = ChatPromptTemplate.from_messages(messages=[human_prompt])"
   ]
  },
  {
   "cell_type": "code",
   "execution_count": 10,
   "id": "2d7fd355-4491-4972-a6f3-a86437fce93d",
   "metadata": {},
   "outputs": [
    {
     "data": {
      "text/plain": [
       "ChatPromptTemplate(input_variables=['format_instructions', 'request'], input_types={}, partial_variables={}, messages=[HumanMessagePromptTemplate(prompt=PromptTemplate(input_variables=['format_instructions', 'request'], input_types={}, partial_variables={}, template='{request} /n {format_instructions}'), additional_kwargs={})])"
      ]
     },
     "execution_count": 10,
     "metadata": {},
     "output_type": "execute_result"
    }
   ],
   "source": [
    "chat_prompt"
   ]
  },
  {
   "cell_type": "code",
   "execution_count": 11,
   "id": "1dbe6fbe-81e2-4caf-a060-a7a8cd584f56",
   "metadata": {},
   "outputs": [
    {
     "data": {
      "text/plain": [
       "[HumanMessage(content='give me 5 characteristics of dogs /n Your response should be a list of comma separated values, eg: `foo, bar, baz` or `foo,bar,baz`', additional_kwargs={}, response_metadata={})]"
      ]
     },
     "execution_count": 11,
     "metadata": {},
     "output_type": "execute_result"
    }
   ],
   "source": [
    "chat_prompt.format_prompt(request='give me 5 characteristics of dogs',\n",
    "                          format_instructions=output_parser.get_format_instructions()).to_messages()"
   ]
  },
  {
   "cell_type": "code",
   "execution_count": 12,
   "id": "76be209c-1fcf-4615-a9cd-a0f009192a95",
   "metadata": {},
   "outputs": [],
   "source": [
    "model_request = chat_prompt.format_prompt(request='give me 5 characteristics of dogs',\n",
    "                                          format_instructions=output_parser.get_format_instructions()).to_messages()"
   ]
  },
  {
   "cell_type": "code",
   "execution_count": 13,
   "id": "3fbd509e-54a2-4a75-8384-ad034b3f594f",
   "metadata": {},
   "outputs": [
    {
     "data": {
      "text/plain": [
       "['loyalty',\n",
       " 'intelligence',\n",
       " 'playfulness',\n",
       " 'adaptability',\n",
       " 'strong sense of smell']"
      ]
     },
     "execution_count": 13,
     "metadata": {},
     "output_type": "execute_result"
    }
   ],
   "source": [
    "output_parser.parse((model.invoke(model_request).content))"
   ]
  },
  {
   "cell_type": "markdown",
   "id": "2f16fc8b-7a08-4521-a507-6c7b1550e7a9",
   "metadata": {},
   "source": [
    "## Datetime Parser"
   ]
  },
  {
   "cell_type": "code",
   "execution_count": 14,
   "id": "61614555-2ede-4d35-9873-bb805d3fb6b3",
   "metadata": {},
   "outputs": [],
   "source": [
    "datetime_parser = DatetimeOutputParser()"
   ]
  },
  {
   "cell_type": "code",
   "execution_count": 15,
   "id": "6a6a61dd-56cb-4616-9331-6d0e5d786b88",
   "metadata": {},
   "outputs": [],
   "source": [
    "template_text = \"{request}\\n{format_instructions}\"\n",
    "human_prompt = HumanMessagePromptTemplate.from_template(template_text)\n",
    "\n",
    "system_prompt = SystemMessagePromptTemplate.from_template(template=\"You always reply to questions only in datetime patterns.\")"
   ]
  },
  {
   "cell_type": "code",
   "execution_count": 16,
   "id": "2d7d0765-53ac-41b0-9db4-591ca3d76c4a",
   "metadata": {},
   "outputs": [],
   "source": [
    "chat_prompt = ChatPromptTemplate.from_messages([system_prompt, human_prompt])"
   ]
  },
  {
   "cell_type": "code",
   "execution_count": 17,
   "id": "a40d11d3-4fe4-4a09-a390-eb92d94d2fb5",
   "metadata": {},
   "outputs": [
    {
     "data": {
      "text/plain": [
       "ChatPromptTemplate(input_variables=['format_instructions', 'request'], input_types={}, partial_variables={}, messages=[SystemMessagePromptTemplate(prompt=PromptTemplate(input_variables=[], input_types={}, partial_variables={}, template='You always reply to questions only in datetime patterns.'), additional_kwargs={}), HumanMessagePromptTemplate(prompt=PromptTemplate(input_variables=['format_instructions', 'request'], input_types={}, partial_variables={}, template='{request}\\n{format_instructions}'), additional_kwargs={})])"
      ]
     },
     "execution_count": 17,
     "metadata": {},
     "output_type": "execute_result"
    }
   ],
   "source": [
    "chat_prompt"
   ]
  },
  {
   "cell_type": "code",
   "execution_count": 18,
   "id": "54978205-d5d2-4ffb-95c7-96d44d4a8efc",
   "metadata": {},
   "outputs": [
    {
     "data": {
      "text/plain": [
       "ChatPromptValue(messages=[SystemMessage(content='You always reply to questions only in datetime patterns.', additional_kwargs={}, response_metadata={}), HumanMessage(content=\"When was the 13th Amendment ratified in the US?\\nWrite a datetime string that matches the following pattern: '%Y-%m-%dT%H:%M:%S.%fZ'.\\n\\nExamples: 0206-01-21T06:40:28.382610Z, 1444-12-29T14:44:24.597000Z, 1610-01-18T18:15:11.106506Z\\n\\nReturn ONLY this string, no other words!\", additional_kwargs={}, response_metadata={})])"
      ]
     },
     "execution_count": 18,
     "metadata": {},
     "output_type": "execute_result"
    }
   ],
   "source": [
    "chat_prompt.format_prompt(request=\"When was the 13th Amendment ratified in the US?\",\n",
    "                          format_instructions=datetime_parser.get_format_instructions())"
   ]
  },
  {
   "cell_type": "code",
   "execution_count": 19,
   "id": "93a7b7c3-93ed-4c2e-93fb-13491f50d5fb",
   "metadata": {},
   "outputs": [],
   "source": [
    "model_prompt = chat_prompt.format_prompt(request=\"When was the 13th Amendment ratified in the US?\",\n",
    "                          format_instructions=datetime_parser.get_format_instructions()).to_messages()"
   ]
  },
  {
   "cell_type": "code",
   "execution_count": 20,
   "id": "ac49e408-beda-4178-84db-773c454b1570",
   "metadata": {},
   "outputs": [
    {
     "data": {
      "text/plain": [
       "[SystemMessage(content='You always reply to questions only in datetime patterns.', additional_kwargs={}, response_metadata={}),\n",
       " HumanMessage(content=\"When was the 13th Amendment ratified in the US?\\nWrite a datetime string that matches the following pattern: '%Y-%m-%dT%H:%M:%S.%fZ'.\\n\\nExamples: 1345-01-24T14:04:49.802940Z, 1710-02-28T13:07:37.483757Z, 1282-07-02T13:12:13.727562Z\\n\\nReturn ONLY this string, no other words!\", additional_kwargs={}, response_metadata={})]"
      ]
     },
     "execution_count": 20,
     "metadata": {},
     "output_type": "execute_result"
    }
   ],
   "source": [
    "model_prompt"
   ]
  },
  {
   "cell_type": "code",
   "execution_count": 21,
   "id": "a255bd8d-3ce7-4431-be6d-a17b6f1e54c9",
   "metadata": {},
   "outputs": [
    {
     "data": {
      "text/plain": [
       "datetime.datetime(1865, 12, 6, 0, 0)"
      ]
     },
     "execution_count": 21,
     "metadata": {},
     "output_type": "execute_result"
    }
   ],
   "source": [
    "datetime_parser.parse(model.invoke(model_prompt).content)"
   ]
  },
  {
   "cell_type": "markdown",
   "id": "c8f01c87-83ff-4154-8a67-dfdd52ccc7d0",
   "metadata": {},
   "source": [
    "## OutputFixingParser"
   ]
  },
  {
   "cell_type": "code",
   "execution_count": 22,
   "id": "52ba26ae-a59b-42ca-b904-e45d6d471145",
   "metadata": {},
   "outputs": [],
   "source": [
    "new_parser = OutputFixingParser.from_llm(parser=datetime_parser, llm=model)"
   ]
  },
  {
   "cell_type": "code",
   "execution_count": 23,
   "id": "ac9a122a-036d-4ccb-b5e4-b35bf8a401ae",
   "metadata": {},
   "outputs": [
    {
     "data": {
      "text/plain": [
       "datetime.datetime(1865, 12, 6, 0, 0)"
      ]
     },
     "execution_count": 23,
     "metadata": {},
     "output_type": "execute_result"
    }
   ],
   "source": [
    "new_parser.parse(model.invoke(model_prompt).content)"
   ]
  },
  {
   "cell_type": "code",
   "execution_count": 24,
   "id": "c56506c5-3d4d-44f3-87e6-6df9890f941e",
   "metadata": {},
   "outputs": [
    {
     "data": {
      "text/plain": [
       "datetime.datetime(2023, 10, 5, 12, 34, 56, 789012)"
      ]
     },
     "execution_count": 24,
     "metadata": {},
     "output_type": "execute_result"
    }
   ],
   "source": [
    "new_parser.parse(\"My birthday is January 9, 1963.\")"
   ]
  },
  {
   "cell_type": "markdown",
   "id": "c89d1e55-3859-4658-861f-6656d78e2bb5",
   "metadata": {},
   "source": [
    "## Pydantic Output Parser"
   ]
  },
  {
   "cell_type": "code",
   "execution_count": 25,
   "id": "16bd1c1f-b3c9-4d2c-b025-e8b635dbc048",
   "metadata": {},
   "outputs": [],
   "source": [
    "class Scientist(BaseModel):\n",
    "\n",
    "    name: str = Field(description='Name of a Scientist')\n",
    "    discoveries: list = Field(description=\"Python list of discoveries\")"
   ]
  },
  {
   "cell_type": "code",
   "execution_count": 26,
   "id": "ee816533-f6f4-4e9e-9a2b-0441036d1b7b",
   "metadata": {},
   "outputs": [],
   "source": [
    "parser = PydanticOutputParser(pydantic_object=Scientist)"
   ]
  },
  {
   "cell_type": "code",
   "execution_count": 27,
   "id": "2116b32a-4332-49e2-aca0-494d68145c93",
   "metadata": {},
   "outputs": [
    {
     "name": "stdout",
     "output_type": "stream",
     "text": [
      "The output should be formatted as a JSON instance that conforms to the JSON schema below.\n",
      "\n",
      "As an example, for the schema {\"properties\": {\"foo\": {\"title\": \"Foo\", \"description\": \"a list of strings\", \"type\": \"array\", \"items\": {\"type\": \"string\"}}}, \"required\": [\"foo\"]}\n",
      "the object {\"foo\": [\"bar\", \"baz\"]} is a well-formatted instance of the schema. The object {\"properties\": {\"foo\": [\"bar\", \"baz\"]}} is not well-formatted.\n",
      "\n",
      "Here is the output schema:\n",
      "```\n",
      "{\"properties\": {\"name\": {\"description\": \"Name of a Scientist\", \"title\": \"Name\", \"type\": \"string\"}, \"discoveries\": {\"description\": \"Python list of discoveries\", \"items\": {}, \"title\": \"Discoveries\", \"type\": \"array\"}}, \"required\": [\"name\", \"discoveries\"]}\n",
      "```\n"
     ]
    }
   ],
   "source": [
    "print(parser.get_format_instructions())"
   ]
  },
  {
   "cell_type": "code",
   "execution_count": 28,
   "id": "bf3fa5b7-fbd1-4b7e-ac13-c35a420caa99",
   "metadata": {},
   "outputs": [],
   "source": [
    "human_prompt = HumanMessagePromptTemplate.from_template(template=\"{request}\\n{format_instructions}\")"
   ]
  },
  {
   "cell_type": "code",
   "execution_count": 29,
   "id": "8a94a913-d5d8-434d-9302-14004b716dcc",
   "metadata": {},
   "outputs": [],
   "source": [
    "chat_prompt = ChatPromptTemplate.from_messages(messages=[human_prompt])"
   ]
  },
  {
   "cell_type": "code",
   "execution_count": 30,
   "id": "8aba38c7-52c3-424f-b4b5-87ddd96c208b",
   "metadata": {},
   "outputs": [],
   "source": [
    "request = chat_prompt.format_prompt(request=\"Tell me a famous scientist\",\n",
    "                                    format_instructions=parser.get_format_instructions()).to_messages()"
   ]
  },
  {
   "cell_type": "code",
   "execution_count": 31,
   "id": "c50e049e-3985-4f47-80bd-e3a0d147c7b4",
   "metadata": {},
   "outputs": [
    {
     "data": {
      "text/plain": [
       "[HumanMessage(content='Tell me a famous scientist\\nThe output should be formatted as a JSON instance that conforms to the JSON schema below.\\n\\nAs an example, for the schema {\"properties\": {\"foo\": {\"title\": \"Foo\", \"description\": \"a list of strings\", \"type\": \"array\", \"items\": {\"type\": \"string\"}}}, \"required\": [\"foo\"]}\\nthe object {\"foo\": [\"bar\", \"baz\"]} is a well-formatted instance of the schema. The object {\"properties\": {\"foo\": [\"bar\", \"baz\"]}} is not well-formatted.\\n\\nHere is the output schema:\\n```\\n{\"properties\": {\"name\": {\"description\": \"Name of a Scientist\", \"title\": \"Name\", \"type\": \"string\"}, \"discoveries\": {\"description\": \"Python list of discoveries\", \"items\": {}, \"title\": \"Discoveries\", \"type\": \"array\"}}, \"required\": [\"name\", \"discoveries\"]}\\n```', additional_kwargs={}, response_metadata={})]"
      ]
     },
     "execution_count": 31,
     "metadata": {},
     "output_type": "execute_result"
    }
   ],
   "source": [
    "request"
   ]
  },
  {
   "cell_type": "code",
   "execution_count": 32,
   "id": "9a4c290b-df67-418a-b291-74ba1c212c2b",
   "metadata": {},
   "outputs": [
    {
     "name": "stdout",
     "output_type": "stream",
     "text": [
      "```json\n",
      "{\n",
      "  \"name\": \"Albert Einstein\",\n",
      "  \"discoveries\": [\n",
      "    \"Theory of Relativity\",\n",
      "    \"Photoelectric Effect\",\n",
      "    \"Mass-energy equivalence (E=mc²)\",\n",
      "    \"Brownian Motion\"\n",
      "  ]\n",
      "}\n",
      "```\n"
     ]
    }
   ],
   "source": [
    "print(model.invoke(request).content)"
   ]
  },
  {
   "cell_type": "code",
   "execution_count": 33,
   "id": "a54bb498-d1bb-408d-8e27-ebe18d1df7a4",
   "metadata": {},
   "outputs": [
    {
     "data": {
      "text/plain": [
       "Scientist(name='Albert Einstein', discoveries=['Theory of Relativity', 'Photoelectric Effect', 'Mass-energy equivalence (E=mc^2)', 'Brownian Motion'])"
      ]
     },
     "execution_count": 33,
     "metadata": {},
     "output_type": "execute_result"
    }
   ],
   "source": [
    "parser.parse(model.invoke(request).content)"
   ]
  },
  {
   "cell_type": "markdown",
   "id": "4b9a4d8b-3c4d-4267-9ed3-f594b34e5262",
   "metadata": {},
   "source": [
    " ## Saving and Loading Prompts"
   ]
  },
  {
   "cell_type": "code",
   "execution_count": 34,
   "id": "3e7fcd3f-4101-4aaf-9dab-9b96ea64fea8",
   "metadata": {},
   "outputs": [],
   "source": [
    "myprompt = PromptTemplate(template=\"Tell me a fact about {planet}\",\n",
    "                          input_variables=[\"planet\"])"
   ]
  },
  {
   "cell_type": "code",
   "execution_count": 35,
   "id": "c3f0979e-55f9-4d8d-b94a-bd54fcab78b1",
   "metadata": {},
   "outputs": [],
   "source": [
    "myprompt.save(\"myprompt.json\")"
   ]
  },
  {
   "cell_type": "code",
   "execution_count": 36,
   "id": "ffe0804b-802c-4fd2-a76e-d24d74adc2c7",
   "metadata": {},
   "outputs": [
    {
     "data": {
      "text/plain": [
       "PromptTemplate(input_variables=['planet'], input_types={}, partial_variables={}, template='Tell me a fact about {planet}')"
      ]
     },
     "execution_count": 36,
     "metadata": {},
     "output_type": "execute_result"
    }
   ],
   "source": [
    "loaded_prompt = load_prompt(\"myprompt.json\")\n",
    "loaded_prompt"
   ]
  },
  {
   "cell_type": "code",
   "execution_count": null,
   "id": "b8d267d4-3ac0-4acf-93e4-c3581d5f4d0b",
   "metadata": {},
   "outputs": [],
   "source": []
  }
 ],
 "metadata": {
  "kernelspec": {
   "display_name": "Python 3 (ipykernel)",
   "language": "python",
   "name": "python3"
  },
  "language_info": {
   "codemirror_mode": {
    "name": "ipython",
    "version": 3
   },
   "file_extension": ".py",
   "mimetype": "text/x-python",
   "name": "python",
   "nbconvert_exporter": "python",
   "pygments_lexer": "ipython3",
   "version": "3.12.9"
  }
 },
 "nbformat": 4,
 "nbformat_minor": 5
}
