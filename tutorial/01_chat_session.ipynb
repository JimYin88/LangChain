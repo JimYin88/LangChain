{
 "cells": [
  {
   "cell_type": "code",
   "execution_count": 1,
   "id": "54229929-aa22-4ac0-bc24-1ef5236c6976",
   "metadata": {},
   "outputs": [
    {
     "data": {
      "text/plain": [
       "True"
      ]
     },
     "execution_count": 1,
     "metadata": {},
     "output_type": "execute_result"
    }
   ],
   "source": [
    "from langchain_openai import OpenAI, ChatOpenAI\n",
    "\n",
    "from dotenv import load_dotenv\n",
    "load_dotenv()"
   ]
  },
  {
   "cell_type": "markdown",
   "id": "4dd25632-2993-45da-b24d-df02f43cbfd1",
   "metadata": {},
   "source": [
    "## Text Completion Mode"
   ]
  },
  {
   "cell_type": "code",
   "execution_count": 2,
   "id": "c3acf086-7b15-4c2c-9dc6-714bdc0306c8",
   "metadata": {},
   "outputs": [],
   "source": [
    "llm = OpenAI(model=\"babbage-002\",\n",
    "             temperature=0.2,\n",
    "             max_tokens=256)"
   ]
  },
  {
   "cell_type": "code",
   "execution_count": 3,
   "id": "4737d64f-527a-4564-adcc-d53984bc16c5",
   "metadata": {},
   "outputs": [
    {
     "name": "stdout",
     "output_type": "stream",
     "text": [
      ". I don't know. I don't know. I don't know. I don't know. I don't know. I don't know. I don't know. I don't know. I don't know. I don't know. I don't know. I don't know. I don't know. I don't know. I don't know. I don't know. I don't know. I don't know. I don't know. I don't know. I don't know. I don't know. I don't know. I don't know. I don't know. I don't know. I don't know. I don't know. I don't know. I don't know. I don't know. I don't know. I don't know. I don't know. I don't know. I don't know. I don't know. I don't know. I don't know. I don't know. I don't know. I don't know. I don't know. I don't know. I don't know. I don't know. I don't know. I don't know. I don't know. I don't know. I don't know.\n"
     ]
    }
   ],
   "source": [
    "print(llm.invoke(\"Tell me a joke about dogs\"))"
   ]
  },
  {
   "cell_type": "markdown",
   "id": "1d446094-fe55-4185-be68-e607d950b13d",
   "metadata": {},
   "source": [
    "## Chat Session"
   ]
  },
  {
   "cell_type": "code",
   "execution_count": 4,
   "id": "2a07fbdf-100b-430a-b136-5e690f2804c8",
   "metadata": {
    "scrolled": true
   },
   "outputs": [
    {
     "name": "stdout",
     "output_type": "stream",
     "text": [
      "Scarlett O'Hara, a belle of the South,\n",
      "With fiery passion burning in her mouth.\n",
      "Her beauty unmatched, her spirit fierce,\n",
      "A woman of strength, never one to pierce.\n",
      "\n",
      "She faced the trials of war and loss,\n",
      "Yet never let her spirit be tossed.\n",
      "With determination in her eyes,\n",
      "She fought for survival, never telling lies.\n",
      "\n",
      "Her heart belonged to a man named Rhett,\n",
      "But she couldn't see it, couldn't let\n",
      "Herself love him as he loved her,\n",
      "Afraid of the pain it would incur.\n",
      "\n",
      "Scarlett O'Hara, a woman of pride,\n",
      "Her struggles and triumphs she couldn't hide.\n",
      "Through all the hardships she endured,\n",
      "Her legacy will forever be secured.\n",
      "\n",
      "So raise a glass to Scarlett fair,\n",
      "A woman of grace beyond compare.\n",
      "Her story will live on through the years,\n",
      "A Southern belle, conquering all fears.\n"
     ]
    }
   ],
   "source": [
    "llm = ChatOpenAI(model=\"gpt-3.5-turbo\",\n",
    "                 temperature=0.7)\n",
    "\n",
    "response = llm.invoke(\"Write a poem about Scarlett O'Hara\")\n",
    "print(response.content)"
   ]
  },
  {
   "cell_type": "code",
   "execution_count": 5,
   "id": "7017c474-40fb-4efd-9362-15fb2623b297",
   "metadata": {},
   "outputs": [
    {
     "name": "stdout",
     "output_type": "stream",
     "text": [
      "Scarlett O'Hara, a belle so fair,\n",
      "With fiery spirit and flowing hair.\n",
      "Her beauty and charm could capture any heart,\n",
      "But her selfish ways would tear them apart.\n",
      "\n",
      "She longed for love, for passion so true,\n",
      "But her heart was fickle, her love was askew.\n",
      "She played with men like a puppeteer,\n",
      "Leaving broken hearts in her wake, so severe.\n",
      "\n",
      "With Tara in ruins and war at her door,\n",
      "Scarlett fought to survive, to rise once more.\n",
      "Her strength and determination were unmatched,\n",
      "But her actions left a trail of pain, so detached.\n",
      "\n",
      "She loved Rhett Butler, a man of strength,\n",
      "But she pushed him away, to her own lament.\n",
      "In the end, she realized her true love too late,\n",
      "As Rhett walked away, sealing her fate.\n",
      "\n",
      "Scarlett O'Hara, a woman of pride,\n",
      "Whose flaws and virtues could not be denied.\n",
      "A complex character, a Southern belle,\n",
      "Whose legacy in literature will forever dwell."
     ]
    }
   ],
   "source": [
    "response = llm.stream(\"Write a poem about Scarlett O'Hara\")\n",
    "\n",
    "for chunk in response:\n",
    "    print(chunk.content, end=\"\", flush=True)"
   ]
  },
  {
   "cell_type": "code",
   "execution_count": null,
   "id": "ab3f40cd-3fca-4bad-a24e-3ca9ee6ce2a0",
   "metadata": {},
   "outputs": [],
   "source": []
  }
 ],
 "metadata": {
  "kernelspec": {
   "display_name": "Python 3 (ipykernel)",
   "language": "python",
   "name": "python3"
  },
  "language_info": {
   "codemirror_mode": {
    "name": "ipython",
    "version": 3
   },
   "file_extension": ".py",
   "mimetype": "text/x-python",
   "name": "python",
   "nbconvert_exporter": "python",
   "pygments_lexer": "ipython3",
   "version": "3.12.9"
  }
 },
 "nbformat": 4,
 "nbformat_minor": 5
}
