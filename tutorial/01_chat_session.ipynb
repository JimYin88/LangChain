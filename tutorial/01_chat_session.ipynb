{
 "cells": [
  {
   "cell_type": "code",
   "execution_count": 1,
   "id": "54229929-aa22-4ac0-bc24-1ef5236c6976",
   "metadata": {},
   "outputs": [
    {
     "data": {
      "text/plain": [
       "True"
      ]
     },
     "execution_count": 1,
     "metadata": {},
     "output_type": "execute_result"
    }
   ],
   "source": [
    "from langchain_openai import OpenAI, ChatOpenAI\n",
    "\n",
    "from dotenv import load_dotenv\n",
    "load_dotenv()"
   ]
  },
  {
   "cell_type": "markdown",
   "id": "4dd25632-2993-45da-b24d-df02f43cbfd1",
   "metadata": {},
   "source": [
    "## Text Completion Mode"
   ]
  },
  {
   "cell_type": "code",
   "execution_count": 2,
   "id": "c3acf086-7b15-4c2c-9dc6-714bdc0306c8",
   "metadata": {},
   "outputs": [],
   "source": [
    "llm = OpenAI(model=\"davinci-002\",\n",
    "             temperature=0.2,\n",
    "             max_tokens=256)"
   ]
  },
  {
   "cell_type": "code",
   "execution_count": 3,
   "id": "4737d64f-527a-4564-adcc-d53984bc16c5",
   "metadata": {},
   "outputs": [
    {
     "name": "stdout",
     "output_type": "stream",
     "text": [
      " What is the smallest state in the US? What is the richest state in the US? What is the most dangerous state in the US? What is the most dangerous city in the US? What is the most dangerous state in America? What is the poorest state in the US? What is the most dangerous city in the world? What is the most dangerous state in the world? What is the most dangerous state in the US 2020? What is the most dangerous country in the world? What is the most dangerous state in the world? What is the most dangerous city in the US 2020? What is the safest state in the US? What is the most dangerous city in the world 2020? What is the most dangerous city in the world 2019? What is the most dangerous city in the world 2018?\n",
      "\n",
      "What is the largest state in the US?\n",
      "\n",
      "AlaskaAlaska is the largest state in the United States by a significant margin.\n",
      "\n",
      "It is about twice the size of Texas, the next largest state.\n",
      "\n",
      "Alaska is larger than all but 18 sovereign countries on Earth.\n",
      "\n",
      "It has a geographic center located about as far from any ocean as is possible in the United States..\n",
      "\n",
      "What is the smallest state in the US?\n",
      "\n",
      "Rhode Island\n"
     ]
    }
   ],
   "source": [
    "print(llm.invoke(\"What is the largest state in the US?\"))"
   ]
  },
  {
   "cell_type": "markdown",
   "id": "1d446094-fe55-4185-be68-e607d950b13d",
   "metadata": {},
   "source": [
    "## Chat Session"
   ]
  },
  {
   "cell_type": "code",
   "execution_count": 4,
   "id": "2a07fbdf-100b-430a-b136-5e690f2804c8",
   "metadata": {
    "scrolled": true
   },
   "outputs": [],
   "source": [
    "chat_model = ChatOpenAI(model=\"gpt-4o-mini-2024-07-18\",\n",
    "                        temperature=0.7)"
   ]
  },
  {
   "cell_type": "code",
   "execution_count": 5,
   "id": "770e10f9-64a4-48aa-aac9-4db58c1f56ef",
   "metadata": {},
   "outputs": [
    {
     "name": "stdout",
     "output_type": "stream",
     "text": [
      "In a land where magnolias bloom and sway,  \n",
      "Stands Scarlett O'Hara, fierce as the day.  \n",
      "With eyes like the emeralds that glint in the sun,  \n",
      "A heart wrought of fire, where battles are won.  \n",
      "\n",
      "In the whispers of Georgia, her laughter rings clear,  \n",
      "Yet shadows of struggle and sorrow draw near.  \n",
      "Through cotton fields stretching, her dreams take their flight,  \n",
      "A tapestry woven with courage and might.  \n",
      "\n",
      "With a will like the river that carves through the stone,  \n",
      "She fights for her future, determined, alone.  \n",
      "Through love's cruel entanglements, heartache's cruel sting,  \n",
      "She learns that survival is a powerful thing.  \n",
      "\n",
      "Oh, Scarlett, the tempest that rages within,  \n",
      "With charm and with guile, you beckon the wind.  \n",
      "You dance through the ruins of a world torn apart,  \n",
      "A soldier in petticoats, brave from the start.  \n",
      "\n",
      "Yet love is a battlefield, tender yet tough,  \n",
      "And the heart, like the soil, can be barren and rough.  \n",
      "From Rhett's fleeting passion to Ashley’s sweet sighs,  \n",
      "You grapple with longing, beneath Southern skies.  \n",
      "\n",
      "But strength is your armor, resilience your name,  \n",
      "In the face of despair, you rise up in flame.  \n",
      "So here's to the woman, both flawed and divine,  \n",
      "Scarlett O'Hara, forever you shine.  \n",
      "\n",
      "For in every heart that can weather the storm,  \n",
      "Lives a spirit like yours, fierce, wild, and warm.  \n",
      "Through the trials of history, your legacy flows,  \n",
      "A testament to courage, as time ever grows.  \n"
     ]
    }
   ],
   "source": [
    "response = chat_model.invoke(\"Write a poem about Scarlett O'Hara\")\n",
    "print(response.content)"
   ]
  },
  {
   "cell_type": "code",
   "execution_count": 6,
   "id": "7017c474-40fb-4efd-9362-15fb2623b297",
   "metadata": {},
   "outputs": [
    {
     "name": "stdout",
     "output_type": "stream",
     "text": [
      "In Tara's fields where cotton blooms,  \n",
      "A tempest brews in Southern rooms,  \n",
      "With emerald eyes and raven hair,  \n",
      "Scarlett O'Hara, bold and rare.  \n",
      "\n",
      "A heart entwined with pride and pain,  \n",
      "She dances through the storm and rain,  \n",
      "A queen of feasts, a mistress of charm,  \n",
      "Yet wrapped in a world of false, sweet balm.  \n",
      "\n",
      "Her laughter rings through twilight’s grace,  \n",
      "But shadows linger, time won’t erase,  \n",
      "For love is fickle, and fate is cruel,  \n",
      "In war’s embrace, she plays the fool.  \n",
      "\n",
      "With Rhett’s fierce love, a fire untamed,  \n",
      "Yet still, her heart remains unclaimed;  \n",
      "She dreams of Ashley, lost in the past,  \n",
      "But knows that dreams, like seasons, don’t last.  \n",
      "\n",
      "Through battles fought and fortunes lost,  \n",
      "She learns the worth, the heavy cost,  \n",
      "Of strength that lies not in the fight,  \n",
      "But in the will to rise, to ignite.  \n",
      "\n",
      "So here’s to Scarlett, fierce and free,  \n",
      "A woman forged in history,  \n",
      "With every tear and every scar,  \n",
      "She stands unyielding, a Southern star.  \n",
      "\n",
      "Through trials faced, and lessons learned,  \n",
      "A spirit fierce, forever burned;  \n",
      "In every heart, her legacy gleams,  \n",
      "Scarlett O'Hara—woven in dreams.  "
     ]
    }
   ],
   "source": [
    "response = chat_model.stream(\"Write a poem about Scarlett O'Hara\")\n",
    "\n",
    "for chunk in response:\n",
    "    print(chunk.content, end=\"\", flush=True)"
   ]
  },
  {
   "cell_type": "code",
   "execution_count": null,
   "id": "ab3f40cd-3fca-4bad-a24e-3ca9ee6ce2a0",
   "metadata": {},
   "outputs": [],
   "source": []
  }
 ],
 "metadata": {
  "kernelspec": {
   "display_name": "Python 3 (ipykernel)",
   "language": "python",
   "name": "python3"
  },
  "language_info": {
   "codemirror_mode": {
    "name": "ipython",
    "version": 3
   },
   "file_extension": ".py",
   "mimetype": "text/x-python",
   "name": "python",
   "nbconvert_exporter": "python",
   "pygments_lexer": "ipython3",
   "version": "3.11.7"
  }
 },
 "nbformat": 4,
 "nbformat_minor": 5
}
