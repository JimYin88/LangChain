{
 "cells": [
  {
   "cell_type": "code",
   "execution_count": 1,
   "id": "df788c9f-483b-424c-bff2-4060228c8ca6",
   "metadata": {},
   "outputs": [],
   "source": [
    "import ollama"
   ]
  },
  {
   "cell_type": "code",
   "execution_count": 2,
   "id": "c50aab05-eca5-4fc1-abdd-c81c4abaec74",
   "metadata": {},
   "outputs": [],
   "source": [
    "def chat_session(query, model=\"llama3.2\"):\n",
    "\n",
    "    messages = [{\"role\": \"user\", \"content\": query}]\n",
    "    response = ollama.chat(model=model, messages=messages)\n",
    "    return response['message']['content']"
   ]
  },
  {
   "cell_type": "code",
   "execution_count": 3,
   "id": "3af8bebf-a6ce-4ff1-a42c-1849ed9fe4f0",
   "metadata": {},
   "outputs": [
    {
     "name": "stdout",
     "output_type": "stream",
     "text": [
      "Margot Robbie is an Australian actress, film producer, and screenwriter. She was born on July 2, 1990, in Dalby, Queensland, Australia. Robbie rose to fame in the early 2010s with her breakout role as Donna Freedman in the Australian television series \"Neighbours\" (2008-2011).\n",
      "\n",
      "She gained international recognition for her roles in several films, including:\n",
      "\n",
      "1. \"About Time\" (2013) - a romantic comedy where she played the lead role of Mary.\n",
      "2. \"The Wolf of Wall Street\" (2013) - a biographical comedy-drama film where she played Naomi Lapaglia, the wife of Jordan Belfort (played by Leonardo DiCaprio).\n",
      "3. \"Focus\" (2015) - a crime drama film where she starred alongside Will Smith.\n",
      "4. \"Suicide Squad\" (2016) and its sequel \"Birds of Prey (and the Fantabulous Emancipation of One Harley Quinn)\" (2020) - both superhero films where she played Harley Quinn.\n",
      "\n",
      "In 2017, Robbie co-wrote, produced, and starred in the romantic comedy-drama film \"I, Tonya,\" which earned her critical acclaim and numerous award nominations. The film was a biographical drama about Tonya Harding, an American figure skater who made headlines for her involvement in a scandal involving fellow competitor Nancy Kerrigan.\n",
      "\n",
      "Robbie has received numerous awards and nominations for her performances, including several Teen Choice Awards, Golden Globe nominations, and a star on the Hollywood Walk of Fame. She is known for her versatility as an actress and producer, taking on a wide range of roles and projects throughout her career.\n",
      "\n",
      "In 2019, Robbie was named one of Time Magazine's 100 most influential people in the world.\n"
     ]
    }
   ],
   "source": [
    "print(chat_session(\"Who is Margot Robbie?\"))"
   ]
  },
  {
   "cell_type": "code",
   "execution_count": null,
   "id": "7f63c801-aac8-43c3-97b9-2ffcbcfe99d8",
   "metadata": {},
   "outputs": [],
   "source": []
  }
 ],
 "metadata": {
  "kernelspec": {
   "display_name": "Python 3 (ipykernel)",
   "language": "python",
   "name": "python3"
  },
  "language_info": {
   "codemirror_mode": {
    "name": "ipython",
    "version": 3
   },
   "file_extension": ".py",
   "mimetype": "text/x-python",
   "name": "python",
   "nbconvert_exporter": "python",
   "pygments_lexer": "ipython3",
   "version": "3.12.9"
  }
 },
 "nbformat": 4,
 "nbformat_minor": 5
}
