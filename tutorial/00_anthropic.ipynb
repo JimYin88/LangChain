{
 "cells": [
  {
   "cell_type": "code",
   "execution_count": 1,
   "id": "96340c01-a26b-4d4c-afe4-80893c0cf5f6",
   "metadata": {},
   "outputs": [],
   "source": [
    "from langchain_anthropic import ChatAnthropic\n",
    "from langchain.schema import AIMessage, HumanMessage, SystemMessage\n",
    "import os"
   ]
  },
  {
   "cell_type": "code",
   "execution_count": 2,
   "id": "ba68bd11-39d0-4ee5-b839-26797936188c",
   "metadata": {},
   "outputs": [
    {
     "data": {
      "text/plain": [
       "True"
      ]
     },
     "execution_count": 2,
     "metadata": {},
     "output_type": "execute_result"
    }
   ],
   "source": [
    "from dotenv import load_dotenv\n",
    "\n",
    "load_dotenv()"
   ]
  },
  {
   "cell_type": "code",
   "execution_count": 3,
   "id": "10e25140-a2f8-4c18-b56b-3573a516b6ea",
   "metadata": {},
   "outputs": [],
   "source": [
    "model = ChatAnthropic(model='claude-3-opus-20240229',\n",
    "                      api_key = os.getenv('ANTHROPIC_API_KEY'),\n",
    "                      max_tokens_to_sample = 1024,\n",
    "                      temperature = 0.5,\n",
    "                      top_k = 10,\n",
    "                      top_p = 0.9)"
   ]
  },
  {
   "cell_type": "code",
   "execution_count": 4,
   "id": "b211e45a-9a1c-4b40-a225-e7e1887b6d26",
   "metadata": {},
   "outputs": [],
   "source": [
    "response = model.invoke(\"Who is Donald Trump?\")"
   ]
  },
  {
   "cell_type": "code",
   "execution_count": 5,
   "id": "c01469de-a4cf-46fd-aab5-7a8f6d65d475",
   "metadata": {},
   "outputs": [
    {
     "name": "stdout",
     "output_type": "stream",
     "text": [
      "Donald Trump is an American businessman, television personality, and politician who served as the 45th President of the United States from 2017 to 2021. Here are some key points about him:\n",
      "\n",
      "1. Business career: Trump is a real estate developer who inherited his father's company, renamed it The Trump Organization, and expanded its operations. He has also been involved in various other business ventures, including hotels, casinos, and golf courses.\n",
      "\n",
      "2. Television personality: He hosted the reality television series \"The Apprentice\" from 2004 to 2015.\n",
      "\n",
      "3. Political career: Trump entered politics as a Republican and was elected President in 2016, defeating Democratic nominee Hillary Clinton. His presidency was marked by controversial policies and statements, as well as two impeachment trials, in which he was acquitted by the Senate.\n",
      "\n",
      "4. Controversies: Trump has been involved in numerous controversies throughout his career, including allegations of sexual misconduct, racial discrimination in his business dealings, and spreading false information.\n",
      "\n",
      "5. Post-presidency: After leaving office in January 2021, Trump has remained politically active and continues to hold significant influence within the Republican Party, although he has also faced legal challenges and investigations.\n"
     ]
    }
   ],
   "source": [
    "print(response.content)"
   ]
  },
  {
   "cell_type": "code",
   "execution_count": null,
   "id": "1b64fbd4-e76c-4276-b09d-0ad5d344f374",
   "metadata": {},
   "outputs": [],
   "source": []
  }
 ],
 "metadata": {
  "kernelspec": {
   "display_name": "Python 3 (ipykernel)",
   "language": "python",
   "name": "python3"
  },
  "language_info": {
   "codemirror_mode": {
    "name": "ipython",
    "version": 3
   },
   "file_extension": ".py",
   "mimetype": "text/x-python",
   "name": "python",
   "nbconvert_exporter": "python",
   "pygments_lexer": "ipython3",
   "version": "3.12.9"
  }
 },
 "nbformat": 4,
 "nbformat_minor": 5
}
