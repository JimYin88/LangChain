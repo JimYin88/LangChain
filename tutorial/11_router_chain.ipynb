{
 "cells": [
  {
   "cell_type": "markdown",
   "id": "825259a1-f811-4567-8bd5-b6039d950d82",
   "metadata": {},
   "source": [
    "## Imports"
   ]
  },
  {
   "cell_type": "code",
   "execution_count": 1,
   "id": "fc5d6024-6986-4e3f-808c-d37cedec7ab8",
   "metadata": {},
   "outputs": [],
   "source": [
    "from langchain_openai import ChatOpenAI\n",
    "from langchain_core.prompts import (SystemMessagePromptTemplate, HumanMessagePromptTemplate, \n",
    "                                    PromptTemplate, ChatPromptTemplate)\n",
    "from langchain_core.output_parsers import StrOutputParser\n",
    "from langchain_core.runnables import RunnableLambda, RunnablePassthrough\n",
    "from langchain_core.runnables import chain\n",
    "\n",
    "import os"
   ]
  },
  {
   "cell_type": "markdown",
   "id": "ef81433e-58ad-47da-b23f-38467a26af45",
   "metadata": {},
   "source": [
    "## Loading Environment Variables"
   ]
  },
  {
   "cell_type": "code",
   "execution_count": 2,
   "id": "4b50f990-7ff6-428a-8c24-80a706c05346",
   "metadata": {},
   "outputs": [
    {
     "data": {
      "text/plain": [
       "True"
      ]
     },
     "execution_count": 2,
     "metadata": {},
     "output_type": "execute_result"
    }
   ],
   "source": [
    "from dotenv import load_dotenv\n",
    "\n",
    "load_dotenv()"
   ]
  },
  {
   "cell_type": "markdown",
   "id": "f966fe5d-ce2c-4b14-a00e-83263d4f2c0a",
   "metadata": {},
   "source": [
    "## Selecting Chat Model"
   ]
  },
  {
   "cell_type": "code",
   "execution_count": 3,
   "id": "e391f795-4119-4d4b-8025-6a9d08f7422c",
   "metadata": {},
   "outputs": [],
   "source": [
    "chat_model = ChatOpenAI(model=\"gpt-4o-mini-2024-07-18\",\n",
    "                        max_tokens=2000,\n",
    "                        temperature=0.3)"
   ]
  },
  {
   "cell_type": "markdown",
   "id": "9048d7f9-1faa-4a5b-9c24-03ef34b0d4bf",
   "metadata": {},
   "source": [
    "## Setting Up Templates"
   ]
  },
  {
   "cell_type": "code",
   "execution_count": 4,
   "id": "91f0ec3c-98dc-4bc7-a8e8-62ad01bb3df4",
   "metadata": {},
   "outputs": [],
   "source": [
    "#review = \"Thank you so much for providing such a great platform for learning. I am really happy with the service.\"\n",
    "review = \"I am not happy with the service. It is not good.\""
   ]
  },
  {
   "cell_type": "code",
   "execution_count": 5,
   "id": "8da3223c-c33e-4480-87f2-26f5680dc0e7",
   "metadata": {},
   "outputs": [],
   "source": [
    "prompt = \"\"\"Given the user review below, classify it as either being about `Positive` or `Negative`.\n",
    "            Do not respond with more than one word.\n",
    "\n",
    "            Review: {review}\n",
    "            Classification:\"\"\"\n",
    "\n",
    "template = ChatPromptTemplate.from_template(template=prompt)\n",
    "myChain = template | chat_model | StrOutputParser()\n"
   ]
  },
  {
   "cell_type": "code",
   "execution_count": 6,
   "id": "92f59972-7d51-4726-867c-cc1d9e9206e2",
   "metadata": {},
   "outputs": [
    {
     "name": "stdout",
     "output_type": "stream",
     "text": [
      "Negative\n"
     ]
    }
   ],
   "source": [
    "output = myChain.invoke({'review': review})\n",
    "print(output)"
   ]
  },
  {
   "cell_type": "code",
   "execution_count": 7,
   "id": "8b2defa6-4de1-4935-b8fe-f32cf8532fdd",
   "metadata": {},
   "outputs": [],
   "source": [
    "# route positive responses one way and negative to another.\n",
    "def route(info):\n",
    "    if 'positive' in info['sentiment'].lower():\n",
    "        return positive_chain\n",
    "    else:\n",
    "        return negative_chain"
   ]
  },
  {
   "cell_type": "code",
   "execution_count": 8,
   "id": "d7746ce4-0853-45da-8086-5acfb297dbbf",
   "metadata": {},
   "outputs": [],
   "source": [
    "# Positive\n",
    "positive_prompt = \"\"\"\n",
    "                You are expert in writing reply for positive reviews.\n",
    "                You need to encourage the user to share their experience on social media.\n",
    "                Review: {review}\n",
    "                Answer:\"\"\"\n",
    "\n",
    "positive_template = ChatPromptTemplate.from_template(positive_prompt)\n",
    "positive_chain = positive_template | chat_model | StrOutputParser()\n",
    "\n",
    "# Negative\n",
    "negative_prompt = \"\"\"\n",
    "                You are expert in writing reply for negative reviews.\n",
    "                You need first to apologize for the inconvenience caused to the user.\n",
    "                You need to encourage the user to share their concern on following Email:'udemy@kgptalkie.com'.\n",
    "                Review: {review}\n",
    "                Answer:\"\"\"\n",
    "\n",
    "\n",
    "negative_template = ChatPromptTemplate.from_template(negative_prompt)\n",
    "negative_chain = negative_template | chat_model | StrOutputParser()"
   ]
  },
  {
   "cell_type": "markdown",
   "id": "cfa9b113-0f6e-4be3-bcd5-64e346ae1e77",
   "metadata": {},
   "source": [
    "## Setting up and Running the Chain\n",
    "\n",
    "The \"review\" input is passed into prompt template, which is passed into chat_model, which is passed to StrOutputParser(), which is then passed into the function \"route\"."
   ]
  },
  {
   "cell_type": "code",
   "execution_count": 9,
   "id": "1a5599c8-66a7-4954-9f53-80c3b3beeb68",
   "metadata": {},
   "outputs": [
    {
     "name": "stdout",
     "output_type": "stream",
     "text": [
      "Dear [User's Name],\n",
      "\n",
      "Thank you for taking the time to share your feedback. We sincerely apologize for the inconvenience you experienced with our service. Your satisfaction is important to us, and we regret that we did not meet your expectations.\n",
      "\n",
      "We would appreciate the opportunity to address your concerns directly. Please feel free to reach out to us at udemy@kgptalkie.com, and we will do our best to resolve the issue and improve your experience.\n",
      "\n",
      "Thank you for your understanding, and we hope to hear from you soon.\n",
      "\n",
      "Best regards,  \n",
      "[Your Name]  \n",
      "[Your Position]  \n",
      "KGPTalkie Team\n"
     ]
    }
   ],
   "source": [
    "# Runnable Lambda - similar to lambda function ... runnableLambda is a pass through function\n",
    "full_chain = {\"sentiment\": myChain, 'review': lambda x:x['review']} | RunnableLambda(route)\n",
    "\n",
    "output = full_chain.invoke({'review': review })\n",
    "print(output)"
   ]
  },
  {
   "cell_type": "code",
   "execution_count": null,
   "id": "ddbc1210-de7e-45dd-b091-cd25955f02c9",
   "metadata": {},
   "outputs": [],
   "source": []
  },
  {
   "cell_type": "markdown",
   "id": "7d805217-712f-4649-b1a8-10a46cefc071",
   "metadata": {},
   "source": [
    "## An Example of Sequential Chain using RunnableLambda"
   ]
  },
  {
   "cell_type": "code",
   "execution_count": 11,
   "id": "003959cb-36d2-4967-a3ef-5419edabf863",
   "metadata": {},
   "outputs": [
    {
     "name": "stdout",
     "output_type": "stream",
     "text": [
      "{'char_counts': 665, 'word_counts': 111, 'output': \"Earth is the third planet from the Sun in our solar system and is known for its ability to support life due to its atmosphere, liquid water, and suitable temperatures. It has a diverse range of ecosystems and climates, making it unique among the planets. The Sun, on the other hand, is a massive star at the center of our solar system, providing the necessary light and heat that sustain life on Earth. Composed primarily of hydrogen and helium, the Sun generates energy through nuclear fusion, which produces sunlight and warmth. Together, Earth and the Sun are part of a complex gravitational relationship that influences the planet's orbit, climate, and seasons.\"}\n"
     ]
    }
   ],
   "source": [
    "# Make Custom Chain Runnables with RunnablePassthrough and RunnableLambda\n",
    "# This is useful for formatting or when you need functionality not provided by other LangChain components,\n",
    "# and custom functions used as Runnables are called RunnableLambdas.\n",
    "\n",
    "def char_counts(text):\n",
    "    return len(text)\n",
    "\n",
    "def word_counts(text):\n",
    "    return len(text.split())\n",
    "\n",
    "prompt = ChatPromptTemplate.from_template(\"Explain these inputs in 5 sentences: {input1} and {input2}\")\n",
    "myChain = prompt | chat_model | StrOutputParser() | {'char_counts': RunnableLambda(char_counts),\n",
    "                                            'word_counts': RunnableLambda(word_counts),\n",
    "                                            'output': RunnablePassthrough()}\n",
    "\n",
    "# myChain = prompt | llm | StrOutputParser()\n",
    "result = myChain.invoke({'input1': 'Earth is planet', 'input2': 'Sun is star'})\n",
    "print(result)"
   ]
  },
  {
   "cell_type": "code",
   "execution_count": null,
   "id": "5051d7e4-196f-4a0d-b667-30f2e928e7ae",
   "metadata": {},
   "outputs": [],
   "source": []
  }
 ],
 "metadata": {
  "kernelspec": {
   "display_name": "Python 3 (ipykernel)",
   "language": "python",
   "name": "python3"
  },
  "language_info": {
   "codemirror_mode": {
    "name": "ipython",
    "version": 3
   },
   "file_extension": ".py",
   "mimetype": "text/x-python",
   "name": "python",
   "nbconvert_exporter": "python",
   "pygments_lexer": "ipython3",
   "version": "3.12.9"
  }
 },
 "nbformat": 4,
 "nbformat_minor": 5
}
