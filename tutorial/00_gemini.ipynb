{
 "cells": [
  {
   "cell_type": "markdown",
   "id": "1e96b730-1d96-4249-b470-52df8de8da7e",
   "metadata": {},
   "source": [
    "## Imports"
   ]
  },
  {
   "cell_type": "code",
   "execution_count": 1,
   "id": "919fd13e-922c-4d9d-a98f-4fb0f867e490",
   "metadata": {},
   "outputs": [],
   "source": [
    "from langchain_google_genai import ChatGoogleGenerativeAI\n",
    "import google.generativeai as genai\n",
    "import os"
   ]
  },
  {
   "cell_type": "markdown",
   "id": "b6f75a16-e23a-499a-ae2a-00abe2602ba9",
   "metadata": {},
   "source": [
    "## Loading Environment Variables"
   ]
  },
  {
   "cell_type": "code",
   "execution_count": 2,
   "id": "c99ead74-d9a7-40a6-9097-8addecbd930e",
   "metadata": {},
   "outputs": [
    {
     "data": {
      "text/plain": [
       "True"
      ]
     },
     "execution_count": 2,
     "metadata": {},
     "output_type": "execute_result"
    }
   ],
   "source": [
    "from dotenv import load_dotenv\n",
    "\n",
    "load_dotenv()"
   ]
  },
  {
   "cell_type": "markdown",
   "id": "afc0edaf-6273-4f53-8c7c-71660b86b330",
   "metadata": {},
   "source": [
    "## LLM Mode"
   ]
  },
  {
   "cell_type": "code",
   "execution_count": 3,
   "id": "f7f40f31-325b-4c8f-bd84-78cc2000b6a1",
   "metadata": {},
   "outputs": [],
   "source": [
    "llm = ChatGoogleGenerativeAI(model=\"gemini-1.5-pro\", \n",
    "                             temperature = 0.7,\n",
    "                             top_p = None,\n",
    "                             top_k = None,\n",
    "                             max_tokens = 300)"
   ]
  },
  {
   "cell_type": "code",
   "execution_count": 4,
   "id": "06b4ff3f-3c7d-41e2-a161-b71bb0eed64f",
   "metadata": {},
   "outputs": [
    {
     "name": "stdout",
     "output_type": "stream",
     "text": [
      "Donald John Trump is an American businessman, media personality, and politician who served as the 45th president of the United States from 2017 to 2021.  \n",
      "\n",
      "Born and raised in Queens, New York, Trump inherited his father's real estate business in 1971 and renamed it The Trump Organization.  He expanded the company's operations to building and renovating skyscrapers, hotels, casinos, and golf courses.  He later started various side ventures, mostly by licensing his name.  Trump and his businesses have been involved in many legal controversies and have filed for six corporate bankruptcies.\n",
      "\n",
      "He gained further public recognition through his appearances in the Miss Universe pageants, which he owned from 1996 to 2015, and through his NBC reality television series, *The Apprentice*.\n",
      "\n",
      "Trump entered the 2016 presidential race as a Republican and defeated sixteen other candidates in the primaries. His political positions have been described as populist, protectionist, and nationalist. He won the general election against Democratic nominee Hillary Clinton, although he lost the popular vote.  \n",
      "\n",
      "Key events and policies of his presidency include the Tax Cuts and Jobs Act of 2017, the appointment of three Supreme Court justices (Neil Gorsuch, Brett Kavanaugh, and Amy Coney Barrett), the withdrawal of the United States from the Trans-Pacific Partnership trade agreement, the Paris Agreement on climate change, and the Iran nuclear\n"
     ]
    }
   ],
   "source": [
    "response = llm.invoke(\"Who is Donald Trump?\")\n",
    "print(response.content)"
   ]
  },
  {
   "cell_type": "markdown",
   "id": "615d8358-158a-4c92-83c0-49852bf22d48",
   "metadata": {},
   "source": [
    "## Chat Session"
   ]
  },
  {
   "cell_type": "code",
   "execution_count": 5,
   "id": "b73afe39-26ba-478c-9c61-239f0a3b8db0",
   "metadata": {},
   "outputs": [],
   "source": [
    "genai.configure(api_key=os.getenv('GOOGLE_API_KEY'))"
   ]
  },
  {
   "cell_type": "code",
   "execution_count": 6,
   "id": "1311f614-06ce-436a-b1b8-41fe770c272e",
   "metadata": {},
   "outputs": [],
   "source": [
    "model = genai.GenerativeModel(model_name='gemini-1.5-pro')"
   ]
  },
  {
   "cell_type": "code",
   "execution_count": 7,
   "id": "6795b194-7420-4980-90e9-0a7e863d222d",
   "metadata": {},
   "outputs": [],
   "source": [
    "chat = model.start_chat()"
   ]
  },
  {
   "cell_type": "code",
   "execution_count": 8,
   "id": "5b1bc1f3-9c99-4749-80db-a35c4796fba0",
   "metadata": {},
   "outputs": [
    {
     "data": {
      "text/plain": [
       "google.generativeai.generative_models.ChatSession"
      ]
     },
     "execution_count": 8,
     "metadata": {},
     "output_type": "execute_result"
    }
   ],
   "source": [
    "type(chat)"
   ]
  },
  {
   "cell_type": "code",
   "execution_count": 9,
   "id": "c16bc662-847e-4a28-b344-b2633ab916a1",
   "metadata": {},
   "outputs": [],
   "source": [
    "response = chat.send_message(\"Plan one-day visit to the Bronx Zoo.\")"
   ]
  },
  {
   "cell_type": "code",
   "execution_count": 10,
   "id": "a4e49a70-00fb-4559-a72c-19dd123d90ba",
   "metadata": {},
   "outputs": [
    {
     "name": "stdout",
     "output_type": "stream",
     "text": [
      "## One-Day Bronx Zoo Adventure Plan\n",
      "\n",
      "This plan prioritizes seeing the most popular exhibits and offers flexibility based on your interests and pace.  Arrive early to maximize your time!\n",
      "\n",
      "**Morning (9:00 AM - 12:00 PM):**\n",
      "\n",
      "* **9:00 AM:** Arrive at the zoo, grab a map, and head straight for the **Congo Gorilla Forest**. This exhibit is incredibly popular and gets crowded later in the day.  Observe the gorillas, okapis, and other fascinating creatures in their naturalistic habitat.\n",
      "* **10:00 AM:** Journey to **Madagascar!**. Explore this unique ecosystem and encounter lemurs, fossa, and other Madagascan wildlife.\n",
      "* **11:00 AM:** Visit the **World of Birds**.  Discover a vast collection of avian species from around the globe in beautifully designed aviaries.\n",
      "\n",
      "**Lunch (12:00 PM - 1:00 PM):**\n",
      "\n",
      "* Choose from various dining options throughout the zoo.  The Dancing Crane Cafe near the children's zoo is a popular choice, or pack a picnic to enjoy on the lawn.\n",
      "\n",
      "**Afternoon (1:00 PM - 4:00 PM):**\n",
      "\n",
      "* **1:00 PM:** Immerse yourself in the **Tiger Mountain**. Observe these magnificent big cats in a spacious, naturalistic enclosure.\n",
      "* **2:00 PM:** Explore the **African Plains**. Encounter lions, giraffes, zebras, and other iconic African wildlife.  Consider a ride on the Wild Asia Monorail for an aerial view (separate ticket required).\n",
      "* **3:00 PM:** Choose your own adventure! Depending on your interests and remaining time, consider visiting:\n",
      "    * **Sea Lion Pool:** Watch entertaining sea lion demonstrations.\n",
      "    * **Children's Zoo:**  Perfect for families with young children.\n",
      "    * **Bug Carousel:** A fun ride for all ages (separate ticket required).\n",
      "    * **JungleWorld:** Explore the tropical rainforests of Asia.\n",
      "\n",
      "**Late Afternoon (4:00 PM - 5:00 PM):**\n",
      "\n",
      "* **4:00 PM:** Begin heading towards the exit, stopping by any exhibits you missed or want to revisit briefly.\n",
      "* **5:00 PM:** Depart the zoo.\n",
      "\n",
      "**Tips for a Smooth Visit:**\n",
      "\n",
      "* **Purchase tickets online in advance:** This saves time and may offer discounts.\n",
      "* **Arrive early:**  Beat the crowds and secure parking.\n",
      "* **Wear comfortable shoes:** You'll be doing a lot of walking.\n",
      "* **Check the zoo's website for daily schedules and special events.**\n",
      "* **Consider bringing a stroller or wagon for young children.**\n",
      "* **Stay hydrated:** Bring a reusable water bottle or purchase drinks at the zoo.\n",
      "* **Download the Bronx Zoo app for a map, animal information, and show schedules.**\n",
      "* **Be mindful of the animals and follow zoo rules.**\n",
      "\n",
      "**Customization Options:**\n",
      "\n",
      "* **Animal Lover:** Spend more time at specific animal exhibits that pique your interest.\n",
      "* **Family with Young Children:** Prioritize the Children's Zoo, Bug Carousel, and other kid-friendly attractions.\n",
      "* **Photography Enthusiast:**  Plan your route to capture the best lighting and animal activity.\n",
      "* **Relaxed Pace:** Eliminate some options and spend more time at fewer exhibits.\n",
      "\n",
      "This plan is a suggestion, feel free to adapt it based on your preferences and enjoy your day at the Bronx Zoo!\n",
      "\n"
     ]
    }
   ],
   "source": [
    "print(response.text)"
   ]
  },
  {
   "cell_type": "code",
   "execution_count": 11,
   "id": "d8df67dd-fa98-4ea2-bc59-74b59b88c67a",
   "metadata": {},
   "outputs": [
    {
     "data": {
      "text/plain": [
       "[parts {\n",
       "   text: \"Plan one-day visit to the Bronx Zoo.\"\n",
       " }\n",
       " role: \"user\",\n",
       " parts {\n",
       "   text: \"## One-Day Bronx Zoo Adventure Plan\\n\\nThis plan prioritizes seeing the most popular exhibits and offers flexibility based on your interests and pace.  Arrive early to maximize your time!\\n\\n**Morning (9:00 AM - 12:00 PM):**\\n\\n* **9:00 AM:** Arrive at the zoo, grab a map, and head straight for the **Congo Gorilla Forest**. This exhibit is incredibly popular and gets crowded later in the day.  Observe the gorillas, okapis, and other fascinating creatures in their naturalistic habitat.\\n* **10:00 AM:** Journey to **Madagascar!**. Explore this unique ecosystem and encounter lemurs, fossa, and other Madagascan wildlife.\\n* **11:00 AM:** Visit the **World of Birds**.  Discover a vast collection of avian species from around the globe in beautifully designed aviaries.\\n\\n**Lunch (12:00 PM - 1:00 PM):**\\n\\n* Choose from various dining options throughout the zoo.  The Dancing Crane Cafe near the children\\'s zoo is a popular choice, or pack a picnic to enjoy on the lawn.\\n\\n**Afternoon (1:00 PM - 4:00 PM):**\\n\\n* **1:00 PM:** Immerse yourself in the **Tiger Mountain**. Observe these magnificent big cats in a spacious, naturalistic enclosure.\\n* **2:00 PM:** Explore the **African Plains**. Encounter lions, giraffes, zebras, and other iconic African wildlife.  Consider a ride on the Wild Asia Monorail for an aerial view (separate ticket required).\\n* **3:00 PM:** Choose your own adventure! Depending on your interests and remaining time, consider visiting:\\n    * **Sea Lion Pool:** Watch entertaining sea lion demonstrations.\\n    * **Children\\'s Zoo:**  Perfect for families with young children.\\n    * **Bug Carousel:** A fun ride for all ages (separate ticket required).\\n    * **JungleWorld:** Explore the tropical rainforests of Asia.\\n\\n**Late Afternoon (4:00 PM - 5:00 PM):**\\n\\n* **4:00 PM:** Begin heading towards the exit, stopping by any exhibits you missed or want to revisit briefly.\\n* **5:00 PM:** Depart the zoo.\\n\\n**Tips for a Smooth Visit:**\\n\\n* **Purchase tickets online in advance:** This saves time and may offer discounts.\\n* **Arrive early:**  Beat the crowds and secure parking.\\n* **Wear comfortable shoes:** You\\'ll be doing a lot of walking.\\n* **Check the zoo\\'s website for daily schedules and special events.**\\n* **Consider bringing a stroller or wagon for young children.**\\n* **Stay hydrated:** Bring a reusable water bottle or purchase drinks at the zoo.\\n* **Download the Bronx Zoo app for a map, animal information, and show schedules.**\\n* **Be mindful of the animals and follow zoo rules.**\\n\\n**Customization Options:**\\n\\n* **Animal Lover:** Spend more time at specific animal exhibits that pique your interest.\\n* **Family with Young Children:** Prioritize the Children\\'s Zoo, Bug Carousel, and other kid-friendly attractions.\\n* **Photography Enthusiast:**  Plan your route to capture the best lighting and animal activity.\\n* **Relaxed Pace:** Eliminate some options and spend more time at fewer exhibits.\\n\\nThis plan is a suggestion, feel free to adapt it based on your preferences and enjoy your day at the Bronx Zoo!\\n\"\n",
       " }\n",
       " role: \"model\"]"
      ]
     },
     "execution_count": 11,
     "metadata": {},
     "output_type": "execute_result"
    }
   ],
   "source": [
    "chat.history"
   ]
  },
  {
   "cell_type": "code",
   "execution_count": 12,
   "id": "1bf27ca4-e9b2-4f1d-9cbe-8f86378ae2d0",
   "metadata": {},
   "outputs": [],
   "source": [
    "response = chat.send_message(\"Add watching the Yankees play in Yankees Stadium that evening.\")"
   ]
  },
  {
   "cell_type": "code",
   "execution_count": 13,
   "id": "001f87b1-be60-4705-b269-aa5b404cfb61",
   "metadata": {},
   "outputs": [
    {
     "name": "stdout",
     "output_type": "stream",
     "text": [
      "## One-Day Bronx Zoo & Yankees Game Adventure Plan\n",
      "\n",
      "This plan combines a Bronx Zoo visit with a Yankees game in the evening, making for a full day of Bronx excitement!\n",
      "\n",
      "**Morning (9:00 AM - 12:00 PM):**\n",
      "\n",
      "* **9:00 AM:** Arrive at the zoo, grab a map, and prioritize the **Congo Gorilla Forest**, **Madagascar!**, and the **World of Birds** as described in the previous plan.\n",
      "\n",
      "**Lunch (12:00 PM - 1:00 PM):**\n",
      "\n",
      "* Grab a quick and portable lunch at the zoo or pack a picnic.  Consider grabbing something near the exit to minimize travel time later.\n",
      "\n",
      "**Afternoon (1:00 PM - 4:00 PM):**\n",
      "\n",
      "* **1:00 PM:** Choose *one or two* key afternoon exhibits.  Since time is tighter with the game, prioritize your top interests like **Tiger Mountain** or the **African Plains**.  Skip less essential areas to ensure you have time to get to the stadium.\n",
      "* **2:30 PM:** Depart the Zoo. Take a taxi, rideshare, or public transport to Yankee Stadium.  Driving is generally not recommended due to game day traffic and parking challenges.  Allow ample travel time, especially if using public transport.\n",
      "\n",
      "**Pre-Game (4:00 PM - 7:00 PM):**\n",
      "\n",
      "* **4:00 PM - 5:00 PM:** Arrive at the stadium area.  Soak in the atmosphere, browse the team store, and grab some pre-game food and drinks at nearby establishments.\n",
      "* **5:00 PM - 6:00 PM:**  Enter the stadium.  Find your seats, take photos, and enjoy the pre-game activities.\n",
      "* **6:00 PM - 7:00 PM:** Watch batting practice (if applicable) and anticipate the game's start.\n",
      "\n",
      "**Yankees Game (7:00 PM onwards):**\n",
      "\n",
      "* **7:00 PM:** Enjoy the game!\n",
      "\n",
      "**Post-Game:**\n",
      "\n",
      "* Depart the stadium using public transport, taxi, or rideshare.  Be prepared for crowds and potential delays.\n",
      "\n",
      "**Key Considerations for this Combo Trip:**\n",
      "\n",
      "* **Game Day & Time:** Ensure your zoo visit aligns with the game schedule.  Weekday day games are ideal for maximizing zoo time. Weekend and evening games might require shortening the zoo visit.\n",
      "* **Transportation:** Plan your route and transportation method between the zoo and stadium in advance.  Public transportation is often the most efficient option, but consider travel time and potential delays.\n",
      "* **Tickets:** Purchase both zoo and game tickets online in advance.\n",
      "* **Bag Policy:** Be aware of Yankee Stadium's bag policy and pack accordingly.  Large bags and backpacks may not be permitted.\n",
      "* **Food & Drink:** Stadium food can be expensive. Consider having a larger lunch at the zoo to save money.\n",
      "* **Fatigue:** This is a full day of activity.  Pace yourself and stay hydrated.\n",
      "\n",
      "This revised plan allows for both a fulfilling zoo experience and a thrilling Yankees game. Remember to prioritize, plan ahead, and be prepared for a busy but exciting day in the Bronx!\n",
      "\n"
     ]
    }
   ],
   "source": [
    "print(response.text)"
   ]
  },
  {
   "cell_type": "code",
   "execution_count": null,
   "id": "24ed8929-c722-45b2-873d-05b202aa3ad6",
   "metadata": {},
   "outputs": [],
   "source": []
  }
 ],
 "metadata": {
  "kernelspec": {
   "display_name": "Python 3 (ipykernel)",
   "language": "python",
   "name": "python3"
  },
  "language_info": {
   "codemirror_mode": {
    "name": "ipython",
    "version": 3
   },
   "file_extension": ".py",
   "mimetype": "text/x-python",
   "name": "python",
   "nbconvert_exporter": "python",
   "pygments_lexer": "ipython3",
   "version": "3.12.9"
  }
 },
 "nbformat": 4,
 "nbformat_minor": 5
}
