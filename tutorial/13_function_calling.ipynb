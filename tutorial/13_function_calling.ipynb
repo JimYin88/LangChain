{
 "cells": [
  {
   "cell_type": "markdown",
   "id": "28442a07-2de3-4e49-8c02-e9bc363a8bdf",
   "metadata": {},
   "source": [
    "## Imports"
   ]
  },
  {
   "cell_type": "code",
   "execution_count": 1,
   "id": "a71dd9cd-3fad-4ac7-bbfc-a34e50c8e8b4",
   "metadata": {},
   "outputs": [],
   "source": [
    "from langchain_openai import ChatOpenAI\n",
    "from langchain_core.prompts import PromptTemplate, ChatPromptTemplate\n",
    "from langchain_core.prompts import SystemMessagePromptTemplate, HumanMessagePromptTemplate, AIMessagePromptTemplate\n",
    "from langchain.schema import SystemMessage, HumanMessage, AIMessage\n",
    "from langchain.chains.openai_functions import create_openai_fn_chain, create_structured_output_chain\n",
    "from typing import Optional"
   ]
  },
  {
   "cell_type": "markdown",
   "id": "1eaf1dbf-5459-48a7-b49e-9f491b205ddc",
   "metadata": {},
   "source": [
    "## Loading Environment Variables"
   ]
  },
  {
   "cell_type": "code",
   "execution_count": 2,
   "id": "9fde44c9-41fc-4c8f-b687-94ad45f47373",
   "metadata": {},
   "outputs": [
    {
     "data": {
      "text/plain": [
       "True"
      ]
     },
     "execution_count": 2,
     "metadata": {},
     "output_type": "execute_result"
    }
   ],
   "source": [
    "from dotenv import load_dotenv\n",
    "\n",
    "load_dotenv()"
   ]
  },
  {
   "cell_type": "markdown",
   "id": "f343e879-aebc-4fce-9262-5e20c611435d",
   "metadata": {},
   "source": [
    "## Formatting Output Format"
   ]
  },
  {
   "cell_type": "code",
   "execution_count": 5,
   "id": "8ed6fed2-37e3-43de-a0b0-35e01dd38aff",
   "metadata": {},
   "outputs": [],
   "source": [
    "json_schema = {\"title\": \"Scientist\",\n",
    "               \"description\": \"Information about a famous scientist\",\n",
    "               \"type\": \"object\",\n",
    "               \"properties\":{\n",
    "                   \"first_name\":{'title':'First Name',\n",
    "                                 'description': \"First name of scientist\",\n",
    "                                 \"type\": \"string\"},\n",
    "                   \"last_name\":{'title':'Last Name',\n",
    "                                 'description': \"Last name of scientist\",\n",
    "                                 \"type\": \"string\"},\n",
    "               },\n",
    "                \"required\": ['first_name','last_name']\n",
    "              }"
   ]
  },
  {
   "cell_type": "code",
   "execution_count": 6,
   "id": "6af610e4-4872-4ead-8fd3-2bac3fb1b952",
   "metadata": {},
   "outputs": [],
   "source": [
    "template = 'Name a famous {country} scientist'\n",
    "# human_prompt = HumanMessagePromptTemplate.from_template(template)\n",
    "chat_prompt = ChatPromptTemplate.from_template(template)"
   ]
  },
  {
   "cell_type": "markdown",
   "id": "debf0e45-cb50-4a30-bf0a-b959e5ce192d",
   "metadata": {},
   "source": [
    "## Select Chat Model"
   ]
  },
  {
   "cell_type": "code",
   "execution_count": 3,
   "id": "4c8ded31-6509-43d4-8e61-8047b3d34f39",
   "metadata": {},
   "outputs": [],
   "source": [
    "chat_model = ChatOpenAI(model=\"gpt-4o-mini-2024-07-18\",\n",
    "                        max_tokens=2000,\n",
    "                        temperature=0.3)"
   ]
  },
  {
   "cell_type": "code",
   "execution_count": 7,
   "id": "47c76f43-9084-4834-afdd-397576515a84",
   "metadata": {},
   "outputs": [],
   "source": [
    "structured_model = chat_model.with_structured_output(schema = json_schema,\n",
    "                                            method = 'json_schema')"
   ]
  },
  {
   "cell_type": "code",
   "execution_count": 8,
   "id": "f12d9787-a339-47b7-8140-ff3e0f979dc3",
   "metadata": {},
   "outputs": [],
   "source": [
    "result = structured_model.invoke(chat_prompt.invoke(input = {'country': 'American'}))\n",
    "# result = structured_llm.invoke(chat_prompt.format(country = 'American'))"
   ]
  },
  {
   "cell_type": "code",
   "execution_count": 9,
   "id": "d2ebafef-0eaa-4ac0-8016-0b8f743afac0",
   "metadata": {},
   "outputs": [
    {
     "name": "stdout",
     "output_type": "stream",
     "text": [
      "{'first_name': 'Thomas', 'last_name': 'Edison'}\n"
     ]
    }
   ],
   "source": [
    "print(result)"
   ]
  },
  {
   "cell_type": "markdown",
   "id": "e44a3d54-2987-4716-a57a-863dbe1b46a6",
   "metadata": {},
   "source": [
    "## Creating a Class: Scientist"
   ]
  },
  {
   "cell_type": "code",
   "execution_count": 4,
   "id": "8d410e94-7c68-468b-bf72-8e14d8e0cf67",
   "metadata": {},
   "outputs": [],
   "source": [
    "class Scientist():\n",
    "    \n",
    "    def __init__(self,first_name,last_name):\n",
    "        self.first_name = first_name\n",
    "        self.last_name = last_name"
   ]
  },
  {
   "cell_type": "markdown",
   "id": "8e194f6c-1616-4009-958f-2d82b7c66859",
   "metadata": {},
   "source": [
    "## Inputting the LLM output into an instance of the Class: Scientist"
   ]
  },
  {
   "cell_type": "code",
   "execution_count": 10,
   "id": "e672b574-b3e8-4e3a-ba8b-245cabc8ec19",
   "metadata": {},
   "outputs": [],
   "source": [
    "albert = Scientist(result['first_name'], result['last_name'])"
   ]
  },
  {
   "cell_type": "code",
   "execution_count": 11,
   "id": "54240389-dccd-4a1d-b063-9f2fb622becd",
   "metadata": {},
   "outputs": [
    {
     "data": {
      "text/plain": [
       "('Thomas', 'Edison')"
      ]
     },
     "execution_count": 11,
     "metadata": {},
     "output_type": "execute_result"
    }
   ],
   "source": [
    "albert.first_name, albert.last_name"
   ]
  },
  {
   "cell_type": "code",
   "execution_count": null,
   "id": "0ceeec0f-10a3-4ec6-bee8-d097a3745af0",
   "metadata": {},
   "outputs": [],
   "source": []
  }
 ],
 "metadata": {
  "kernelspec": {
   "display_name": "Python 3 (ipykernel)",
   "language": "python",
   "name": "python3"
  },
  "language_info": {
   "codemirror_mode": {
    "name": "ipython",
    "version": 3
   },
   "file_extension": ".py",
   "mimetype": "text/x-python",
   "name": "python",
   "nbconvert_exporter": "python",
   "pygments_lexer": "ipython3",
   "version": "3.12.9"
  }
 },
 "nbformat": 4,
 "nbformat_minor": 5
}
