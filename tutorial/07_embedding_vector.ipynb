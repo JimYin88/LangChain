{
 "cells": [
  {
   "cell_type": "markdown",
   "id": "cc6dc60c-5d92-4e14-a2d8-2e9f240f9e46",
   "metadata": {},
   "source": [
    "## Text Embedding"
   ]
  },
  {
   "cell_type": "code",
   "execution_count": 29,
   "id": "0e72a569-f3a5-4054-bcf7-56e3bce8dfd3",
   "metadata": {},
   "outputs": [],
   "source": [
    "from langchain_openai import ChatOpenAI, OpenAIEmbeddings\n",
    "from langchain_core.prompts import PromptTemplate\n",
    "from langchain_core.prompts import ChatPromptTemplate, SystemMessagePromptTemplate, HumanMessagePromptTemplate, AIMessagePromptTemplate\n",
    "from langchain.schema import SystemMessage, HumanMessage, AIMessage\n",
    "from langchain.text_splitter import CharacterTextSplitter\n",
    "from langchain_chroma import Chroma\n",
    "\n",
    "from dotenv import load_dotenv"
   ]
  },
  {
   "cell_type": "code",
   "execution_count": 5,
   "id": "7605c187-bdb6-46d4-a0bc-9884ff28ab01",
   "metadata": {},
   "outputs": [
    {
     "data": {
      "text/plain": [
       "True"
      ]
     },
     "execution_count": 5,
     "metadata": {},
     "output_type": "execute_result"
    }
   ],
   "source": [
    "load_dotenv()"
   ]
  },
  {
   "cell_type": "code",
   "execution_count": 6,
   "id": "a617ac6b-073c-4e6a-bf0d-473769f79c6b",
   "metadata": {},
   "outputs": [],
   "source": [
    "embeddings = OpenAIEmbeddings()"
   ]
  },
  {
   "cell_type": "code",
   "execution_count": 7,
   "id": "d19d2201-bd91-4c95-a6a6-9a799ebce5a7",
   "metadata": {},
   "outputs": [],
   "source": [
    "text = 'this is some normal text string that I want to embed as a vector'"
   ]
  },
  {
   "cell_type": "code",
   "execution_count": 8,
   "id": "2efe4951-16bf-4b79-9c0d-892fe2f88def",
   "metadata": {},
   "outputs": [],
   "source": [
    "embedded_text = embeddings.embed_query(text)"
   ]
  },
  {
   "cell_type": "code",
   "execution_count": 10,
   "id": "545591f8-a50f-470e-97a6-587611f79cd6",
   "metadata": {},
   "outputs": [
    {
     "data": {
      "text/plain": [
       "1536"
      ]
     },
     "execution_count": 10,
     "metadata": {},
     "output_type": "execute_result"
    }
   ],
   "source": [
    "len(embedded_text)"
   ]
  },
  {
   "cell_type": "code",
   "execution_count": 21,
   "id": "f8f2cefe-234c-4a1c-881f-80e58ba02f52",
   "metadata": {},
   "outputs": [],
   "source": [
    "from langchain.document_loaders import TextLoader\n",
    "from langchain.document_loaders import CSVLoader"
   ]
  },
  {
   "cell_type": "code",
   "execution_count": 12,
   "id": "c28ec817-4ea8-48ff-802f-9c5258e47442",
   "metadata": {},
   "outputs": [],
   "source": [
    "loader = CSVLoader('penguins.csv')"
   ]
  },
  {
   "cell_type": "code",
   "execution_count": 13,
   "id": "a82038fa-9714-4492-94b9-fcf36e14dcd1",
   "metadata": {},
   "outputs": [],
   "source": [
    "data = loader.load()"
   ]
  },
  {
   "cell_type": "code",
   "execution_count": 15,
   "id": "ac25da06-a656-47f0-b30e-a5f4ce58c63f",
   "metadata": {},
   "outputs": [],
   "source": [
    "embedded_docs = embeddings.embed_documents([text.page_content for text in data])"
   ]
  },
  {
   "cell_type": "code",
   "execution_count": 16,
   "id": "609ea872-ba46-41f3-9c60-ea3fd293d145",
   "metadata": {},
   "outputs": [
    {
     "data": {
      "text/plain": [
       "344"
      ]
     },
     "execution_count": 16,
     "metadata": {},
     "output_type": "execute_result"
    }
   ],
   "source": [
    "len(embedded_docs)"
   ]
  },
  {
   "cell_type": "markdown",
   "id": "538a3fcd-e26e-44a5-b138-ad14a72353fd",
   "metadata": {},
   "source": [
    "## Vector Stores"
   ]
  },
  {
   "cell_type": "code",
   "execution_count": 18,
   "id": "9f823db1-ed45-4420-9edc-2beea225d9d8",
   "metadata": {},
   "outputs": [],
   "source": [
    "import chromadb"
   ]
  },
  {
   "cell_type": "code",
   "execution_count": 22,
   "id": "6196f10f-850d-4c74-860b-a5ab71ef0294",
   "metadata": {},
   "outputs": [],
   "source": [
    "loader = TextLoader('FDR_State_of_Union_1944.txt')"
   ]
  },
  {
   "cell_type": "code",
   "execution_count": 23,
   "id": "0bcb174f-6384-4070-a1c3-990aff454b20",
   "metadata": {},
   "outputs": [],
   "source": [
    "documents = loader.load()"
   ]
  },
  {
   "cell_type": "code",
   "execution_count": 24,
   "id": "2139c1b2-402e-4238-b545-7e20b8927b57",
   "metadata": {},
   "outputs": [],
   "source": [
    "text_splitter = CharacterTextSplitter.from_tiktoken_encoder(chunk_size=500)\n",
    "docs = text_splitter.split_documents(documents)"
   ]
  },
  {
   "cell_type": "code",
   "execution_count": 25,
   "id": "a733f8ab-d2a1-4942-b151-3acaec32dfac",
   "metadata": {},
   "outputs": [],
   "source": [
    "embedding_function = OpenAIEmbeddings()"
   ]
  },
  {
   "cell_type": "code",
   "execution_count": 26,
   "id": "a1b39eaa-d158-4ded-854a-8cceeaa906b6",
   "metadata": {},
   "outputs": [],
   "source": [
    "db = Chroma.from_documents(documents=docs, \n",
    "                           embedding=embedding_function, \n",
    "                           persist_directory=\"./speech_new_db\")"
   ]
  },
  {
   "cell_type": "markdown",
   "id": "f13de950-932a-4a82-af11-038bd38c723a",
   "metadata": {},
   "source": [
    "## Connecting to ChromaDB"
   ]
  },
  {
   "cell_type": "code",
   "execution_count": 32,
   "id": "2bd38ae9-c2d6-42f1-837b-cb8ce1efa73c",
   "metadata": {},
   "outputs": [],
   "source": [
    "db_new_connection = Chroma(persist_directory=\"./speech_new_db\", \n",
    "                           embedding_function=embedding_function)"
   ]
  },
  {
   "cell_type": "code",
   "execution_count": 33,
   "id": "a96f6f35-86d3-4743-82b7-57f5508ec285",
   "metadata": {},
   "outputs": [],
   "source": [
    "new_doc = \"What did FDR say about the cost of food law?\""
   ]
  },
  {
   "cell_type": "code",
   "execution_count": 34,
   "id": "52507b0e-8d06-4bb9-8ed9-e656f89ba8b9",
   "metadata": {},
   "outputs": [],
   "source": [
    "similar_docs = db_new_connection.similarity_search(new_doc)"
   ]
  },
  {
   "cell_type": "code",
   "execution_count": 37,
   "id": "af50d5f3-136d-42d6-8c0a-887794221e05",
   "metadata": {},
   "outputs": [
    {
     "name": "stdout",
     "output_type": "stream",
     "text": [
      "(2) A continuation of the law for the renegotiation of war contractsâ€”which will prevent exorbitant profits and assure fair prices to the Government. For two long years I have pleaded with the Congress to take undue profits out of war.\n",
      "\n",
      "(3) A cost of food lawâ€”which will enable the Government (a) to place a reasonable floor under the prices the farmer may expect for his production; and (b) to place a ceiling on the prices a consumer will have to pay for the food he buys. This should apply to necessities only; and will require public funds to carry out. It will cost in appropriations about one percent of the present annual cost of the war.\n",
      "\n",
      "(4) Early reenactment of. the stabilization statute of October, 1942. This expires June 30, 1944, and if it is not extended well in advance, the country might just as well expect price chaos by summer.\n",
      "\n",
      "(5) A national service law- which, for the duration of the war, will prevent strikes, and, with certain appropriate exceptions, will make available for war production or for any other essential services every able-bodied adult in this Nation.\n",
      "\n",
      "These five measures together form a just and equitable whole. I would not recommend a national service law unless the other laws were passed to keep down the cost of living, to share equitably the burdens of taxation, to hold the stabilization line, and to prevent undue profits.\n",
      "\n",
      "The Federal Government already has the basic power to draft capital and property of all kinds for war purposes on a basis of just compensation.\n",
      "\n",
      "As you know, I have for three years hesitated to recommend a national service act. Today, however, I am convinced of its necessity. Although I believe that we and our allies can win the war without such a measure, I am certain that nothing less than total mobilization of all our resources of manpower and capital will guarantee an earlier victory, and reduce the toll of suffering and sorrow and blood.\n",
      "\n",
      "I have received a joint recommendation for this law from the heads of the War Department, the Navy Department, and the Maritime Commission. These are the men who bear responsibility for the procurement of the necessary arms and equipment, and for the successful prosecution of the war in the field. They say:\n"
     ]
    }
   ],
   "source": [
    "print(similar_docs[0].page_content)"
   ]
  },
  {
   "cell_type": "markdown",
   "id": "495a6cdd-e3b8-4e47-a87e-2a3660dc38e1",
   "metadata": {},
   "source": [
    "## Adding documents to ChromaDB"
   ]
  },
  {
   "cell_type": "code",
   "execution_count": 38,
   "id": "ca431835-4fa0-4a29-8dba-6f9e31fbbeba",
   "metadata": {},
   "outputs": [],
   "source": [
    "loader = TextLoader('Lincoln_State_of_Union_1862.txt')\n",
    "documents = loader.load()"
   ]
  },
  {
   "cell_type": "code",
   "execution_count": 39,
   "id": "d4587028-a00f-4473-b585-bc87fd2795ae",
   "metadata": {},
   "outputs": [
    {
     "name": "stderr",
     "output_type": "stream",
     "text": [
      "Created a chunk of size 611, which is longer than the specified 500\n",
      "Created a chunk of size 539, which is longer than the specified 500\n",
      "Created a chunk of size 686, which is longer than the specified 500\n"
     ]
    }
   ],
   "source": [
    "docs = text_splitter.split_documents(documents)"
   ]
  },
  {
   "cell_type": "code",
   "execution_count": 40,
   "id": "4057ada1-6748-436b-a3eb-04dd2306b9ee",
   "metadata": {},
   "outputs": [],
   "source": [
    "db_new_connection = Chroma.from_documents(documents=docs, \n",
    "                                          embedding=embedding_function,\n",
    "                                          persist_directory=\"./speech_new_db\")"
   ]
  },
  {
   "cell_type": "code",
   "execution_count": 41,
   "id": "2c62a554-bce7-4c97-86ed-0849c5b1510d",
   "metadata": {},
   "outputs": [],
   "source": [
    "docs = db_new_connection.similarity_search(\"What did Lincoln say about slavery\")"
   ]
  },
  {
   "cell_type": "code",
   "execution_count": 45,
   "id": "bd041442-9069-4ea0-b641-1faafb1ef5cf",
   "metadata": {},
   "outputs": [
    {
     "name": "stdout",
     "output_type": "stream",
     "text": [
      "In this view I recommend the adoption of the following resolution and articles amendatory to the Constitution of the United States:\n",
      "\n",
      "Resolved by the Senate and House of Representatives of the United States of America in Congress assembled (two-thirds of both Houses concurring), That the following articles be proposed to the legislatures (or conventions) of the several States as amendments to the Constitution of the United States, all or any of which articles, when ratified by three-fourths of the said legislatures (or conventions ), to be valid as part or parts of the said Constitution, viz:\n",
      "ART.--. Every State wherein slavery now exists which shall abolish the same therein at any time or times before the 1st day of January., A. D. 1900, shall receive compensation from the United States as follows, to wit:\n",
      "The President of the United States shall deliver to every such State bonds of the United States bearing interest at the rate of per cent per annum to an amount equal to the aggregate sum of____for each slave shown to have been therein by the Eighth Census of the United States, said bonds to be delivered to such State by installments or in one parcel at the completion of the abolishment, accordingly as the same shall have been gradual or at one time within such State; and interest shall begin to run upon any such bond only from the proper time of its delivery as aforesaid. Any State having received bonds as aforesaid and afterwards reintroducing or tolerating slavery therein shall refund to the United States the bonds so received, or the value thereof, and all interest paid thereon.\n",
      "ARTâ€”All slaves who shall have enjoyed actual freedom by the chances of the war at any time before the end of the rebellion shall be forever free; but all owners of such who shall not have been disloyal shall be compensated for them at the same rates as is provided for States adopting abolishment of slavery, but in such way that no slave shall be twice accounted for.\n",
      "ART.--Congress may appropriate money and otherwise provide for colonizing free colored persons with their own consent at any place or places without the United States.\n",
      "I beg indulgence to discuss these proposed articles at some length. Without slavery the rebellion could never have existed; without slavery it could not continue.\n"
     ]
    }
   ],
   "source": [
    "print(docs[0].page_content)"
   ]
  },
  {
   "cell_type": "markdown",
   "id": "682e3c63-d984-4ec3-8858-0de92bcfa70d",
   "metadata": {},
   "source": [
    "## Retrieval Documents"
   ]
  },
  {
   "cell_type": "code",
   "execution_count": 46,
   "id": "68b974e2-6239-4bf2-b10a-592b40e3b6fb",
   "metadata": {},
   "outputs": [],
   "source": [
    "retriever = db_new_connection.as_retriever()"
   ]
  },
  {
   "cell_type": "code",
   "execution_count": 48,
   "id": "ebd6955d-d7b2-4079-b065-1a0b55ada701",
   "metadata": {},
   "outputs": [],
   "source": [
    "results = retriever.invoke('slavery')"
   ]
  },
  {
   "cell_type": "code",
   "execution_count": 58,
   "id": "18075b43-2485-4dad-ba98-70b305b585fc",
   "metadata": {},
   "outputs": [
    {
     "name": "stdout",
     "output_type": "stream",
     "text": [
      "As to the second article, I think it would be impracticable to return to bondage the class of persons therein contemplated. Some of them, doubtless, in the property sense belong to loyal owners, and hence provision is made in this article for compensating such. The third article relates to the future of the freed people. It does not oblige, but merely authorizes Congress to aid in colonizing such as may consent. This ought not to be regarded as objectionable on the one hand or on the other, insomuch as it comes to nothing unless by the mutual consent of the people to be deported and the American voters, through their representatives in Congress.\n",
      "\n",
      "I can not make it better known than it already is that I strongly favor colonization; and yet I wish to say there is an objection urged against free colored persons remaining in the country which is largely imaginary, if not sometimes malicious.\n",
      "\n",
      "It is insisted that their presence would injure and displace white labor and white laborers. If there ever could be a proper time for mere catch arguments, that time surely is not now. In times like the present men should utter nothing for which they would not willingly be responsible through time and in eternity. Is it true, then, that colored people can displace any more white labor by being free than by remaining slaves? If they stay in their old places, they jostle no white laborers; if they leave their old places, they leave them open to white laborers. Logically, there is neither more nor less of it. Emancipation, even without deportation, would probably enhance the wages of white labor, and very surely would not reduce them. Thus the customary amount of labor would still have to be performedâ€”the freed people would surely not do more than their old proportion of it, and very probably for a time would do less, leaving an increased part to white laborers, bringing their labor into greater demand, and consequently enhancing the wages of it. With deportation, even to a limited extent, enhanced wages to white labor is mathematically certain. Labor is like any other commodity in the marketâ€”increase the demand for it and you increase the price of it. Reduce the supply of black labor by colonizing the black laborer out of the country, and by precisely so much you increase the demand for and wages of white labor.\n"
     ]
    }
   ],
   "source": [
    "print(results[0].page_content)"
   ]
  },
  {
   "cell_type": "code",
   "execution_count": null,
   "id": "14551522-3fbd-429d-b0c1-f3044e31bbf6",
   "metadata": {},
   "outputs": [],
   "source": []
  }
 ],
 "metadata": {
  "kernelspec": {
   "display_name": "Python 3 (ipykernel)",
   "language": "python",
   "name": "python3"
  },
  "language_info": {
   "codemirror_mode": {
    "name": "ipython",
    "version": 3
   },
   "file_extension": ".py",
   "mimetype": "text/x-python",
   "name": "python",
   "nbconvert_exporter": "python",
   "pygments_lexer": "ipython3",
   "version": "3.12.9"
  }
 },
 "nbformat": 4,
 "nbformat_minor": 5
}
