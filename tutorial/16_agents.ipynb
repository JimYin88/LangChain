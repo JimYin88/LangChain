{
 "cells": [
  {
   "cell_type": "markdown",
   "id": "606b47b8-01e8-4d64-ad40-606e3b5e0249",
   "metadata": {},
   "source": [
    "# Agents"
   ]
  },
  {
   "cell_type": "markdown",
   "id": "efeabf9e-5177-47b9-b396-403b44d2bf60",
   "metadata": {},
   "source": [
    "## Imports"
   ]
  },
  {
   "cell_type": "code",
   "execution_count": 1,
   "id": "9422c055-dfe1-413d-81d8-546757f323f2",
   "metadata": {},
   "outputs": [],
   "source": [
    "from langchain_openai import OpenAI, ChatOpenAI\n",
    "from langchain_core.prompts import PromptTemplate, ChatPromptTemplate\n",
    "from langchain_core.prompts import SystemMessagePromptTemplate, HumanMessagePromptTemplate, AIMessagePromptTemplate\n",
    "from langchain.schema import SystemMessage, HumanMessage, AIMessage\n",
    "from langchain.agents import tool, load_tools, initialize_agent, AgentType\n",
    "from langchain.memory import ConversationBufferMemory"
   ]
  },
  {
   "cell_type": "code",
   "execution_count": 2,
   "id": "f58b56b7-5518-4f7a-aeab-b6641c877fd4",
   "metadata": {},
   "outputs": [
    {
     "data": {
      "text/plain": [
       "True"
      ]
     },
     "execution_count": 2,
     "metadata": {},
     "output_type": "execute_result"
    }
   ],
   "source": [
    "from dotenv import load_dotenv\n",
    "\n",
    "load_dotenv()"
   ]
  },
  {
   "cell_type": "code",
   "execution_count": 3,
   "id": "a85a6342-8653-4724-97b0-24cc29c866b5",
   "metadata": {},
   "outputs": [],
   "source": [
    "chat_model = ChatOpenAI(model=\"gpt-4o-mini-2024-07-18\",\n",
    "                        max_completion_tokens=1000,\n",
    "                        temperature=0.0)"
   ]
  },
  {
   "cell_type": "markdown",
   "id": "896da020-4288-44e7-8bdb-09a8a93431da",
   "metadata": {},
   "source": [
    "## Adding Google Search"
   ]
  },
  {
   "cell_type": "code",
   "execution_count": 4,
   "id": "0d62e573-07c0-4ff6-b912-ad2ec0d87fa7",
   "metadata": {},
   "outputs": [],
   "source": [
    "tools = load_tools(tool_names=[\"llm-math\", \"serpapi\"], llm=chat_model)"
   ]
  },
  {
   "cell_type": "code",
   "execution_count": 5,
   "id": "cc69ce7f-5fb0-4c90-b5f7-32f0fcc5470f",
   "metadata": {},
   "outputs": [
    {
     "name": "stderr",
     "output_type": "stream",
     "text": [
      "C:\\Users\\JimYi\\AppData\\Local\\Temp\\ipykernel_44544\\44519730.py:1: LangChainDeprecationWarning: LangChain agents will continue to be supported, but it is recommended for new use cases to be built with LangGraph. LangGraph offers a more flexible and full-featured framework for building agents, including support for tool-calling, persistence of state, and human-in-the-loop workflows. For details, refer to the `LangGraph documentation <https://langchain-ai.github.io/langgraph/>`_ as well as guides for `Migrating from AgentExecutor <https://python.langchain.com/docs/how_to/migrate_agent/>`_ and LangGraph's `Pre-built ReAct agent <https://langchain-ai.github.io/langgraph/how-tos/create-react-agent/>`_.\n",
      "  agent = initialize_agent(tools=tools,\n"
     ]
    }
   ],
   "source": [
    "agent = initialize_agent(tools=tools, \n",
    "                         llm=chat_model, \n",
    "                         agent=AgentType.ZERO_SHOT_REACT_DESCRIPTION,\n",
    "                         verbose=True)"
   ]
  },
  {
   "cell_type": "code",
   "execution_count": 6,
   "id": "08936e5e-79c1-401f-aa6a-7014f3e9a985",
   "metadata": {
    "scrolled": true
   },
   "outputs": [
    {
     "name": "stdout",
     "output_type": "stream",
     "text": [
      "\n",
      "\n",
      "\u001b[1m> Entering new AgentExecutor chain...\u001b[0m\n",
      "\u001b[32;1m\u001b[1;3mI need to find the current time. Since I don't have access to real-time data, I will use a search query to find the current time.  \n",
      "Action: Search  \n",
      "Action Input: \"current time\"  \u001b[0m\n",
      "Observation: \u001b[33;1m\u001b[1;3m10:06 PM\u001b[0m\n",
      "\u001b[32;1m\u001b[1;3mI now know the final answer.  \n",
      "Final Answer: The current time is 10:06 PM.\u001b[0m\n",
      "\n",
      "\u001b[1m> Finished chain.\u001b[0m\n"
     ]
    },
    {
     "data": {
      "text/plain": [
       "{'input': 'What time is it right now?',\n",
       " 'output': 'The current time is 10:06 PM.'}"
      ]
     },
     "execution_count": 6,
     "metadata": {},
     "output_type": "execute_result"
    }
   ],
   "source": [
    "agent.invoke(\"What time is it right now?\")"
   ]
  },
  {
   "cell_type": "code",
   "execution_count": 7,
   "id": "f19a9c6c-a429-4c16-8c6a-42460a01197c",
   "metadata": {},
   "outputs": [
    {
     "name": "stdout",
     "output_type": "stream",
     "text": [
      "\n",
      "\n",
      "\u001b[1m> Entering new AgentExecutor chain...\u001b[0m\n",
      "\u001b[32;1m\u001b[1;3mI need to find the current President of the United States, as this information can change over time. \n",
      "Action: Search\n",
      "Action Input: \"current President of the United States 2023\"\u001b[0m\n",
      "Observation: \u001b[33;1m\u001b[1;3m['Joseph Robinette Biden Jr. is an American politician who was the 46th president of the United States from 2021 to 2025. A member of the Democratic Party, he served as the 47th vice president from 2009 to 2017 under President Barack Obama, and represented Delaware in the U.S. Senate from 1973 to 2009.', 'Joe Biden type: 46th U.S. President.', 'Joe Biden entity_type: people, athlete, sports_athlete.', 'Joe Biden kgmid: /m/012gx2.', 'Joe Biden born: November 20, 1942 (age 82 years), Scranton, PA.', 'Joe Biden edited_works: Proceedings of the Senate Task Force on Economic Sanctions.', 'Joe Biden organizations_founded: Biden Foundation.', 'Joe Biden grandchildren: Navy Joan Roberts, Natalie Biden, Maisy Biden, Robert Biden II, Naomi Biden, Finnegan Biden.', 'Joe Biden grandparents: Mary Elizabeth Robinette Biden, Ambrose J. Finnegan, Joseph H. Biden, Geraldine C. Blewitt.', 'Joe Biden great_grandparents: James Finnegan.', 'Joe Biden marriage_location: New York, NY.', 'In all, 45 individuals have served 47 presidencies spanning 60 four-year terms. Donald Trump is the 47th and current president since January 20, 2025.', \"Donald J. Trump serves as the 47th President of the United States. He also served as the 45th. Read the President's full biography.\", 'President of the United States. JD Vance. VICE PRESIDENT OF THE UNITED STATES. Melania Trump. First Lady OF THE UNITED STATES. The Cabinet. Of the 47th ...', 'The 47th and current president of the United States is Donald John Trump. He was sworn into office on January 20, 2025.', 'President Donald J. Trump 45th & 47th President of the United States. The Golden Age of America Begins Right Now.', 'President Donald J. Trump. 269134 likes · 29844 talking about this. 45th & 47th President of the United States. The Golden Age of America Begins Right Now.', 'Donald J. Trump. 45th & 47th President of the United States ; JD Vance. Vice President of the United States ; Melania Trump. FIRST Lady of the United States ; The ...', 'Joseph Robinette Biden Jr. (born November 20, 1942) is an American politician who was the 46th president of the United States from 2021 to 2025.', 'President Donald J. Trump is returning to the White House as the 47th president to build upon his previous successes, unleash the American economy.', 'Article II of the U.S. Constitution laid out the requirements and roles of the president. The current president is Donald Trump (R).']\u001b[0m\n",
      "\u001b[32;1m\u001b[1;3mThe search results indicate that Donald J. Trump is the current President of the United States, having taken office on January 20, 2025. However, there is also information about Joe Biden being the 46th president from 2021 to 2025. This suggests that the information may be conflicting or that the search results are not up to date. \n",
      "\n",
      "To clarify, I will check the latest information regarding the current president. \n",
      "\n",
      "Action: Search\n",
      "Action Input: \"current President of the United States October 2023\"\u001b[0m\n",
      "Observation: \u001b[33;1m\u001b[1;3m['Joe Biden type: 46th U.S. President.', 'Joe Biden kgmid: /m/012gx2.', 'Joe Biden born: November 20, 1942 (age 82 years), Scranton, PA.', 'Joe Biden organizations_founded: Biden Foundation.', 'Joe Biden grandchildren: Navy Joan Roberts, Natalie Biden, Maisy Biden, Robert Biden II, Naomi Biden, Finnegan Biden.', 'Joe Biden grandparents: Mary Elizabeth Robinette Biden, Ambrose J. Finnegan, Joseph H. Biden, Geraldine C. Blewitt.', 'Joe Biden great_grandparents: James Finnegan.', 'Joe Biden marriage_location: New York, NY.', 'The president of the United States (POTUS) is the head of state and head of government of the United States. The president directs the executive branch of ...', 'Joseph Robinette Biden Jr. (born November 20, 1942) is an American politician who was the 46th president of the United States from 2021 to 2025.', 'President Donald J. Trump is returning to the White House as the 47th president to build upon his previous successes, unleash the American economy.', '00:00 October 2023 look back introduction 00:10 President Biden celebrates the American with Disabilities Act 00:45 President Biden holds a ...', 'In 2023, Joseph R. Biden, Jr., signed 24 Executive orders (from EO 14091 through EO 14114). This page contains documents that have been published in the ...', 'Former President Donald Trump (R) won the November 5, 2024, presidential election. Trump won with 312 electoral votes, defeating Vice President Kamala Harris ( ...', 'Joe Biden is the 46th president of the United States. He brought decades of political experience and a commitment to unity as he led America ...', 'Do you approve or disapprove of the way Joe Biden is handling his job as president?', 'Dear President Biden: As Republican members of the House Committee on Homeland Security, we write to strongly condemn the abhorrent terrorist ...', 'Former President Donald Trump (R) won the November 5, 2024, presidential election. Twenty-four candidates appeared on presidential election ballots across the ...']\u001b[0m\n",
      "\u001b[32;1m\u001b[1;3mThe search results confirm that Joe Biden is currently the 46th President of the United States, serving from 2021 to 2025. However, there are indications that Donald Trump won the presidential election in November 2024 and will take office as the 47th president. This means that as of October 2023, Joe Biden is still the sitting president, but there is a transition expected soon.\n",
      "\n",
      "Final Answer: Joe Biden is the current President of the United States as of October 2023.\u001b[0m\n",
      "\n",
      "\u001b[1m> Finished chain.\u001b[0m\n"
     ]
    },
    {
     "data": {
      "text/plain": [
       "{'input': 'Who is the President of the US?',\n",
       " 'output': 'Joe Biden is the current President of the United States as of October 2023.'}"
      ]
     },
     "execution_count": 7,
     "metadata": {},
     "output_type": "execute_result"
    }
   ],
   "source": [
    "agent.invoke(\"Who is the President of the US?\")"
   ]
  },
  {
   "cell_type": "markdown",
   "id": "1a1a5aed-0c77-4a5b-beee-98a31caf8561",
   "metadata": {},
   "source": [
    "## Custom Tool"
   ]
  },
  {
   "cell_type": "code",
   "execution_count": 8,
   "id": "2cd50381-aebd-4718-b073-956e810649e7",
   "metadata": {},
   "outputs": [],
   "source": [
    "@tool\n",
    "def coolest_guy(text: str) -> str:\n",
    "    ''' \n",
    "    Returns the name of the coolest person in the universe.\n",
    "    Expects an empty string '' and returns the name of the \n",
    "    coolest person in the universe.\n",
    "    '''\n",
    "    return 'Jim Yin'"
   ]
  },
  {
   "cell_type": "code",
   "execution_count": 9,
   "id": "4c690151-b2cf-46ec-81bc-a6035809f44f",
   "metadata": {},
   "outputs": [],
   "source": [
    "tools = load_tools(tool_names=[\"llm-math\", \"serpapi\"], llm=chat_model)\n",
    "tools = tools + [coolest_guy]"
   ]
  },
  {
   "cell_type": "code",
   "execution_count": 10,
   "id": "3a4d8cea-54a0-455c-b787-4735e6936fb4",
   "metadata": {},
   "outputs": [],
   "source": [
    "agent = initialize_agent(tools=tools, \n",
    "                         llm=chat_model, \n",
    "                         agent=AgentType.ZERO_SHOT_REACT_DESCRIPTION,\n",
    "                         verbose=True)"
   ]
  },
  {
   "cell_type": "code",
   "execution_count": 11,
   "id": "f3af9fec-9209-49da-8feb-0a722a241b46",
   "metadata": {},
   "outputs": [
    {
     "name": "stdout",
     "output_type": "stream",
     "text": [
      "\n",
      "\n",
      "\u001b[1m> Entering new AgentExecutor chain...\u001b[0m\n",
      "\u001b[32;1m\u001b[1;3mI need to find out who is considered the coolest person in the universe. \n",
      "Action: coolest_guy\n",
      "Action Input: ''\u001b[0m\n",
      "Observation: \u001b[38;5;200m\u001b[1;3mJim Yin\u001b[0m\n",
      "\u001b[32;1m\u001b[1;3mI now know the final answer.  \n",
      "Final Answer: Jim Yin\u001b[0m\n",
      "\n",
      "\u001b[1m> Finished chain.\u001b[0m\n"
     ]
    },
    {
     "data": {
      "text/plain": [
       "{'input': 'Who is the coolest person in the universe?', 'output': 'Jim Yin'}"
      ]
     },
     "execution_count": 11,
     "metadata": {},
     "output_type": "execute_result"
    }
   ],
   "source": [
    "agent.invoke(\"Who is the coolest person in the universe?\")"
   ]
  },
  {
   "cell_type": "markdown",
   "id": "42b41290-087c-4ae1-a553-e8e51fb46f7d",
   "metadata": {},
   "source": [
    "## Adding memory to conversations"
   ]
  },
  {
   "cell_type": "code",
   "execution_count": 12,
   "id": "96d6b313-2d81-4cc9-876e-b4ce3b586e3a",
   "metadata": {},
   "outputs": [
    {
     "name": "stderr",
     "output_type": "stream",
     "text": [
      "C:\\Users\\JimYi\\AppData\\Local\\Temp\\ipykernel_44544\\3671332905.py:1: LangChainDeprecationWarning: Please see the migration guide at: https://python.langchain.com/docs/versions/migrating_memory/\n",
      "  memory = ConversationBufferMemory(memory_key='chat_history')\n"
     ]
    }
   ],
   "source": [
    "memory = ConversationBufferMemory(memory_key='chat_history')"
   ]
  },
  {
   "cell_type": "code",
   "execution_count": 13,
   "id": "52b77e14-7b68-42a1-9e7a-465fa5e23e23",
   "metadata": {},
   "outputs": [],
   "source": [
    "agent = initialize_agent(tools=tools, \n",
    "                         llm=chat_model, \n",
    "                         agent=AgentType.CONVERSATIONAL_REACT_DESCRIPTION,\n",
    "                         memory=memory,\n",
    "                         verbose=True)"
   ]
  },
  {
   "cell_type": "code",
   "execution_count": 14,
   "id": "0919ab02-97e4-4361-bb4a-51a9c65fbcac",
   "metadata": {},
   "outputs": [
    {
     "name": "stdout",
     "output_type": "stream",
     "text": [
      "\n",
      "\n",
      "\u001b[1m> Entering new AgentExecutor chain...\u001b[0m\n",
      "\u001b[32;1m\u001b[1;3m```\n",
      "Thought: Do I need to use a tool? No\n",
      "AI: There are many delicious Chinese dishes to try! Here are some popular ones:\n",
      "\n",
      "1. **Peking Duck** - A famous dish known for its crispy skin and tender meat, often served with pancakes, hoisin sauce, and sliced vegetables.\n",
      "\n",
      "2. **Kung Pao Chicken** - A spicy stir-fry dish made with chicken, peanuts, vegetables, and chili peppers.\n",
      "\n",
      "3. **Mapo Tofu** - A Sichuan dish featuring tofu set in a spicy sauce made with doubanjiang (fermented broad bean paste) and minced meat.\n",
      "\n",
      "4. **Sweet and Sour Pork** - A dish that combines crispy pork with a tangy sweet and sour sauce, often served with bell peppers and pineapple.\n",
      "\n",
      "5. **Dumplings (Jiaozi)** - These can be steamed, boiled, or pan-fried and are typically filled with meat and vegetables.\n",
      "\n",
      "6. **Chow Mein** - Stir-fried noodles with vegetables and often meat or seafood, seasoned with soy sauce.\n",
      "\n",
      "7. **Hot Pot** - A communal dish where diners cook various ingredients in a simmering pot of broth at the table.\n",
      "\n",
      "8. **Fried Rice** - A versatile dish made with rice, vegetables, and often meat or seafood, stir-fried together.\n",
      "\n",
      "9. **Spring Rolls** - Crispy rolls filled with vegetables or meat, often served as an appetizer.\n",
      "\n",
      "10. **Wonton Soup** - A comforting soup featuring wontons (dumplings filled with meat) in a flavorful broth.\n",
      "\n",
      "These dishes represent just a small sampling of the rich and diverse cuisine found in China!\u001b[0m\n",
      "\n",
      "\u001b[1m> Finished chain.\u001b[0m\n"
     ]
    },
    {
     "data": {
      "text/plain": [
       "{'input': 'What are some good Chinese dishes?',\n",
       " 'chat_history': '',\n",
       " 'output': 'There are many delicious Chinese dishes to try! Here are some popular ones:\\n\\n1. **Peking Duck** - A famous dish known for its crispy skin and tender meat, often served with pancakes, hoisin sauce, and sliced vegetables.\\n\\n2. **Kung Pao Chicken** - A spicy stir-fry dish made with chicken, peanuts, vegetables, and chili peppers.\\n\\n3. **Mapo Tofu** - A Sichuan dish featuring tofu set in a spicy sauce made with doubanjiang (fermented broad bean paste) and minced meat.\\n\\n4. **Sweet and Sour Pork** - A dish that combines crispy pork with a tangy sweet and sour sauce, often served with bell peppers and pineapple.\\n\\n5. **Dumplings (Jiaozi)** - These can be steamed, boiled, or pan-fried and are typically filled with meat and vegetables.\\n\\n6. **Chow Mein** - Stir-fried noodles with vegetables and often meat or seafood, seasoned with soy sauce.\\n\\n7. **Hot Pot** - A communal dish where diners cook various ingredients in a simmering pot of broth at the table.\\n\\n8. **Fried Rice** - A versatile dish made with rice, vegetables, and often meat or seafood, stir-fried together.\\n\\n9. **Spring Rolls** - Crispy rolls filled with vegetables or meat, often served as an appetizer.\\n\\n10. **Wonton Soup** - A comforting soup featuring wontons (dumplings filled with meat) in a flavorful broth.\\n\\nThese dishes represent just a small sampling of the rich and diverse cuisine found in China!'}"
      ]
     },
     "execution_count": 14,
     "metadata": {},
     "output_type": "execute_result"
    }
   ],
   "source": [
    "agent.invoke('What are some good Chinese dishes?')"
   ]
  },
  {
   "cell_type": "code",
   "execution_count": 15,
   "id": "16ba96a7-eab6-47ab-abd3-c85b3614bf89",
   "metadata": {},
   "outputs": [
    {
     "name": "stdout",
     "output_type": "stream",
     "text": [
      "\n",
      "\n",
      "\u001b[1m> Entering new AgentExecutor chain...\u001b[0m\n",
      "\u001b[32;1m\u001b[1;3m```\n",
      "Thought: Do I need to use a tool? No\n",
      "AI: A popular beef dish in Chinese cuisine is **Beef and Broccoli**. This dish features tender slices of beef stir-fried with broccoli in a savory sauce made from soy sauce, garlic, and ginger. Another well-known dish is **Mongolian Beef**, which consists of sliced beef cooked with green onions in a sweet and slightly spicy sauce. Additionally, **Braised Beef Noodle Soup** is a comforting dish that includes tender braised beef served in a flavorful broth with noodles and vegetables. These dishes highlight the versatility of beef in Chinese cooking!\n",
      "```\u001b[0m\n",
      "\n",
      "\u001b[1m> Finished chain.\u001b[0m\n"
     ]
    },
    {
     "data": {
      "text/plain": [
       "{'input': 'How about a beef dish?',\n",
       " 'chat_history': 'Human: What are some good Chinese dishes?\\nAI: There are many delicious Chinese dishes to try! Here are some popular ones:\\n\\n1. **Peking Duck** - A famous dish known for its crispy skin and tender meat, often served with pancakes, hoisin sauce, and sliced vegetables.\\n\\n2. **Kung Pao Chicken** - A spicy stir-fry dish made with chicken, peanuts, vegetables, and chili peppers.\\n\\n3. **Mapo Tofu** - A Sichuan dish featuring tofu set in a spicy sauce made with doubanjiang (fermented broad bean paste) and minced meat.\\n\\n4. **Sweet and Sour Pork** - A dish that combines crispy pork with a tangy sweet and sour sauce, often served with bell peppers and pineapple.\\n\\n5. **Dumplings (Jiaozi)** - These can be steamed, boiled, or pan-fried and are typically filled with meat and vegetables.\\n\\n6. **Chow Mein** - Stir-fried noodles with vegetables and often meat or seafood, seasoned with soy sauce.\\n\\n7. **Hot Pot** - A communal dish where diners cook various ingredients in a simmering pot of broth at the table.\\n\\n8. **Fried Rice** - A versatile dish made with rice, vegetables, and often meat or seafood, stir-fried together.\\n\\n9. **Spring Rolls** - Crispy rolls filled with vegetables or meat, often served as an appetizer.\\n\\n10. **Wonton Soup** - A comforting soup featuring wontons (dumplings filled with meat) in a flavorful broth.\\n\\nThese dishes represent just a small sampling of the rich and diverse cuisine found in China!',\n",
       " 'output': 'A popular beef dish in Chinese cuisine is **Beef and Broccoli**. This dish features tender slices of beef stir-fried with broccoli in a savory sauce made from soy sauce, garlic, and ginger. Another well-known dish is **Mongolian Beef**, which consists of sliced beef cooked with green onions in a sweet and slightly spicy sauce. Additionally, **Braised Beef Noodle Soup** is a comforting dish that includes tender braised beef served in a flavorful broth with noodles and vegetables. These dishes highlight the versatility of beef in Chinese cooking!\\n```'}"
      ]
     },
     "execution_count": 15,
     "metadata": {},
     "output_type": "execute_result"
    }
   ],
   "source": [
    "agent.invoke('How about a beef dish?')"
   ]
  },
  {
   "cell_type": "code",
   "execution_count": null,
   "id": "9712dd3b-bbcc-4bfa-84a0-65f4a48bc222",
   "metadata": {},
   "outputs": [],
   "source": []
  }
 ],
 "metadata": {
  "kernelspec": {
   "display_name": "Python 3 (ipykernel)",
   "language": "python",
   "name": "python3"
  },
  "language_info": {
   "codemirror_mode": {
    "name": "ipython",
    "version": 3
   },
   "file_extension": ".py",
   "mimetype": "text/x-python",
   "name": "python",
   "nbconvert_exporter": "python",
   "pygments_lexer": "ipython3",
   "version": "3.12.9"
  }
 },
 "nbformat": 4,
 "nbformat_minor": 5
}
