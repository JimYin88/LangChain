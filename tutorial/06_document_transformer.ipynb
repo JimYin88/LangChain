{
 "cells": [
  {
   "cell_type": "markdown",
   "id": "0c0c6aa1-5cc1-460b-94a7-c03c60d28d59",
   "metadata": {},
   "source": [
    "## Document Transformer"
   ]
  },
  {
   "cell_type": "code",
   "execution_count": 1,
   "id": "cd406f40-0d08-447f-bfb6-d04014719332",
   "metadata": {},
   "outputs": [],
   "source": [
    "from langchain.text_splitter import CharacterTextSplitter"
   ]
  },
  {
   "cell_type": "code",
   "execution_count": 2,
   "id": "d914c6ab-f7e5-4041-985d-c0b1991e2187",
   "metadata": {},
   "outputs": [],
   "source": [
    "with open('FDR_State_of_Union_1944.txt') as file:\n",
    "    speech_text = file.read()"
   ]
  },
  {
   "cell_type": "code",
   "execution_count": 3,
   "id": "49a52ff2-03d6-489a-85db-10712d6608dd",
   "metadata": {},
   "outputs": [
    {
     "data": {
      "text/plain": [
       "21995"
      ]
     },
     "execution_count": 3,
     "metadata": {},
     "output_type": "execute_result"
    }
   ],
   "source": [
    "len(speech_text)"
   ]
  },
  {
   "cell_type": "code",
   "execution_count": 4,
   "id": "27904edf-a4bb-4179-a7af-cd8d21eb8612",
   "metadata": {},
   "outputs": [
    {
     "data": {
      "text/plain": [
       "3750"
      ]
     },
     "execution_count": 4,
     "metadata": {},
     "output_type": "execute_result"
    }
   ],
   "source": [
    "len(speech_text.split())"
   ]
  },
  {
   "cell_type": "code",
   "execution_count": 5,
   "id": "87eb0307-0f17-4f69-81e1-fad0f4eb7d6c",
   "metadata": {},
   "outputs": [],
   "source": [
    "text_splitter = CharacterTextSplitter(separator=\"\\n\\n\", chunk_size=1000)"
   ]
  },
  {
   "cell_type": "code",
   "execution_count": 6,
   "id": "bfcd3181-8c21-4c46-af42-72a2ceaac64f",
   "metadata": {},
   "outputs": [],
   "source": [
    "texts = text_splitter.create_documents([speech_text])"
   ]
  },
  {
   "cell_type": "code",
   "execution_count": 7,
   "id": "a3270ac5-9e90-4b69-961f-2531d9ce8982",
   "metadata": {},
   "outputs": [
    {
     "data": {
      "text/plain": [
       "Document(metadata={}, page_content=\"This Nation in the past two years has become an active partner in the world's greatest war against human slavery.\\n\\nWe have joined with like-minded people in order to defend ourselves in a world that has been gravely threatened with gangster rule.\\n\\nBut I do not think that any of us Americans can be content with mere survival. Sacrifices that we and our allies are making impose upon us all a sacred obligation to see to it that out of this war we and our children will gain something better than mere survival.\\n\\nWe are united in determination that this war shall not be followed by another interim which leads to new disaster- that we shall not repeat the tragic errors of ostrich isolationismâ€”that we shall not repeat the excesses of the wild twenties when this Nation went for a joy ride on a roller coaster which ended in a tragic crash.\")"
      ]
     },
     "execution_count": 7,
     "metadata": {},
     "output_type": "execute_result"
    }
   ],
   "source": [
    "texts[0]"
   ]
  },
  {
   "cell_type": "code",
   "execution_count": 8,
   "id": "538d3dc3-196d-4cae-9a73-2a486a36e30a",
   "metadata": {},
   "outputs": [],
   "source": [
    "text_splitter = CharacterTextSplitter.from_tiktoken_encoder(chunk_size=500)"
   ]
  },
  {
   "cell_type": "code",
   "execution_count": 9,
   "id": "2bfe5fcd-abad-4f1c-b648-b900da96f4a1",
   "metadata": {},
   "outputs": [],
   "source": [
    "texts = text_splitter.split_text(speech_text)"
   ]
  },
  {
   "cell_type": "code",
   "execution_count": 10,
   "id": "134e0100-ba59-4dba-9bad-77bee57d30c4",
   "metadata": {},
   "outputs": [
    {
     "data": {
      "text/plain": [
       "15"
      ]
     },
     "execution_count": 10,
     "metadata": {},
     "output_type": "execute_result"
    }
   ],
   "source": [
    "len(texts)"
   ]
  },
  {
   "cell_type": "code",
   "execution_count": 11,
   "id": "31b070d1-81e0-4deb-b6ed-78489a4876df",
   "metadata": {},
   "outputs": [
    {
     "data": {
      "text/plain": [
       "411"
      ]
     },
     "execution_count": 11,
     "metadata": {},
     "output_type": "execute_result"
    }
   ],
   "source": [
    "len(texts[0].split())"
   ]
  },
  {
   "cell_type": "code",
   "execution_count": null,
   "id": "59df510a-52f8-4550-be6f-3a72e79cae64",
   "metadata": {},
   "outputs": [],
   "source": []
  }
 ],
 "metadata": {
  "kernelspec": {
   "display_name": "Python 3 (ipykernel)",
   "language": "python",
   "name": "python3"
  },
  "language_info": {
   "codemirror_mode": {
    "name": "ipython",
    "version": 3
   },
   "file_extension": ".py",
   "mimetype": "text/x-python",
   "name": "python",
   "nbconvert_exporter": "python",
   "pygments_lexer": "ipython3",
   "version": "3.12.9"
  }
 },
 "nbformat": 4,
 "nbformat_minor": 5
}
