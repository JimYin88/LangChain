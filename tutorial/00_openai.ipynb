{
 "cells": [
  {
   "cell_type": "markdown",
   "id": "e489949a-247f-46fa-b04b-4f8807456085",
   "metadata": {},
   "source": [
    "# OpenAI connection"
   ]
  },
  {
   "cell_type": "code",
   "execution_count": 1,
   "id": "12c4507f-b592-47c2-aa05-219f3d28937d",
   "metadata": {},
   "outputs": [],
   "source": [
    "import openai"
   ]
  },
  {
   "cell_type": "code",
   "execution_count": 2,
   "id": "4609d286-0a92-40b6-a52a-aeaff38672cd",
   "metadata": {},
   "outputs": [
    {
     "data": {
      "text/plain": [
       "True"
      ]
     },
     "execution_count": 2,
     "metadata": {},
     "output_type": "execute_result"
    }
   ],
   "source": [
    "from dotenv import load_dotenv\n",
    "\n",
    "load_dotenv()"
   ]
  },
  {
   "cell_type": "markdown",
   "id": "4242a984-1f7d-4b93-9f70-1b8fa7dd7f36",
   "metadata": {
    "id": "aC5vluO-zrob"
   },
   "source": [
    "## LLM Mode using OpenAI Python"
   ]
  },
  {
   "cell_type": "code",
   "execution_count": 3,
   "id": "911901b1-ff63-4187-b813-8105ae289e52",
   "metadata": {},
   "outputs": [
    {
     "name": "stdout",
     "output_type": "stream",
     "text": [
      "\n",
      "\n",
      "The sky appears blue because of a phenomenon called Rayleigh scattering. This is when sunlight enters the Earth's atmosphere and collides with particles in the air, such as nitrogen and oxygen molecules. These particles scatter the sunlight in all directions, but the shorter blue wavelengths are scattered more than the longer red wavelengths. This causes the blue light to be scattered more widely, making it more visible to our eyes and giving the sky its blue color.\n"
     ]
    }
   ],
   "source": [
    "response = openai.completions.create(model='gpt-3.5-turbo-instruct',\n",
    "                                     prompt='Why is the sky blue?',\n",
    "                                     max_tokens=300,\n",
    "                                     temperature = 0.5,\n",
    "                                     top_p = 0.9)\n",
    "\n",
    "print(response.choices[0].text)"
   ]
  },
  {
   "cell_type": "markdown",
   "id": "bb0f3c91-0ce2-4d4a-936f-14ebbc366133",
   "metadata": {},
   "source": [
    "## Chat Mode using OpenAI Python"
   ]
  },
  {
   "cell_type": "code",
   "execution_count": 4,
   "id": "4596333e-f1cc-47a5-b825-9303344b8c92",
   "metadata": {},
   "outputs": [],
   "source": [
    "response2 = openai.chat.completions.create(model='gpt-4o-mini',\n",
    "                                           messages=[{\"role\": \"system\", \n",
    "                                                      \"content\": \"You are a kind helpful assistant.\"},\n",
    "                                                     {\"role\": \"user\", \n",
    "                                                      \"content\": \"Who is Wilt Chamberlain?\"}],\n",
    "                                           max_tokens = 300,\n",
    "                                           temperature = 0.5)"
   ]
  },
  {
   "cell_type": "code",
   "execution_count": 5,
   "id": "e69b3b9f-7a4a-4f67-8e41-724e3606b028",
   "metadata": {},
   "outputs": [
    {
     "name": "stdout",
     "output_type": "stream",
     "text": [
      "Wilt Chamberlain was an American professional basketball player, widely regarded as one of the greatest players in the history of the sport. He was born on August 21, 1936, in Philadelphia, Pennsylvania, and passed away on October 12, 1999.\n",
      "\n",
      "Chamberlain played the center position and was known for his incredible scoring ability, athleticism, and dominance on the court. He played for several teams in the NBA, including the Philadelphia/San Francisco Warriors, Philadelphia 76ers, and the Los Angeles Lakers. \n",
      "\n",
      "One of his most notable achievements is scoring 100 points in a single game on March 2, 1962, a record that still stands today. Over his career, he won two NBA championships, four MVP awards, and was selected to 13 All-Star games. He was also a prolific rebounder and led the league in rebounds multiple times.\n",
      "\n",
      "Chamberlain's impact on the game extended beyond statistics; he was a cultural icon and helped popularize basketball in the United States. His rivalry with players like Bill Russell is legendary and shaped the NBA landscape during his era. After retiring from professional basketball, he pursued various ventures, including acting and business.\n"
     ]
    }
   ],
   "source": [
    "print(response2.choices[0].message.content)"
   ]
  },
  {
   "cell_type": "markdown",
   "id": "fa430dfa-2685-4e54-bf19-4b18bc7c6a07",
   "metadata": {},
   "source": [
    "## Chatbot using OpenAI Python"
   ]
  },
  {
   "cell_type": "code",
   "execution_count": 6,
   "id": "1d01268b-9770-4a19-aa9b-b483a9c69559",
   "metadata": {
    "colab": {
     "base_uri": "https://localhost:8080/",
     "height": 522
    },
    "id": "Fp7-srfFwfAj",
    "outputId": "f89dce21-b1d9-4fea-fef9-ccd24da75b3f"
   },
   "outputs": [
    {
     "name": "stdin",
     "output_type": "stream",
     "text": [
      "User (Type 'Quit' to quit:  How many Oscars did 'Gone With The Wind' win?\n"
     ]
    },
    {
     "name": "stdout",
     "output_type": "stream",
     "text": [
      "ChatGPT: \"Gone with the Wind\" won 8 Academy Awards (Oscars) at the 12th Academy Awards held in 1940. It was nominated for 13 Oscars in total. The film is notable for winning awards including Best Picture, Best Actress for Vivien Leigh, and Best Supporting Actress for Hattie McDaniel, who made history as the first African American to win an Oscar.\n"
     ]
    },
    {
     "name": "stdin",
     "output_type": "stream",
     "text": [
      "User (Type 'Quit' to quit:  Which movies won more Oscars?\n"
     ]
    },
    {
     "name": "stdout",
     "output_type": "stream",
     "text": [
      "ChatGPT: As of my last knowledge update in October 2023, three films are tied for the most Academy Awards won, each taking home 11 Oscars:\n",
      "\n",
      "1. **\"Ben-Hur\"** (1959)\n",
      "2. **\"Titanic\"** (1997)\n",
      "3. **\"The Lord of the Rings: The Return of the King\"** (2003)\n",
      "\n",
      "These films hold the record for the highest number of Academy Awards won by a single movie.\n"
     ]
    },
    {
     "name": "stdin",
     "output_type": "stream",
     "text": [
      "User (Type 'Quit' to quit:  Quit\n"
     ]
    }
   ],
   "source": [
    "messages = [{\"role\": \"system\", \"content\": \"You are a kind helpful assistant.\"}]\n",
    "\n",
    "while True:\n",
    "    message = input(\"User (Type 'Quit' to quit: \")\n",
    "    if message.lower() == 'quit':\n",
    "        break\n",
    "    else:\n",
    "        messages.append(\n",
    "            {\"role\": \"user\", \"content\": message},\n",
    "        )\n",
    "        chat = openai.chat.completions.create(\n",
    "            model=\"gpt-4o-mini\", messages=messages\n",
    "        )\n",
    "    \n",
    "    reply = chat.choices[0].message.content\n",
    "    print(f\"ChatGPT: {reply}\")\n",
    "    messages.append({\"role\": \"assistant\", \"content\": reply})"
   ]
  },
  {
   "cell_type": "markdown",
   "id": "f06ec068-2e1b-4c8d-a615-705fa4fe4ab7",
   "metadata": {},
   "source": [
    "# LangChain connection"
   ]
  },
  {
   "cell_type": "code",
   "execution_count": 7,
   "id": "96b3d4f9-ede4-42b3-9ca4-352f115cb99f",
   "metadata": {},
   "outputs": [],
   "source": [
    "import langchain\n",
    "from langchain_openai import OpenAI, ChatOpenAI\n",
    "from langchain.schema import AIMessage, HumanMessage, SystemMessage\n",
    "from langchain.chat_models import init_chat_model"
   ]
  },
  {
   "cell_type": "markdown",
   "id": "7b7baf2e-b86b-42cf-b77a-fa1e09423bc4",
   "metadata": {},
   "source": [
    "## LLM mode"
   ]
  },
  {
   "cell_type": "code",
   "execution_count": 8,
   "id": "60563c2e-8b17-4f48-8fea-64bb6e6befe1",
   "metadata": {},
   "outputs": [],
   "source": [
    "llm = OpenAI(model='gpt-3.5-turbo-instruct',\n",
    "             temperature=0.5,\n",
    "             max_tokens=3000)"
   ]
  },
  {
   "cell_type": "code",
   "execution_count": 9,
   "id": "5f7b85ef-95f7-4def-be80-3d0ddf19b15f",
   "metadata": {},
   "outputs": [
    {
     "data": {
      "text/plain": [
       "'\\n\\nVivien Leigh (1913-1967) was a British actress best known for her iconic roles as Scarlett O\\'Hara in \"Gone with the Wind\" (1939) and Blanche DuBois in \"A Streetcar Named Desire\" (1951). She was a highly acclaimed actress, known for her beauty, talent, and versatility in both stage and screen roles. Leigh won two Academy Awards for Best Actress and is considered one of the greatest actresses of all time. She was married to fellow actor Laurence Olivier from 1940 to 1960. '"
      ]
     },
     "execution_count": 9,
     "metadata": {},
     "output_type": "execute_result"
    }
   ],
   "source": [
    "llm.invoke(\"Who is Vivien Leigh?\")"
   ]
  },
  {
   "cell_type": "markdown",
   "id": "e9ae0305-a3ef-406c-8c55-4f451ad9902c",
   "metadata": {},
   "source": [
    "## Chat Mode"
   ]
  },
  {
   "cell_type": "markdown",
   "id": "e00a0fee-39de-4644-b5f9-2bc9db4f9e82",
   "metadata": {},
   "source": [
    "### Invoke Call"
   ]
  },
  {
   "cell_type": "code",
   "execution_count": 10,
   "id": "d7941c59-864c-4f74-9b66-69ecb469840a",
   "metadata": {},
   "outputs": [],
   "source": [
    "chat_model = ChatOpenAI(model='gpt-4o-mini',\n",
    "                        temperature=0.5,\n",
    "                        max_tokens=3000)"
   ]
  },
  {
   "cell_type": "code",
   "execution_count": 11,
   "id": "50533403-2152-4ff7-964a-9432e895d824",
   "metadata": {},
   "outputs": [
    {
     "name": "stdout",
     "output_type": "stream",
     "text": [
      "Marilyn Monroe was born Norma Jeane Mortenson on June 1, 1926, in Los Angeles, California. She spent much of her childhood in foster homes and an orphanage due to her mother's struggles with mental health. Monroe eventually became one of the most iconic figures in Hollywood history, known for her beauty, talent, and tragic life.\n"
     ]
    }
   ],
   "source": [
    "result = chat_model.invoke('Tell me a fact about Marilyn Monroe.')\n",
    "\n",
    "print(result.content)"
   ]
  },
  {
   "cell_type": "code",
   "execution_count": 12,
   "id": "ecc2c13d-4b25-4835-bf82-325f2168e3f6",
   "metadata": {},
   "outputs": [
    {
     "name": "stdout",
     "output_type": "stream",
     "text": [
      "Elizabeth Taylor was not only a renowned actress but also a passionate advocate for HIV/AIDS awareness and research. After losing many friends to the disease in the 1980s, she co-founded the American Foundation for AIDS Research (amfAR) in 1985 and later established her own foundation, the Elizabeth Taylor AIDS Foundation, to support those affected by the virus and to promote education and prevention efforts.\n"
     ]
    }
   ],
   "source": [
    "result = chat_model.invoke([SystemMessage(content=\"You are a kind helpful assistant.\"),\n",
    "                            HumanMessage(content='Tell me a fact about Elizabeth Taylor.')])\n",
    "\n",
    "print(result.content)"
   ]
  },
  {
   "cell_type": "markdown",
   "id": "356ae200-0e00-410a-89c2-22be594d6d6a",
   "metadata": {},
   "source": [
    "### Batch Call"
   ]
  },
  {
   "cell_type": "code",
   "execution_count": 13,
   "id": "bad8e8fb-154f-4caa-85ad-ba4c97eb245e",
   "metadata": {},
   "outputs": [
    {
     "name": "stdout",
     "output_type": "stream",
     "text": [
      "Marilyn Monroe was born as Norma Jeane Mortenson on June 1, 1926, in Los Angeles, California. She spent much of her childhood in foster homes and an orphanage, which contributed to her complex personal life and struggles with identity throughout her career. Monroe eventually became one of the most iconic and enduring symbols of Hollywood glamour.\n",
      "\n",
      "\n",
      "--------------------------------------------------\n",
      "\n",
      "\n",
      "Elizabeth Taylor was not only a renowned actress but also a passionate advocate for HIV/AIDS awareness and research. After losing many friends to the disease in the 1980s, she co-founded the American Foundation for AIDS Research (amfAR) in 1985 and later established the Elizabeth Taylor AIDS Foundation, helping to raise millions for HIV/AIDS initiatives.\n"
     ]
    }
   ],
   "source": [
    "result = chat_model.batch(['Tell me a fact about Marilyn Monroe.', 'Tell me a fact about Elizabeth Taylor.'])\n",
    "\n",
    "print(result[0].content)\n",
    "print('\\n')\n",
    "print('-' * 50)\n",
    "print('\\n')\n",
    "print(result[1].content)"
   ]
  },
  {
   "cell_type": "markdown",
   "id": "08a97996-9395-4364-ac3d-ce55d7b69176",
   "metadata": {},
   "source": [
    "### Stream Call"
   ]
  },
  {
   "cell_type": "code",
   "execution_count": 14,
   "id": "c8d5c0d6-5835-4742-b983-758aff7d0059",
   "metadata": {},
   "outputs": [
    {
     "name": "stdout",
     "output_type": "stream",
     "text": [
      "Marilyn Monroe was born as Norma Jeane Mortenson on June 1, 1926, in Los Angeles, California. She spent much of her childhood in foster care and had a tumultuous upbringing, which contributed to her later struggles with mental health and relationships. Despite these challenges, she became one of the most iconic and enduring symbols of Hollywood glamour and femininity."
     ]
    }
   ],
   "source": [
    "result = chat_model.stream('Tell me a fact about Marilyn Monroe.')\n",
    "\n",
    "for chunk in result:\n",
    "    print(chunk.content, end=\"\", flush=True)"
   ]
  },
  {
   "cell_type": "markdown",
   "id": "cfcfee38-5723-4cfd-a948-1e02a89100ae",
   "metadata": {},
   "source": [
    "### Init_chat_model function"
   ]
  },
  {
   "cell_type": "code",
   "execution_count": 15,
   "id": "d07884b3-5f78-43ed-a4b5-5ee5f0205453",
   "metadata": {},
   "outputs": [
    {
     "name": "stderr",
     "output_type": "stream",
     "text": [
      "C:\\Users\\JimYi\\anaconda3\\Lib\\site-packages\\langchain_core\\_api\\beta_decorator.py:87: LangChainBetaWarning: The function `init_chat_model` is in beta. It is actively being worked on, so the API may change.\n",
      "  warn_beta(\n"
     ]
    }
   ],
   "source": [
    "chat_model2 = init_chat_model(model=\"gpt-4o-mini\", \n",
    "                              model_provider=\"openai\",\n",
    "                              temperature=0.5,\n",
    "                              max_tokens=3000)"
   ]
  },
  {
   "cell_type": "code",
   "execution_count": 16,
   "id": "a2464435-7878-46bc-982c-02533a804918",
   "metadata": {},
   "outputs": [],
   "source": [
    "response = chat_model2.invoke([SystemMessage(\"Translate the following from English into Italian\"),\n",
    "                               HumanMessage(\"hi!\")])"
   ]
  },
  {
   "cell_type": "code",
   "execution_count": 17,
   "id": "8a47adb6-fae5-43a9-a3bc-208807bf5c3f",
   "metadata": {},
   "outputs": [
    {
     "name": "stdout",
     "output_type": "stream",
     "text": [
      "Ciao!\n"
     ]
    }
   ],
   "source": [
    "print(response.content)"
   ]
  },
  {
   "cell_type": "code",
   "execution_count": null,
   "id": "be8357eb-96df-4c9a-b497-e92ed086d3a8",
   "metadata": {},
   "outputs": [],
   "source": []
  }
 ],
 "metadata": {
  "kernelspec": {
   "display_name": "Python 3 (ipykernel)",
   "language": "python",
   "name": "python3"
  },
  "language_info": {
   "codemirror_mode": {
    "name": "ipython",
    "version": 3
   },
   "file_extension": ".py",
   "mimetype": "text/x-python",
   "name": "python",
   "nbconvert_exporter": "python",
   "pygments_lexer": "ipython3",
   "version": "3.11.7"
  }
 },
 "nbformat": 4,
 "nbformat_minor": 5
}
