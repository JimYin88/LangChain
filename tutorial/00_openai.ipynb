{
 "cells": [
  {
   "cell_type": "markdown",
   "id": "e489949a-247f-46fa-b04b-4f8807456085",
   "metadata": {},
   "source": [
    "# OpenAI connection"
   ]
  },
  {
   "cell_type": "code",
   "execution_count": 1,
   "id": "12c4507f-b592-47c2-aa05-219f3d28937d",
   "metadata": {},
   "outputs": [],
   "source": [
    "import openai"
   ]
  },
  {
   "cell_type": "code",
   "execution_count": 2,
   "id": "4609d286-0a92-40b6-a52a-aeaff38672cd",
   "metadata": {},
   "outputs": [
    {
     "data": {
      "text/plain": [
       "True"
      ]
     },
     "execution_count": 2,
     "metadata": {},
     "output_type": "execute_result"
    }
   ],
   "source": [
    "from dotenv import load_dotenv\n",
    "\n",
    "load_dotenv()"
   ]
  },
  {
   "cell_type": "markdown",
   "id": "4242a984-1f7d-4b93-9f70-1b8fa7dd7f36",
   "metadata": {
    "id": "aC5vluO-zrob"
   },
   "source": [
    "## LLM Mode using OpenAI Python"
   ]
  },
  {
   "cell_type": "code",
   "execution_count": 3,
   "id": "911901b1-ff63-4187-b813-8105ae289e52",
   "metadata": {},
   "outputs": [],
   "source": [
    "response = openai.completions.create(model='gpt-3.5-turbo-instruct',\n",
    "                                     prompt='Who is Donald Trump?',\n",
    "                                     max_tokens=300,\n",
    "                                     temperature = 0.5,\n",
    "                                     top_p = 0.9)"
   ]
  },
  {
   "cell_type": "code",
   "execution_count": 4,
   "id": "b8ad339c-8a3a-4e76-b576-91c8a54f1b0b",
   "metadata": {},
   "outputs": [
    {
     "name": "stdout",
     "output_type": "stream",
     "text": [
      "\n",
      "\n",
      "Donald Trump is a businessman and politician who served as the 45th President of the United States from 2017 to 2021. He was born on June 14, 1946 in New York City and grew up in Queens. Trump inherited his father's real estate business and expanded it into a global empire, including hotels, casinos, and golf courses. He also gained fame as the host of the reality TV show \"The Apprentice.\" In 2015, Trump announced his candidacy for President and won the election in 2016. During his presidency, he implemented policies such as tax cuts, immigration restrictions, and a trade war with China. He also faced multiple controversies and impeachment proceedings. Trump lost the 2020 election to Joe Biden and left office in January 2021.\n"
     ]
    }
   ],
   "source": [
    "print(response.choices[0].text)"
   ]
  },
  {
   "cell_type": "markdown",
   "id": "bb0f3c91-0ce2-4d4a-936f-14ebbc366133",
   "metadata": {},
   "source": [
    "## Chat Mode using OpenAI Python"
   ]
  },
  {
   "cell_type": "code",
   "execution_count": 5,
   "id": "4596333e-f1cc-47a5-b825-9303344b8c92",
   "metadata": {},
   "outputs": [],
   "source": [
    "response2 = openai.chat.completions.create(model='gpt-4o-mini',\n",
    "                                           messages=[{\"role\": \"system\", \n",
    "                                                      \"content\": \"You are a kind helpful assistant.\"},\n",
    "                                                     {\"role\": \"user\", \n",
    "                                                      \"content\": \"Who is Wilt Chamberlain?\"}],\n",
    "                                           max_tokens = 300,\n",
    "                                           temperature = 0.5)"
   ]
  },
  {
   "cell_type": "code",
   "execution_count": 6,
   "id": "e69b3b9f-7a4a-4f67-8e41-724e3606b028",
   "metadata": {},
   "outputs": [
    {
     "name": "stdout",
     "output_type": "stream",
     "text": [
      "Wilt Chamberlain was an American professional basketball player who is widely regarded as one of the greatest players in the history of the sport. He was born on August 21, 1936, in Philadelphia, Pennsylvania, and passed away on October 12, 1999.\n",
      "\n",
      "Chamberlain played in the National Basketball Association (NBA) and the American Basketball Association (ABA) during his career, which lasted from 1959 to 1973. He is best known for his incredible scoring ability, athleticism, and dominance on the court. Some of his most notable achievements include:\n",
      "\n",
      "1. **Scoring Record**: Chamberlain famously scored 100 points in a single game on March 2, 1962, a record that still stands today.\n",
      "\n",
      "2. **Statistical Dominance**: Throughout his career, he averaged over 30 points and 22 rebounds per game. He led the league in scoring multiple times and was also an exceptional rebounder.\n",
      "\n",
      "3. **Championships**: He won two NBA championships, one with the Philadelphia 76ers in 1967 and another with the Los Angeles Lakers in 1972.\n",
      "\n",
      "4. **MVP Awards**: Chamberlain was named the NBA Most Valuable Player (MVP) four times.\n",
      "\n",
      "5. **All-Star Appearances**: He was selected to the NBA All-Star Game 13 times.\n",
      "\n",
      "Chamberlain was known not only for his on-court prowess but also for his larger-than-life personality and\n"
     ]
    }
   ],
   "source": [
    "print(response2.choices[0].message.content)"
   ]
  },
  {
   "cell_type": "markdown",
   "id": "fa430dfa-2685-4e54-bf19-4b18bc7c6a07",
   "metadata": {},
   "source": [
    "## Chatbot using OpenAI Python"
   ]
  },
  {
   "cell_type": "code",
   "execution_count": 7,
   "id": "1d01268b-9770-4a19-aa9b-b483a9c69559",
   "metadata": {
    "colab": {
     "base_uri": "https://localhost:8080/",
     "height": 522
    },
    "id": "Fp7-srfFwfAj",
    "outputId": "f89dce21-b1d9-4fea-fef9-ccd24da75b3f"
   },
   "outputs": [
    {
     "name": "stdin",
     "output_type": "stream",
     "text": [
      "User (Type 'Quit' to quit:  How many Oscars did 'Gone With The Wind' win?\n"
     ]
    },
    {
     "name": "stdout",
     "output_type": "stream",
     "text": [
      "ChatGPT: \"Gone with the Wind\" won 10 Academy Awards (Oscars) out of its 13 nominations at the 12th Academy Awards held in 1940. It remains one of the most awarded films in Oscar history.\n"
     ]
    },
    {
     "name": "stdin",
     "output_type": "stream",
     "text": [
      "User (Type 'Quit' to quit:  Which movies have won more Oscars?\n"
     ]
    },
    {
     "name": "stdout",
     "output_type": "stream",
     "text": [
      "ChatGPT: As of now, three films are tied for the most Academy Awards, each having won 11 Oscars:\n",
      "\n",
      "1. **Ben-Hur** (1959)\n",
      "2. **Titanic** (1997)\n",
      "3. **The Lord of the Rings: The Return of the King** (2003)\n",
      "\n",
      "These films share the record for the highest number of Oscars won.\n"
     ]
    },
    {
     "name": "stdin",
     "output_type": "stream",
     "text": [
      "User (Type 'Quit' to quit:  Quit\n"
     ]
    }
   ],
   "source": [
    "messages = [\n",
    "    {\"role\": \"system\", \"content\": \"You are a kind helpful assistant.\"},\n",
    "]\n",
    "\n",
    "while True:\n",
    "    message = input(\"User (Type 'Quit' to quit: \")\n",
    "    if message.lower() == 'quit':\n",
    "        break\n",
    "    else:\n",
    "        messages.append(\n",
    "            {\"role\": \"user\", \"content\": message},\n",
    "        )\n",
    "        chat = openai.responses.create(\n",
    "            model=\"gpt-4o-mini\", input=messages\n",
    "        )\n",
    "    \n",
    "    reply = chat.output[0].content[0].text\n",
    "    print(f\"ChatGPT: {reply}\")\n",
    "    messages.append({\"role\": \"assistant\", \"content\": reply})"
   ]
  },
  {
   "cell_type": "markdown",
   "id": "f06ec068-2e1b-4c8d-a615-705fa4fe4ab7",
   "metadata": {},
   "source": [
    "# LangChain connection"
   ]
  },
  {
   "cell_type": "code",
   "execution_count": 8,
   "id": "96b3d4f9-ede4-42b3-9ca4-352f115cb99f",
   "metadata": {},
   "outputs": [],
   "source": [
    "import langchain\n",
    "from langchain_openai import OpenAI, ChatOpenAI\n",
    "from langchain.schema import AIMessage, HumanMessage, SystemMessage\n",
    "from langchain.chat_models import init_chat_model"
   ]
  },
  {
   "cell_type": "markdown",
   "id": "7b7baf2e-b86b-42cf-b77a-fa1e09423bc4",
   "metadata": {},
   "source": [
    "### LLM mode"
   ]
  },
  {
   "cell_type": "code",
   "execution_count": 9,
   "id": "60563c2e-8b17-4f48-8fea-64bb6e6befe1",
   "metadata": {},
   "outputs": [],
   "source": [
    "llm = OpenAI(model='gpt-3.5-turbo-instruct',\n",
    "             temperature=0.5,\n",
    "             max_tokens=3000)"
   ]
  },
  {
   "cell_type": "code",
   "execution_count": 10,
   "id": "56662341-1c7f-46bb-862b-b7207be81f19",
   "metadata": {},
   "outputs": [],
   "source": [
    "def query(prompt):\n",
    "    print(llm.invoke(prompt))"
   ]
  },
  {
   "cell_type": "code",
   "execution_count": 11,
   "id": "5f7b85ef-95f7-4def-be80-3d0ddf19b15f",
   "metadata": {},
   "outputs": [
    {
     "name": "stdout",
     "output_type": "stream",
     "text": [
      "\n",
      "\n",
      "Vivien Leigh (1913-1967) was a British actress best known for her iconic roles as Scarlett O'Hara in \"Gone with the Wind\" (1939) and Blanche DuBois in \"A Streetcar Named Desire\" (1951). She was a highly acclaimed and versatile actress, known for her beauty, charm, and dramatic talent. Leigh won two Academy Awards for Best Actress and was also known for her tumultuous marriage to fellow actor Laurence Olivier. She is considered one of the greatest actresses of all time.\n"
     ]
    }
   ],
   "source": [
    "query(\"Who is Vivien Leigh?\")"
   ]
  },
  {
   "cell_type": "markdown",
   "id": "e9ae0305-a3ef-406c-8c55-4f451ad9902c",
   "metadata": {},
   "source": [
    "### Chat Mode"
   ]
  },
  {
   "cell_type": "code",
   "execution_count": 12,
   "id": "d7941c59-864c-4f74-9b66-69ecb469840a",
   "metadata": {},
   "outputs": [],
   "source": [
    "chat_model = ChatOpenAI(model='gpt-4o-mini',\n",
    "                        temperature=0.5,\n",
    "                        max_tokens=3000)"
   ]
  },
  {
   "cell_type": "code",
   "execution_count": 13,
   "id": "50533403-2152-4ff7-964a-9432e895d824",
   "metadata": {},
   "outputs": [],
   "source": [
    "result = chat_model.invoke([SystemMessage(content=\"You are a kind helpful assistant.\"),\n",
    "                            HumanMessage(content='Tell me a fact about Marilyn Monroe.')])"
   ]
  },
  {
   "cell_type": "code",
   "execution_count": 14,
   "id": "68099066-aaa9-450c-b5ec-b6e2a1d0bd6d",
   "metadata": {},
   "outputs": [
    {
     "name": "stdout",
     "output_type": "stream",
     "text": [
      "Marilyn Monroe was born on June 1, 1926, in Los Angeles, California, and her birth name was Norma Jeane Mortenson. She became one of the most iconic figures in Hollywood history, known for her beauty, charm, and talent. Monroe starred in several classic films, including \"Some Like It Hot,\" \"Gentlemen Prefer Blondes,\" and \"The Seven Year Itch.\" Despite her success, she struggled with personal issues and her life was marked by challenges, including mental health struggles and tumultuous relationships. She remains a cultural icon and a symbol of glamour and femininity.\n"
     ]
    }
   ],
   "source": [
    "print(result.content)"
   ]
  },
  {
   "cell_type": "code",
   "execution_count": 15,
   "id": "d07884b3-5f78-43ed-a4b5-5ee5f0205453",
   "metadata": {},
   "outputs": [],
   "source": [
    "chat_model2 = init_chat_model(model=\"gpt-4o-mini\", \n",
    "                              model_provider=\"openai\",\n",
    "                              temperature=0.5,\n",
    "                              max_tokens=3000)"
   ]
  },
  {
   "cell_type": "code",
   "execution_count": 16,
   "id": "a2464435-7878-46bc-982c-02533a804918",
   "metadata": {},
   "outputs": [],
   "source": [
    "response = chat_model2.invoke([SystemMessage(\"Translate the following from English into Italian\"),\n",
    "                               HumanMessage(\"hi!\")])"
   ]
  },
  {
   "cell_type": "code",
   "execution_count": 17,
   "id": "8a47adb6-fae5-43a9-a3bc-208807bf5c3f",
   "metadata": {},
   "outputs": [
    {
     "name": "stdout",
     "output_type": "stream",
     "text": [
      "Ciao!\n"
     ]
    }
   ],
   "source": [
    "print(response.content)"
   ]
  },
  {
   "cell_type": "code",
   "execution_count": null,
   "id": "ecd63574-34dd-45b0-98cb-af9c7d8c7368",
   "metadata": {},
   "outputs": [],
   "source": []
  }
 ],
 "metadata": {
  "kernelspec": {
   "display_name": "Python 3 (ipykernel)",
   "language": "python",
   "name": "python3"
  },
  "language_info": {
   "codemirror_mode": {
    "name": "ipython",
    "version": 3
   },
   "file_extension": ".py",
   "mimetype": "text/x-python",
   "name": "python",
   "nbconvert_exporter": "python",
   "pygments_lexer": "ipython3",
   "version": "3.12.9"
  }
 },
 "nbformat": 4,
 "nbformat_minor": 5
}
