{
 "cells": [
  {
   "cell_type": "markdown",
   "id": "a294c374-1525-4cb4-bcc5-d293ab96eec3",
   "metadata": {},
   "source": [
    "# MathChain"
   ]
  },
  {
   "cell_type": "markdown",
   "id": "bcfa02bf-1ca4-4e02-aa4b-32da074866a4",
   "metadata": {},
   "source": [
    "## Imports"
   ]
  },
  {
   "cell_type": "code",
   "execution_count": 1,
   "id": "51eae816-98b1-4f79-9292-04cc8ea89f13",
   "metadata": {},
   "outputs": [],
   "source": [
    "from langchain_openai import ChatOpenAI\n",
    "from langchain_core.prompts import PromptTemplate, ChatPromptTemplate\n",
    "from langchain_core.prompts import SystemMessagePromptTemplate, HumanMessagePromptTemplate, AIMessagePromptTemplate\n",
    "from langchain.schema import SystemMessage, HumanMessage, AIMessage\n",
    "from langchain.chains.openai_functions import create_openai_fn_chain, create_structured_output_chain\n",
    "from typing import Optional"
   ]
  },
  {
   "cell_type": "markdown",
   "id": "6adf497e-b054-4d6d-9d17-9bf1d8852a7c",
   "metadata": {},
   "source": [
    "## Loading Environment Variables"
   ]
  },
  {
   "cell_type": "code",
   "execution_count": 2,
   "id": "f79e477a-bafa-45ee-8550-2242eeb9e689",
   "metadata": {},
   "outputs": [
    {
     "data": {
      "text/plain": [
       "True"
      ]
     },
     "execution_count": 2,
     "metadata": {},
     "output_type": "execute_result"
    }
   ],
   "source": [
    "from dotenv import load_dotenv\n",
    "\n",
    "load_dotenv()"
   ]
  },
  {
   "cell_type": "markdown",
   "id": "3137c588-94d4-454f-b4e6-a61e2bf52f2e",
   "metadata": {},
   "source": [
    "## Selecting the Chat Model"
   ]
  },
  {
   "cell_type": "code",
   "execution_count": 3,
   "id": "8d435809-4626-48b6-9c0b-cfbd4ca471d0",
   "metadata": {},
   "outputs": [],
   "source": [
    "chat_model = ChatOpenAI(model=\"gpt-4o-mini-2024-07-18\",\n",
    "                        max_tokens=2000,\n",
    "                        temperature=0.0)"
   ]
  },
  {
   "cell_type": "code",
   "execution_count": 4,
   "id": "4aeda9c9-8ece-4913-8d96-3793762ff50e",
   "metadata": {},
   "outputs": [
    {
     "name": "stdout",
     "output_type": "stream",
     "text": [
      "17 raised to the power of 11 is calculated as follows:\n",
      "\n",
      "\\[ 17^{11} = 17 \\times 17 \\times 17 \\times 17 \\times 17 \\times 17 \\times 17 \\times 17 \\times 17 \\times 17 \\times 17 \\]\n",
      "\n",
      "Calculating this gives:\n",
      "\n",
      "\\[ 17^{11} = 285,311,670,611 \\]\n",
      "\n",
      "So, \\( 17^{11} = 285,311,670,611 \\).\n"
     ]
    }
   ],
   "source": [
    "result = chat_model.invoke([HumanMessage(content=\"What is 17 raised to the power of 11?\")])\n",
    "print(result.content)"
   ]
  },
  {
   "cell_type": "code",
   "execution_count": 5,
   "id": "0dbf8d63-e381-422e-9bec-985e7e094c86",
   "metadata": {},
   "outputs": [
    {
     "name": "stdout",
     "output_type": "stream",
     "text": [
      "```python\n",
      "17 ** 11\n",
      "```\n"
     ]
    }
   ],
   "source": [
    "result = chat_model.invoke([HumanMessage(content=\"Give me the Python formula that represents: What is 17 raised to the power of 11? Only reply with the formula, nothing else!\")])\n",
    "print(result.content)"
   ]
  },
  {
   "cell_type": "code",
   "execution_count": 6,
   "id": "276ed3b5-e923-4b44-9ed5-31891a21295c",
   "metadata": {},
   "outputs": [
    {
     "data": {
      "text/plain": [
       "34271896307633"
      ]
     },
     "execution_count": 6,
     "metadata": {},
     "output_type": "execute_result"
    }
   ],
   "source": [
    "eval('17 ** 11')"
   ]
  },
  {
   "cell_type": "markdown",
   "id": "cd2a2b91-8dcc-4ad0-9e80-4c1a7b85418d",
   "metadata": {},
   "source": [
    "### Easier Way!"
   ]
  },
  {
   "cell_type": "code",
   "execution_count": 7,
   "id": "b306e0ec-7225-4c75-ade3-62276b26d1e8",
   "metadata": {},
   "outputs": [],
   "source": [
    "from langchain import LLMMathChain"
   ]
  },
  {
   "cell_type": "code",
   "execution_count": 8,
   "id": "4fcb6ecd-0e52-407a-b7f1-dcc482f54b29",
   "metadata": {},
   "outputs": [],
   "source": [
    "llm_math_model = LLMMathChain.from_llm(chat_model)"
   ]
  },
  {
   "cell_type": "code",
   "execution_count": 9,
   "id": "19e28f87-6cbd-4999-a2b5-d34742b8249a",
   "metadata": {},
   "outputs": [
    {
     "data": {
      "text/plain": [
       "{'question': 'What is 17 raised to the power of 11?',\n",
       " 'answer': 'Answer: 34271896307633'}"
      ]
     },
     "execution_count": 9,
     "metadata": {},
     "output_type": "execute_result"
    }
   ],
   "source": [
    "llm_math_model.invoke(\"What is 17 raised to the power of 11?\")"
   ]
  },
  {
   "cell_type": "code",
   "execution_count": null,
   "id": "f8a48600-25d1-4e47-a0db-4f830a4c1718",
   "metadata": {},
   "outputs": [],
   "source": []
  }
 ],
 "metadata": {
  "kernelspec": {
   "display_name": "Python 3 (ipykernel)",
   "language": "python",
   "name": "python3"
  },
  "language_info": {
   "codemirror_mode": {
    "name": "ipython",
    "version": 3
   },
   "file_extension": ".py",
   "mimetype": "text/x-python",
   "name": "python",
   "nbconvert_exporter": "python",
   "pygments_lexer": "ipython3",
   "version": "3.12.9"
  }
 },
 "nbformat": 4,
 "nbformat_minor": 5
}
