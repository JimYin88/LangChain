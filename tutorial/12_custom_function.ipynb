{
 "cells": [
  {
   "cell_type": "markdown",
   "id": "20eb7e76-23d7-4ee7-8c06-9e7213e90b5f",
   "metadata": {},
   "source": [
    "# TransformChain"
   ]
  },
  {
   "cell_type": "markdown",
   "id": "2b224c76-8764-43d2-b5ba-5ef31b52f213",
   "metadata": {},
   "source": [
    "### Imports"
   ]
  },
  {
   "cell_type": "code",
   "execution_count": 1,
   "id": "9122b7fe-a6c8-44f8-99a6-ec37e74414cf",
   "metadata": {},
   "outputs": [],
   "source": [
    "from langchain.chains import TransformChain, LLMChain, SimpleSequentialChain\n",
    "from langchain_openai import ChatOpenAI\n",
    "from langchain.prompts import ChatPromptTemplate, PromptTemplate\n",
    "from langchain_core.output_parsers import StrOutputParser\n",
    "from langchain_core.runnables import RunnableLambda, RunnablePassthrough\n",
    "from langchain_core.runnables import chain"
   ]
  },
  {
   "cell_type": "markdown",
   "id": "88ff9666-a456-4683-9017-9cb7539b5851",
   "metadata": {},
   "source": [
    "### Loading local environment parameters"
   ]
  },
  {
   "cell_type": "code",
   "execution_count": 2,
   "id": "ab8e6c1a-9854-46ab-ac10-5f3efa2ca22e",
   "metadata": {},
   "outputs": [
    {
     "data": {
      "text/plain": [
       "True"
      ]
     },
     "execution_count": 2,
     "metadata": {},
     "output_type": "execute_result"
    }
   ],
   "source": [
    "from dotenv import load_dotenv\n",
    "\n",
    "load_dotenv()"
   ]
  },
  {
   "cell_type": "markdown",
   "id": "45004141-7228-4055-9081-f773d0c9128b",
   "metadata": {},
   "source": [
    "### Setting up LLM model"
   ]
  },
  {
   "cell_type": "code",
   "execution_count": 3,
   "id": "bccacf4d-4601-4a54-bf60-fe8c5556df30",
   "metadata": {},
   "outputs": [],
   "source": [
    "llm = ChatOpenAI(model=\"gpt-4o-mini-2024-07-18\",\n",
    "                   max_tokens=2000,\n",
    "                   temperature=0.3)"
   ]
  },
  {
   "cell_type": "code",
   "execution_count": 4,
   "id": "f908eb3a-e82b-421b-bf17-cc699690ca3e",
   "metadata": {},
   "outputs": [],
   "source": [
    "yelp_review = open('yelp_review.txt').read()"
   ]
  },
  {
   "cell_type": "code",
   "execution_count": 5,
   "id": "0b0c2937-a122-4615-9e6b-08886b399b6b",
   "metadata": {},
   "outputs": [
    {
     "name": "stdout",
     "output_type": "stream",
     "text": [
      "TITLE: AN ABSOLUTE DELIGHT! A CULINARY HAVEN!\n",
      "\n",
      "REVIEW:\n",
      "OH MY GOODNESS, WHERE DO I BEGIN? THIS RESTAURANT IS ABSOLUTELY PHENOMENAL! I WENT THERE LAST NIGHT WITH MY FRIENDS, AND WE WERE BLOWN AWAY BY THE EXPERIENCE!\n",
      "\n",
      "FIRST OF ALL, THE AMBIANCE IS OUT OF THIS WORLD! THE MOMENT YOU STEP INSIDE, YOU'RE GREETED WITH A WARM AND INVITING ATMOSPHERE. THE DECOR IS STUNNING, AND IT IMMEDIATELY SETS THE TONE FOR AN UNFORGETTABLE DINING EXPERIENCE.\n",
      "\n",
      "NOW, LET'S TALK ABOUT THE FOOD! WOW, JUST WOW! THE MENU IS A PARADISE FOR FOOD LOVERS. EVERY DISH WE ORDERED WAS A MASTERPIECE. THE FLAVORS WERE BOLD, VIBRANT, AND EXPLODED IN OUR MOUTHS. FROM STARTERS TO DESSERTS, EVERY BITE WAS PURE BLISS!\n",
      "\n",
      "THEIR SEAFOOD PLATTER IS A MUST-TRY! THE FRESHNESS OF THE SEAFOOD IS UNMATCHED, AND THE PRESENTATION IS SIMPLY STUNNING. I HAVE NEVER TASTED SUCH DELICIOUS AND PERFECTLY COOKED SEAFOOD IN MY LIFE. IT'S A SEAFOOD LOVER'S DREAM COME TRUE!\n",
      "\n",
      "THE SERVICE WAS EXEMPLARY. THE STAFF WAS ATTENTIVE, FRIENDLY, AND EXTREMELY KNOWLEDGEABLE ABOUT THE MENU. THEY WENT ABOVE AND BEYOND TO ENSURE THAT WE HAD THE BEST DINING EXPERIENCE POSSIBLE.\n",
      "\n",
      "AND LET'S NOT FORGET ABOUT THE DESSERTS! OH MY, OH MY! I HAD THEIR SIGNATURE CHOCOLATE LAVA CAKE, AND IT WAS PURE HEAVEN. THE CAKE WAS MOIST, AND WHEN I CUT INTO IT, THE WARM CHOCOLATE OOOZED OUT, CREATING AN EXPLOSION OF FLAVOR IN MY MOUTH. IT WAS LIKE A SYMPHONY OF CHOCOLATEY GOODNESS!\n",
      "\n",
      "IN CONCLUSION, THIS RESTAURANT IS A HIDDEN GEM! IF YOU WANT TO INDULGE IN A MEMORABLE DINING EXPERIENCE, DO YOURSELF A FAVOR AND VISIT THIS PLACE. YOU WON'T REGRET IT! I CAN'T WAIT TO GO BACK AND TRY MORE OF THEIR DELECTABLE DISHES. KUDOS TO THE ENTIRE TEAM FOR CREATING SUCH A CULINARY HAVEN!\n",
      "\n",
      "ALL I CAN SAY IS... WOOHOO!\n"
     ]
    }
   ],
   "source": [
    "print(yelp_review)"
   ]
  },
  {
   "cell_type": "markdown",
   "id": "de26dfff-11d7-49f0-ba43-4e949282a477",
   "metadata": {},
   "source": [
    "### Writing Custom Transformation Functions\n",
    "\n",
    "Take in the input dictionary text and output after any transformations you want!"
   ]
  },
  {
   "cell_type": "code",
   "execution_count": 6,
   "id": "88dd9f81-a536-42ab-9676-6382fdc9f866",
   "metadata": {},
   "outputs": [],
   "source": [
    "def transformer_fun(inputs: dict) -> dict:\n",
    "    '''\n",
    "    Notice how this always takes an inputs dictionary.\n",
    "    Also outputs a dictionary. You can call the output and input keys whatever you want, \n",
    "    just make sure to reference it correct in the chain call.\n",
    "    '''\n",
    "    # GRAB INCOMING CHAIN TEXT\n",
    "    text = inputs['text']\n",
    "    only_review_text = text.split('REVIEW:')[-1]\n",
    "    lower_case_text = only_review_text.lower()\n",
    "    return {'output':lower_case_text}"
   ]
  },
  {
   "cell_type": "markdown",
   "id": "f3b954b2-abac-42d1-a250-06c4c3b0f374",
   "metadata": {},
   "source": [
    "## Old syntax"
   ]
  },
  {
   "cell_type": "code",
   "execution_count": 7,
   "id": "cd916687-6456-48aa-bcc4-001dbca2f9a7",
   "metadata": {},
   "outputs": [],
   "source": [
    "transform_chain = TransformChain(input_variables=['text'],\n",
    "                                 output_variables=['output'],\n",
    "                                 transform=transformer_fun)"
   ]
  },
  {
   "cell_type": "code",
   "execution_count": 8,
   "id": "cbee6a32-bf48-4896-a6f9-36f38b96a3d7",
   "metadata": {},
   "outputs": [],
   "source": [
    "template = \"Create a one sentence summary of this review:\\n{output}\""
   ]
  },
  {
   "cell_type": "code",
   "execution_count": 9,
   "id": "201d56b3-319c-4e34-a5f0-e87480fec37d",
   "metadata": {},
   "outputs": [
    {
     "name": "stderr",
     "output_type": "stream",
     "text": [
      "C:\\Users\\JimYi\\AppData\\Local\\Temp\\ipykernel_37956\\3101234180.py:3: LangChainDeprecationWarning: The class `LLMChain` was deprecated in LangChain 0.1.17 and will be removed in 1.0. Use :meth:`~RunnableSequence, e.g., `prompt | llm`` instead.\n",
      "  summary_chain = LLMChain(llm=llm,\n"
     ]
    }
   ],
   "source": [
    "prompt = ChatPromptTemplate.from_template(template)\n",
    "\n",
    "summary_chain = LLMChain(llm=llm,\n",
    "                     prompt=prompt,\n",
    "                     output_key=\"review_summary\")"
   ]
  },
  {
   "cell_type": "code",
   "execution_count": 10,
   "id": "c6f36ffd-b9cf-4a16-82db-c10d306d8362",
   "metadata": {},
   "outputs": [],
   "source": [
    "sequential_chain = SimpleSequentialChain(chains=[transform_chain, summary_chain],\n",
    "                                        verbose=True)"
   ]
  },
  {
   "cell_type": "code",
   "execution_count": 11,
   "id": "db6cafb3-b314-4650-8218-109787ef3463",
   "metadata": {},
   "outputs": [
    {
     "name": "stdout",
     "output_type": "stream",
     "text": [
      "\n",
      "\n",
      "\u001b[1m> Entering new SimpleSequentialChain chain...\u001b[0m\n",
      "\u001b[36;1m\u001b[1;3m\n",
      "oh my goodness, where do i begin? this restaurant is absolutely phenomenal! i went there last night with my friends, and we were blown away by the experience!\n",
      "\n",
      "first of all, the ambiance is out of this world! the moment you step inside, you're greeted with a warm and inviting atmosphere. the decor is stunning, and it immediately sets the tone for an unforgettable dining experience.\n",
      "\n",
      "now, let's talk about the food! wow, just wow! the menu is a paradise for food lovers. every dish we ordered was a masterpiece. the flavors were bold, vibrant, and exploded in our mouths. from starters to desserts, every bite was pure bliss!\n",
      "\n",
      "their seafood platter is a must-try! the freshness of the seafood is unmatched, and the presentation is simply stunning. i have never tasted such delicious and perfectly cooked seafood in my life. it's a seafood lover's dream come true!\n",
      "\n",
      "the service was exemplary. the staff was attentive, friendly, and extremely knowledgeable about the menu. they went above and beyond to ensure that we had the best dining experience possible.\n",
      "\n",
      "and let's not forget about the desserts! oh my, oh my! i had their signature chocolate lava cake, and it was pure heaven. the cake was moist, and when i cut into it, the warm chocolate ooozed out, creating an explosion of flavor in my mouth. it was like a symphony of chocolatey goodness!\n",
      "\n",
      "in conclusion, this restaurant is a hidden gem! if you want to indulge in a memorable dining experience, do yourself a favor and visit this place. you won't regret it! i can't wait to go back and try more of their delectable dishes. kudos to the entire team for creating such a culinary haven!\n",
      "\n",
      "all i can say is... woohoo!\u001b[0m\n",
      "\u001b[33;1m\u001b[1;3mThis restaurant offers an unforgettable dining experience with stunning ambiance, exceptional food—especially the seafood platter and chocolate lava cake—and exemplary service, making it a must-visit culinary gem.\u001b[0m\n",
      "\n",
      "\u001b[1m> Finished chain.\u001b[0m\n"
     ]
    }
   ],
   "source": [
    "result = sequential_chain.invoke(yelp_review)"
   ]
  },
  {
   "cell_type": "code",
   "execution_count": 12,
   "id": "3fdb4505-4ce2-4ebb-89fb-cdc04a54829e",
   "metadata": {},
   "outputs": [
    {
     "name": "stdout",
     "output_type": "stream",
     "text": [
      "This restaurant offers an unforgettable dining experience with stunning ambiance, exceptional food—especially the seafood platter and chocolate lava cake—and exemplary service, making it a must-visit culinary gem.\n"
     ]
    }
   ],
   "source": [
    "print(result['output'])"
   ]
  },
  {
   "cell_type": "markdown",
   "id": "b7493959-a46e-4d61-8ee7-829083aa9293",
   "metadata": {},
   "source": [
    "## New syntax"
   ]
  },
  {
   "cell_type": "code",
   "execution_count": 13,
   "id": "fbbe8a4f-eed6-413c-a7cf-e517321ccf56",
   "metadata": {},
   "outputs": [
    {
     "name": "stdout",
     "output_type": "stream",
     "text": [
      "This restaurant offers an extraordinary dining experience with stunning ambiance, exceptional food—especially the seafood platter and chocolate lava cake—and exemplary service, making it a must-visit culinary gem.\n"
     ]
    }
   ],
   "source": [
    "transform_chain2 = RunnableLambda(transformer_fun)\n",
    "template = \"Create a one sentence summary of this review:\\n{output}\"\n",
    "prompt = ChatPromptTemplate.from_template(template)\n",
    "summary_chain2 = prompt | llm | StrOutputParser()\n",
    "sequential_chain2 = (transform_chain2 | summary_chain2).with_config({\"verbose\": True})\n",
    "result = sequential_chain2.invoke({\"text\": yelp_review})\n",
    "print(result)"
   ]
  },
  {
   "cell_type": "markdown",
   "id": "157ed8ba-eee1-45fc-8847-cea98cea30c6",
   "metadata": {},
   "source": [
    "## Extension"
   ]
  },
  {
   "cell_type": "code",
   "execution_count": 14,
   "id": "a56b1961-38ca-4bd8-adce-d7b1134d6beb",
   "metadata": {},
   "outputs": [],
   "source": [
    "def transformer_fun2(inputs: dict) -> dict:\n",
    "    '''\n",
    "    Notice how this always takes an inputs dictionary.\n",
    "    Also outputs a dictionary. You can call the output and input keys whatever you want, \n",
    "    just make sure to reference it correct in the chain call.\n",
    "    '''\n",
    "    # GRAB INCOMING CHAIN TEXT\n",
    "    text = inputs['text']\n",
    "    upper_case_text = text.title()\n",
    "    return {'output':upper_case_text}"
   ]
  },
  {
   "cell_type": "code",
   "execution_count": 15,
   "id": "27554ac9-c290-4237-8742-a8a2e1bf13c7",
   "metadata": {},
   "outputs": [],
   "source": [
    "transform_chain2 = TransformChain(input_variables=['text'],\n",
    "                                 output_variables=['output'],\n",
    "                                 transform=transformer_fun2)"
   ]
  },
  {
   "cell_type": "code",
   "execution_count": 16,
   "id": "e68d6f0a-6b17-4eb4-bb48-8565f98ab0ac",
   "metadata": {},
   "outputs": [],
   "source": [
    "summary_chain2 = transform_chain | prompt | llm | StrOutputParser() | transform_chain2"
   ]
  },
  {
   "cell_type": "code",
   "execution_count": 17,
   "id": "ec78edba-10f2-464b-b57b-c4827b7bb2e0",
   "metadata": {},
   "outputs": [],
   "source": [
    "result = summary_chain2.invoke(yelp_review)"
   ]
  },
  {
   "cell_type": "code",
   "execution_count": 18,
   "id": "4234f3fc-44f4-4654-9eaa-08103a0682cf",
   "metadata": {},
   "outputs": [
    {
     "name": "stdout",
     "output_type": "stream",
     "text": [
      "This Restaurant Offers An Extraordinary Dining Experience With Stunning Ambiance, Exceptional Seafood, Delectable Desserts, And Exemplary Service, Making It A Must-Visit Culinary Gem.\n"
     ]
    }
   ],
   "source": [
    "print(result['output'])"
   ]
  },
  {
   "cell_type": "code",
   "execution_count": 19,
   "id": "687a6344-3a98-41da-b159-8f50fc6b7b36",
   "metadata": {},
   "outputs": [],
   "source": [
    "template2 = \"Rewrite the following with a title in all cap and the text in the proper capitalization:\\n{output}\"\n",
    "prompt2 = ChatPromptTemplate.from_template(template2)"
   ]
  },
  {
   "cell_type": "code",
   "execution_count": 20,
   "id": "a39a4c2a-6704-4584-a1b4-baca0ef8bbb6",
   "metadata": {},
   "outputs": [],
   "source": [
    "summary_chain3 = transform_chain | prompt | llm | StrOutputParser() | transform_chain2 | prompt2 | llm | StrOutputParser()"
   ]
  },
  {
   "cell_type": "code",
   "execution_count": 21,
   "id": "fafc4d2e-50b3-47e4-9b6a-e2077e21278f",
   "metadata": {},
   "outputs": [],
   "source": [
    "result2 = summary_chain3.invoke(yelp_review)"
   ]
  },
  {
   "cell_type": "code",
   "execution_count": 22,
   "id": "c502d6ac-e66e-4030-a6ed-3c89b2cf0fa3",
   "metadata": {},
   "outputs": [
    {
     "name": "stdout",
     "output_type": "stream",
     "text": [
      "UNFORGETTABLE DINING EXPERIENCE\n",
      "\n",
      "This restaurant offers an unforgettable dining experience with stunning ambiance, exquisite food, exceptional service, and a must-try seafood platter, making it a hidden gem that every food lover should visit.\n"
     ]
    }
   ],
   "source": [
    "print(result2)"
   ]
  },
  {
   "cell_type": "code",
   "execution_count": null,
   "id": "005713dc-971a-475a-b957-f22b177d18c8",
   "metadata": {},
   "outputs": [],
   "source": []
  }
 ],
 "metadata": {
  "kernelspec": {
   "display_name": "Python 3 (ipykernel)",
   "language": "python",
   "name": "python3"
  },
  "language_info": {
   "codemirror_mode": {
    "name": "ipython",
    "version": 3
   },
   "file_extension": ".py",
   "mimetype": "text/x-python",
   "name": "python",
   "nbconvert_exporter": "python",
   "pygments_lexer": "ipython3",
   "version": "3.12.9"
  }
 },
 "nbformat": 4,
 "nbformat_minor": 5
}
