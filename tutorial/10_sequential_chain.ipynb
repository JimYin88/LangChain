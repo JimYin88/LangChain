{
 "cells": [
  {
   "cell_type": "markdown",
   "id": "46bb8a2a-383d-406c-918b-2c69c83c0195",
   "metadata": {},
   "source": [
    "## LLMChain"
   ]
  },
  {
   "cell_type": "code",
   "execution_count": 1,
   "id": "8e25e71b-9137-4b44-9ce2-bbf6d54ef13a",
   "metadata": {},
   "outputs": [],
   "source": [
    "from langchain_openai import ChatOpenAI, OpenAIEmbeddings\n",
    "from langchain_core.prompts import PromptTemplate\n",
    "from langchain_core.prompts import ChatPromptTemplate, SystemMessagePromptTemplate, HumanMessagePromptTemplate, AIMessagePromptTemplate\n",
    "from langchain.schema import SystemMessage, HumanMessage, AIMessage\n",
    "from langchain.text_splitter import CharacterTextSplitter\n",
    "from langchain_chroma import Chroma\n",
    "from langchain.retrievers import ContextualCompressionRetriever\n",
    "from langchain.retrievers.document_compressors import LLMChainExtractor\n",
    "from langchain.chains import LLMChain, SimpleSequentialChain, SequentialChain\n",
    "\n",
    "from dotenv import load_dotenv"
   ]
  },
  {
   "cell_type": "code",
   "execution_count": 2,
   "id": "4d9f4ad2-f971-4cff-ba90-b192b1273a7c",
   "metadata": {},
   "outputs": [
    {
     "data": {
      "text/plain": [
       "True"
      ]
     },
     "execution_count": 2,
     "metadata": {},
     "output_type": "execute_result"
    }
   ],
   "source": [
    "load_dotenv()"
   ]
  },
  {
   "cell_type": "code",
   "execution_count": 3,
   "id": "2f2f741f-21bd-4fbd-8fa1-c012418ad6ac",
   "metadata": {},
   "outputs": [],
   "source": [
    "human_prompt = HumanMessagePromptTemplate.from_template(template='Make up a funny name for a company that makes: {product}')"
   ]
  },
  {
   "cell_type": "code",
   "execution_count": 4,
   "id": "cde294bb-ec22-417e-8eb2-e3962a443d6e",
   "metadata": {},
   "outputs": [],
   "source": [
    "chat_prompt_template = ChatPromptTemplate.from_messages([human_prompt])"
   ]
  },
  {
   "cell_type": "code",
   "execution_count": 5,
   "id": "a48e9e92-b295-4516-9874-54bc6e9f6300",
   "metadata": {},
   "outputs": [],
   "source": [
    "model = ChatOpenAI(model=\"gpt-4o-mini-2024-07-18\",\n",
    "                   max_tokens=2000,\n",
    "                   temperature=0.3)"
   ]
  },
  {
   "cell_type": "code",
   "execution_count": 6,
   "id": "3f7b9fd5-e9e6-4fd5-a24d-d09d43a99d9c",
   "metadata": {},
   "outputs": [],
   "source": [
    "chain = chat_prompt_template | model"
   ]
  },
  {
   "cell_type": "code",
   "execution_count": 7,
   "id": "7a754e2e-c205-4b7a-a60a-24a9489c26ec",
   "metadata": {},
   "outputs": [
    {
     "name": "stdout",
     "output_type": "stream",
     "text": [
      "Byte Me Computers!\n"
     ]
    }
   ],
   "source": [
    "print(chain.invoke(input='Computers').content)"
   ]
  },
  {
   "cell_type": "markdown",
   "id": "d82d9fd2-6b79-44ab-a91b-0929c01a0927",
   "metadata": {},
   "source": [
    "## Simple Sequential Chain"
   ]
  },
  {
   "cell_type": "code",
   "execution_count": 8,
   "id": "4b8c384c-8bef-491f-992c-24bdc20ff089",
   "metadata": {},
   "outputs": [],
   "source": [
    "from langchain_openai import ChatOpenAI\n",
    "from langchain.prompts import ChatPromptTemplate\n",
    "from langchain.schema.output_parser import StrOutputParser\n",
    "from langchain.schema.runnable import RunnablePassthrough\n",
    "\n",
    "# Initialize your Chat model\n",
    "model = ChatOpenAI(model=\"gpt-4o-mini-2024-07-18\",\n",
    "                   max_completion_tokens=2000,\n",
    "                   temperature=0.3)\n",
    "\n",
    "# Define the prompt templates\n",
    "template1 = \"Give me a simple bullet point outline for a blog post on {topic}\"\n",
    "template2 = \"Write a blog post using this outline:\\n\\n{outline}\"\n",
    "\n",
    "# Create ChatPromptTemplates from the templates\n",
    "prompt1 = ChatPromptTemplate.from_template(template1)\n",
    "prompt2 = ChatPromptTemplate.from_template(template2)\n",
    "\n",
    "# Define the chains using LCEL (LangChain Expression Language)\n",
    "chain = (\n",
    "    {\"outline\": prompt1 | model | StrOutputParser()}\n",
    "    | prompt2\n",
    "    | model\n",
    "    | StrOutputParser()\n",
    ")"
   ]
  },
  {
   "cell_type": "code",
   "execution_count": 9,
   "id": "1cb37fcc-c6a0-4f74-9f42-c33728f30b40",
   "metadata": {},
   "outputs": [],
   "source": [
    "result = chain.invoke({\"topic\": \"Artificial Intelligence\"})"
   ]
  },
  {
   "cell_type": "code",
   "execution_count": 10,
   "id": "af7272ba-e669-49db-b1b9-aa4ba627bdbd",
   "metadata": {},
   "outputs": [
    {
     "name": "stdout",
     "output_type": "stream",
     "text": [
      "# Understanding Artificial Intelligence: A Comprehensive Guide\n",
      "\n",
      "## Introduction\n",
      "\n",
      "Artificial Intelligence (AI) is a branch of computer science that aims to create machines capable of performing tasks that typically require human intelligence. This includes abilities such as understanding natural language, recognizing patterns, solving problems, and making decisions. In today's world, AI is not just a futuristic concept; it is a driving force behind innovations across various sectors, transforming how we live and work. In this blog post, we will explore the definition of AI, its types, applications, benefits, challenges, and what the future holds for this exciting field.\n",
      "\n",
      "## 1. What is Artificial Intelligence?\n",
      "\n",
      "At its core, AI refers to the simulation of human intelligence processes by machines, particularly computer systems. Key components of AI include machine learning, natural language processing, and robotics. \n",
      "\n",
      "AI can be categorized into two main types: **Narrow AI** and **General AI**. Narrow AI, also known as weak AI, is designed to perform a specific task, such as facial recognition or voice commands. In contrast, General AI, or strong AI, refers to a theoretical form of AI that possesses the ability to understand, learn, and apply intelligence across a wide range of tasks, much like a human.\n",
      "\n",
      "The history of AI development dates back to the mid-20th century, with significant milestones including the Turing Test proposed by Alan Turing in 1950 and the creation of the first neural networks in the 1980s. Over the decades, advancements in computing power and data availability have propelled AI into the mainstream.\n",
      "\n",
      "## 2. Types of Artificial Intelligence\n",
      "\n",
      "AI can be classified into four main types based on its capabilities:\n",
      "\n",
      "- **Reactive Machines**: These are the simplest forms of AI that can only react to specific inputs. They do not have memory or the ability to learn from past experiences. A classic example is IBM's Deep Blue, which defeated chess champion Garry Kasparov.\n",
      "\n",
      "- **Limited Memory**: This type of AI can learn from historical data to make decisions. Self-driving cars, for instance, use limited memory AI to analyze past driving experiences and improve their navigation.\n",
      "\n",
      "- **Theory of Mind**: This is a more advanced form of AI that is still in development. It aims to understand human emotions, beliefs, and intentions, allowing for more nuanced interactions.\n",
      "\n",
      "- **Self-aware AI**: Theoretical at this stage, self-aware AI would possess consciousness and self-awareness, enabling it to understand its own existence and make independent decisions.\n",
      "\n",
      "## 3. Applications of AI\n",
      "\n",
      "AI is revolutionizing various industries with its diverse applications:\n",
      "\n",
      "- **Healthcare**: AI is enhancing diagnostics through image analysis and predictive analytics, leading to personalized medicine tailored to individual patient needs.\n",
      "\n",
      "- **Finance**: In the financial sector, AI algorithms detect fraudulent activities and optimize trading strategies, significantly improving efficiency and security.\n",
      "\n",
      "- **Transportation**: Autonomous vehicles are one of the most visible applications of AI, promising safer and more efficient travel.\n",
      "\n",
      "- **Customer Service**: AI-powered chatbots and virtual assistants are transforming customer interactions, providing instant support and personalized experiences.\n",
      "\n",
      "## 4. Benefits of AI\n",
      "\n",
      "The integration of AI into various sectors brings numerous benefits:\n",
      "\n",
      "- **Increased Efficiency and Productivity**: AI can automate repetitive tasks, allowing human workers to focus on more complex and creative endeavors.\n",
      "\n",
      "- **Enhanced Decision-Making Capabilities**: AI systems can analyze vast amounts of data quickly, providing insights that aid in informed decision-making.\n",
      "\n",
      "- **Cost Savings for Businesses**: By streamlining operations and reducing errors, AI can lead to significant cost reductions.\n",
      "\n",
      "- **Improved Customer Experiences**: Personalized interactions and quick responses enhance customer satisfaction and loyalty.\n",
      "\n",
      "## 5. Challenges and Ethical Considerations\n",
      "\n",
      "Despite its advantages, AI poses several challenges and ethical dilemmas:\n",
      "\n",
      "- **Job Displacement**: Automation may lead to job losses in certain sectors, raising concerns about economic impact and workforce displacement.\n",
      "\n",
      "- **Privacy Concerns and Data Security**: The collection and use of personal data by AI systems raise significant privacy issues that need to be addressed.\n",
      "\n",
      "- **Bias in AI Algorithms**: AI systems can perpetuate existing biases if trained on biased data, leading to unfair outcomes.\n",
      "\n",
      "- **The Need for Regulation and Ethical Guidelines**: As AI technology evolves, establishing regulations and ethical frameworks is crucial to ensure responsible use.\n",
      "\n",
      "## 6. The Future of AI\n",
      "\n",
      "The future of AI is promising, with emerging trends such as explainable AI, which aims to make AI decision-making transparent, and advancements in natural language processing that enhance human-computer interaction. AI is expected to impact various industries, from agriculture to education, and play a crucial role in addressing global challenges like climate change and healthcare accessibility.\n",
      "\n",
      "## Conclusion\n",
      "\n",
      "Artificial Intelligence is a transformative technology that is reshaping our world. Understanding its capabilities, applications, and implications is essential as we navigate this rapidly evolving landscape. We encourage you to stay informed about AI developments and engage with this fascinating topic. Share your thoughts and experiences in the comments below!\n",
      "\n",
      "## Additional Resources\n",
      "\n",
      "For those interested in delving deeper into AI, here are some recommended resources:\n",
      "\n",
      "- **Books**: \"Artificial Intelligence: A Guide to Intelligent Systems\" by Michael Negnevitsky, \"Life 3.0: Being Human in the Age of Artificial Intelligence\" by Max Tegmark.\n",
      "- **Articles**: Explore publications from MIT Technology Review and the Stanford AI Index.\n",
      "- **Websites**: Visit AI-related platforms like OpenAI and Google AI for the latest research and tools.\n",
      "\n",
      "## Call to Action\n",
      "\n",
      "If you found this post informative, subscribe for updates or follow us on social media for more AI-related content. Join the conversation and be part of the future of technology!\n"
     ]
    }
   ],
   "source": [
    "print(result)"
   ]
  },
  {
   "cell_type": "markdown",
   "id": "524291ad-b404-4b9b-af57-c72a2fb838d5",
   "metadata": {},
   "source": [
    "## Sequential Chain"
   ]
  },
  {
   "cell_type": "markdown",
   "id": "5de78ae3-c44f-4b9c-a11d-288c0b2edc88",
   "metadata": {},
   "source": [
    "### Deprecated syntax"
   ]
  },
  {
   "cell_type": "code",
   "execution_count": 11,
   "id": "59d560de-828f-40be-84a3-c99b3f89daa4",
   "metadata": {},
   "outputs": [
    {
     "name": "stderr",
     "output_type": "stream",
     "text": [
      "C:\\Users\\JimYi\\AppData\\Local\\Temp\\ipykernel_17104\\1864633277.py:3: LangChainDeprecationWarning: The class `LLMChain` was deprecated in LangChain 0.1.17 and will be removed in 1.0. Use :meth:`~RunnableSequence, e.g., `prompt | llm`` instead.\n",
      "  chain1 = LLMChain(llm=model, prompt=prompt1, output_key='review_summary')\n"
     ]
    }
   ],
   "source": [
    "template1 = \"Give a summary of this employee's performance review: \\n{review}\"\n",
    "prompt1 = ChatPromptTemplate.from_template(template1)\n",
    "chain1 = LLMChain(llm=model, prompt=prompt1, output_key='review_summary')\n",
    "template2 = \"Identify key employee weaknesses in this review summary: \\n{review}\"\n",
    "prompt2 = ChatPromptTemplate.from_template(template2)\n",
    "chain2 = LLMChain(llm=model, prompt=prompt2, output_key='weaknesses')\n",
    "template3 = \"Create a personalized plan to help and fix these weaknesses: \\n{review}\"\n",
    "prompt3 = ChatPromptTemplate.from_template(template3)\n",
    "chain3 = LLMChain(llm=model, prompt=prompt3, output_key='final_plan')"
   ]
  },
  {
   "cell_type": "code",
   "execution_count": 12,
   "id": "d2b0a1f3-43de-4d01-800e-02fdf570e178",
   "metadata": {},
   "outputs": [
    {
     "name": "stdout",
     "output_type": "stream",
     "text": [
      "\n",
      "\n",
      "\u001b[1m> Entering new SequentialChain chain...\u001b[0m\n",
      "\n",
      "\u001b[1m> Finished chain.\u001b[0m\n"
     ]
    }
   ],
   "source": [
    "seq_chain = SequentialChain(chains=[chain1, chain2, chain3],\n",
    "                            input_variables=['review'],\n",
    "                            output_variables=['review_summary', 'weaknesses', 'final_plan'],\n",
    "                            verbose=True)\n",
    "\n",
    "results = seq_chain.invoke(\"The employee, Joe, is highly motivated. He works hard and write good python codes. However, he struggles with time management and prioritization.\")"
   ]
  },
  {
   "cell_type": "code",
   "execution_count": 13,
   "id": "0180e64a-ff51-4fba-bf74-6ed15c2fba98",
   "metadata": {},
   "outputs": [
    {
     "name": "stdout",
     "output_type": "stream",
     "text": [
      "To help Joe improve his time management and prioritization skills while leveraging his motivation and coding abilities, we can create a personalized development plan. This plan will include specific goals, strategies, and resources to help him address his weaknesses effectively.\n",
      "\n",
      "### Personalized Development Plan for Joe\n",
      "\n",
      "#### Goals:\n",
      "1. **Improve Time Management Skills**\n",
      "   - Joe will learn to allocate his time effectively across tasks.\n",
      "   - He will develop a routine that maximizes productivity.\n",
      "\n",
      "2. **Enhance Prioritization Skills**\n",
      "   - Joe will be able to identify high-priority tasks and focus on them first.\n",
      "   - He will learn to differentiate between urgent and important tasks.\n",
      "\n",
      "#### Strategies:\n",
      "\n",
      "1. **Time Management Techniques**\n",
      "   - **Pomodoro Technique**: Encourage Joe to work in focused sprints (25 minutes of work followed by a 5-minute break) to maintain concentration and prevent burnout.\n",
      "   - **Time Blocking**: Help Joe create a weekly schedule that allocates specific blocks of time for different tasks, including coding, meetings, and breaks.\n",
      "   - **Daily Planning**: At the end of each day, Joe should spend 10-15 minutes planning the next day’s tasks, prioritizing them based on deadlines and importance.\n",
      "\n",
      "2. **Prioritization Frameworks**\n",
      "   - **Eisenhower Matrix**: Teach Joe to categorize tasks into four quadrants (urgent/important, not urgent/important, urgent/not important, not urgent/not important) to help him focus on what truly matters.\n",
      "   - **ABC Method**: Encourage Joe to label tasks as A (high priority), B (medium priority), or C (low priority) and tackle them in that order.\n",
      "\n",
      "3. **Goal Setting**\n",
      "   - **SMART Goals**: Help Joe set Specific, Measurable, Achievable, Relevant, and Time-bound goals for his projects and daily tasks. This will provide clarity on what he needs to accomplish.\n",
      "   - **Weekly Review**: Schedule a weekly review session where Joe can assess his progress, reflect on what worked, and adjust his strategies as needed.\n",
      "\n",
      "4. **Use of Tools and Resources**\n",
      "   - **Task Management Tools**: Introduce Joe to tools like Trello, Asana, or Todoist to help him organize and prioritize his tasks visually.\n",
      "   - **Calendar Apps**: Encourage Joe to use calendar apps (Google Calendar, Outlook) to set reminders for deadlines and meetings, ensuring he stays on track.\n",
      "   - **Time Tracking**: Suggest using time tracking tools (like Toggl or Clockify) to help Joe understand how he spends his time and identify areas for improvement.\n",
      "\n",
      "5. **Mentorship and Accountability**\n",
      "   - **Regular Check-ins**: Schedule bi-weekly one-on-one meetings to discuss Joe’s progress, challenges, and any adjustments needed in his plan.\n",
      "   - **Peer Support**: Encourage Joe to find a buddy or mentor within the team who can provide guidance and support as he works on improving his time management and prioritization skills.\n",
      "\n",
      "#### Resources:\n",
      "- **Books**: Recommend books such as \"Getting Things Done\" by David Allen and \"Essentialism: The Disciplined Pursuit of Less\" by Greg McKeown for deeper insights into productivity and prioritization.\n",
      "- **Online Courses**: Suggest online courses on platforms like Coursera or Udemy that focus on time management and productivity skills.\n",
      "- **Workshops**: If available, encourage Joe to attend workshops or seminars on time management and productivity.\n",
      "\n",
      "### Timeline:\n",
      "- **Weeks 1-2**: Introduce time management techniques and prioritization frameworks. Start using task management tools.\n",
      "- **Weeks 3-4**: Implement daily planning and weekly review sessions. Begin tracking time spent on tasks.\n",
      "- **Weeks 5-6**: Evaluate progress in one-on-one meetings. Adjust strategies as needed based on feedback and results.\n",
      "- **Ongoing**: Continue to refine skills, seek feedback, and explore new tools and techniques as Joe becomes more comfortable with time management and prioritization.\n",
      "\n",
      "By following this personalized development plan, Joe will be better equipped to manage his time effectively and prioritize tasks, ultimately enhancing his productivity and job satisfaction.\n"
     ]
    }
   ],
   "source": [
    "print(results['final_plan'])"
   ]
  },
  {
   "cell_type": "markdown",
   "id": "6818dd85-cb4a-4794-971d-567989d7c49c",
   "metadata": {},
   "source": [
    "### New syntax"
   ]
  },
  {
   "cell_type": "code",
   "execution_count": 14,
   "id": "229fe8fb-4634-4ad0-9555-cb480bd01af2",
   "metadata": {},
   "outputs": [],
   "source": [
    "from langchain_openai import ChatOpenAI\n",
    "from langchain.prompts import ChatPromptTemplate\n",
    "from langchain.schema.output_parser import StrOutputParser\n",
    "from langchain.schema.runnable import RunnablePassthrough\n",
    "from langchain.schema.runnable import RunnableParallel\n",
    "\n",
    "# Initialize your model (replace with your actual model and API key)\n",
    "model = ChatOpenAI(model=\"gpt-4o-mini-2024-07-18\",\n",
    "                   max_completion_tokens=2000,\n",
    "                   temperature=0.3)\n",
    "\n",
    "# Define prompt templates clearly\n",
    "template1 = \"Give a summary of this employee's performance review:\\n{review}\"\n",
    "template2 = \"Identify key employee weaknesses in this review summary:\\n{review_summary}\"\n",
    "template3 = \"Create a personalized plan to help and fix these weaknesses:\\n{weaknesses}\"\n",
    "\n",
    "# Create prompt objects\n",
    "prompt1 = ChatPromptTemplate.from_template(template1)\n",
    "prompt2 = ChatPromptTemplate.from_template(template2)\n",
    "prompt3 = ChatPromptTemplate.from_template(template3)\n",
    "\n",
    "# Define chains using LCEL (LangChain Expression Language)\n",
    "chain1 = {\"review_summary\": prompt1 | model | StrOutputParser()}\n",
    "chain2 = {\"weaknesses\": prompt2 | model | StrOutputParser()}\n",
    "chain3 = {\"final_plan\": prompt3 | model | StrOutputParser()}"
   ]
  },
  {
   "cell_type": "code",
   "execution_count": 15,
   "id": "30173978-2ed3-45ea-aba9-ac767ee089d6",
   "metadata": {},
   "outputs": [],
   "source": [
    "# Combine chains sequentially\n",
    "seq_chain = (\n",
    "    RunnablePassthrough.assign(**chain1)\n",
    "    | RunnablePassthrough.assign(**chain2)\n",
    "    | RunnablePassthrough.assign(**chain3)\n",
    ")"
   ]
  },
  {
   "cell_type": "code",
   "execution_count": 16,
   "id": "d2ebd96a-4be8-43a9-a43f-092a8bc29624",
   "metadata": {},
   "outputs": [
    {
     "name": "stdout",
     "output_type": "stream",
     "text": [
      "Review Summary:\n",
      " In Joe's performance review, he is recognized for his high motivation and strong work ethic, particularly in writing quality Python code. However, he faces challenges with time management and prioritization, which may impact his overall effectiveness.\n",
      "\n",
      "Weaknesses:\n",
      " The key employee weaknesses identified in the review summary for Joe are:\n",
      "\n",
      "1. **Time Management**: Joe struggles to manage his time effectively, which can hinder his productivity and ability to meet deadlines.\n",
      "\n",
      "2. **Prioritization**: He has difficulty prioritizing tasks, which may lead to inefficiencies and affect his overall performance.\n",
      "\n",
      "These weaknesses suggest that while Joe has strong technical skills and motivation, he needs to improve his organizational skills to enhance his effectiveness in his role.\n",
      "\n",
      "Personalized Improvement Plan:\n",
      " To help Joe address his weaknesses in time management and prioritization, we can create a personalized development plan that includes specific strategies, tools, and actions. This plan will be structured over a three-month period, allowing Joe to gradually build his skills and integrate new habits into his daily routine.\n",
      "\n",
      "### Personalized Development Plan for Joe\n",
      "\n",
      "**Duration**: 3 Months\n",
      "\n",
      "#### Month 1: Foundation Building\n",
      "\n",
      "**Goals**:\n",
      "- Understand current time management habits.\n",
      "- Learn basic prioritization techniques.\n",
      "\n",
      "**Actions**:\n",
      "1. **Self-Assessment**:\n",
      "   - **Task Journal**: For one week, Joe will keep a journal of all tasks he completes, noting the time spent on each. This will help him identify patterns and areas for improvement.\n",
      "  \n",
      "2. **Time Management Training**:\n",
      "   - **Online Course**: Enroll in a time management course (e.g., Coursera, LinkedIn Learning) that covers techniques like the Pomodoro Technique, time blocking, and setting SMART goals.\n",
      "\n",
      "3. **Daily Planning**:\n",
      "   - **Morning Routine**: Start each day with a 10-minute planning session to outline tasks for the day, including estimated time for each task.\n",
      "\n",
      "4. **Weekly Review**:\n",
      "   - At the end of each week, Joe will review his task journal to assess what worked, what didn’t, and adjust his approach accordingly.\n",
      "\n",
      "#### Month 2: Prioritization Skills\n",
      "\n",
      "**Goals**:\n",
      "- Develop effective prioritization strategies.\n",
      "- Implement prioritization in daily tasks.\n",
      "\n",
      "**Actions**:\n",
      "1. **Prioritization Frameworks**:\n",
      "   - **Eisenhower Matrix**: Learn and apply the Eisenhower Matrix to categorize tasks based on urgency and importance.\n",
      "   - **ABC Method**: Use the ABC method to rank tasks (A = high priority, B = medium priority, C = low priority).\n",
      "\n",
      "2. **Task Management Tools**:\n",
      "   - **Digital Tools**: Introduce Joe to task management tools like Trello, Asana, or Todoist to help him organize and prioritize tasks visually.\n",
      "   - **Weekly Prioritization Session**: Dedicate 30 minutes each week to prioritize tasks for the upcoming week using the chosen framework.\n",
      "\n",
      "3. **Accountability Partner**:\n",
      "   - Pair Joe with a colleague or mentor who can check in on his progress, provide feedback, and help him stay accountable to his goals.\n",
      "\n",
      "#### Month 3: Integration and Reflection\n",
      "\n",
      "**Goals**:\n",
      "- Solidify time management and prioritization skills.\n",
      "- Reflect on progress and set future goals.\n",
      "\n",
      "**Actions**:\n",
      "1. **Advanced Time Management Techniques**:\n",
      "   - **Batch Processing**: Learn to group similar tasks together to minimize context switching and increase efficiency.\n",
      "   - **Delegation Skills**: Identify tasks that can be delegated to others, freeing up time for higher-priority work.\n",
      "\n",
      "2. **Monthly Reflection**:\n",
      "   - At the end of the month, Joe will conduct a comprehensive review of his progress, identifying improvements and areas that still need work.\n",
      "\n",
      "3. **Set Future Goals**:\n",
      "   - Based on his reflections, Joe will set specific, measurable goals for the next quarter to continue improving his time management and prioritization skills.\n",
      "\n",
      "4. **Feedback Session**:\n",
      "   - Schedule a meeting with his manager to discuss progress, gather feedback, and adjust the plan as necessary.\n",
      "\n",
      "### Additional Support\n",
      "\n",
      "- **Coaching**: Consider pairing Joe with a coach or mentor who specializes in organizational skills for ongoing support.\n",
      "- **Resources**: Provide Joe with books or articles on time management and prioritization (e.g., \"Getting Things Done\" by David Allen).\n",
      "\n",
      "By following this structured plan, Joe will be able to develop his time management and prioritization skills, ultimately enhancing his productivity and effectiveness in his role. Regular check-ins and adjustments will ensure that he remains on track and can adapt the plan to his evolving needs.\n"
     ]
    }
   ],
   "source": [
    "# Invoke the chain with your input\n",
    "results = seq_chain.invoke({\n",
    "    \"review\": \"The employee, Joe, is highly motivated. He works hard and writes good python codes. However, he struggles with time management and prioritization.\"\n",
    "})\n",
    "\n",
    "# Print results\n",
    "print(\"Review Summary:\\n\", results[\"review_summary\"])\n",
    "print(\"\\nWeaknesses:\\n\", results[\"weaknesses\"])\n",
    "print(\"\\nPersonalized Improvement Plan:\\n\", results[\"final_plan\"])"
   ]
  },
  {
   "cell_type": "code",
   "execution_count": null,
   "id": "722287e7-9223-4386-858f-9208ece79d31",
   "metadata": {},
   "outputs": [],
   "source": []
  }
 ],
 "metadata": {
  "kernelspec": {
   "display_name": "Python 3 (ipykernel)",
   "language": "python",
   "name": "python3"
  },
  "language_info": {
   "codemirror_mode": {
    "name": "ipython",
    "version": 3
   },
   "file_extension": ".py",
   "mimetype": "text/x-python",
   "name": "python",
   "nbconvert_exporter": "python",
   "pygments_lexer": "ipython3",
   "version": "3.12.9"
  }
 },
 "nbformat": 4,
 "nbformat_minor": 5
}
