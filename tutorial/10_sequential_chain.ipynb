{
 "cells": [
  {
   "cell_type": "markdown",
   "id": "46bb8a2a-383d-406c-918b-2c69c83c0195",
   "metadata": {},
   "source": [
    "## LLMChain"
   ]
  },
  {
   "cell_type": "markdown",
   "id": "725420c9-4bae-4cc0-af2f-2b8420f1c531",
   "metadata": {},
   "source": [
    "## Imports"
   ]
  },
  {
   "cell_type": "code",
   "execution_count": 1,
   "id": "8e25e71b-9137-4b44-9ce2-bbf6d54ef13a",
   "metadata": {},
   "outputs": [],
   "source": [
    "from langchain_openai import ChatOpenAI, OpenAIEmbeddings\n",
    "from langchain_core.prompts import PromptTemplate\n",
    "from langchain_core.prompts import ChatPromptTemplate, SystemMessagePromptTemplate, HumanMessagePromptTemplate, AIMessagePromptTemplate\n",
    "from langchain.schema import SystemMessage, HumanMessage, AIMessage\n",
    "from langchain.text_splitter import CharacterTextSplitter\n",
    "from langchain_chroma import Chroma\n",
    "from langchain.retrievers import ContextualCompressionRetriever\n",
    "from langchain.retrievers.document_compressors import LLMChainExtractor\n",
    "from langchain.chains import LLMChain, SimpleSequentialChain, SequentialChain"
   ]
  },
  {
   "cell_type": "markdown",
   "id": "e25b0564-230e-4fc4-ae99-4eedda9931a2",
   "metadata": {},
   "source": [
    "## Loading Environment Variables"
   ]
  },
  {
   "cell_type": "code",
   "execution_count": 2,
   "id": "4d9f4ad2-f971-4cff-ba90-b192b1273a7c",
   "metadata": {},
   "outputs": [
    {
     "data": {
      "text/plain": [
       "True"
      ]
     },
     "execution_count": 2,
     "metadata": {},
     "output_type": "execute_result"
    }
   ],
   "source": [
    "from dotenv import load_dotenv\n",
    "\n",
    "load_dotenv()"
   ]
  },
  {
   "cell_type": "markdown",
   "id": "b47342e2-4297-408b-8d83-e1203e830880",
   "metadata": {},
   "source": [
    "## Instantiate Model"
   ]
  },
  {
   "cell_type": "code",
   "execution_count": 3,
   "id": "a48e9e92-b295-4516-9874-54bc6e9f6300",
   "metadata": {},
   "outputs": [],
   "source": [
    "chat_model = ChatOpenAI(model=\"gpt-4o-mini-2024-07-18\",\n",
    "                        max_tokens=2000,\n",
    "                        temperature=0.3)"
   ]
  },
  {
   "cell_type": "markdown",
   "id": "d45d8b7c-cf29-4fc0-bb30-af72cf123f21",
   "metadata": {},
   "source": [
    "## Prompt Template"
   ]
  },
  {
   "cell_type": "code",
   "execution_count": 4,
   "id": "2f2f741f-21bd-4fbd-8fa1-c012418ad6ac",
   "metadata": {},
   "outputs": [],
   "source": [
    "human_prompt = HumanMessagePromptTemplate.from_template(template='Make up a funny name for a company that makes: {product}')"
   ]
  },
  {
   "cell_type": "code",
   "execution_count": 5,
   "id": "cde294bb-ec22-417e-8eb2-e3962a443d6e",
   "metadata": {},
   "outputs": [],
   "source": [
    "chat_prompt_template = ChatPromptTemplate.from_messages([human_prompt])"
   ]
  },
  {
   "cell_type": "markdown",
   "id": "1bf1ebdf-c35e-4c55-b607-cfb0b2521eb8",
   "metadata": {},
   "source": [
    "## Running the Chain"
   ]
  },
  {
   "cell_type": "code",
   "execution_count": 6,
   "id": "3f7b9fd5-e9e6-4fd5-a24d-d09d43a99d9c",
   "metadata": {},
   "outputs": [],
   "source": [
    "chain = chat_prompt_template | chat_model"
   ]
  },
  {
   "cell_type": "code",
   "execution_count": 7,
   "id": "7a754e2e-c205-4b7a-a60a-24a9489c26ec",
   "metadata": {},
   "outputs": [],
   "source": [
    "response = chain.invoke({\"product\": \"Computers\"})"
   ]
  },
  {
   "cell_type": "code",
   "execution_count": 8,
   "id": "21ae4fad-7e68-4f36-a08b-b0af123b3a84",
   "metadata": {},
   "outputs": [
    {
     "name": "stdout",
     "output_type": "stream",
     "text": [
      "ByteMe Computers!\n"
     ]
    }
   ],
   "source": [
    "print(response.content)"
   ]
  },
  {
   "cell_type": "markdown",
   "id": "d82d9fd2-6b79-44ab-a91b-0929c01a0927",
   "metadata": {},
   "source": [
    "## Simple Sequential Chain"
   ]
  },
  {
   "cell_type": "code",
   "execution_count": 9,
   "id": "4b8c384c-8bef-491f-992c-24bdc20ff089",
   "metadata": {},
   "outputs": [],
   "source": [
    "from langchain_openai import ChatOpenAI\n",
    "from langchain.prompts import ChatPromptTemplate\n",
    "from langchain.schema.output_parser import StrOutputParser\n",
    "from langchain.schema.runnable import RunnablePassthrough\n",
    "\n",
    "# Initialize your Chat model\n",
    "chat_model = ChatOpenAI(model=\"gpt-4o-mini-2024-07-18\",\n",
    "                        max_tokens=2000,\n",
    "                        temperature=0.3)\n",
    "\n",
    "# Define the prompt templates\n",
    "template1 = \"Give me a simple bullet point outline for a blog post on {topic}\"\n",
    "template2 = \"Write a blog post using this outline:\\n\\n{outline}\"\n",
    "\n",
    "# Create ChatPromptTemplates from the templates\n",
    "prompt1 = ChatPromptTemplate.from_template(template1)\n",
    "prompt2 = ChatPromptTemplate.from_template(template2)\n",
    "\n",
    "# Define the chains using LCEL (LangChain Expression Language)\n",
    "chain = ({\"outline\": prompt1 | chat_model | StrOutputParser()}\n",
    "         | prompt2\n",
    "         | chat_model\n",
    "         | StrOutputParser()\n",
    "         )"
   ]
  },
  {
   "cell_type": "code",
   "execution_count": 10,
   "id": "1cb37fcc-c6a0-4f74-9f42-c33728f30b40",
   "metadata": {},
   "outputs": [],
   "source": [
    "result = chain.invoke({\"topic\": \"Artificial Intelligence\"})"
   ]
  },
  {
   "cell_type": "code",
   "execution_count": 11,
   "id": "af7272ba-e669-49db-b1b9-aa4ba627bdbd",
   "metadata": {},
   "outputs": [
    {
     "name": "stdout",
     "output_type": "stream",
     "text": [
      "# Understanding Artificial Intelligence: A Comprehensive Guide\n",
      "\n",
      "## Introduction\n",
      "\n",
      "Artificial Intelligence (AI) is a branch of computer science that aims to create machines capable of performing tasks that typically require human intelligence. This includes learning, reasoning, problem-solving, perception, and language understanding. In today's rapidly evolving technological landscape, AI is not just a buzzword; it is a transformative force that is reshaping industries, enhancing daily life, and influencing the way we interact with the world. In this blog post, we will delve into the fundamentals of AI, explore its workings, applications, benefits, challenges, and the future it holds.\n",
      "\n",
      "## 1. What is Artificial Intelligence?\n",
      "\n",
      "At its core, Artificial Intelligence refers to the simulation of human intelligence processes by machines, especially computer systems. Key concepts include machine learning, where systems learn from data, and neural networks, which are designed to mimic the human brain's interconnected neuron structure. \n",
      "\n",
      "AI can be categorized into two main types: **Narrow AI**, which is designed for specific tasks (like voice recognition or playing chess), and **General AI**, which aims to perform any intellectual task that a human can do. While Narrow AI is prevalent today, General AI remains largely theoretical and is a subject of ongoing research.\n",
      "\n",
      "The history of AI development dates back to the mid-20th century, with significant milestones such as the Turing Test proposed by Alan Turing in 1950, and the creation of the first AI programs in the 1950s and 1960s. Since then, AI has evolved through various phases, including periods of optimism and setbacks, leading us to the sophisticated systems we see today.\n",
      "\n",
      "## 2. How AI Works\n",
      "\n",
      "AI operates through a combination of machine learning and deep learning techniques. **Machine learning** allows systems to learn from data and improve their performance over time without explicit programming. Within this realm, **deep learning** utilizes neural networks with many layers to analyze various forms of data, such as images and text.\n",
      "\n",
      "Algorithms play a crucial role in AI, acting as the set of rules or instructions that guide the machine's learning process. The effectiveness of AI systems heavily relies on the quality and quantity of data they are trained on. For example, technologies like **natural language processing (NLP)** enable machines to understand and generate human language, while computer vision allows them to interpret visual information.\n",
      "\n",
      "## 3. Applications of AI\n",
      "\n",
      "AI is embedded in many aspects of our daily lives. Virtual assistants like Siri and Alexa utilize AI to understand and respond to user queries. Recommendation systems on platforms like Netflix and Amazon analyze user behavior to suggest content and products.\n",
      "\n",
      "In various industries, AI is making significant strides. In healthcare, AI algorithms assist in diagnosing diseases and personalizing treatment plans. In finance, AI systems detect fraudulent transactions and automate trading. Transportation is also being revolutionized with AI-powered autonomous vehicles, which promise to enhance safety and efficiency.\n",
      "\n",
      "Emerging trends in AI include advancements in robotics, AI ethics, and the integration of AI with other technologies like the Internet of Things (IoT) and blockchain.\n",
      "\n",
      "## 4. Benefits of AI\n",
      "\n",
      "The benefits of AI are manifold. One of the most significant advantages is increased efficiency and productivity. AI systems can process vast amounts of data far more quickly than humans, allowing businesses to streamline operations and reduce costs.\n",
      "\n",
      "AI also enhances decision-making capabilities by providing insights derived from data analysis. This can lead to better outcomes in fields such as healthcare, where timely and accurate information can save lives.\n",
      "\n",
      "Moreover, AI has the potential to solve complex problems that are beyond human capabilities, such as climate modeling and advanced scientific research.\n",
      "\n",
      "## 5. Challenges and Concerns\n",
      "\n",
      "Despite its advantages, AI presents several challenges and concerns. Ethical considerations are paramount, particularly regarding bias in AI algorithms, which can lead to unfair outcomes. Privacy issues also arise, as AI systems often rely on personal data to function effectively.\n",
      "\n",
      "Job displacement is another significant concern, as automation may replace certain roles, leading to economic shifts. It is crucial to address these challenges through regulation and responsible AI development to ensure that the benefits of AI are equitably distributed.\n",
      "\n",
      "## 6. The Future of AI\n",
      "\n",
      "Looking ahead, predictions for AI advancements are optimistic. We may see more sophisticated AI systems capable of performing complex tasks with minimal human intervention. Societal changes are likely as AI becomes more integrated into daily life, influencing everything from work to personal relationships.\n",
      "\n",
      "As AI continues to evolve, the role of humans will also change. Collaboration between humans and AI will be essential, with humans providing oversight, creativity, and ethical judgment that machines cannot replicate.\n",
      "\n",
      "## Conclusion\n",
      "\n",
      "In summary, Artificial Intelligence is a powerful tool that is reshaping our world in profound ways. From its definition and workings to its applications, benefits, and challenges, understanding AI is crucial for navigating the future. As we move forward, it is essential for individuals and organizations to engage with AI technologies responsibly and stay informed about ongoing developments in this dynamic field.\n",
      "\n",
      "## Additional Resources\n",
      "\n",
      "For those interested in exploring AI further, here are some suggested readings and resources:\n",
      "\n",
      "- \"Artificial Intelligence: A Guide to Intelligent Systems\" by Michael Negnevitsky\n",
      "- \"Superintelligence: Paths, Dangers, Strategies\" by Nick Bostrom\n",
      "- Online courses on platforms like Coursera and edX\n",
      "- AI-related podcasts and webinars\n",
      "\n",
      "We invite you to share your thoughts and questions in the comments section below. Let’s engage in a discussion about the future of AI and its impact on our lives!\n"
     ]
    }
   ],
   "source": [
    "# No need to extract from result.content because of StrOutputParser()\n",
    "print(result)"
   ]
  },
  {
   "cell_type": "markdown",
   "id": "524291ad-b404-4b9b-af57-c72a2fb838d5",
   "metadata": {},
   "source": [
    "## Sequential Chain"
   ]
  },
  {
   "cell_type": "markdown",
   "id": "5de78ae3-c44f-4b9c-a11d-288c0b2edc88",
   "metadata": {},
   "source": [
    "### Deprecated syntax"
   ]
  },
  {
   "cell_type": "code",
   "execution_count": 12,
   "id": "59d560de-828f-40be-84a3-c99b3f89daa4",
   "metadata": {},
   "outputs": [
    {
     "name": "stderr",
     "output_type": "stream",
     "text": [
      "C:\\Users\\JimYi\\anaconda3\\Lib\\site-packages\\langchain_core\\_api\\deprecation.py:139: LangChainDeprecationWarning: The class `LLMChain` was deprecated in LangChain 0.1.17 and will be removed in 1.0. Use RunnableSequence, e.g., `prompt | llm` instead.\n",
      "  warn_deprecated(\n"
     ]
    }
   ],
   "source": [
    "template1 = \"Give a summary of this employee's performance review: \\n{review}\"\n",
    "prompt1 = ChatPromptTemplate.from_template(template1)\n",
    "chain1 = LLMChain(llm=chat_model, prompt=prompt1, output_key='review_summary')\n",
    "\n",
    "template2 = \"Identify key employee weaknesses in this review summary: \\n{review}\"\n",
    "prompt2 = ChatPromptTemplate.from_template(template2)\n",
    "chain2 = LLMChain(llm=chat_model, prompt=prompt2, output_key='weaknesses')\n",
    "\n",
    "template3 = \"Create a personalized plan to help and fix these weaknesses: \\n{review}\"\n",
    "prompt3 = ChatPromptTemplate.from_template(template3)\n",
    "chain3 = LLMChain(llm=chat_model, prompt=prompt3, output_key='final_plan')"
   ]
  },
  {
   "cell_type": "code",
   "execution_count": 13,
   "id": "d2b0a1f3-43de-4d01-800e-02fdf570e178",
   "metadata": {},
   "outputs": [
    {
     "name": "stdout",
     "output_type": "stream",
     "text": [
      "\n",
      "\n",
      "\u001b[1m> Entering new SequentialChain chain...\u001b[0m\n",
      "\n",
      "\u001b[1m> Finished chain.\u001b[0m\n"
     ]
    }
   ],
   "source": [
    "seq_chain = SequentialChain(chains=[chain1, chain2, chain3],\n",
    "                            input_variables=['review'],\n",
    "                            output_variables=['review_summary', 'weaknesses', 'final_plan'],\n",
    "                            verbose=True)\n",
    "\n",
    "results = seq_chain.invoke(\"The employee, Joe, is highly motivated. He works hard and write good python codes. However, he struggles with time management and prioritization.\")"
   ]
  },
  {
   "cell_type": "code",
   "execution_count": 14,
   "id": "0180e64a-ff51-4fba-bf74-6ed15c2fba98",
   "metadata": {},
   "outputs": [
    {
     "name": "stdout",
     "output_type": "stream",
     "text": [
      "To help Joe improve his time management and prioritization skills while leveraging his motivation and coding abilities, we can create a personalized plan that includes specific strategies, tools, and practices. Here’s a structured approach:\n",
      "\n",
      "### Personalized Development Plan for Joe\n",
      "\n",
      "#### 1. **Assessment and Goal Setting**\n",
      "   - **Self-Assessment:** Have Joe reflect on his current time management practices. Ask him to identify specific situations where he struggles with prioritization.\n",
      "   - **SMART Goals:** Set specific, measurable, achievable, relevant, and time-bound goals. For example:\n",
      "     - \"By the end of the month, I will prioritize my tasks daily and reduce my project completion time by 20%.\"\n",
      "\n",
      "#### 2. **Time Management Techniques**\n",
      "   - **Pomodoro Technique:** Encourage Joe to work in focused bursts (25 minutes of work followed by a 5-minute break). This can help him maintain focus and reduce burnout.\n",
      "   - **Time Blocking:** Help Joe allocate specific blocks of time in his calendar for different tasks or projects. This will create a visual representation of his day and help him stay on track.\n",
      "   - **Daily Planning:** At the start or end of each day, Joe should spend 10-15 minutes planning his tasks for the next day, prioritizing them based on urgency and importance.\n",
      "\n",
      "#### 3. **Prioritization Frameworks**\n",
      "   - **Eisenhower Matrix:** Teach Joe to categorize tasks into four quadrants based on urgency and importance:\n",
      "     - Urgent and Important: Do these tasks first.\n",
      "     - Important but Not Urgent: Schedule these tasks.\n",
      "     - Urgent but Not Important: Delegate or minimize these tasks.\n",
      "     - Not Urgent and Not Important: Eliminate these tasks.\n",
      "   - **ABC Method:** Have Joe label tasks as A (high priority), B (medium priority), or C (low priority) to help him focus on what truly matters.\n",
      "\n",
      "#### 4. **Tools and Resources**\n",
      "   - **Task Management Tools:** Introduce Joe to tools like Trello, Asana, or Todoist to help him organize and track his tasks visually.\n",
      "   - **Calendar Apps:** Encourage the use of Google Calendar or Outlook to schedule tasks and set reminders for deadlines and meetings.\n",
      "   - **Time Tracking Software:** Suggest tools like Toggl or Clockify to help Joe track how much time he spends on different tasks, enabling him to identify areas for improvement.\n",
      "\n",
      "#### 5. **Regular Check-Ins and Feedback**\n",
      "   - **Weekly Check-Ins:** Schedule a weekly one-on-one meeting to discuss Joe’s progress, challenges, and any adjustments needed in his approach.\n",
      "   - **Feedback Loop:** Encourage Joe to seek feedback from peers and supervisors on his time management and prioritization skills to gain different perspectives.\n",
      "\n",
      "#### 6. **Skill Development**\n",
      "   - **Workshops or Training:** Recommend time management workshops or online courses (e.g., Coursera, LinkedIn Learning) that focus on effective time management and prioritization techniques.\n",
      "   - **Mentorship:** Pair Joe with a mentor who excels in time management. This mentor can provide guidance, share experiences, and offer practical tips.\n",
      "\n",
      "#### 7. **Reflection and Adjustment**\n",
      "   - **Monthly Review:** At the end of each month, have Joe review his progress against his goals. Encourage him to reflect on what worked, what didn’t, and how he can adjust his strategies moving forward.\n",
      "   - **Celebrate Successes:** Acknowledge and celebrate improvements, no matter how small, to keep Joe motivated and engaged in his development.\n",
      "\n",
      "### Conclusion\n",
      "By implementing this personalized plan, Joe can develop better time management and prioritization skills while leveraging his existing motivation and coding abilities. Regular assessments and adjustments will ensure that he continues to grow and improve in these areas.\n"
     ]
    }
   ],
   "source": [
    "print(results['final_plan'])"
   ]
  },
  {
   "cell_type": "markdown",
   "id": "6818dd85-cb4a-4794-971d-567989d7c49c",
   "metadata": {},
   "source": [
    "### New syntax"
   ]
  },
  {
   "cell_type": "code",
   "execution_count": 16,
   "id": "229fe8fb-4634-4ad0-9555-cb480bd01af2",
   "metadata": {},
   "outputs": [],
   "source": [
    "from langchain_openai import ChatOpenAI\n",
    "from langchain.prompts import ChatPromptTemplate\n",
    "from langchain.schema.output_parser import StrOutputParser\n",
    "from langchain.schema.runnable import RunnablePassthrough\n",
    "from langchain.schema.runnable import RunnableParallel\n",
    "\n",
    "# Initialize your model (replace with your actual model and API key)\n",
    "chat_model = ChatOpenAI(model=\"gpt-4o-mini-2024-07-18\",\n",
    "                        max_tokens=2000,\n",
    "                        temperature=0.3)\n",
    "\n",
    "# Define prompt templates clearly\n",
    "template1 = \"Give a summary of this employee's performance review:\\n{review}\"\n",
    "template2 = \"Identify key employee weaknesses in this review summary:\\n{review_summary}\"\n",
    "template3 = \"Create a personalized plan to help and fix these weaknesses:\\n{weaknesses}\"\n",
    "\n",
    "# Create prompt objects\n",
    "prompt1 = ChatPromptTemplate.from_template(template1)\n",
    "prompt2 = ChatPromptTemplate.from_template(template2)\n",
    "prompt3 = ChatPromptTemplate.from_template(template3)\n",
    "\n",
    "# Define chains using LCEL (LangChain Expression Language)\n",
    "chain1 = {\"review_summary\": prompt1 | chat_model | StrOutputParser()}\n",
    "chain2 = {\"weaknesses\": prompt2 | chat_model | StrOutputParser()}\n",
    "chain3 = {\"final_plan\": prompt3 | chat_model | StrOutputParser()}"
   ]
  },
  {
   "cell_type": "code",
   "execution_count": 17,
   "id": "30173978-2ed3-45ea-aba9-ac767ee089d6",
   "metadata": {},
   "outputs": [],
   "source": [
    "# Combine chains sequentially\n",
    "seq_chain = (RunnablePassthrough.assign(**chain1)\n",
    "             | RunnablePassthrough.assign(**chain2)\n",
    "             | RunnablePassthrough.assign(**chain3)\n",
    "             )"
   ]
  },
  {
   "cell_type": "code",
   "execution_count": 18,
   "id": "d2ebd96a-4be8-43a9-a43f-092a8bc29624",
   "metadata": {},
   "outputs": [
    {
     "name": "stdout",
     "output_type": "stream",
     "text": [
      "Review Summary:\n",
      " Joe is a highly motivated employee who demonstrates a strong work ethic and produces quality Python code. However, he faces challenges with time management and prioritization, which can impact his overall performance.\n",
      "\n",
      "Weaknesses:\n",
      " The key employee weaknesses identified in the review summary are:\n",
      "\n",
      "1. **Time Management**: Joe struggles to manage his time effectively, which can lead to delays or inefficiencies in his work.\n",
      "\n",
      "2. **Prioritization**: He has difficulty prioritizing tasks, which may affect his ability to focus on the most important or urgent projects. \n",
      "\n",
      "These weaknesses can impact his overall performance despite his strong work ethic and coding skills.\n",
      "\n",
      "Personalized Improvement Plan:\n",
      " To help Joe improve his time management and prioritization skills, we can create a personalized development plan that includes specific strategies, tools, and actions he can take. This plan will focus on building habits and skills that will enhance his productivity and effectiveness at work.\n",
      "\n",
      "### Personalized Development Plan for Joe\n",
      "\n",
      "#### Goal:\n",
      "To improve time management and prioritization skills, leading to increased efficiency and productivity in his work.\n",
      "\n",
      "---\n",
      "\n",
      "### 1. Time Management\n",
      "\n",
      "**Action Steps:**\n",
      "\n",
      "- **Daily Planning**:\n",
      "  - **Morning Routine**: Spend 10-15 minutes each morning planning the day. Use a planner or digital tool (like Todoist or Notion) to outline tasks.\n",
      "  - **Time Blocking**: Allocate specific blocks of time for different tasks or projects. For example, dedicate 9 AM - 11 AM for coding and 11 AM - 12 PM for meetings.\n",
      "\n",
      "- **Set Timers**:\n",
      "  - Use the Pomodoro Technique: Work for 25 minutes, then take a 5-minute break. After four cycles, take a longer break (15-30 minutes). This can help maintain focus and prevent burnout.\n",
      "\n",
      "- **Limit Distractions**:\n",
      "  - Identify common distractions (e.g., social media, emails) and set specific times to check them. Use apps like Freedom or Cold Turkey to block distracting websites during work hours.\n",
      "\n",
      "- **Reflect and Adjust**:\n",
      "  - At the end of each week, review what worked and what didn’t. Adjust the planning process based on this reflection.\n",
      "\n",
      "---\n",
      "\n",
      "### 2. Prioritization\n",
      "\n",
      "**Action Steps:**\n",
      "\n",
      "- **Task Categorization**:\n",
      "  - Use the Eisenhower Matrix to categorize tasks into four quadrants: \n",
      "    1. Urgent and Important\n",
      "    2. Important but Not Urgent\n",
      "    3. Urgent but Not Important\n",
      "    4. Not Urgent and Not Important\n",
      "  - Focus on completing tasks in the first two quadrants first.\n",
      "\n",
      "- **Weekly Review**:\n",
      "  - Set aside time each week (e.g., Friday afternoons) to review ongoing projects and tasks. Identify which tasks are most critical for the upcoming week and prioritize them.\n",
      "\n",
      "- **Set SMART Goals**:\n",
      "  - For each project, set Specific, Measurable, Achievable, Relevant, and Time-bound goals. This will help clarify what needs to be prioritized.\n",
      "\n",
      "- **Use a Prioritization Tool**:\n",
      "  - Consider using tools like Trello or Asana to visually organize tasks and prioritize them based on deadlines and importance.\n",
      "\n",
      "---\n",
      "\n",
      "### 3. Accountability and Support\n",
      "\n",
      "**Action Steps:**\n",
      "\n",
      "- **Regular Check-ins**:\n",
      "  - Schedule bi-weekly check-ins with a mentor or manager to discuss progress, challenges, and adjustments to the plan.\n",
      "\n",
      "- **Peer Support**:\n",
      "  - Partner with a colleague who excels in time management and prioritization. Share strategies and hold each other accountable.\n",
      "\n",
      "- **Feedback Loop**:\n",
      "  - Seek feedback from peers and supervisors on how improvements in time management and prioritization are impacting work performance.\n",
      "\n",
      "---\n",
      "\n",
      "### 4. Professional Development\n",
      "\n",
      "**Action Steps:**\n",
      "\n",
      "- **Workshops and Training**:\n",
      "  - Attend workshops or online courses focused on time management and productivity (e.g., Coursera, LinkedIn Learning).\n",
      "\n",
      "- **Reading Material**:\n",
      "  - Read books or articles on time management and prioritization (e.g., \"Getting Things Done\" by David Allen or \"Eat That Frog!\" by Brian Tracy).\n",
      "\n",
      "---\n",
      "\n",
      "### Timeline for Implementation\n",
      "\n",
      "- **Weeks 1-2**: Begin daily planning and time blocking. Start using the Eisenhower Matrix for task prioritization.\n",
      "- **Weeks 3-4**: Implement the Pomodoro Technique and limit distractions. Conduct weekly reviews.\n",
      "- **Weeks 5-6**: Attend a workshop or complete an online course. Establish regular check-ins and peer support.\n",
      "- **Ongoing**: Continuously reflect, adjust, and seek feedback on progress.\n",
      "\n",
      "---\n",
      "\n",
      "By following this personalized development plan, Joe can systematically address his weaknesses in time management and prioritization, ultimately enhancing his overall performance and productivity at work.\n"
     ]
    }
   ],
   "source": [
    "# Invoke the chain with your input\n",
    "results = seq_chain.invoke({\n",
    "    \"review\": \"The employee, Joe, is highly motivated. He works hard and writes good python codes. However, he struggles with time management and prioritization.\"\n",
    "})\n",
    "\n",
    "# Print results\n",
    "print(\"Review Summary:\\n\", results[\"review_summary\"])\n",
    "print(\"\\nWeaknesses:\\n\", results[\"weaknesses\"])\n",
    "print(\"\\nPersonalized Improvement Plan:\\n\", results[\"final_plan\"])"
   ]
  },
  {
   "cell_type": "code",
   "execution_count": null,
   "id": "722287e7-9223-4386-858f-9208ece79d31",
   "metadata": {},
   "outputs": [],
   "source": []
  }
 ],
 "metadata": {
  "kernelspec": {
   "display_name": "Python 3 (ipykernel)",
   "language": "python",
   "name": "python3"
  },
  "language_info": {
   "codemirror_mode": {
    "name": "ipython",
    "version": 3
   },
   "file_extension": ".py",
   "mimetype": "text/x-python",
   "name": "python",
   "nbconvert_exporter": "python",
   "pygments_lexer": "ipython3",
   "version": "3.11.7"
  }
 },
 "nbformat": 4,
 "nbformat_minor": 5
}
