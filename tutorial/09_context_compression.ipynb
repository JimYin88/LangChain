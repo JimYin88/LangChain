{
 "cells": [
  {
   "cell_type": "code",
   "execution_count": 1,
   "id": "ca1ad4bb-0147-4f5f-a87f-652c9a2cee67",
   "metadata": {},
   "outputs": [],
   "source": [
    "from langchain_openai import ChatOpenAI, OpenAIEmbeddings\n",
    "from langchain_core.prompts import PromptTemplate\n",
    "from langchain_core.prompts import ChatPromptTemplate, SystemMessagePromptTemplate, HumanMessagePromptTemplate, AIMessagePromptTemplate\n",
    "from langchain.schema import SystemMessage, HumanMessage, AIMessage\n",
    "from langchain.text_splitter import CharacterTextSplitter\n",
    "from langchain_chroma import Chroma\n",
    "from langchain.retrievers import ContextualCompressionRetriever\n",
    "from langchain.retrievers.document_compressors import LLMChainExtractor\n",
    "\n",
    "from dotenv import load_dotenv"
   ]
  },
  {
   "cell_type": "code",
   "execution_count": 2,
   "id": "d596d5db-583b-46c0-8719-7074df67e0d2",
   "metadata": {},
   "outputs": [
    {
     "data": {
      "text/plain": [
       "True"
      ]
     },
     "execution_count": 2,
     "metadata": {},
     "output_type": "execute_result"
    }
   ],
   "source": [
    "load_dotenv()"
   ]
  },
  {
   "cell_type": "code",
   "execution_count": 3,
   "id": "0be8e1f0-5483-4280-8d9b-47282c344726",
   "metadata": {},
   "outputs": [],
   "source": [
    "model = ChatOpenAI(model=\"gpt-4o-mini-2024-07-18\",\n",
    "                   max_completion_tokens=3000,\n",
    "                   temperature=0.0)"
   ]
  },
  {
   "cell_type": "code",
   "execution_count": 4,
   "id": "8a84b0fa-7a8c-4e6b-9568-f1699c26740c",
   "metadata": {},
   "outputs": [],
   "source": [
    "embeddings = OpenAIEmbeddings()"
   ]
  },
  {
   "cell_type": "code",
   "execution_count": 5,
   "id": "d7ebffe0-e017-4769-a8ef-2644c34af582",
   "metadata": {},
   "outputs": [],
   "source": [
    "db_connection = Chroma(persist_directory=\"./mkultra\", embedding_function=embeddings)"
   ]
  },
  {
   "cell_type": "code",
   "execution_count": 6,
   "id": "7dbf0235-5ced-437d-9df4-b17fcdc4e791",
   "metadata": {},
   "outputs": [],
   "source": [
    "compressor = LLMChainExtractor.from_llm(model)"
   ]
  },
  {
   "cell_type": "code",
   "execution_count": 7,
   "id": "f35ef172-0e7c-481d-9eab-70c9a714a4c8",
   "metadata": {},
   "outputs": [],
   "source": [
    "compression_retriever = ContextualCompressionRetriever(base_compressor=compressor,\n",
    "                                                       base_retriever=db_connection.as_retriever())"
   ]
  },
  {
   "cell_type": "code",
   "execution_count": 8,
   "id": "dd9cde31-9f8e-4d2a-9170-c39ae79ea2c4",
   "metadata": {},
   "outputs": [
    {
     "data": {
      "text/plain": [
       "Document(id='37ec7b5f-8859-435f-9f23-ec0eccb2fc1e', metadata={'source': 'https://en.wikipedia.org/wiki/Church_Committee', 'summary': 'The Church Committee (formally the United States Senate Select Committee to Study Governmental Operations with Respect to Intelligence Activities) was a US Senate select committee in 1975 that  investigated abuses by the Central Intelligence Agency (CIA), National Security Agency (NSA), Federal Bureau of Investigation (FBI), and the Internal Revenue Service (IRS). Chaired by Idaho Senator Frank Church (D-ID), the committee was part of a series of investigations into intelligence abuses in 1975, dubbed the \"Year of Intelligence\", including its House counterpart, the Pike Committee, and the presidential Rockefeller Commission. The committee\\'s efforts led to the establishment of the permanent US Senate Select Committee on Intelligence.\\nThe most shocking revelations of the committee include Operation MKULTRA, which involved the drugging and torture of unwitting US citizens as part of human experimentation on mind control; COINTELPRO, which involved the surveillance and infiltration of American political and civil-rights organizations; Family Jewels, a CIA program to covertly assassinate foreign leaders; and Operation Mockingbird as a systematic propaganda campaign with domestic and foreign journalists operating as CIA assets and dozens of US news organizations providing cover for CIA activity, confirming earlier stories that charged that the CIA had cultivated relationships with private institutions, including the press. Without identifying individuals by name, the Church Committee stated that it found 50 journalists who had official, but secret, relationships with the CIA.\\nIt also unearthed Project SHAMROCK, a program in which the major telecommunications companies shared their traffic with the NSA, and officially confirmed the existence of this signals intelligence agency to the public for the first time.\\n\\n', 'title': 'Church Committee'}, page_content='== Background ==\\nBy the early years of the 1970s, a series of troubling reports had appeared in the press concerning U.S. intelligence activities. First came revelations by Army intelligence officer Christopher Pyle in January 1970 regarding the US Army\\'s spying on the civilian population in the United States. Senator Sam Ervin\\'s investigations of military surveillance produced further revelations. \\nThen on December 22, 1974, The New York Times published a lengthy front-page article by investigative journalist Seymour Hersh detailing covert activities engaged in by the Central Intelligence Agency under Operation CHAOS to collect information on the political activities of American citizens.\\nThe resulting uproar led to the creation of the Church Committee, which was approved by the Senate on January 27, 1975, on a vote of 82 to 4.\\n\\n\\n== Overview ==\\nThe Church Committee\\'s final report was published in April 1976 in six books. Also published were seven volumes of Church Committee hearings in the Senate.\\nBefore the release of the final report, the committee also published an interim report titled \"Alleged Assassination Plots Involving Foreign Leaders\", which investigated alleged attempts to assassinate foreign leaders, including Patrice Lumumba of Zaire, Rafael Trujillo of the Dominican Republic, Ngo Dinh Diem of South Vietnam, Gen. René Schneider of Chile, and Fidel Castro of Cuba. President Gerald Ford urged the Senate to withhold the report from the public, but failed, and under recommendations and pressure by the committee, Ford issued Executive Order 11905 (ultimately replaced in 1981 by President Reagan\\'s Executive Order 12333) to ban US sanctioned assassinations of foreign leaders.\\nIn addition, the committee produced seven case studies on covert operations, but only the one on Chile was released, titled \"Covert Action in Chile: 1963–1973\". The rest were kept secret at CIA\\'s request.\\nAccording to a declassified National Security Agency history, the Church Committee also helped to uncover the NSA\\'s Watch List. The information for the list was compiled into the so-called \"Rhyming Dictionary\" of biographical information, which a')"
      ]
     },
     "execution_count": 8,
     "metadata": {},
     "output_type": "execute_result"
    }
   ],
   "source": [
    "docs = db_connection.similarity_search('When was this declassified?')\n",
    "docs[0]"
   ]
  },
  {
   "cell_type": "code",
   "execution_count": 9,
   "id": "9ac2ffc7-f8db-45f6-9f76-97a1f7a095f5",
   "metadata": {},
   "outputs": [],
   "source": [
    "compressed_docs = compression_retriever.invoke(\"When was this declassified?\")"
   ]
  },
  {
   "cell_type": "code",
   "execution_count": 10,
   "id": "e0ccab5e-8a1c-4684-942a-813d71b0a29b",
   "metadata": {},
   "outputs": [
    {
     "name": "stdout",
     "output_type": "stream",
     "text": [
      "The Church Committee's final report was published in April 1976 in six books. Also published were seven volumes of Church Committee hearings in the Senate. Before the release of the final report, the committee also published an interim report titled \"Alleged Assassination Plots Involving Foreign Leaders\", which investigated alleged attempts to assassinate foreign leaders, including Patrice Lumumba of Zaire, Rafael Trujillo of the Dominican Republic, Ngo Dinh Diem of South Vietnam, Gen. René Schneider of Chile, and Fidel Castro of Cuba. President Gerald Ford urged the Senate to withhold the report from the public, but failed, and under recommendations and pressure by the committee, Ford issued Executive Order 11905 (ultimately replaced in 1981 by President Reagan's Executive Order 12333) to ban US sanctioned assassinations of foreign leaders.\n"
     ]
    }
   ],
   "source": [
    "print(compressed_docs[0].page_content)"
   ]
  },
  {
   "cell_type": "code",
   "execution_count": null,
   "id": "829bda0e-663a-43b7-97fb-cbbcc0100310",
   "metadata": {},
   "outputs": [],
   "source": []
  }
 ],
 "metadata": {
  "kernelspec": {
   "display_name": "Python 3 (ipykernel)",
   "language": "python",
   "name": "python3"
  },
  "language_info": {
   "codemirror_mode": {
    "name": "ipython",
    "version": 3
   },
   "file_extension": ".py",
   "mimetype": "text/x-python",
   "name": "python",
   "nbconvert_exporter": "python",
   "pygments_lexer": "ipython3",
   "version": "3.12.9"
  }
 },
 "nbformat": 4,
 "nbformat_minor": 5
}
