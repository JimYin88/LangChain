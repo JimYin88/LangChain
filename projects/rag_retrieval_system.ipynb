{
 "cells": [
  {
   "cell_type": "markdown",
   "id": "7a22ef8e-b0f2-4702-a01e-69269e0bc67b",
   "metadata": {},
   "source": [
    "# RAG Retrieval System"
   ]
  },
  {
   "cell_type": "markdown",
   "id": "cdeb9880-a62b-4e25-914f-1623d7ef77a9",
   "metadata": {},
   "source": [
    "## Imports"
   ]
  },
  {
   "cell_type": "code",
   "execution_count": 1,
   "id": "2069995c-fdeb-4259-a09b-93b16fe894e9",
   "metadata": {},
   "outputs": [],
   "source": [
    "import os\n",
    "os.environ['USER_AGENT'] = 'JimYin88'\n",
    "\n",
    "from langchain_openai import ChatOpenAI\n",
    "from langchain_core.prompts import ChatPromptTemplate\n",
    "from langchain.chains.combine_documents import create_stuff_documents_chain\n",
    "# from langchain_community.document_loaders import WebBaseLoader\n",
    "# from langchain.document_loaders import BSHTMLLoader\n",
    "from langchain.text_splitter import RecursiveCharacterTextSplitter\n",
    "from langchain_openai import OpenAIEmbeddings\n",
    "# from langchain_community.embeddings.openai import OpenAIEmbeddings\n",
    "from langchain_chroma import Chroma\n",
    "# from langchain_community.vectorstores.faiss import FAISS\n",
    "from langchain.chains import create_retrieval_chain\n",
    "from langchain_community.document_loaders import Docx2txtLoader\n",
    "from langchain_google_genai import GoogleGenerativeAIEmbeddings\n",
    "\n",
    "# from langchain_community.document_loaders import UnstructuredRTFLoader\n",
    "from langchain.schema.output_parser import StrOutputParser"
   ]
  },
  {
   "cell_type": "markdown",
   "id": "e2968155-a8ff-4e3f-bb86-250928b2b4ca",
   "metadata": {},
   "source": [
    "## Loading Environment Variables"
   ]
  },
  {
   "cell_type": "code",
   "execution_count": 2,
   "id": "899ef1fd-ab65-4ac6-b214-0f289e7cba3c",
   "metadata": {},
   "outputs": [
    {
     "data": {
      "text/plain": [
       "True"
      ]
     },
     "execution_count": 2,
     "metadata": {},
     "output_type": "execute_result"
    }
   ],
   "source": [
    "from dotenv import load_dotenv\n",
    "load_dotenv()"
   ]
  },
  {
   "cell_type": "markdown",
   "id": "3bb20639-891f-452c-a69f-db3ceaf00cb0",
   "metadata": {},
   "source": [
    "## Instantiate LLM model"
   ]
  },
  {
   "cell_type": "code",
   "execution_count": 3,
   "id": "2f38fb42-bd8a-4c4f-8af5-f3c46bc336fd",
   "metadata": {},
   "outputs": [],
   "source": [
    "chat_model = ChatOpenAI(model=\"gpt-4o-mini-2024-07-18\",\n",
    "                        max_completion_tokens=1028,\n",
    "                        temperature=0.2)"
   ]
  },
  {
   "cell_type": "markdown",
   "id": "acabcb0d-4da7-4f46-b903-dfa4f645d2fc",
   "metadata": {},
   "source": [
    "## Load documents"
   ]
  },
  {
   "cell_type": "code",
   "execution_count": 4,
   "id": "3f2e8d9f-d41d-48a7-8629-3bbcc2e89100",
   "metadata": {},
   "outputs": [],
   "source": [
    "loader = Docx2txtLoader(\".\\\\data\\\\JimYin-Resume.docx\")\n",
    "\n",
    "docs = loader.load()"
   ]
  },
  {
   "cell_type": "markdown",
   "id": "2e85b26e-f48d-4558-8fa2-8d579aa0e56d",
   "metadata": {},
   "source": [
    "## Split documents into chunks"
   ]
  },
  {
   "cell_type": "code",
   "execution_count": 5,
   "id": "dc71da05-9ba8-4549-81a9-7e930538b19f",
   "metadata": {},
   "outputs": [],
   "source": [
    "text_splitter = RecursiveCharacterTextSplitter(chunk_size=2000, \n",
    "                                               chunk_overlap=20)\n",
    "\n",
    "splitDocs = text_splitter.split_documents(docs)"
   ]
  },
  {
   "cell_type": "code",
   "execution_count": 6,
   "id": "f556e0fd-909c-4c5e-90c7-1b3bef0f2024",
   "metadata": {},
   "outputs": [],
   "source": [
    "embedding_function = GoogleGenerativeAIEmbeddings(model=\"models/embedding-001\")"
   ]
  },
  {
   "cell_type": "code",
   "execution_count": 7,
   "id": "310f39e9-c2f0-41fc-9a3a-88eff8d79b0d",
   "metadata": {},
   "outputs": [],
   "source": [
    "db = Chroma.from_documents(documents=splitDocs, \n",
    "                           embedding=embedding_function, \n",
    "                           collection_name=\"Resume\",\n",
    "                           persist_directory=\"./resume\")"
   ]
  },
  {
   "cell_type": "code",
   "execution_count": 8,
   "id": "edef016e-42ac-4ce7-b0f3-761d8f204ec7",
   "metadata": {},
   "outputs": [],
   "source": [
    "question = \"What was Jim C. Yin last job title?\""
   ]
  },
  {
   "cell_type": "code",
   "execution_count": 9,
   "id": "9b4a2548-6b17-4f34-8c3a-061e94446f5d",
   "metadata": {},
   "outputs": [],
   "source": [
    "similar_docs = db.similarity_search(query = question, \n",
    "                                    k = 2)"
   ]
  },
  {
   "cell_type": "code",
   "execution_count": 10,
   "id": "2f4fef4d-1cb8-485b-88c6-5f64f8c4fa20",
   "metadata": {},
   "outputs": [
    {
     "data": {
      "text/plain": [
       "[Document(id='fb8c3f41-7e1a-4eed-aa0e-a5910d40389f', metadata={'source': '.\\\\data\\\\JimYin-Resume.docx'}, page_content='Jim C. Yin\\n\\n101 Darling Ave.\\n\\nBloomfield, NJ 07003\\n\\n Cell (626) 675-1990 • jimyin88@gmail.com\\n\\n\\n\\n\\n\\nSUMMARY\\tHighly skilled data scientist with extensive expertise in the financial markets, possessing more than 20 years of experience in data science and finance.\\n\\n\\t\\t\\n\\nEXPERIENCE\\n\\n\\n\\n\\t\\t\\t1/2023 – 9/2024\\tPrudential Financial, Inc.\\tNewark, NJ\\n\\n\\t\\t\\t\\t\\tSenior Data Scientist\\n\\n\\t\\t\\t• \\tDeveloped various software programs to assist clients in retirement planning, such as a Monte Carlo simulation that accurately projects their life savings and recommends optimal asset allocations based on factors including risk tolerance.\\n\\n\\t\\t\\t• \\tConducted thorough analyses of annuity purchase applications to identify and address potential issues, utilizing similarity searches on advisors with comparable characteristics. Contributed to cost savings for the company by reducing the number of \"Not In Good Order\" incidents.\\n\\n\\t\\t\\t• \\tProposed multiple generative AI projects utilizing LLMs such as OpenAI, aimed at increasing data accuracy, improving model predictability, and streamlining operations. Validated business use cases for these projects by developing prototypes using the LangChain module.\\n\\n\\t\\t\\t\\n\\n\\t\\t\\t9/2015 – 4/2019\\tArgus Information and Advisory Services\\tWhite Plains, NY\\n\\n\\t\\t\\t\\t\\tManager/Data Scientist\\n\\n\\t\\t\\t• \\tWrote complex SQL queries analyzing billions of credit card transactions to help banks, credit card issuers, and merchants better understand their customers and markets. Conducted exploratory data analyses and performed statistical analysis on customer segmentation to forecast consumer spending trends. \\n\\n\\t\\t\\t• \\tData wrangling fuzzy data using SQL and python to de-dupe store names and locations, thus improving data accuracy.\\n\\n\\t\\t\\t• \\tAutomated and streamlined query operations, resulting in quicker processing time. Developed analytical tools for data validation based on key performance indicators.'),\n",
       " Document(id='c3dd2869-4d97-4048-863d-51fcda6f2d67', metadata={'source': '.\\\\data\\\\JimYin-Resume.docx'}, page_content=\"• \\tCreated Excel pivot tables and Tableau dashboards to display summary results, enabling companies to make critical business decisions.\\n\\n\\t\\t\\t\\n\\n\\t\\t\\t8/2006 – 4/2014\\tS&P Capital IQ\\tNew York, NY\\n\\n\\t\\t\\t\\t\\tIndustry Analyst\\n\\n\\tCovered companies in computer hardware/software, IT services, video games, restaurant, and household durables industries. Developed detailed financial models, projecting future incomes and cash flows based on fundamental analysis, macroeconomics factors, meetings with management, and industry data. Conducted proprietary research, allowing me to make timely sector calls against prevailing market views.\\n\\n\\n\\nWrote research notes and stock reports. Published biannual industry surveys on the computer data storage, restaurant, and household durables industries, highlighting both the current environment and long-term secular trends.\\n\\n\\n\\nSelected as a member of S&P portfolio committee based on superior stock picking performance and broad knowledge of the equity market. Evaluated and recommended equities for specific model portfolios, helping most of the portfolios to significantly outperform their respective benchmarks.\\n\\n\\n\\nAppeared on CNBC, Bloomberg TV, Fox Business, Nightly Business Report, Reuters, and BNN, and quoted numerous times on The Wall Street Journal and other printed media discussing my views about my companies' latest developments.\\n\\n\\n\\n\\t\\t\\n\\n\\t\\t4/2004 – 5/2006\\tEKN Financial Services\\tNew York, NY\\n\\n\\t\\t\\t\\t\\tDirector of Research\\n\\nSupervised other analysts, reviewed their work, and oversaw regulatory compliance issues. Covered companies in computer software and IT services. Talked to management on a regular basis. Organized and participated on companies' road shows.\\n\\n\\n\\n\\t\\t2/2001 – 10/2002\\tBrean Capital, LLC\\tNew York, NY\\n\\n\\t\\t\\t\\t\\tSenior Analyst\\n\\n\\tCovered companies in Internet, computer software, and IT services sectors. Evaluated public and private companies with potential funding needs.\\n\\n\\n\\n\\t\\t\\t1/2000 – 12/2000\\tYin Investments\\tNew York, NY\\n\\n\\t\\t\\t\\t\\tPortfolio Manager\")]"
      ]
     },
     "execution_count": 10,
     "metadata": {},
     "output_type": "execute_result"
    }
   ],
   "source": [
    "similar_docs"
   ]
  },
  {
   "cell_type": "code",
   "execution_count": 11,
   "id": "fa590037-f0f3-44c6-899d-19ca15cc7c17",
   "metadata": {},
   "outputs": [],
   "source": [
    "prompt = ChatPromptTemplate.from_template(\"\"\"\n",
    "    Answer the user's question.\n",
    "    Context: {context}\n",
    "    Question: {input}\n",
    "    \"\"\")"
   ]
  },
  {
   "cell_type": "code",
   "execution_count": 12,
   "id": "b096b0a1-a201-49b2-8ee9-aff370191744",
   "metadata": {},
   "outputs": [],
   "source": [
    "chain = prompt | chat_model | StrOutputParser()"
   ]
  },
  {
   "cell_type": "code",
   "execution_count": 13,
   "id": "faee17b5-dce3-450a-ae1c-e3a048b58bb8",
   "metadata": {},
   "outputs": [
    {
     "name": "stdout",
     "output_type": "stream",
     "text": [
      "Jim C. Yin's last job title was Senior Data Scientist at Prudential Financial, Inc.\n"
     ]
    }
   ],
   "source": [
    "response = chain.invoke({\"context\": similar_docs,\n",
    "                         \"input\": question})\n",
    "\n",
    "print(response)"
   ]
  },
  {
   "cell_type": "code",
   "execution_count": null,
   "id": "e2c10f88-f997-40d8-aa97-1ab14dc23ca8",
   "metadata": {},
   "outputs": [],
   "source": []
  }
 ],
 "metadata": {
  "kernelspec": {
   "display_name": "Python 3 (ipykernel)",
   "language": "python",
   "name": "python3"
  },
  "language_info": {
   "codemirror_mode": {
    "name": "ipython",
    "version": 3
   },
   "file_extension": ".py",
   "mimetype": "text/x-python",
   "name": "python",
   "nbconvert_exporter": "python",
   "pygments_lexer": "ipython3",
   "version": "3.12.9"
  }
 },
 "nbformat": 4,
 "nbformat_minor": 5
}
