{
 "cells": [
  {
   "cell_type": "markdown",
   "id": "2db63e63-05eb-48aa-be5f-cb203274e8bd",
   "metadata": {},
   "source": [
    "# Chatbot with Agents and Memory"
   ]
  },
  {
   "cell_type": "markdown",
   "id": "4ce30343-c39c-471c-9116-81aba8f1f9fa",
   "metadata": {},
   "source": [
    "## Imports"
   ]
  },
  {
   "cell_type": "code",
   "execution_count": 1,
   "id": "4b7249fb-ee0e-431b-8a58-c6f37ee529b5",
   "metadata": {},
   "outputs": [],
   "source": [
    "# System\n",
    "import os\n",
    "os.environ['USER_AGENT'] = 'JimYin88'\n",
    "import requests\n",
    "from datetime import date\n",
    "from datetime import datetime\n",
    "\n",
    "# Geo Mapping\n",
    "import geocoder\n",
    "from geopy.geocoders import Nominatim\n",
    "\n",
    "# LLM Models\n",
    "from langchain_openai import ChatOpenAI\n",
    "from langchain_ollama import OllamaLLM, ChatOllama\n",
    "\n",
    "# Templates\n",
    "from langchain_core.prompts import ChatPromptTemplate, SystemMessagePromptTemplate, PromptTemplate, HumanMessagePromptTemplate\n",
    "from langchain_core.messages import SystemMessage, HumanMessage, AIMessage\n",
    "from langchain.prompts import MessagesPlaceholder\n",
    "from langchain import hub\n",
    "\n",
    "# Document Loaders\n",
    "from langchain_community.document_loaders import Docx2txtLoader\n",
    "from langchain_community.document_loaders import WebBaseLoader\n",
    "# from langchain.document_loaders import BSHTMLLoader\n",
    "# from langchain_community.document_loaders import UnstructuredRTFLoader\n",
    "\n",
    "# Document Splitters\n",
    "from langchain.text_splitter import TokenTextSplitter\n",
    "# from langchain.text_splitter import RecursiveCharacterTextSplitter\n",
    "\n",
    "# Embeddings\n",
    "from langchain_google_genai import GoogleGenerativeAIEmbeddings\n",
    "# from langchain_openai import OpenAIEmbeddings\n",
    "\n",
    "# Vector Stores\n",
    "from langchain_chroma import Chroma\n",
    "from langchain_community.vectorstores.faiss import FAISS\n",
    "\n",
    "# LangChain Chains\n",
    "from langchain.chains import create_retrieval_chain\n",
    "from langchain.chains.combine_documents import create_stuff_documents_chain\n",
    "\n",
    "# OutputParsers\n",
    "from langchain.schema.output_parser import StrOutputParser\n",
    "\n",
    "# Gradio\n",
    "import gradio as gr\n",
    "\n",
    "# Tools\n",
    "from langchain_community.tools.tavily_search import TavilySearchResults\n",
    "from langchain_community.utilities.alpha_vantage import AlphaVantageAPIWrapper\n",
    "from langchain.tools.retriever import create_retriever_tool\n",
    "from langchain.agents import create_tool_calling_agent\n",
    "from langchain.agents import AgentExecutor\n",
    "from langchain_community.utilities import SerpAPIWrapper\n",
    "from langchain_core.tools import Tool\n",
    "from langchain.agents import tool, load_tools, initialize_agent, AgentType\n",
    "from langchain_community.tools.google_books import GoogleBooksQueryRun\n",
    "from langchain_community.utilities.google_books import GoogleBooksAPIWrapper\n",
    "from langchain_community.tools.google_trends import GoogleTrendsQueryRun\n",
    "from langchain_community.utilities.google_trends import GoogleTrendsAPIWrapper\n",
    "from langchain_google_community import GooglePlacesTool\n",
    "from langchain_community.tools import WikipediaQueryRun\n",
    "from langchain_community.utilities import WikipediaAPIWrapper\n",
    "\n",
    "# from gradio_tools.tools import (\n",
    "#     ImageCaptioningTool,\n",
    "#     StableDiffusionPromptGeneratorTool,\n",
    "#     StableDiffusionTool,\n",
    "#     TextToVideoTool,\n",
    "# )\n",
    "\n",
    "# History Memory\n",
    "from langchain_community.chat_message_histories import ChatMessageHistory\n",
    "from langchain_core.chat_history import BaseChatMessageHistory\n",
    "from langchain_core.runnables.history import RunnableWithMessageHistory\n",
    "\n",
    "# Text-to-Speech\n",
    "import elevenlabs\n",
    "from elevenlabs.client import ElevenLabs"
   ]
  },
  {
   "cell_type": "markdown",
   "id": "c12f198d-0a91-40d7-b8a4-39da8d8a4798",
   "metadata": {},
   "source": [
    "## Load Environment Variables"
   ]
  },
  {
   "cell_type": "code",
   "execution_count": 2,
   "id": "433fbca7-294f-485a-8c12-07ee4dac596c",
   "metadata": {},
   "outputs": [
    {
     "data": {
      "text/plain": [
       "True"
      ]
     },
     "execution_count": 2,
     "metadata": {},
     "output_type": "execute_result"
    }
   ],
   "source": [
    "from dotenv import load_dotenv\n",
    "load_dotenv()"
   ]
  },
  {
   "cell_type": "markdown",
   "id": "6ce80b54-9f9c-488a-abbd-1b80e39cf8b0",
   "metadata": {},
   "source": [
    "## Instantiate LLM model"
   ]
  },
  {
   "cell_type": "markdown",
   "id": "b7daad49-b116-46e7-86b3-9355dfe89814",
   "metadata": {},
   "source": [
    "### Using ChatGPT 4o-mini"
   ]
  },
  {
   "cell_type": "code",
   "execution_count": 3,
   "id": "309ce573-f321-4199-915a-7f12898beab3",
   "metadata": {},
   "outputs": [],
   "source": [
    "chat_model = ChatOpenAI(model=\"gpt-4o-mini-2024-07-18\",\n",
    "                        max_completion_tokens=16384,\n",
    "                        temperature=0.2)"
   ]
  },
  {
   "cell_type": "code",
   "execution_count": 4,
   "id": "16b865ca-0c68-41f8-9836-71ef0eb82937",
   "metadata": {},
   "outputs": [],
   "source": [
    "ollama_model = ChatOllama(model=\"llama3.2\", \n",
    "               num_ctx = 16384, \n",
    "               num_predict = 16384,\n",
    "               temperature = 0.2,\n",
    "               system = 'You are a helpful assistant.')"
   ]
  },
  {
   "cell_type": "markdown",
   "id": "cf4deb2d-767d-413d-9afe-d0b2bbfb2ea9",
   "metadata": {},
   "source": [
    "## Search Tool"
   ]
  },
  {
   "cell_type": "code",
   "execution_count": 5,
   "id": "300cc3c4-fcbd-4c7d-97ca-59377731fc7a",
   "metadata": {},
   "outputs": [],
   "source": [
    "# Tavily Search\n",
    "tavily_search = TavilySearchResults(max_results=2)\n",
    "\n",
    "# Wikipedia\n",
    "wikipedia_tool = WikipediaQueryRun(api_wrapper=WikipediaAPIWrapper())\n",
    "\n",
    "# Google Trend\n",
    "google_trend_tool = GoogleTrendsQueryRun(api_wrapper=GoogleTrendsAPIWrapper())\n",
    "\n",
    "# Google Book\n",
    "google_book_tool = GoogleBooksQueryRun(api_wrapper=GoogleBooksAPIWrapper())\n",
    "\n",
    "# Google Places\n",
    "google_places_tool = GooglePlacesTool()"
   ]
  },
  {
   "cell_type": "markdown",
   "id": "cad3ce17-e9d3-4b3f-8fae-527d4e8bdde7",
   "metadata": {},
   "source": [
    "## Retriever Tool"
   ]
  },
  {
   "cell_type": "code",
   "execution_count": 6,
   "id": "58d03ac0-7d27-45da-bc2e-2c15fcce876e",
   "metadata": {},
   "outputs": [],
   "source": [
    "loader = WebBaseLoader(\"https://docs.smith.langchain.com/overview\")\n",
    "docs = loader.load()\n",
    "splitter = TokenTextSplitter(chunk_size=200, chunk_overlap=20)\n",
    "splitdocs = splitter.split_documents(docs)\n",
    "embedding_function = GoogleGenerativeAIEmbeddings(model=\"models/embedding-001\")\n",
    "vector_store = FAISS.from_documents(documents=splitdocs, embedding=embedding_function)\n",
    "retriever = vector_store.as_retriever()"
   ]
  },
  {
   "cell_type": "code",
   "execution_count": 7,
   "id": "64d39358-78e2-426f-804c-e7a4ba199d02",
   "metadata": {},
   "outputs": [],
   "source": [
    "retriever_tool = create_retriever_tool(\n",
    "    retriever,\n",
    "    \"langsmith_search\",\n",
    "    \"Search for information about LangSmith. For any questions about LangSmith, you must use this tool!\")"
   ]
  },
  {
   "cell_type": "markdown",
   "id": "8ae76267-8b80-47fe-9b8a-637c43158b17",
   "metadata": {},
   "source": [
    "## Custom Tool"
   ]
  },
  {
   "cell_type": "code",
   "execution_count": 8,
   "id": "6d53a18a-61cd-4596-9340-97464825e7df",
   "metadata": {},
   "outputs": [],
   "source": [
    "@tool\n",
    "def get_stock_closing_price(ticker: str, trading_days: str = '50') -> str:\n",
    "    ''' \n",
    "    Returns the stock's closing prices for the past number of trading days.\n",
    "    Expects a string of the company's stock ticker and a string \n",
    "    for the number of trading days. Return the date and the stock \n",
    "    closing prices for the specified number of trading days.\n",
    "    '''\n",
    "\n",
    "    n_days = int(trading_days)\n",
    "    \n",
    "    alpha_vantage = AlphaVantageAPIWrapper()\n",
    "    daily_price = alpha_vantage._get_time_series_daily(ticker)\n",
    "    \n",
    "    result = ''  \n",
    "    result += f'Stock Ticker: {ticker}\\n\\n'\n",
    "    result += 'Date ' + ' \\t       ' + ' Closing Price\\n'\n",
    "    \n",
    "    counter = 0\n",
    "    for daily in daily_price['Time Series (Daily)']:\n",
    "        if counter > n_days:\n",
    "            break\n",
    "        else:\n",
    "            result += daily + '\\t' + daily_price['Time Series (Daily)'][daily]['4. close'] + '\\n'\n",
    "            counter += 1\n",
    "    \n",
    "    return result"
   ]
  },
  {
   "cell_type": "code",
   "execution_count": 9,
   "id": "179e295e-abfb-45ec-a26e-69dd1f6def7d",
   "metadata": {},
   "outputs": [],
   "source": [
    "@tool\n",
    "def earnings_call_transcript(ticker: str = 'MSFT', year: str = '2025', quarter: str = 'Q1') -> str:\n",
    "    ''' \n",
    "    Returns the earnings call transcript for the company ticker\n",
    "    for the fiscal year and quarter. Expects a string of the company's \n",
    "    stock ticker in upper case, a string for the fiscal year in a format like '2025', \n",
    "    and a string for the quarter in a format like 'Q1', 'Q2', 'Q3', or 'Q4'. \n",
    "    Return the conference call transcript in a string format.\n",
    "    '''\n",
    "\n",
    "    tick = ticker.upper()\n",
    "    advantage_api_key = os.getenv('ALPHAVANTAGE_API_KEY')\n",
    "    url = f'https://www.alphavantage.co/query?function=EARNINGS_CALL_TRANSCRIPT&symbol={tick}&quarter={year}{quarter}&apikey={advantage_api_key}'\n",
    "    \n",
    "    r = requests.get(url)\n",
    "    data = r.json()\n",
    "\n",
    "    result = ''\n",
    "    result += f'Ticker: {data['symbol']}\\n'\n",
    "    result += f'Fiscal Quarter: {data['quarter']}\\n\\n'\n",
    "    \n",
    "    for section in data['transcript']:\n",
    "        result += f'Speaker: {section['speaker']}\\nTitle: {section['title']}\\n\\n{section['content']}\\n\\n'\n",
    "        \n",
    "    return result"
   ]
  },
  {
   "cell_type": "markdown",
   "id": "6da4b447-7621-480e-93e8-2c647ead1d6a",
   "metadata": {},
   "source": [
    "## Create a list of tools"
   ]
  },
  {
   "cell_type": "code",
   "execution_count": 10,
   "id": "7209db9e-df6c-4f84-b496-a6aad4dc86bf",
   "metadata": {},
   "outputs": [],
   "source": [
    "# tools = load_tools(tool_names=[\"serpapi\", \"wolfram-alpha\"], llm=chat_model)\n",
    "# tools = tools + [retriever_tool]\n",
    "\n",
    "tools_list = load_tools(tool_names=[\"wolfram-alpha\"], llm=ollama_model)\n",
    "tools_list = tools_list + [tavily_search]\n",
    "# tools_list = tools_list + [retriever_tool]\n",
    "tools_list = tools_list + [get_stock_closing_price, earnings_call_transcript]\n",
    "tools_list = tools_list + [google_book_tool, google_trend_tool, google_places_tool, wikipedia_tool]"
   ]
  },
  {
   "cell_type": "markdown",
   "id": "28b52e3b-361c-4854-9404-01b5e0676f38",
   "metadata": {},
   "source": [
    "## Prompt Design"
   ]
  },
  {
   "cell_type": "code",
   "execution_count": 11,
   "id": "5a6be35a-6595-46b0-8695-766e270f27de",
   "metadata": {},
   "outputs": [],
   "source": [
    "today = date.today()\n",
    "# current_time = str(datetime.now())"
   ]
  },
  {
   "cell_type": "code",
   "execution_count": 12,
   "id": "019e21fb-1c9b-4df0-b173-5ad14d807bba",
   "metadata": {},
   "outputs": [],
   "source": [
    "def get_current_gps_coordinates():\n",
    "    g = geocoder.ip('me')#this function is used to find the current information using our IP Add\n",
    "    if g.latlng is not None: #g.latlng tells if the coordiates are found or not\n",
    "        return g.latlng\n",
    "    else:\n",
    "        return None"
   ]
  },
  {
   "cell_type": "code",
   "execution_count": 13,
   "id": "a83828cd-9d99-4f8e-a35a-5a1c72279259",
   "metadata": {},
   "outputs": [],
   "source": [
    "latitude, longitude = get_current_gps_coordinates()"
   ]
  },
  {
   "cell_type": "code",
   "execution_count": 14,
   "id": "10696ee8-11a4-487e-a43c-d1ab60762149",
   "metadata": {},
   "outputs": [
    {
     "name": "stdout",
     "output_type": "stream",
     "text": [
      "40.8337 -74.1829\n"
     ]
    }
   ],
   "source": [
    "print(latitude, longitude)"
   ]
  },
  {
   "cell_type": "code",
   "execution_count": 15,
   "id": "ccfb1e3a-f618-40d1-8150-e63e3a99b2ca",
   "metadata": {},
   "outputs": [],
   "source": [
    "def get_town_state_country():\n",
    "\n",
    "    g = geocoder.ip('me')\n",
    "    \n",
    "    if g.latlng is not None: #g.latlng tells if the coordiates are found or not\n",
    "        latitude, longitude = g.latlng\n",
    "    else:\n",
    "        latitude, longitude = 40.83412, -74.16749\n",
    "\n",
    "    geolocator=Nominatim(user_agent='geoapiExcises')\n",
    "\n",
    "    location=geolocator.reverse(str(latitude)+\",\"+str(longitude))\n",
    "    address=location.raw['address']\n",
    "\n",
    "    return address['town'], address['state'], address['country']"
   ]
  },
  {
   "cell_type": "code",
   "execution_count": 16,
   "id": "ee6acc9c-2af3-47ae-ad5c-b2ec29d2b897",
   "metadata": {},
   "outputs": [],
   "source": [
    "town, state, country = get_town_state_country()"
   ]
  },
  {
   "cell_type": "code",
   "execution_count": 17,
   "id": "da5a227f-b248-4887-9b40-5d6400b38502",
   "metadata": {},
   "outputs": [
    {
     "data": {
      "text/plain": [
       "[SystemMessagePromptTemplate(prompt=PromptTemplate(input_variables=[], input_types={}, partial_variables={}, template='You are a helpful assistant'), additional_kwargs={}),\n",
       " MessagesPlaceholder(variable_name='chat_history', optional=True),\n",
       " HumanMessagePromptTemplate(prompt=PromptTemplate(input_variables=['input'], input_types={}, partial_variables={}, template='{input}'), additional_kwargs={}),\n",
       " MessagesPlaceholder(variable_name='agent_scratchpad')]"
      ]
     },
     "execution_count": 17,
     "metadata": {},
     "output_type": "execute_result"
    }
   ],
   "source": [
    "prompt = hub.pull(\"hwchase17/openai-functions-agent\")\n",
    "prompt.messages"
   ]
  },
  {
   "cell_type": "code",
   "execution_count": 18,
   "id": "c156dd32-19ee-4352-b14e-4392871fd061",
   "metadata": {},
   "outputs": [],
   "source": [
    "prompt.messages[0] = SystemMessagePromptTemplate(prompt=PromptTemplate(input_variables=[], input_types={}, partial_variables={}, template=f\"Your name is HAL, developed in 2001. You are a helpful assistant. Today is {today}. The user name is Jim. Jim lives in {town}, {state}, {country}.\"), additional_kwargs={})\n"
   ]
  },
  {
   "cell_type": "code",
   "execution_count": 19,
   "id": "b783fa2d-82cf-4f31-a285-197134f1bf43",
   "metadata": {},
   "outputs": [
    {
     "data": {
      "text/plain": [
       "ChatPromptTemplate(input_variables=['agent_scratchpad', 'input'], optional_variables=['chat_history'], input_types={'chat_history': list[typing.Annotated[typing.Union[typing.Annotated[langchain_core.messages.ai.AIMessage, Tag(tag='ai')], typing.Annotated[langchain_core.messages.human.HumanMessage, Tag(tag='human')], typing.Annotated[langchain_core.messages.chat.ChatMessage, Tag(tag='chat')], typing.Annotated[langchain_core.messages.system.SystemMessage, Tag(tag='system')], typing.Annotated[langchain_core.messages.function.FunctionMessage, Tag(tag='function')], typing.Annotated[langchain_core.messages.tool.ToolMessage, Tag(tag='tool')], typing.Annotated[langchain_core.messages.ai.AIMessageChunk, Tag(tag='AIMessageChunk')], typing.Annotated[langchain_core.messages.human.HumanMessageChunk, Tag(tag='HumanMessageChunk')], typing.Annotated[langchain_core.messages.chat.ChatMessageChunk, Tag(tag='ChatMessageChunk')], typing.Annotated[langchain_core.messages.system.SystemMessageChunk, Tag(tag='SystemMessageChunk')], typing.Annotated[langchain_core.messages.function.FunctionMessageChunk, Tag(tag='FunctionMessageChunk')], typing.Annotated[langchain_core.messages.tool.ToolMessageChunk, Tag(tag='ToolMessageChunk')]], FieldInfo(annotation=NoneType, required=True, discriminator=Discriminator(discriminator=<function _get_type at 0x000002653CD36200>, custom_error_type=None, custom_error_message=None, custom_error_context=None))]], 'agent_scratchpad': list[typing.Annotated[typing.Union[typing.Annotated[langchain_core.messages.ai.AIMessage, Tag(tag='ai')], typing.Annotated[langchain_core.messages.human.HumanMessage, Tag(tag='human')], typing.Annotated[langchain_core.messages.chat.ChatMessage, Tag(tag='chat')], typing.Annotated[langchain_core.messages.system.SystemMessage, Tag(tag='system')], typing.Annotated[langchain_core.messages.function.FunctionMessage, Tag(tag='function')], typing.Annotated[langchain_core.messages.tool.ToolMessage, Tag(tag='tool')], typing.Annotated[langchain_core.messages.ai.AIMessageChunk, Tag(tag='AIMessageChunk')], typing.Annotated[langchain_core.messages.human.HumanMessageChunk, Tag(tag='HumanMessageChunk')], typing.Annotated[langchain_core.messages.chat.ChatMessageChunk, Tag(tag='ChatMessageChunk')], typing.Annotated[langchain_core.messages.system.SystemMessageChunk, Tag(tag='SystemMessageChunk')], typing.Annotated[langchain_core.messages.function.FunctionMessageChunk, Tag(tag='FunctionMessageChunk')], typing.Annotated[langchain_core.messages.tool.ToolMessageChunk, Tag(tag='ToolMessageChunk')]], FieldInfo(annotation=NoneType, required=True, discriminator=Discriminator(discriminator=<function _get_type at 0x000002653CD36200>, custom_error_type=None, custom_error_message=None, custom_error_context=None))]]}, partial_variables={'chat_history': []}, metadata={'lc_hub_owner': 'hwchase17', 'lc_hub_repo': 'openai-functions-agent', 'lc_hub_commit_hash': 'a1655024b06afbd95d17449f21316291e0726f13dcfaf990cc0d18087ad689a5'}, messages=[SystemMessagePromptTemplate(prompt=PromptTemplate(input_variables=[], input_types={}, partial_variables={}, template='Your name is HAL, developed in 2001. You are a helpful assistant. Today is 2025-05-11. The user name is Jim. Jim lives in Bloomfield, New Jersey, United States.'), additional_kwargs={}), MessagesPlaceholder(variable_name='chat_history', optional=True), HumanMessagePromptTemplate(prompt=PromptTemplate(input_variables=['input'], input_types={}, partial_variables={}, template='{input}'), additional_kwargs={}), MessagesPlaceholder(variable_name='agent_scratchpad')])"
      ]
     },
     "execution_count": 19,
     "metadata": {},
     "output_type": "execute_result"
    }
   ],
   "source": [
    "prompt"
   ]
  },
  {
   "cell_type": "markdown",
   "id": "5434a1bf-f7fb-4a52-8063-21d346824a42",
   "metadata": {},
   "source": [
    "## Create agent"
   ]
  },
  {
   "cell_type": "code",
   "execution_count": 20,
   "id": "3d3d453b-162a-4cf8-aa66-257afc2e2a0c",
   "metadata": {},
   "outputs": [],
   "source": [
    "agent = create_tool_calling_agent(llm=chat_model, \n",
    "                                  tools=tools_list, \n",
    "                                  prompt=prompt)"
   ]
  },
  {
   "cell_type": "code",
   "execution_count": 21,
   "id": "936c4dd8-80c7-443d-8fb2-274f28c01e73",
   "metadata": {},
   "outputs": [],
   "source": [
    "agent_executor = AgentExecutor(agent=agent, tools=tools_list)"
   ]
  },
  {
   "cell_type": "markdown",
   "id": "d27a17e7-5bf1-4873-adf0-2b4c2dc41b4a",
   "metadata": {},
   "source": [
    "## Define Chatbot_streaming function"
   ]
  },
  {
   "cell_type": "code",
   "execution_count": 22,
   "id": "a99927aa-b254-4d65-8450-314496904610",
   "metadata": {},
   "outputs": [],
   "source": [
    "history = []"
   ]
  },
  {
   "cell_type": "code",
   "execution_count": 23,
   "id": "66ff11ac-6f16-41b1-be09-aacdad53eb70",
   "metadata": {},
   "outputs": [],
   "source": [
    "def chat_stream(message, history):\n",
    "    \n",
    "    # messages = [{\"role\": \"system\", \"content\": system_message}] + history + [{\"role\": \"user\", \"content\": message}]\n",
    "\n",
    "    stream = agent_executor.stream({\"input\": message, \"chat_history\": history})\n",
    "\n",
    "    response = \"\"\n",
    "    for chunk in stream:\n",
    "        if 'output' in chunk:\n",
    "            response += chunk['output'] or ''\n",
    "        else:\n",
    "            continue\n",
    "        yield response"
   ]
  },
  {
   "cell_type": "markdown",
   "id": "015d5242-f485-4099-931e-5d35736d934e",
   "metadata": {},
   "source": [
    "## Define a Chatbot with voice"
   ]
  },
  {
   "cell_type": "code",
   "execution_count": 24,
   "id": "b526ca21-cad0-4e35-aef5-43c2675387eb",
   "metadata": {},
   "outputs": [],
   "source": [
    "client = ElevenLabs(api_key=os.getenv('ELEVENLABS_API_KEY'))\n",
    "\n",
    "def text_to_speech(text, voice=\"Daniel\"):\n",
    "\n",
    "    voice_catalog = {\"Aria\": \"9BWtsMINqrJLrRacOk9x\",\n",
    "                     \"Roger\": \"CwhRBWXzGAHq8TQ4Fs17\",\n",
    "                     \"Sarah\": \"EXAVITQu4vr4xnSDxMaL\",\n",
    "                     \"Laura\": \"FGY2WhTYpPnrIDTdsKH5\",\n",
    "                     \"Charlie\": \"IKne3meq5aSn9XLyUdCD\",\n",
    "                     \"George\": \"JBFqnCBsd6RMkjVDRZzb\",\n",
    "                     \"Callum\": \"N2lVS1w4EtoT3dr4eOWO\",\n",
    "                     \"River\": \"SAz9YHcvj6GT2YYXdXww\",\n",
    "                     \"Liam\": \"TX3LPaxmHKxFdv7VOQHJ\",\n",
    "                     \"Charlotte\": \"XB0fDUnXU5powFXDhCwa\",\n",
    "                     \"Alice\": \"Xb7hH8MSUJpSbSDYk0k2\",\n",
    "                     \"Matilda\": \"XrExE9yKIg1WjnnlVkGX\",\n",
    "                     \"Will\": \"bIHbv24MWmeRgasZH58o\",\n",
    "                     \"Jessica\": \"cgSgspJ2msm6clMCkdW9\",\n",
    "                     \"Eric\": \"cjVigY5qzO86Huf0OWal\",\n",
    "                     \"Chris\": \"iP95p4xoKVk53GoZ742B\",\n",
    "                     \"Brian\": \"nPczCjzI2devNBz1zQrb\",\n",
    "                     \"Daniel\": \"onwK4e9ZLuTAKqWW03F9\",\n",
    "                     \"Lily\": \"pFZP5JQG7iQjIQuC4Bku\",\n",
    "                     \"Bill\": \"pqHfZKP75CvOlQylNhV4\", \n",
    "                     \"Stacy - Sweet and Cute Chinese\": \"hkfHEbBvdQFNX4uWHqRF\", \n",
    "                     \"James Gao\": \"4VZIsMPtgggwNg7OXbPY\"}\n",
    "\n",
    "    if voice in voice_catalog:\n",
    "        voice_id_code = voice_catalog[voice]\n",
    "    else:\n",
    "        voice_id_code = voice_catalog['Daniel']\n",
    "\n",
    "    audio = client.text_to_speech.convert(text=text, \n",
    "                                          voice_id=voice_id_code,\n",
    "                                          model_id='eleven_turbo_v2_5',\n",
    "                                          output_format=\"mp3_44100_128\")\n",
    "\n",
    "    elevenlabs.play(audio)"
   ]
  },
  {
   "cell_type": "code",
   "execution_count": 25,
   "id": "50fe61d4-215e-4719-9463-d96c12a79353",
   "metadata": {},
   "outputs": [],
   "source": [
    "def chat_voice(message, history):\n",
    "    \n",
    "    # messages = [{\"role\": \"system\", \"content\": system_message}] + history + [{\"role\": \"user\", \"content\": message}]\n",
    "\n",
    "    response = agent_executor.invoke({\"input\": message, \"chat_history\": history})\n",
    "    text_to_speech(text=response['output'], voice=\"Daniel\")\n",
    "\n",
    "    return response['output']"
   ]
  },
  {
   "cell_type": "markdown",
   "id": "78f6e496-7edf-42d8-a006-4cef89794836",
   "metadata": {},
   "source": [
    "## Gradio Interface"
   ]
  },
  {
   "cell_type": "code",
   "execution_count": 26,
   "id": "2521e9c1-62fa-49b3-a989-3e7472ee96c1",
   "metadata": {},
   "outputs": [],
   "source": [
    "chatbot = gr.ChatInterface(fn=chat_stream, type=\"messages\")"
   ]
  },
  {
   "cell_type": "code",
   "execution_count": 27,
   "id": "bbc70920-93b5-408d-95df-0bdaba8a25f6",
   "metadata": {},
   "outputs": [
    {
     "name": "stdout",
     "output_type": "stream",
     "text": [
      "* Running on local URL:  http://127.0.0.1:7860\n",
      "* To create a public link, set `share=True` in `launch()`.\n"
     ]
    },
    {
     "data": {
      "text/html": [
       "<div><iframe src=\"http://127.0.0.1:7860/\" width=\"100%\" height=\"500\" allow=\"autoplay; camera; microphone; clipboard-read; clipboard-write;\" frameborder=\"0\" allowfullscreen></iframe></div>"
      ],
      "text/plain": [
       "<IPython.core.display.HTML object>"
      ]
     },
     "metadata": {},
     "output_type": "display_data"
    },
    {
     "data": {
      "text/plain": []
     },
     "execution_count": 27,
     "metadata": {},
     "output_type": "execute_result"
    }
   ],
   "source": [
    "chatbot.launch(share=False)"
   ]
  },
  {
   "cell_type": "code",
   "execution_count": 28,
   "id": "be845a0e-a87d-4a06-af1a-594a38bb904b",
   "metadata": {},
   "outputs": [
    {
     "name": "stdout",
     "output_type": "stream",
     "text": [
      "Closing server running on port: 7860\n"
     ]
    }
   ],
   "source": [
    "chatbot.close()"
   ]
  },
  {
   "cell_type": "code",
   "execution_count": null,
   "id": "437e2d3c-8fee-4c83-ab80-aa6d3744a76d",
   "metadata": {},
   "outputs": [],
   "source": []
  }
 ],
 "metadata": {
  "kernelspec": {
   "display_name": "Python 3 (ipykernel)",
   "language": "python",
   "name": "python3"
  },
  "language_info": {
   "codemirror_mode": {
    "name": "ipython",
    "version": 3
   },
   "file_extension": ".py",
   "mimetype": "text/x-python",
   "name": "python",
   "nbconvert_exporter": "python",
   "pygments_lexer": "ipython3",
   "version": "3.12.9"
  }
 },
 "nbformat": 4,
 "nbformat_minor": 5
}
