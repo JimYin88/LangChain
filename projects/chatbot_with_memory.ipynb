{
 "cells": [
  {
   "cell_type": "markdown",
   "id": "2db63e63-05eb-48aa-be5f-cb203274e8bd",
   "metadata": {},
   "source": [
    "# Chatbot with Agents and Memory"
   ]
  },
  {
   "cell_type": "markdown",
   "id": "4ce30343-c39c-471c-9116-81aba8f1f9fa",
   "metadata": {},
   "source": [
    "## Imports"
   ]
  },
  {
   "cell_type": "code",
   "execution_count": 1,
   "id": "4b7249fb-ee0e-431b-8a58-c6f37ee529b5",
   "metadata": {},
   "outputs": [],
   "source": [
    "# System\n",
    "import os\n",
    "os.environ['USER_AGENT'] = 'JimYin88'\n",
    "import requests\n",
    "from datetime import date\n",
    "from datetime import datetime\n",
    "import math\n",
    "\n",
    "# Geo Mapping\n",
    "import geocoder\n",
    "from geopy.geocoders import Nominatim\n",
    "\n",
    "# LLM Models\n",
    "from langchain_openai import ChatOpenAI\n",
    "from langchain_ollama import OllamaLLM, ChatOllama\n",
    "\n",
    "# Templates\n",
    "from langchain_core.prompts import ChatPromptTemplate, SystemMessagePromptTemplate, PromptTemplate, HumanMessagePromptTemplate\n",
    "from langchain_core.messages import SystemMessage, HumanMessage, AIMessage\n",
    "from langchain.prompts import MessagesPlaceholder\n",
    "from langchain import hub\n",
    "\n",
    "# Document Loaders\n",
    "from langchain_community.document_loaders import Docx2txtLoader\n",
    "from langchain_community.document_loaders import WebBaseLoader\n",
    "# from langchain.document_loaders import BSHTMLLoader\n",
    "# from langchain_community.document_loaders import UnstructuredRTFLoader\n",
    "\n",
    "# Document Splitters\n",
    "from langchain.text_splitter import TokenTextSplitter\n",
    "# from langchain.text_splitter import RecursiveCharacterTextSplitter\n",
    "\n",
    "# Embeddings\n",
    "from langchain_google_genai import GoogleGenerativeAIEmbeddings\n",
    "# from langchain_openai import OpenAIEmbeddings\n",
    "\n",
    "# Vector Stores\n",
    "from langchain_chroma import Chroma\n",
    "from langchain_community.vectorstores.faiss import FAISS\n",
    "\n",
    "# LangChain Chains\n",
    "from langchain.chains import create_retrieval_chain\n",
    "from langchain.chains.combine_documents import create_stuff_documents_chain\n",
    "\n",
    "# OutputParsers\n",
    "from langchain.schema.output_parser import StrOutputParser\n",
    "\n",
    "# Gradio\n",
    "import gradio as gr\n",
    "\n",
    "# Tools\n",
    "from langchain_community.tools.tavily_search import TavilySearchResults\n",
    "from langchain_community.utilities.alpha_vantage import AlphaVantageAPIWrapper\n",
    "from langchain.tools.retriever import create_retriever_tool\n",
    "from langchain.agents import create_tool_calling_agent\n",
    "from langchain.agents import AgentExecutor\n",
    "from langchain_community.utilities import SerpAPIWrapper\n",
    "from langchain_core.tools import Tool\n",
    "from langchain.agents import tool, load_tools, initialize_agent, AgentType\n",
    "from langchain_community.tools.google_books import GoogleBooksQueryRun\n",
    "from langchain_community.utilities.google_books import GoogleBooksAPIWrapper\n",
    "from langchain_community.tools.google_trends import GoogleTrendsQueryRun\n",
    "from langchain_community.utilities.google_trends import GoogleTrendsAPIWrapper\n",
    "from langchain_google_community import GooglePlacesTool\n",
    "from langchain_community.tools import WikipediaQueryRun\n",
    "from langchain_community.utilities import WikipediaAPIWrapper\n",
    "\n",
    "# from gradio_tools.tools import (\n",
    "#     ImageCaptioningTool,\n",
    "#     StableDiffusionPromptGeneratorTool,\n",
    "#     StableDiffusionTool,\n",
    "#     TextToVideoTool,\n",
    "# )\n",
    "\n",
    "# History Memory\n",
    "from langchain_community.chat_message_histories import ChatMessageHistory\n",
    "from langchain_core.chat_history import BaseChatMessageHistory\n",
    "from langchain_core.runnables.history import RunnableWithMessageHistory\n",
    "\n",
    "# Text-to-Speech\n",
    "import elevenlabs\n",
    "from elevenlabs.client import ElevenLabs"
   ]
  },
  {
   "cell_type": "markdown",
   "id": "c12f198d-0a91-40d7-b8a4-39da8d8a4798",
   "metadata": {},
   "source": [
    "## Load Environment Variables"
   ]
  },
  {
   "cell_type": "code",
   "execution_count": 2,
   "id": "433fbca7-294f-485a-8c12-07ee4dac596c",
   "metadata": {},
   "outputs": [
    {
     "data": {
      "text/plain": [
       "True"
      ]
     },
     "execution_count": 2,
     "metadata": {},
     "output_type": "execute_result"
    }
   ],
   "source": [
    "from dotenv import load_dotenv\n",
    "load_dotenv()"
   ]
  },
  {
   "cell_type": "markdown",
   "id": "6ce80b54-9f9c-488a-abbd-1b80e39cf8b0",
   "metadata": {},
   "source": [
    "## Instantiate LLM model"
   ]
  },
  {
   "cell_type": "markdown",
   "id": "b7daad49-b116-46e7-86b3-9355dfe89814",
   "metadata": {},
   "source": [
    "### Using ChatGPT 4o-mini"
   ]
  },
  {
   "cell_type": "code",
   "execution_count": 3,
   "id": "309ce573-f321-4199-915a-7f12898beab3",
   "metadata": {},
   "outputs": [],
   "source": [
    "chat_model = ChatOpenAI(model=\"gpt-4o-mini-2024-07-18\",\n",
    "                        max_completion_tokens=16384,\n",
    "                        temperature=0.2)"
   ]
  },
  {
   "cell_type": "code",
   "execution_count": 4,
   "id": "16b865ca-0c68-41f8-9836-71ef0eb82937",
   "metadata": {},
   "outputs": [],
   "source": [
    "ollama_model = ChatOllama(model=\"llama3.2\", \n",
    "               num_ctx = 16384, \n",
    "               num_predict = 16384,\n",
    "               temperature = 0.2,\n",
    "               system = 'You are a helpful assistant.')"
   ]
  },
  {
   "cell_type": "markdown",
   "id": "cf4deb2d-767d-413d-9afe-d0b2bbfb2ea9",
   "metadata": {},
   "source": [
    "## Search Tool"
   ]
  },
  {
   "cell_type": "code",
   "execution_count": 5,
   "id": "300cc3c4-fcbd-4c7d-97ca-59377731fc7a",
   "metadata": {},
   "outputs": [],
   "source": [
    "# Tavily Search\n",
    "tavily_search = TavilySearchResults(max_results=2)\n",
    "\n",
    "# Wikipedia\n",
    "wikipedia_tool = WikipediaQueryRun(api_wrapper=WikipediaAPIWrapper())\n",
    "\n",
    "# Google Trend\n",
    "google_trend_tool = GoogleTrendsQueryRun(api_wrapper=GoogleTrendsAPIWrapper())\n",
    "\n",
    "# Google Book\n",
    "google_book_tool = GoogleBooksQueryRun(api_wrapper=GoogleBooksAPIWrapper())\n",
    "\n",
    "# Google Places\n",
    "google_places_tool = GooglePlacesTool()"
   ]
  },
  {
   "cell_type": "markdown",
   "id": "cad3ce17-e9d3-4b3f-8fae-527d4e8bdde7",
   "metadata": {},
   "source": [
    "## Retriever Tool"
   ]
  },
  {
   "cell_type": "code",
   "execution_count": 6,
   "id": "58d03ac0-7d27-45da-bc2e-2c15fcce876e",
   "metadata": {},
   "outputs": [],
   "source": [
    "loader = WebBaseLoader(\"https://docs.smith.langchain.com/overview\")\n",
    "docs = loader.load()\n",
    "splitter = TokenTextSplitter(chunk_size=200, chunk_overlap=20)\n",
    "splitdocs = splitter.split_documents(docs)\n",
    "embedding_function = GoogleGenerativeAIEmbeddings(model=\"models/embedding-001\")\n",
    "vector_store = FAISS.from_documents(documents=splitdocs, embedding=embedding_function)\n",
    "retriever = vector_store.as_retriever()"
   ]
  },
  {
   "cell_type": "code",
   "execution_count": 7,
   "id": "64d39358-78e2-426f-804c-e7a4ba199d02",
   "metadata": {},
   "outputs": [],
   "source": [
    "retriever_tool = create_retriever_tool(\n",
    "    retriever,\n",
    "    \"langsmith_search\",\n",
    "    \"Search for information about LangSmith. For any questions about LangSmith, you must use this tool!\")"
   ]
  },
  {
   "cell_type": "markdown",
   "id": "8ae76267-8b80-47fe-9b8a-637c43158b17",
   "metadata": {},
   "source": [
    "## Custom Tool"
   ]
  },
  {
   "cell_type": "code",
   "execution_count": 8,
   "id": "6d53a18a-61cd-4596-9340-97464825e7df",
   "metadata": {},
   "outputs": [],
   "source": [
    "@tool\n",
    "def get_stock_closing_price(ticker: str, trading_days: str = '50') -> str:\n",
    "    ''' \n",
    "    Returns the stock's closing prices for the past number of trading days.\n",
    "    Expects a string of the company's stock ticker and a string \n",
    "    for the number of trading days. Return the date and the stock \n",
    "    closing prices for the specified number of trading days.\n",
    "    '''\n",
    "\n",
    "    n_days = int(trading_days)\n",
    "    \n",
    "    alpha_vantage = AlphaVantageAPIWrapper()\n",
    "    daily_price = alpha_vantage._get_time_series_daily(ticker)\n",
    "    \n",
    "    result = ''  \n",
    "    result += f'Stock Ticker: {ticker}\\n\\n'\n",
    "    result += 'Date ' + ' \\t       ' + ' Closing Price\\n'\n",
    "    \n",
    "    counter = 0\n",
    "    for daily in daily_price['Time Series (Daily)']:\n",
    "        if counter > n_days:\n",
    "            break\n",
    "        else:\n",
    "            result += daily + '\\t' + daily_price['Time Series (Daily)'][daily]['4. close'] + '\\n'\n",
    "            counter += 1\n",
    "    \n",
    "    return result"
   ]
  },
  {
   "cell_type": "code",
   "execution_count": 9,
   "id": "179e295e-abfb-45ec-a26e-69dd1f6def7d",
   "metadata": {},
   "outputs": [],
   "source": [
    "@tool\n",
    "def earnings_call_transcript(ticker: str = 'MSFT', year: str = '2025', quarter: str = 'Q1') -> str:\n",
    "    ''' \n",
    "    Returns the earnings call transcript for the company ticker\n",
    "    for the fiscal year and quarter. Expects a string of the company's \n",
    "    stock ticker in upper case, a string for the fiscal year in a format like '2025', \n",
    "    and a string for the quarter in a format like 'Q1', 'Q2', 'Q3', or 'Q4'. \n",
    "    Return the conference call transcript in a string format.\n",
    "    '''\n",
    "\n",
    "    tick = ticker.upper()\n",
    "    advantage_api_key = os.getenv('ALPHAVANTAGE_API_KEY')\n",
    "    url = f'https://www.alphavantage.co/query?function=EARNINGS_CALL_TRANSCRIPT&symbol={tick}&quarter={year}{quarter}&apikey={advantage_api_key}'\n",
    "    \n",
    "    r = requests.get(url)\n",
    "    data = r.json()\n",
    "\n",
    "    result = ''\n",
    "    result += f'Ticker: {data['symbol']}\\n'\n",
    "    result += f'Fiscal Quarter: {data['quarter']}\\n\\n'\n",
    "    \n",
    "    for section in data['transcript']:\n",
    "        result += f'Speaker: {section['speaker']}\\nTitle: {section['title']}\\n\\n{section['content']}\\n\\n'\n",
    "        \n",
    "    return result"
   ]
  },
  {
   "cell_type": "code",
   "execution_count": 10,
   "id": "44e51488-caf8-4748-86ac-680e617f4312",
   "metadata": {},
   "outputs": [],
   "source": [
    "@tool\n",
    "def get_address_coordinates(address: str) -> str:\n",
    "    ''' \n",
    "    Return the latitude and the longitude corresponding to the\n",
    "    street address given. If the geocode is not found, it would \n",
    "    return the string 'Geocode location  not found'.\n",
    "    '''\n",
    "    \n",
    "    google_maps_api_key = os.getenv('GPLACES_API_KEY')\n",
    "\n",
    "    url = f'https://maps.googleapis.com/maps/api/geocode/json?address={address}&key={google_maps_api_key}'\n",
    "\n",
    "    response = requests.get(url)\n",
    "    response.raise_for_status()\n",
    "    geocode_data = response.json()\n",
    "    if geocode_data['status'] == 'OK':\n",
    "        latitude = str(geocode_data['results'][0]['geometry']['location']['lat'])\n",
    "        longitude = str(geocode_data['results'][0]['geometry']['location']['lng'])\n",
    "        return f'latitude: {latitude}, longitude: {longitude}'\n",
    "    else:\n",
    "        return 'Geocode location is not found'"
   ]
  },
  {
   "cell_type": "code",
   "execution_count": 11,
   "id": "4cebf047-4b4b-4432-b358-7d72e66761dc",
   "metadata": {},
   "outputs": [],
   "source": [
    "@tool\n",
    "def haversine(la1: str, lo1: str, la2: str, lo2:str) -> str:\n",
    "    ''' \n",
    "    Return the distance in terms of mile between two locations, \n",
    "    both having latitude and the longitude coordinates. The inputs\n",
    "    are in string format, and the output is a string with the distance\n",
    "    in miles rounded to two digits.\n",
    "    '''\n",
    "    \n",
    "    # Convert latitude and longitude from degrees to radians\n",
    "    lat1=float(la1)\n",
    "    lon1=float(lo1)\n",
    "    lat2=float(la2)\n",
    "    lon2=float(lo2)\n",
    "    \n",
    "    lat1, lon1, lat2, lon2 = map(math.radians, [lat1, lon1, lat2, lon2])\n",
    "    \n",
    "    # Haversine formula\n",
    "    dlat = lat2 - lat1\n",
    "    dlon = lon2 - lon1\n",
    "    a = math.sin(dlat / 2)**2 + math.cos(lat1) * math.cos(lat2) * math.sin(dlon / 2)**2\n",
    "    c = 2 * math.asin(math.sqrt(a))\n",
    "    \n",
    "    # Radius of Earth in kilometers: 6371 (use 3956 for miles)\n",
    "    \n",
    "    r = 3956\n",
    "    return str(round(c * r, 2))"
   ]
  },
  {
   "cell_type": "markdown",
   "id": "6da4b447-7621-480e-93e8-2c647ead1d6a",
   "metadata": {},
   "source": [
    "## Create a list of tools"
   ]
  },
  {
   "cell_type": "code",
   "execution_count": 12,
   "id": "7209db9e-df6c-4f84-b496-a6aad4dc86bf",
   "metadata": {},
   "outputs": [],
   "source": [
    "# tools = load_tools(tool_names=[\"serpapi\", \"wolfram-alpha\"], llm=chat_model)\n",
    "# tools = tools + [retriever_tool]\n",
    "\n",
    "tools_list = load_tools(tool_names=[\"wolfram-alpha\"], llm=ollama_model)\n",
    "tools_list = tools_list + [tavily_search]\n",
    "# tools_list = tools_list + [retriever_tool]\n",
    "tools_list = tools_list + [get_stock_closing_price, earnings_call_transcript, get_address_coordinates, haversine]\n",
    "tools_list = tools_list + [google_book_tool, google_trend_tool, google_places_tool, wikipedia_tool]"
   ]
  },
  {
   "cell_type": "markdown",
   "id": "28b52e3b-361c-4854-9404-01b5e0676f38",
   "metadata": {},
   "source": [
    "## Prompt Design"
   ]
  },
  {
   "cell_type": "code",
   "execution_count": 13,
   "id": "5a6be35a-6595-46b0-8695-766e270f27de",
   "metadata": {},
   "outputs": [],
   "source": [
    "today = date.today()"
   ]
  },
  {
   "cell_type": "code",
   "execution_count": 14,
   "id": "019e21fb-1c9b-4df0-b173-5ad14d807bba",
   "metadata": {},
   "outputs": [],
   "source": [
    "def get_current_gps_coordinates():\n",
    "    g = geocoder.ip('me')#this function is used to find the current information using our IP Add\n",
    "    if g.latlng is not None: #g.latlng tells if the coordiates are found or not\n",
    "        return g.latlng\n",
    "    else:\n",
    "        return None"
   ]
  },
  {
   "cell_type": "code",
   "execution_count": 17,
   "id": "ccfb1e3a-f618-40d1-8150-e63e3a99b2ca",
   "metadata": {},
   "outputs": [],
   "source": [
    "def get_town_state_country():\n",
    "\n",
    "    g = geocoder.ip('me')\n",
    "    \n",
    "    if g.latlng is not None: #g.latlng tells if the coordiates are found or not\n",
    "        latitude, longitude = g.latlng\n",
    "    else:\n",
    "        latitude, longitude = 40.83412, -74.16749\n",
    "\n",
    "    geolocator=Nominatim(user_agent='geoapiExcises')\n",
    "\n",
    "    location=geolocator.reverse(str(latitude)+\",\"+str(longitude))\n",
    "    address=location.raw['address']\n",
    "\n",
    "    return address['town'], address['state'], address['country']"
   ]
  },
  {
   "cell_type": "code",
   "execution_count": 19,
   "id": "da5a227f-b248-4887-9b40-5d6400b38502",
   "metadata": {},
   "outputs": [
    {
     "data": {
      "text/plain": [
       "[SystemMessagePromptTemplate(prompt=PromptTemplate(input_variables=[], input_types={}, partial_variables={}, template='You are a helpful assistant'), additional_kwargs={}),\n",
       " MessagesPlaceholder(variable_name='chat_history', optional=True),\n",
       " HumanMessagePromptTemplate(prompt=PromptTemplate(input_variables=['input'], input_types={}, partial_variables={}, template='{input}'), additional_kwargs={}),\n",
       " MessagesPlaceholder(variable_name='agent_scratchpad')]"
      ]
     },
     "execution_count": 19,
     "metadata": {},
     "output_type": "execute_result"
    }
   ],
   "source": [
    "prompt = hub.pull(\"hwchase17/openai-functions-agent\")\n",
    "prompt.messages"
   ]
  },
  {
   "cell_type": "code",
   "execution_count": 20,
   "id": "c156dd32-19ee-4352-b14e-4392871fd061",
   "metadata": {},
   "outputs": [],
   "source": [
    "prompt.messages[0] = SystemMessagePromptTemplate(prompt=PromptTemplate(input_variables=[], input_types={}, partial_variables={}, template=f\"Your name is Einstein, developed in 2001. You are a helpful assistant. Today is {today}.\"), additional_kwargs={})\n"
   ]
  },
  {
   "cell_type": "markdown",
   "id": "5434a1bf-f7fb-4a52-8063-21d346824a42",
   "metadata": {},
   "source": [
    "## Create agent"
   ]
  },
  {
   "cell_type": "code",
   "execution_count": 22,
   "id": "3d3d453b-162a-4cf8-aa66-257afc2e2a0c",
   "metadata": {},
   "outputs": [],
   "source": [
    "agent = create_tool_calling_agent(llm=chat_model, \n",
    "                                  tools=tools_list, \n",
    "                                  prompt=prompt)"
   ]
  },
  {
   "cell_type": "code",
   "execution_count": 23,
   "id": "936c4dd8-80c7-443d-8fb2-274f28c01e73",
   "metadata": {},
   "outputs": [],
   "source": [
    "agent_executor = AgentExecutor(agent=agent, tools=tools_list, verbose=False)"
   ]
  },
  {
   "cell_type": "markdown",
   "id": "75b05b6e-f1bd-4be2-acf2-881a73b7562e",
   "metadata": {},
   "source": [
    "## Define Text_to_Speech function"
   ]
  },
  {
   "cell_type": "code",
   "execution_count": 24,
   "id": "b526ca21-cad0-4e35-aef5-43c2675387eb",
   "metadata": {},
   "outputs": [],
   "source": [
    "client = ElevenLabs(api_key=os.getenv('ELEVENLABS_API_KEY'))\n",
    "\n",
    "def text_to_speech(text, voice=\"Daniel\"):\n",
    "\n",
    "    voice_catalog = {\"Aria\": \"9BWtsMINqrJLrRacOk9x\",\n",
    "                     \"Roger\": \"CwhRBWXzGAHq8TQ4Fs17\",\n",
    "                     \"Sarah\": \"EXAVITQu4vr4xnSDxMaL\",\n",
    "                     \"Laura\": \"FGY2WhTYpPnrIDTdsKH5\",\n",
    "                     \"Charlie\": \"IKne3meq5aSn9XLyUdCD\",\n",
    "                     \"George\": \"JBFqnCBsd6RMkjVDRZzb\",\n",
    "                     \"Callum\": \"N2lVS1w4EtoT3dr4eOWO\",\n",
    "                     \"River\": \"SAz9YHcvj6GT2YYXdXww\",\n",
    "                     \"Liam\": \"TX3LPaxmHKxFdv7VOQHJ\",\n",
    "                     \"Charlotte\": \"XB0fDUnXU5powFXDhCwa\",\n",
    "                     \"Alice\": \"Xb7hH8MSUJpSbSDYk0k2\",\n",
    "                     \"Matilda\": \"XrExE9yKIg1WjnnlVkGX\",\n",
    "                     \"Will\": \"bIHbv24MWmeRgasZH58o\",\n",
    "                     \"Jessica\": \"cgSgspJ2msm6clMCkdW9\",\n",
    "                     \"Eric\": \"cjVigY5qzO86Huf0OWal\",\n",
    "                     \"Chris\": \"iP95p4xoKVk53GoZ742B\",\n",
    "                     \"Brian\": \"nPczCjzI2devNBz1zQrb\",\n",
    "                     \"Daniel\": \"onwK4e9ZLuTAKqWW03F9\",\n",
    "                     \"Lily\": \"pFZP5JQG7iQjIQuC4Bku\",\n",
    "                     \"Bill\": \"pqHfZKP75CvOlQylNhV4\", \n",
    "                     \"Stacy - Sweet and Cute Chinese\": \"hkfHEbBvdQFNX4uWHqRF\", \n",
    "                     \"James Gao\": \"4VZIsMPtgggwNg7OXbPY\"}\n",
    "\n",
    "    if voice in voice_catalog:\n",
    "        voice_id_code = voice_catalog[voice]\n",
    "    else:\n",
    "        voice_id_code = voice_catalog['Daniel']\n",
    "\n",
    "    audio = client.text_to_speech.convert(text=text, \n",
    "                                          voice_id=voice_id_code,\n",
    "                                          model_id='eleven_turbo_v2_5',\n",
    "                                          output_format=\"mp3_44100_64\")\n",
    "\n",
    "    elevenlabs.play(audio)"
   ]
  },
  {
   "cell_type": "markdown",
   "id": "d27a17e7-5bf1-4873-adf0-2b4c2dc41b4a",
   "metadata": {},
   "source": [
    "## Define Chatbot_streaming function"
   ]
  },
  {
   "cell_type": "code",
   "execution_count": 25,
   "id": "a99927aa-b254-4d65-8450-314496904610",
   "metadata": {},
   "outputs": [],
   "source": [
    "history = []"
   ]
  },
  {
   "cell_type": "code",
   "execution_count": 26,
   "id": "66ff11ac-6f16-41b1-be09-aacdad53eb70",
   "metadata": {},
   "outputs": [],
   "source": [
    "def chat_stream(message, history):\n",
    "    \n",
    "    # messages = [{\"role\": \"system\", \"content\": system_message}] + history + [{\"role\": \"user\", \"content\": message}]\n",
    "    \n",
    "    # text_to_speech(message)\n",
    "    stream = agent_executor.stream({\"input\": message, \"chat_history\": history})\n",
    "\n",
    "    response = \"\"\n",
    "    for chunk in stream:\n",
    "        if 'output' in chunk:\n",
    "            response += chunk['output'] or ''\n",
    "        else:\n",
    "            continue\n",
    "        yield response"
   ]
  },
  {
   "cell_type": "markdown",
   "id": "015d5242-f485-4099-931e-5d35736d934e",
   "metadata": {},
   "source": [
    "## Define a Chatbot with voice"
   ]
  },
  {
   "cell_type": "code",
   "execution_count": 27,
   "id": "50fe61d4-215e-4719-9463-d96c12a79353",
   "metadata": {},
   "outputs": [],
   "source": [
    "def chat_voice(message, history):\n",
    "    \n",
    "    # messages = [{\"role\": \"system\", \"content\": system_message}] + history + [{\"role\": \"user\", \"content\": message}]\n",
    "\n",
    "    response = agent_executor.invoke({\"input\": message, \"chat_history\": history})\n",
    "    # text_to_speech(text=response['output'], voice=\"Daniel\")\n",
    "\n",
    "    return response['output']"
   ]
  },
  {
   "cell_type": "markdown",
   "id": "78f6e496-7edf-42d8-a006-4cef89794836",
   "metadata": {},
   "source": [
    "## Gradio Interface"
   ]
  },
  {
   "cell_type": "code",
   "execution_count": 28,
   "id": "2521e9c1-62fa-49b3-a989-3e7472ee96c1",
   "metadata": {},
   "outputs": [],
   "source": [
    "chatbot = gr.ChatInterface(fn=chat_stream, type=\"messages\", title='AI Chatbot')"
   ]
  },
  {
   "cell_type": "code",
   "execution_count": 29,
   "id": "bbc70920-93b5-408d-95df-0bdaba8a25f6",
   "metadata": {},
   "outputs": [
    {
     "name": "stdout",
     "output_type": "stream",
     "text": [
      "* Running on local URL:  http://127.0.0.1:7860\n",
      "* To create a public link, set `share=True` in `launch()`.\n"
     ]
    },
    {
     "data": {
      "text/html": [
       "<div><iframe src=\"http://127.0.0.1:7860/\" width=\"100%\" height=\"500\" allow=\"autoplay; camera; microphone; clipboard-read; clipboard-write;\" frameborder=\"0\" allowfullscreen></iframe></div>"
      ],
      "text/plain": [
       "<IPython.core.display.HTML object>"
      ]
     },
     "metadata": {},
     "output_type": "display_data"
    },
    {
     "data": {
      "text/plain": []
     },
     "execution_count": 29,
     "metadata": {},
     "output_type": "execute_result"
    },
    {
     "name": "stdout",
     "output_type": "stream",
     "text": [
      "\n",
      "\n",
      "\u001b[1m> Entering new None chain...\u001b[0m\n",
      "\u001b[32;1m\u001b[1;3mHello, Jim! How can I assist you today?\u001b[0m\n",
      "\n",
      "\u001b[1m> Finished chain.\u001b[0m\n",
      "\n",
      "\n",
      "\u001b[1m> Entering new None chain...\u001b[0m\n",
      "\u001b[32;1m\u001b[1;3m\n",
      "Invoking: `google_places` with `{'query': 'White Castle near 101 Darling Ave., Bloomfield, NJ'}`\n",
      "\n",
      "\n",
      "\u001b[38;5;200m\u001b[1;3m1. White Castle\n",
      "Address: 642 Broadway, Newark, NJ 07104, USA\n",
      "Google place ID: ChIJbTvTUFBUwokR5UXKksUwSLk\n",
      "Phone: (973) 485-3250\n",
      "Website: https://www.whitecastle.com/locations/314\n",
      "\n",
      "\n",
      "2. White Castle\n",
      "Address: 467 Central Ave, City of Orange, NJ 07050, USA\n",
      "Google place ID: ChIJqx0WYmqrw4kRzxons_HtlY0\n",
      "Phone: (973) 673-7991\n",
      "Website: https://www.whitecastle.com/locations/297\n",
      "\n",
      "\n",
      "3. White Castle\n",
      "Address: 1341 Main Ave, Clifton, NJ 07011, USA\n",
      "Google place ID: ChIJk69NXL7-wokRZtnURhztYVQ\n",
      "Phone: (973) 772-0335\n",
      "Website: http://www.whitecastle.com/\n",
      "\n",
      "\u001b[32;1m\u001b[1;3mHere are the nearest White Castle restaurants to your location at 101 Darling Ave., Bloomfield, NJ:\n",
      "\n",
      "1. **White Castle**\n",
      "   - **Address:** 642 Broadway, Newark, NJ 07104, USA\n",
      "   - **Phone:** (973) 485-3250\n",
      "   - **Website:** [Visit White Castle](https://www.whitecastle.com/locations/314)\n",
      "\n",
      "2. **White Castle**\n",
      "   - **Address:** 467 Central Ave, City of Orange, NJ 07050, USA\n",
      "   - **Phone:** (973) 673-7991\n",
      "   - **Website:** [Visit White Castle](https://www.whitecastle.com/locations/297)\n",
      "\n",
      "3. **White Castle**\n",
      "   - **Address:** 1341 Main Ave, Clifton, NJ 07011, USA\n",
      "   - **Phone:** (973) 772-0335\n",
      "   - **Website:** [Visit White Castle](http://www.whitecastle.com/)\n",
      "\n",
      "Let me know if you need more information!\u001b[0m\n",
      "\n",
      "\u001b[1m> Finished chain.\u001b[0m\n",
      "\n",
      "\n",
      "\u001b[1m> Entering new None chain...\u001b[0m\n",
      "\u001b[32;1m\u001b[1;3m\n",
      "Invoking: `get_address_coordinates` with `{'address': '101 Darling Ave., Bloomfield, NJ'}`\n",
      "\n",
      "\n",
      "\u001b[33;1m\u001b[1;3mlatitude: 40.83411359999999, longitude: -74.1674934\u001b[0m\u001b[32;1m\u001b[1;3m\n",
      "Invoking: `get_address_coordinates` with `{'address': '642 Broadway, Newark, NJ 07104, USA'}`\n",
      "\n",
      "\n",
      "\u001b[33;1m\u001b[1;3mlatitude: 40.772605, longitude: -74.1618716\u001b[0m\u001b[32;1m\u001b[1;3m\n",
      "Invoking: `haversine` with `{'la1': '40.83411359999999', 'lo1': '-74.1674934', 'la2': '40.772605', 'lo2': '-74.1618716'}`\n",
      "\n",
      "\n",
      "\u001b[32;1m\u001b[1;3mThe first White Castle restaurant at 642 Broadway, Newark, NJ, is approximately 4.26 miles away from your location at 101 Darling Ave., Bloomfield, NJ. If you need anything else, feel free to ask!\u001b[0m\n",
      "\n",
      "\u001b[1m> Finished chain.\u001b[0m\n",
      "\n",
      "\n",
      "\u001b[1m> Entering new None chain...\u001b[0m\n",
      "\u001b[32;1m\u001b[1;3m\n",
      "Invoking: `google_trends` with `{'query': 'global warming'}`\n",
      "\n",
      "\n",
      "\u001b[33;1m\u001b[1;3mQuery: global warming\n",
      "Date From: May 12, 2024\n",
      "Date To: May 17, 2025\n",
      "Min Value: 40\n",
      "Max Value: 100\n",
      "Average Value: 66.77358490566037\n",
      "Percent Change: -27.0%\n",
      "Trend values: 100, 95, 89, 85, 72, 62, 57, 55, 53, 48, 47, 46, 46, 50, 52, 57, 59, 68, 68, 70, 71, 77, 75, 73, 68, 81, 84, 81, 65, 79, 77, 66, 40, 44, 75, 80, 86, 70, 70, 68, 65, 67, 66, 65, 69, 50, 54, 58, 53, 73, 69, 68, 73\n",
      "Rising Related Queries: global warming 2025, climate clock, global warming clock, trump global warming, global warming 2024, hurricane, it is not possible for global warming to have any positive side effects. please select the best answer from the choices provided t f, global warming is a theory accepted by a majority of scientists. please select the best answer from the choices provided t f, when will global warming kill us, what is global warming in simple words, which of the following theories concerning global climate change is the most widely accepted? a. changes in the global climate will lead to an increase in extreme weather and flooding. b. global climate is changing due to burning of fossil fuels and deforestation. c. global climate change will happen rapidly. d. extra carbon dioxide and global warming will be beneficial., what is the main cause of global warming, coral bleaching, is climate change the same as global warming, is global warming and climate change the same, what is global warming short answer, write a paragraph on global warming, global warming potential, sustainability, can global warming be reversed, how do greenhouse gases contribute to global warming, for many years scientists have been arguing about global warming, explain how climate change causes global warming, how bad is global warming right now\n",
      "\u001b[32;1m\u001b[1;3mThe Google Trends data for \"global warming\" shows the following insights:ate change, climate change global warming, greenhouse, what is a global warming, global warming causes, global warming effect, about global warming, global warming cause, global warming effects, global warming and climate change, causes of global warming, effect of global warming, global warming meaning, effects of global warming, earth, pollution, global warming gases, cause of global warming, environment, greenhouse effect, global warming definition, what is climate change\u001b[0m\n",
      "\n",
      "- **Trend Values (from May 12, 2024, to May 17, 2025):** The interest in \"global warming\" has fluctuated, with values ranging from a low of 40 to a high of 100. The average interest over this period is approximately 66.77.\n",
      "- **Percent Change:** There has been a decrease of 27% in interest compared to the previous period.\n",
      "- **Recent Trend Values:** The trend values over the specified period are as follows: 100, 95, 89, 85, 72, 62, 57, 55, 53, 48, 47, 46, 46, 50, 52, 57, 59, 68, 68, 70, 71, 77, 75, 73, 68, 81, 84, 81, 65, 79, 77, 66, 40, 44, 75, 80, 86, 70, 70, 68, 65, 67, 66, 65, 69, 50, 54, 58, 53, 73, 69, 68, 73.\n",
      "\n",
      "### Rising Related Queries:\n",
      "- \"global warming 2025\"\n",
      "- \"climate clock\"\n",
      "- \"global warming clock\"\n",
      "- \"trump global warming\"\n",
      "- \"hurricane\"\n",
      "- \"what is global warming in simple words\"\n",
      "- \"is climate change the same as global warming?\"\n",
      "\n",
      "### Top Related Queries:\n",
      "- \"what is global warming\"\n",
      "- \"climate change\"\n",
      "- \"global warming causes\"\n",
      "- \"effects of global warming\"\n",
      "\n",
      "If you need more specific information or analysis, feel free to ask!\u001b[0m\n",
      "\n",
      "\u001b[1m> Finished chain.\u001b[0m\n",
      "\n",
      "\n",
      "\u001b[1m> Entering new None chain...\u001b[0m\n",
      "\u001b[32;1m\u001b[1;3m\n",
      "Invoking: `google_trends` with `{'query': 'trending topics'}`\n",
      "\n",
      "\n",
      "\u001b[33;1m\u001b[1;3mQuery: trending topics\n",
      "Date From: May 12, 2024\n",
      "Date To: May 17, 2025\n",
      "Min Value: 60\n",
      "Max Value: 100\n",
      "Average Value: 75.84905660377359\n",
      "Percent Change: -11.538461538461538%\n",
      "Trend values: 78, 75, 73, 73, 74, 71, 80, 68, 72, 77, 73, 81, 73, 80, 82, 100, 98, 88, 85, 82, 76, 72, 77, 74, 74, 71, 85, 82, 73, 70, 71, 60, 68, 74, 81, 70, 83, 86, 84, 88, 70, 69, 69, 71, 71, 75, 76, 73, 70, 67, 67, 71, 69\n",
      "Rising Related Queries: trending topics bluesky, bluesky, asmr, invideo, blox fruits, trending topics 2024\n",
      "\u001b[32;1m\u001b[1;3mHere are the top trending topics based on Google Trends data:outube topics, trending topics on youtube, trending topics twitter, today trending topics, trending topics 2024, google trending, google trending topics, india trending topics, top trending topics, trending topics in india, trends, trending news, trending news topics, trending topics in youtube, most trending topics, trending topics for youtube, trending research topics, trending topic, social media trending topics, trending topics instagram, trending now, current trending topics, trending health topics\u001b[0m\n",
      "\n",
      "1. **YouTube Trending**\n",
      "2. **Trending Topics on YouTube**\n",
      "3. **Trending Topics Twitter**\n",
      "4. **Today Trending Topics**\n",
      "5. **Trending Topics 2024**\n",
      "6. **Google Trending Topics**\n",
      "7. **India Trending Topics**\n",
      "8. **Trending News Topics**\n",
      "9. **Trending Topics for YouTube**\n",
      "10. **Social Media Trending Topics**\n",
      "\n",
      "These topics reflect current interests and discussions across various platforms. If you need more details on any specific topic, let me know!\u001b[0m\n",
      "\n",
      "\u001b[1m> Finished chain.\u001b[0m\n",
      "\n",
      "\n",
      "\u001b[1m> Entering new None chain...\u001b[0m\n",
      "\u001b[32;1m\u001b[1;3m\n",
      "Invoking: `google_trends` with `{'query': 'top celebrities'}`\n",
      "\n",
      "\n",
      "\u001b[33;1m\u001b[1;3mQuery: top celebrities\n",
      "Date From: May 12, 2024\n",
      "Date To: May 17, 2025\n",
      "Min Value: 80\n",
      "Max Value: 100\n",
      "Average Value: 89.0377358490566\n",
      "Percent Change: -1.1764705882352942%\n",
      "Trend values: 85, 80, 93, 86, 84, 86, 90, 81, 86, 98, 88, 86, 82, 81, 84, 91, 93, 87, 89, 87, 89, 95, 95, 96, 92, 88, 86, 92, 88, 85, 93, 91, 91, 99, 100, 99, 89, 95, 92, 97, 91, 93, 91, 83, 93, 86, 92, 86, 85, 83, 83, 80, 84\n",
      "Rising Related Queries: sabrina carpenter, sydney sweeney, top 50 american musicians, popular celebrity in usa, female celebrities in usa, usa female celebrities, celebrity in usa, top 10 celebrities in usa, top 10 male celebrities, top celebrities in usa, celebrities in usa\n",
      "\u001b[32;1m\u001b[1;3mHere are the top trending celebrities based on recent Google Trends data:ities, top male celebrities, male celebrities, celebrity, famous celebrities, top celebrities in usa, celebrities in usa, top celebrities in the world, top 50 celebrities, top 100 celebrities, popular celebrities, top 10 celebrities in the world, actors, top ten celebrities, richest celebrities, top richest celebrities, top 20 celebrities, celebrities list, top 10 female celebrities, top 10 male celebrities, top hottest celebrities, hottest celebrities\u001b[0m\n",
      "\n",
      "1. **Sabrina Carpenter**\n",
      "2. **Sydney Sweeney**\n",
      "3. **Top 50 American Musicians**\n",
      "4. **Popular Celebrity in USA**\n",
      "5. **Female Celebrities in USA**\n",
      "6. **USA Female Celebrities**\n",
      "7. **Celebrity in USA**\n",
      "8. **Top 10 Celebrities in USA**\n",
      "9. **Top 10 Male Celebrities**\n",
      "10. **Top Celebrities in USA**\n",
      "\n",
      "These names reflect current interests and discussions surrounding celebrities. If you need more specific information about any of these celebrities or trends, feel free to ask!\u001b[0m\n",
      "\n",
      "\u001b[1m> Finished chain.\u001b[0m\n",
      "\n",
      "\n",
      "\u001b[1m> Entering new None chain...\u001b[0m\n",
      "\u001b[32;1m\u001b[1;3m\n",
      "Invoking: `wikipedia` with `{'query': 'Sabrina Carpenter'}`\n",
      "\n",
      "\n",
      "\u001b[36;1m\u001b[1;3mPage: Sabrina Carpenter\n",
      "Summary: Sabrina Annlynn Carpenter (born May 11, 1999) is an American singer, songwriter, and actress. She first gained prominence starring on the Disney Channel series Girl Meets World (2014–2017). She signed with the Disney-owned Hollywood Records and released her debut single, \"Can't Blame a Girl for Trying\" in 2014, followed by the studio albums Eyes Wide Open (2015), Evolution (2016), Singular: Act I (2018), and Singular: Act II (2019).\n",
      "Carpenter moved to Island Records in 2021 and released her fifth studio album, Emails I Can't Send (2022) which was supported by the singles \"Nonsense\" and \"Feather\". Her sixth studio album, Short n' Sweet (2024), debuted atop the Billboard 200, produced the top-three Hot 100 singles \"Espresso\", \"Please Please Please\" and \"Taste\", and won two Grammy Awards.\n",
      "Carpenter has appeared in films, including Adventures in Babysitting (2016), The Hate U Give (2018), The Short History of the Long Road (2019), Clouds (2020), and Emergency (2022). She has also starred in the Netflix films Tall Girl (2019), Tall Girl 2 (2022), and Work It (2020), the latter of which she executive-produced. On Broadway, she played Cady Heron in the musical Mean Girls (2020).\n",
      "\n",
      "\n",
      "\n",
      "Page: Sabrina Carpenter discography\n",
      "Summary: American singer Sabrina Carpenter has released six studio albums, two extended plays, 24 singles (including five as a featured artist), 25 promotional singles and 33 music videos. Prior to gaining recognition on Disney Channel's Girl Meets World and performing its theme song, Carpenter signed a five-album deal with Hollywood Records. In 2014, she released her debut single \"Can't Blame a Girl for Trying\" and a EP of the same name. She followed this with her debut album Eyes Wide Open (2015) which debuted at number 43 on the US Billboard 200.\n",
      "She released her second studio album Evolution (2016) which found commercial success and debuted at number 28. It was accompanied by the singles \"On Purpose\" and \"Thumbs\"; the latter of which peaked at number one on the Bubbling Under Hot 100 chart and was certified Platinum by Recording Industry Association of America (RIAA). She found continued success with her follow-up single \"Why\", which was certified Gold by the RIAA. Her next studio album was split into two parts with Singular: Act I (2018) and Singular: Act II (2019). The albums gained recognition for their various singles including \"Alien\", \"Almost Love\" and \"Sue Me\" which became consecutive number ones on the US Dance Club Songs chart. She also collaborated with Alan Walker and The Vamps on the song \"On My Way\" and \"Hands\" respectively.\n",
      "Carpenter released various singles from 2020–2021 including \"Honeymoon Fades\" and \"Skin\" with the latter marking her first release with Island Records and first entry on the Billboard Hot 100 at number 48. Her fifth studio album, Emails I Can't Send (2022) found commercial success, and featured the RIAA Platinum singles \"Nonsense\" and \"Feather\", with the latter reaching number one on the US Pop Airplay chart and peaking at number 21 on the Hot 100. She released her first Christmas EP in 2023, Fruitcake, which reached number 3 on the US Top Holiday Albums chart. In 2024, Carpenter released her sixth studio album Short n' Sweet (2024) which spent multiple weeks atop the Billboard 200. The album garnered various singles including \"Espresso\", \"Please Please Please\" and  \"Taste\"; all of which topped various charts worldwide including the US Pop Airplay chart. \"Please Please Please\" marked her first number one on the Hot 100 while all three songs simultaneously remained in the top ten of the Hot 100 for seven consecutive weeks, a record for any female artist in history.\n",
      "\u001b[32;1m\u001b[1;3mSabrina Annlynn Carpenter (born May 11, 1999) is an American singer, songwriter, and actress. She first gained prominence for her role in the Disney Channel series **Girl Meets World** (2014–2017). Carpenter signed with Hollywood Records, a Disney-owned label, and released her debut single, **\"Can't Blame a Girl for Trying,\"** in 2014. \n",
      "\n",
      "### Music Career\n",
      "She has released several studio albums:\n",
      "- **Eyes Wide Open** (2015)\n",
      "- **Evolution** (2016)\n",
      "- **Singular: Act I** (2018)\n",
      "- **Singular: Act II** (2019)\n",
      "- **Emails I Can't Send** (2022)\n",
      "- **Short n' Sweet** (2024)\n",
      "\n",
      "Her latest album, **Short n' Sweet**, debuted atop the Billboard 200 and produced hit singles like **\"Espresso,\" \"Please Please Please,\"** and **\"Taste,\"** with \"Please Please Please\" reaching number one on the Hot 100.\n",
      "\n",
      "### Acting Career\n",
      "In addition to her music career, Carpenter has appeared in various films, including:\n",
      "- **Adventures in Babysitting** (2016)\n",
      "- **The Hate U Give** (2018)\n",
      "- **Clouds** (2020)\n",
      "- **Emergency** (2022)\n",
      "\n",
      "She also starred in Netflix films such as **Tall Girl** (2019) and its sequel **Tall Girl 2** (2022), and she played Cady Heron in the Broadway musical **Mean Girls** (2020).\n",
      "\n",
      "### Achievements\n",
      "Throughout her career, Carpenter has received multiple awards and nominations, including Grammy Awards for her recent work. She is known for her engaging performances and has a significant following on social media.\n",
      "\n",
      "If you would like to know more about her or any specific aspect of her career, feel free to ask!\u001b[0m\n",
      "\n",
      "\u001b[1m> Finished chain.\u001b[0m\n"
     ]
    }
   ],
   "source": [
    "chatbot.launch(share=False)"
   ]
  },
  {
   "cell_type": "code",
   "execution_count": 30,
   "id": "be845a0e-a87d-4a06-af1a-594a38bb904b",
   "metadata": {},
   "outputs": [
    {
     "name": "stdout",
     "output_type": "stream",
     "text": [
      "Closing server running on port: 7860\n"
     ]
    }
   ],
   "source": [
    "chatbot.close()"
   ]
  },
  {
   "cell_type": "code",
   "execution_count": null,
   "id": "437e2d3c-8fee-4c83-ab80-aa6d3744a76d",
   "metadata": {},
   "outputs": [],
   "source": []
  }
 ],
 "metadata": {
  "kernelspec": {
   "display_name": "Python 3 (ipykernel)",
   "language": "python",
   "name": "python3"
  },
  "language_info": {
   "codemirror_mode": {
    "name": "ipython",
    "version": 3
   },
   "file_extension": ".py",
   "mimetype": "text/x-python",
   "name": "python",
   "nbconvert_exporter": "python",
   "pygments_lexer": "ipython3",
   "version": "3.12.9"
  }
 },
 "nbformat": 4,
 "nbformat_minor": 5
}
