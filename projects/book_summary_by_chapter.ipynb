{
 "cells": [
  {
   "cell_type": "code",
   "execution_count": 1,
   "id": "04aa264a-3ff2-4632-b17a-25bfb077cd0d",
   "metadata": {},
   "outputs": [],
   "source": [
    "# System\n",
    "import os\n",
    "from dotenv import load_dotenv\n",
    "import tempfile\n",
    "from titlecase import titlecase\n",
    "\n",
    "# LLM Models\n",
    "from langchain_openai import ChatOpenAI\n",
    "from openai import OpenAI\n",
    "\n",
    "# Template\n",
    "from langchain_core.prompts import ChatPromptTemplate\n",
    "\n",
    "# OutputParsers\n",
    "from langchain.schema.output_parser import StrOutputParser\n",
    "\n",
    "# Gradio frontend\n",
    "import gradio as gr"
   ]
  },
  {
   "cell_type": "code",
   "execution_count": 2,
   "id": "34d883bc-cb05-418a-8751-f705ec807c1a",
   "metadata": {},
   "outputs": [
    {
     "data": {
      "text/plain": [
       "True"
      ]
     },
     "execution_count": 2,
     "metadata": {},
     "output_type": "execute_result"
    }
   ],
   "source": [
    "load_dotenv()"
   ]
  },
  {
   "cell_type": "code",
   "execution_count": 3,
   "id": "e8f64be6-d7f0-48f7-b28d-8aa28c2c5854",
   "metadata": {},
   "outputs": [],
   "source": [
    "client = OpenAI()"
   ]
  },
  {
   "cell_type": "code",
   "execution_count": 4,
   "id": "35812126-34ee-49b4-9a0f-0764c2939776",
   "metadata": {},
   "outputs": [],
   "source": [
    "chat_model = ChatOpenAI(model=\"gpt-4o-mini-2024-07-18\",\n",
    "                        max_completion_tokens=2048,\n",
    "                        api_key=os.getenv(\"OPENAI_API_KEY\"),\n",
    "                        temperature=0.4)"
   ]
  },
  {
   "cell_type": "code",
   "execution_count": 5,
   "id": "5594ade8-df62-4d31-a75b-d892c76a2817",
   "metadata": {},
   "outputs": [],
   "source": [
    "books = {\"A Christmas Carol\": '.\\\\data\\\\A_Christmas_Carol.txt',\n",
    "         \"A Farewell to Arms\": '.\\\\data\\\\A_Farewell_to_Arms.txt',\n",
    "         \"A Tale of Two Cities\": '.\\\\data\\\\A_Tale_of_Two_Cities.txt',\n",
    "         \"Adventures of Huckleberry Finn\": '.\\\\data\\\\Adventures_of_Huckleberry_Finn.txt',\n",
    "         \"Alice's Adventures in Wonderland\": '.\\\\data\\\\Alice_Adventures_in_Wonderland.txt',\n",
    "         \"All Quiet on the Western Front\": '.\\\\data\\\\All_Quiet_on_the_Western_Front.txt',\n",
    "         \"Anna Karenina\": '.\\\\data\\\\Anna_Karenina.txt',\n",
    "         \"Crime and Punishment\": '.\\\\data\\\\Crime_and_Punishment.txt',\n",
    "         \"David Copperfield\": '.\\\\data\\\\David_Copperfield.txt',\n",
    "         \"Emma\": '.\\\\data\\\\Emma.txt',\n",
    "         \"Great Expectations\": '.\\\\data\\\\Great_Expectations.txt',\n",
    "         \"Heart of Darkness\": '.\\\\data\\\\Heart_of_Darkness.txt',\n",
    "         \"Jane Eyre\": '.\\\\data\\\\Jane_Eyre.txt',\n",
    "         \"Macbeth\": '.\\\\data\\\\Macbeth.txt',\n",
    "         \"Moby-Dick\": '.\\\\data\\\\Moby_Dick.txt',\n",
    "         \"Oliver Twist\": '.\\\\data\\\\Oliver_Twist.txt',\n",
    "         \"Personal Memoirs of U. S. Grant\": '.\\\\data\\\\Personal_Memoirs.txt',\n",
    "         \"Pride and Prejudice\": '.\\\\data\\\\Pride_and_Prejudice.txt',\n",
    "         \"Sense and Sensibility\": '.\\\\data\\\\Sense_and_Sensibility.txt',\n",
    "         \"Silas Marner\": '.\\\\data\\\\Silas_Marner.txt',\n",
    "         \"The Great Gatsby\": '.\\\\data\\\\The_Great_Gatsby.txt',\n",
    "         \"The Hound of the Baskervilles\": '.\\\\data\\\\The_Hound_of_the_Baskervilles.txt',\n",
    "         \"The Jungle\": '.\\\\data\\\\The_Jungle.txt',\n",
    "         \"The Red Badge of Courage\": '.\\\\data\\\\The_Red_Badge_of_Courage.txt',\n",
    "         \"The Sun Also Rises\": '.\\\\data\\\\The_Sun_Also_Rises.txt',\n",
    "         \"Treasure Island\": '.\\\\data\\\\Treasure_Island.txt',\n",
    "         \"Wuthering Heights\": '.\\\\data\\\\Wut\\\\hering_Heights.txt'\n",
    "         }"
   ]
  },
  {
   "cell_type": "code",
   "execution_count": 6,
   "id": "1ad41e28-04c9-4a6e-9fdd-85168f35e0e4",
   "metadata": {},
   "outputs": [],
   "source": [
    "def book_headline(book_title=\"Moby-Dick\"):\n",
    "    filepath = books[book_title]\n",
    "\n",
    "    with open(file=filepath, mode='r') as file:\n",
    "        f = file.read()\n",
    "\n",
    "    f_lines = f.split('\\n')\n",
    "    title = titlecase(f_lines[0])\n",
    "    author = f_lines[2].title()\n",
    "    chapters = f.split('[divider]')[1:]\n",
    "    num_chapters = len(chapters)\n",
    "    headline = f'{title} {author} \\nNumber of Chapters: {num_chapters}'.replace(' By ', ' by ')\n",
    "\n",
    "    return headline, None, None"
   ]
  },
  {
   "cell_type": "code",
   "execution_count": 7,
   "id": "baf39e70-9e78-43dc-b228-deba59d03258",
   "metadata": {},
   "outputs": [],
   "source": [
    "def english_language_translation(text_input: str = 'Hi, how are you?', language: str = 'Chinese'):\n",
    "\n",
    "    response = chat_model.invoke(f\"Translate the following words in English to traditional {language}. \"\n",
    "                                 f\"Give only the {language} translation: {text_input}\")\n",
    "\n",
    "    return response.content"
   ]
  },
  {
   "cell_type": "code",
   "execution_count": 8,
   "id": "c4c199a5-284c-4e55-9f14-91955d8c184d",
   "metadata": {},
   "outputs": [],
   "source": [
    "def process_audio(audio):\n",
    "    # Load the audio file\n",
    "    input_file_path = audio  # This is the path to the uploaded file\n",
    "    output_file_path = \"custom_output_filename.wav\"  # Desired output filename\n",
    "\n",
    "    # Simulate processing (e.g., copying the file)\n",
    "    os.rename(input_file_path, output_file_path)\n",
    "\n",
    "    # Return the new file path\n",
    "    return output_file_path"
   ]
  },
  {
   "cell_type": "code",
   "execution_count": 9,
   "id": "2ad2a79b-c3e5-4e2a-92ad-6d86c3819b2e",
   "metadata": {},
   "outputs": [],
   "source": [
    "def book_chapter_summary(book_title=\"Moby Dick\", chapter_num=1, language='English', voice_gender='Male', speed=1.0):\n",
    "    filepath = books[book_title]\n",
    "\n",
    "    with open(file=filepath, mode='r') as file:\n",
    "        f = file.read()\n",
    "\n",
    "    f_lines = f.split('\\n')\n",
    "    title = titlecase(f_lines[0])\n",
    "    author = f_lines[2].title()\n",
    "    chapters = f.split('[divider]')[1:]\n",
    "\n",
    "    num_chapters = len(chapters)\n",
    "\n",
    "    if chapter_num > num_chapters:\n",
    "        chapter_selected = num_chapters\n",
    "    else:\n",
    "        chapter_selected = chapter_num\n",
    "\n",
    "    chapter = chapters[chapter_selected - 1]\n",
    "\n",
    "    prompt = ChatPromptTemplate.from_template(\n",
    "        \"\"\"\n",
    "        Provide a summary of the following text, at most 200 words. Answer must be based only on the text given. \n",
    "        Context: {chapter}\n",
    "        \"\"\"\n",
    "    )\n",
    "\n",
    "    chat_chain = prompt | chat_model | StrOutputParser()\n",
    "\n",
    "    response = chat_chain.invoke({\"chapter\": chapters[chapter_num - 1]})\n",
    "\n",
    "    if language == 'English':\n",
    "        response1 = response\n",
    "    else:\n",
    "        response1 = english_language_translation(text_input=response, language=language)\n",
    "\n",
    "    if voice_gender == 'Male':\n",
    "        voice_model = 'onyx'\n",
    "    else:\n",
    "        voice_model = 'coral'\n",
    "\n",
    "    audio = client.audio.speech.create(input=response1,\n",
    "                                       model=\"gpt-4o-mini-tts\",\n",
    "                                       voice=voice_model,\n",
    "                                       instructions=\"Speak in a story telling tone.\",\n",
    "                                       response_format=\"mp3\",\n",
    "                                       speed=speed)\n",
    "\n",
    "    prefix = f\"{book_title.replace(' ', '_')}_Chapter_{chapter_selected}_{language}_\"\n",
    "\n",
    "    with tempfile.NamedTemporaryFile(delete=False, suffix=\".mp3\", prefix=prefix) as temp_audio_file:\n",
    "        temp_audio_file.write(audio.content)\n",
    "        temp_file_path = temp_audio_file.name\n",
    "\n",
    "    headline = f'{title} {author} \\nChapter {chapter_selected} of {num_chapters}'.replace(' By ', ' by ')\n",
    "\n",
    "    return headline, response1, temp_file_path"
   ]
  },
  {
   "cell_type": "code",
   "execution_count": 10,
   "id": "53fea0d2-d272-4e98-ac17-abf0bfdd09c3",
   "metadata": {},
   "outputs": [],
   "source": [
    "css_template = \"\"\"                   \n",
    "               h1 {\n",
    "                   font-size: 36px;\n",
    "                   font-family: Verdana, Arial, Sans-Serif;\n",
    "                   font-style: normal;\n",
    "                   font-weight: bold;\n",
    "                   # color: black; # rgb(238, 130, 238)\n",
    "                   # background-color: yellow;\n",
    "                   text-align: center;\n",
    "                   text-transform: normal;\n",
    "                   letter-spacing: 2px;\n",
    "                   # border: 1px solid lightblue;\n",
    "                   # border-radius: 0px\n",
    "                   }\n",
    "\n",
    "               p {\n",
    "                   font-size: 14px;\n",
    "                   font-family: Times New Roman, Times;\n",
    "                   font-style: normal;\n",
    "                   font-weight: normal;\n",
    "                   # color: black; # rgb(238, 130, 238)\n",
    "                   # background-color: yellow;\n",
    "                   text-align: left;\n",
    "                   text-transform: normal;\n",
    "                   letter-spacing: 0px;\n",
    "                   # border: 1px solid lightblue;\n",
    "                   # border-radius: 0px\n",
    "                   }\n",
    "               \"\"\""
   ]
  },
  {
   "cell_type": "code",
   "execution_count": 11,
   "id": "cdfb3b23-6898-46f3-aa92-ff4a399603ba",
   "metadata": {},
   "outputs": [],
   "source": [
    "with gr.Blocks(theme=gr.themes.Base(),\n",
    "               title='Book Summary by Chapter',\n",
    "               css=css_template) as interface:\n",
    "    gr.Markdown(\"# Book Summary by Chapter\", elem_id='title')\n",
    "    gr.Markdown(\"This app provides concise summaries of chapters from classic novels and plays. \"\n",
    "                \"Simply select the book and chapter, choose your preferred output language, \"\n",
    "                \"and click 'Submit' to generate the summary. You can then click 'Play' to listen to the audio version, \"\n",
    "                \"and there's also an option to download the summary as an MP3 file. \"\n",
    "                \"Enjoy exploring literature in a new way!\")\n",
    "    with gr.Row():  # Create a row to hold two columns\n",
    "        with gr.Column():  # First column\n",
    "            dropdown2 = gr.Dropdown(choices=list(books.keys()),\n",
    "                                    value='A Christmas Carol',\n",
    "                                    multiselect=False,\n",
    "                                    label=\"Title of the Book\")\n",
    "            number1 = gr.Number(label=\"Chapter Number\",\n",
    "                                value=1,\n",
    "                                minimum=1)\n",
    "            dropdown3 = gr.Dropdown(choices=['English', 'Chinese', 'Spanish', 'French'],\n",
    "                                    value='English',\n",
    "                                    multiselect=False,\n",
    "                                    label=\"Language Output\")\n",
    "            dropdown4 = gr.Dropdown(choices=['Male', 'Female'],\n",
    "                                    value='Male',\n",
    "                                    multiselect=False,\n",
    "                                    label=\"Speaker Gender\")\n",
    "            slider1 = gr.Slider(minimum=0.80,\n",
    "                                maximum=1.20,\n",
    "                                value=1.0,\n",
    "                                step=0.01,\n",
    "                                label=\"Speaker Speed\")\n",
    "            button1 = gr.Button(value=\"Submit\")\n",
    "        with gr.Column():  # Second column\n",
    "            output1 = gr.Text(label=\"Book Headline\")\n",
    "            output2 = gr.Text(label=\"Chapter Summary\")\n",
    "            output3 = gr.Audio(label=\"Generated Audio\",\n",
    "                               type=\"filepath\",\n",
    "                               autoplay=False,\n",
    "                               show_share_button=False)\n",
    "    button1.click(fn=book_chapter_summary,\n",
    "                  inputs=[dropdown2, number1, dropdown3, dropdown4, slider1],\n",
    "                  outputs=[output1, output2, output3])\n",
    "    dropdown2.select(fn=book_headline,\n",
    "                     inputs=[dropdown2],\n",
    "                     outputs=[output1, output2, output3])"
   ]
  },
  {
   "cell_type": "code",
   "execution_count": 12,
   "id": "8d3bf34d-d0c5-4b8c-b9a9-d92ab7413790",
   "metadata": {},
   "outputs": [
    {
     "name": "stdout",
     "output_type": "stream",
     "text": [
      "* Running on local URL:  http://127.0.0.1:7860\n",
      "* To create a public link, set `share=True` in `launch()`.\n"
     ]
    },
    {
     "data": {
      "text/html": [
       "<div><iframe src=\"http://127.0.0.1:7860/\" width=\"100%\" height=\"500\" allow=\"autoplay; camera; microphone; clipboard-read; clipboard-write;\" frameborder=\"0\" allowfullscreen></iframe></div>"
      ],
      "text/plain": [
       "<IPython.core.display.HTML object>"
      ]
     },
     "metadata": {},
     "output_type": "display_data"
    }
   ],
   "source": [
    "if __name__ == '__main__':\n",
    "    interface.launch(share=False)"
   ]
  },
  {
   "cell_type": "code",
   "execution_count": 13,
   "id": "84bc7961-9011-4f08-bd74-4b2ee7825d38",
   "metadata": {},
   "outputs": [
    {
     "name": "stdout",
     "output_type": "stream",
     "text": [
      "Closing server running on port: 7860\n"
     ]
    }
   ],
   "source": [
    "interface.close()"
   ]
  },
  {
   "cell_type": "code",
   "execution_count": null,
   "id": "1108114e-8418-4895-b6af-3190cb7e83fe",
   "metadata": {},
   "outputs": [],
   "source": []
  }
 ],
 "metadata": {
  "kernelspec": {
   "display_name": "Python 3 (ipykernel)",
   "language": "python",
   "name": "python3"
  },
  "language_info": {
   "codemirror_mode": {
    "name": "ipython",
    "version": 3
   },
   "file_extension": ".py",
   "mimetype": "text/x-python",
   "name": "python",
   "nbconvert_exporter": "python",
   "pygments_lexer": "ipython3",
   "version": "3.12.9"
  }
 },
 "nbformat": 4,
 "nbformat_minor": 5
}
