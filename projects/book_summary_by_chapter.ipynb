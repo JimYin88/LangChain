{
 "cells": [
  {
   "cell_type": "code",
   "execution_count": null,
   "id": "04aa264a-3ff2-4632-b17a-25bfb077cd0d",
   "metadata": {},
   "outputs": [],
   "source": [
    "# LLM Models\n",
    "from langchain_openai import OpenAI, ChatOpenAI\n",
    "from langchain_ollama import OllamaLLM\n",
    "from langchain_ollama import ChatOllama\n",
    "import ollama\n",
    "\n",
    "# from ollama import chat\n",
    "from langchain_core.prompts import PromptTemplate, ChatPromptTemplate\n",
    "from langchain_core.prompts import SystemMessagePromptTemplate, HumanMessagePromptTemplate, AIMessagePromptTemplate\n",
    "from langchain.schema import SystemMessage, HumanMessage, AIMessage\n",
    "\n",
    "# OutputParsers\n",
    "from langchain.schema.output_parser import StrOutputParser\n",
    "\n",
    "# Gradio frontend\n",
    "import gradio as gr"
   ]
  },
  {
   "cell_type": "code",
   "execution_count": null,
   "id": "34d883bc-cb05-418a-8751-f705ec807c1a",
   "metadata": {},
   "outputs": [],
   "source": [
    "from dotenv import load_dotenv\n",
    "\n",
    "load_dotenv()"
   ]
  },
  {
   "cell_type": "code",
   "execution_count": null,
   "id": "5594ade8-df62-4d31-a75b-d892c76a2817",
   "metadata": {},
   "outputs": [],
   "source": [
    "book_filepath = {\"A Christmas Carol\": '.\\\\data\\\\A_Christmas_Carol.txt',\n",
    "                 \"A Farewell to Arms\": '.\\\\data\\\\A_Farewell_to_Arms.txt',\n",
    "                 \"Adventures of Huckleberry Finn\": '.\\\\data\\\\Adventures_of_Huckleberry_Finn.txt',\n",
    "                 \"Crime and Punishment\": '.\\\\data\\\\Crime_and_Punishment.txt',\n",
    "                 \"Moby Dick\": '.\\\\data\\\\Moby_Dick.txt', \n",
    "                 \"Macbeth\": '.\\\\data\\\\Macbeth.txt',\n",
    "                 \"Silas Marner\": '.\\\\data\\\\Silas_Marner.txt'}"
   ]
  },
  {
   "cell_type": "code",
   "execution_count": null,
   "id": "2ad2a79b-c3e5-4e2a-92ad-6d86c3819b2e",
   "metadata": {},
   "outputs": [],
   "source": [
    "def book_chapter_summary(llm='gpt-4o-mini', book_title=\"Moby Dick\", chapter_num=1):\n",
    "    \n",
    "    filepath = book_filepath[book_title]\n",
    "    \n",
    "    with open(file=filepath, mode='r') as file:\n",
    "        f = file.read()\n",
    "\n",
    "    f_lines = f.split('\\n')\n",
    "    title = f_lines[0]\n",
    "    author = f_lines[2].split('By ')[-1]\n",
    "    chapters = f.split('[divider]')[1:]\n",
    "\n",
    "    num_chapters = len(chapters)\n",
    "    \n",
    "    if chapter_num > num_chapters:\n",
    "        chapter_selected = num_chapters\n",
    "    else:\n",
    "        chapter_selected = chapter_num\n",
    "        \n",
    "    chapter = chapters[chapter_selected - 1]\n",
    "    \n",
    "    \n",
    "    prompt = ChatPromptTemplate.from_template(\"\"\"\n",
    "    Provide a summary of the following text, at most 200 words. Answer must be based only on the text given. \n",
    "    context: {chapter}\n",
    "    \"\"\")\n",
    "\n",
    "    if llm == 'gpt-4o-mini':\n",
    "        chat_model = ChatOpenAI(model=\"gpt-4o-mini-2024-07-18\",\n",
    "                                max_completion_tokens=256,\n",
    "                                temperature=0.7)\n",
    "    elif llm == 'llama3.2':\n",
    "        chat_model = OllamaLLM(model=\"llama3.2\",\n",
    "                               num_ctx = 8192, \n",
    "                               num_predict = 256,\n",
    "                               temperature = 0.7)\n",
    "\n",
    "    chat_chain = prompt | chat_model | StrOutputParser()\n",
    "\n",
    "    response = chat_chain.invoke({\"chapter\": chapters[chapter_num - 1]})\n",
    "\n",
    "    return response"
   ]
  },
  {
   "cell_type": "code",
   "execution_count": null,
   "id": "37a3994e-5448-4b9a-9a0c-fdf3685478a8",
   "metadata": {},
   "outputs": [],
   "source": [
    "interface = gr.Interface(fn = book_chapter_summary,\n",
    "                         inputs=[gr.Dropdown(choices=['gpt-4o-mini', 'llama3.2'],\n",
    "                                             value='gpt-4o-mini',\n",
    "                                             multiselect=False,\n",
    "                                             label=\"LLM Model\"),\n",
    "                                 gr.Dropdown(choices=['A Christmas Carol',\n",
    "                                                      'A Farewell to Arms',\n",
    "                                                      'Adventures of Huckleberry Finn',\n",
    "                                                      'Crime and Punishment',\n",
    "                                                      'Moby Dick',\n",
    "                                                      'Macbeth',\n",
    "                                                      'Silas Marner'],\n",
    "                                             value='Moby Dick',\n",
    "                                             multiselect=False,\n",
    "                                     label=\"Title of the Book\"), \n",
    "                                 gr.Number(label=\"Chapter Number\", \n",
    "                                           value=1,\n",
    "                                           minimum=1)],\n",
    "                         outputs=[gr.Text(label=\"Summary\")],\n",
    "                         flagging_mode=\"never\"\n",
    "                        )"
   ]
  },
  {
   "cell_type": "code",
   "execution_count": null,
   "id": "cb4d0897-fab4-4070-9a6f-f1ec9d55f73a",
   "metadata": {},
   "outputs": [],
   "source": [
    "interface.launch(share=False)"
   ]
  },
  {
   "cell_type": "code",
   "execution_count": null,
   "id": "8117202c-9a9b-4489-809c-0b97bda3acb2",
   "metadata": {},
   "outputs": [],
   "source": [
    "interface.close()"
   ]
  }
 ],
 "metadata": {
  "kernelspec": {
   "display_name": "Python 3 (ipykernel)",
   "language": "python",
   "name": "python3"
  },
  "language_info": {
   "codemirror_mode": {
    "name": "ipython",
    "version": 3
   },
   "file_extension": ".py",
   "mimetype": "text/x-python",
   "name": "python",
   "nbconvert_exporter": "python",
   "pygments_lexer": "ipython3",
   "version": "3.12.9"
  }
 },
 "nbformat": 4,
 "nbformat_minor": 5
}
