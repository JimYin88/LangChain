{
 "cells": [
  {
   "cell_type": "code",
   "execution_count": 1,
   "id": "04aa264a-3ff2-4632-b17a-25bfb077cd0d",
   "metadata": {},
   "outputs": [],
   "source": [
    "from langchain_openai import OpenAI, ChatOpenAI\n",
    "import ollama\n",
    "# from ollama import chat\n",
    "from langchain_core.prompts import PromptTemplate, ChatPromptTemplate\n",
    "from langchain_core.prompts import SystemMessagePromptTemplate, HumanMessagePromptTemplate, AIMessagePromptTemplate\n",
    "from langchain.schema import SystemMessage, HumanMessage, AIMessage"
   ]
  },
  {
   "cell_type": "code",
   "execution_count": 2,
   "id": "34d883bc-cb05-418a-8751-f705ec807c1a",
   "metadata": {},
   "outputs": [
    {
     "data": {
      "text/plain": [
       "True"
      ]
     },
     "execution_count": 2,
     "metadata": {},
     "output_type": "execute_result"
    }
   ],
   "source": [
    "from dotenv import load_dotenv\n",
    "\n",
    "load_dotenv()"
   ]
  },
  {
   "cell_type": "code",
   "execution_count": 3,
   "id": "bc3e4eba-7a97-4fe7-b700-aef477798ba3",
   "metadata": {},
   "outputs": [],
   "source": [
    "chat_model = ChatOpenAI(model=\"gpt-4o-mini-2024-07-18\",\n",
    "                        max_completion_tokens=256,\n",
    "                        temperature=0.7)"
   ]
  },
  {
   "cell_type": "code",
   "execution_count": 4,
   "id": "db2aa589-d4b1-4878-97a6-acd9c3b3e8d0",
   "metadata": {},
   "outputs": [],
   "source": [
    "with open(file='.\\\\data\\\\A_Christmas_Carol.txt', mode='r') as file:\n",
    "    f = file.read()"
   ]
  },
  {
   "cell_type": "code",
   "execution_count": 5,
   "id": "bec6ae59-7d19-4a8b-9a83-5900f30e080e",
   "metadata": {},
   "outputs": [],
   "source": [
    "f_lines = f.split('\\n')"
   ]
  },
  {
   "cell_type": "code",
   "execution_count": 6,
   "id": "4fe3a829-fe46-4f6e-9241-35b62c37c0a6",
   "metadata": {},
   "outputs": [],
   "source": [
    "title = f_lines[0]"
   ]
  },
  {
   "cell_type": "code",
   "execution_count": 7,
   "id": "f75c5917-77d0-48fd-8e3f-f17d23a14dd4",
   "metadata": {},
   "outputs": [],
   "source": [
    "author = f_lines[2].split('By ')[-1]"
   ]
  },
  {
   "cell_type": "code",
   "execution_count": 8,
   "id": "f6e65872-ecc0-4735-aa3d-e5b55f03ceff",
   "metadata": {},
   "outputs": [],
   "source": [
    "chapters = f.split('[divider]')[1:]"
   ]
  },
  {
   "cell_type": "markdown",
   "id": "9f77744d-332e-4b31-a99d-9ea47234048a",
   "metadata": {},
   "source": [
    "## Using Llama3.2"
   ]
  },
  {
   "cell_type": "code",
   "execution_count": 9,
   "id": "0f2c1ce7-de2e-4f0a-8301-1c2ac5c2fca5",
   "metadata": {},
   "outputs": [],
   "source": [
    "def chat_session(query, model=\"llama3.2\"):\n",
    "\n",
    "    messages = [{\"role\": \"user\", \"content\": query}]\n",
    "    response = ollama.chat(model=model, messages=messages)\n",
    "    return response['message']['content']"
   ]
  },
  {
   "cell_type": "code",
   "execution_count": 10,
   "id": "991bf887-38b8-45c1-b645-bbc8a944cd00",
   "metadata": {},
   "outputs": [],
   "source": [
    "def chapter_summary(chapters, chapter_num):\n",
    "\n",
    "    chapter = chapters[chapter_num - 1]\n",
    "    query = \"Provide a summary of the following text in 150 words. Answer must be based on only the text given: \" + chapter\n",
    "    \n",
    "    return(chat_session(query))"
   ]
  },
  {
   "cell_type": "code",
   "execution_count": 11,
   "id": "2ccee0e9-647f-4379-9ea5-7a3460205e27",
   "metadata": {},
   "outputs": [
    {
     "name": "stdout",
     "output_type": "stream",
     "text": [
      "Here is the text with formatting and minor corrections for readability:\n",
      "\n",
      "**The Spirits of Christmas Past, Present, and Yet to Come**\n",
      "\n",
      "Ebenezer Scrooge was about as grim as any man by the fire was ever destined to be. What he did not know, however, was that his life was about to take a dramatic turn.\n",
      "\n",
      "Scrooge had been warned that he would be visited by three spirits on Christmas Eve. He scoffed at the idea and tried to ignore it, but he couldn't shake off the feeling that something was amiss.\n",
      "\n",
      "As the clock struck midnight, Scrooge felt a chill run down his spine. He looked around, but there was no one in sight. Suddenly, a figure materialized in front of him.\n",
      "\n",
      "It was Jacob Marley's ghost. Marley had been a wealthy businessman who had lived in London many years ago. But he had always been miserly and greedy, and as a result, he had spent his life accumulating wealth and possessions at the expense of others.\n",
      "\n",
      "Marley's ghost explained to Scrooge that he had died seven Christmas Eves ago, and that his spirit was doomed to wander the earth wearing chains that he had forged in his own life. The chains were heavy with the weight of all the opportunities he had missed out on because of his own greed and selfishness.\n",
      "\n",
      "Scrooge was shocked and horrified by what he was hearing. He realized that he too had been living a life of selfishness and greed, and that it was time for him to change.\n",
      "\n",
      "The ghost told Scrooge that he would be visited by three spirits that night: the Spirit of Christmas Past, the Spirit of Christmas Present, and the Spirit of Christmas Yet to Come. Each spirit would show him something different about his life, and help him to see the error of his ways.\n",
      "\n",
      "Scrooge was both excited and terrified at the prospect of what lay ahead. He listened as Marley's ghost warned him that he had one last chance to change his ways before it was too late.\n",
      "\n",
      "As the night wore on, Scrooge saw visions of his own past, present, and future. The Spirit of Christmas Past showed him scenes from his childhood, when he was a lonely and unhappy boy. The Spirit of Christmas Present revealed to him the struggles of those around him, including his clerk Bob Cratchit and his young son Tiny Tim.\n",
      "\n",
      "The final spirit, the Spirit of Christmas Yet to Come, showed Scrooge a possible future where he died alone and unmourned. But it also showed him a different future, one where he had changed his ways and was surrounded by love and happiness.\n",
      "\n",
      "As the spirits disappeared, Scrooge felt a sense of peace and redemption wash over him. He realized that he had been given a second chance to make things right, and that he would never forget the lessons he had learned from the three spirits on Christmas Eve.\n",
      "\n",
      "From that day forward, Scrooge became a changed man. He was kinder, gentler, and more compassionate towards those around him. And every year on Christmas Eve, he would look back on the night when his life was forever changed by the visitation of the three spirits.\n"
     ]
    }
   ],
   "source": [
    "print(chapter_summary(chapters=chapters, chapter_num=1))"
   ]
  },
  {
   "cell_type": "code",
   "execution_count": 12,
   "id": "0ae15996-b2f8-4369-95e6-5849f76c8792",
   "metadata": {},
   "outputs": [
    {
     "name": "stdout",
     "output_type": "stream",
     "text": [
      "Here is the text with any unnecessary formatting or sections removed:\n",
      "\n",
      "Scrooge was about to speak; but, with her head turned from him, she resumed.\n",
      "\n",
      "\"You may--the memory of what is past half makes me hope you will--have pain in this. A very, very brief time, and you will dismiss the recollection of it gladly, as an unprofitable dream, from which it happened well that you awoke. May you be happy in the life you have chosen!\"\n",
      "\n",
      "She left him, and they parted.\n",
      "\n",
      "\"Spirit!\" said Scrooge, \"show me no more! Conduct me home. Why do you delight to torture me?\"\n",
      "\n",
      "\"One shadow more!\" exclaimed the Ghost.\n",
      "\n",
      "\"No more!\" cried Scrooge. \"No more! I don't wish to see it. Show me no more!\"\n",
      "\n",
      "But the relentless Ghost pinioned him in both his arms, and forced him to observe what happened next.\n",
      "\n",
      "They were in another scene and place; a room, not very large or handsome, but full of comfort. Near to the winter fire sat a beautiful young girl, so like that last that Scrooge believed it was the same, until he saw her, now a comely matron, sitting opposite her daughter.\n",
      "\n",
      "The noise in this room was perfectly tumultuous, for there were more children there than Scrooge in his agitated state of mind could count; and, unlike the celebrated herd in the poem, they were not forty children conducting themselves like one, but every child was conducting itself like forty. The consequences were uproarious beyond belief; but no one seemed to care; on the contrary, the mother and daughter laughed heartily, and enjoyed it very much; and the latter, soon beginning to mingle in the sports, got pillaged by the young brigands most ruthlessly.\n",
      "\n",
      "What would I not have given to be one of them! Though I never could have been so rude, no, no! I wouldn't for the wealth of all the world have crushed that braided hair, and torn it down; and, for the precious little shoe, I wouldn't have plucked it off, God bless my soul!\n",
      "\n",
      "to save my life. As to measuring her waist in sport, as they did, bold young brood, I couldn't have done it; I should have expected my arm to have grown round it for a punishment, and never come straight again. And yet I should have dearly liked, I own, to have touched her lips; to have questioned her, that she might have opened them; to have looked upon the lashes of her downcast eyes, and never raised a blush; to have let loose waves of hair, an inch of which would be a keepsake beyond price: in short, I should have liked, I do confess, to have had the lightest licence of a child, and yet to have been man enough to know its value.\n",
      "\n",
      "But now a knocking at the door was heard, and such a rush immediately ensued that she, with laughing face and plundered dress, was borne towards it in the centre of a flushed and boisterous group, just in time to greet the father, who came home attended by a man laden with Christmas toys and presents.\n",
      "\n",
      "Then the shouting and the struggling, and the onslaught that was made on the defenceless porter! The scaling him, with chairs for ladders, to dive into his pockets, despoil him of brown-paper parcels, hold on tight by his cravat, hug him round the neck, pummel his back, and kick his legs in irrepressible affection!\n",
      "\n",
      "The shouts of wonder and delight with which the development of every package was received! The terrible announcement that the baby had been taken in the act of putting a doll's frying-pan into his mouth, and was more than suspected of having swallowed a fictitious turkey, glued on a wooden platter! The immense relief of finding this a false alarm!\n",
      "\n",
      "The joy, and gratitude, and ecstasy! They are all indescribable alike. It is enough that by degrees, the children and their emotions got out of the parlour, and, by one stair at a time, up to the top of the house, where they went to bed, and so subsided.\n",
      "\n",
      "And now Scrooge looked on more attentively than ever, when the master of the house, having his daughter leaning fondly on him, sat down with her and her mother at his own fireside; and when he thought that such another creature, quite as graceful and as full of promise, might have called him father, and been a spring-time in the haggard winter of his life, his sight grew very dim indeed.\n",
      "\n",
      "\"Belle,\" said the husband, turning to his wife with a smile, \"I saw an old friend of yours this afternoon.\"\n",
      "\n",
      "\"Who was it?\"\n",
      "\n",
      "\"Guess!\"\n",
      "\n",
      "\"How can I? Tut, don't I know?\" she added in the same breath, laughing as he laughed. \"Mr. Scrooge.\"\n",
      "\n",
      "\"Mr. Scrooge it was. I passed his office window; and as it was not shut up, and he had a candle inside, I could scarcely help seeing him. His partner lies upon the point of death, I hear; and there he sat alone. Quite alone in the world, I do believe.\"\n",
      "\n",
      "\"Spirit!\" said Scrooge in a broken voice, \"remove me from this place.\"\n",
      "\n",
      "\"I told you these were shadows of the things that have been,\" said the Ghost. \"That they are what they are, do not blame me!\"\n",
      "\n",
      "\"Remove me!\" Scrooge exclaimed. \"I cannot bear it!\"\n",
      "\n",
      "He turned upon the Ghost, and seeing that it looked upon him with a face in which in some strange way there were fragments of all the faces it had shown him, wrestled with it.\n",
      "\n",
      "\"Leave me! Take me back! Haunt me no longer!\"\n",
      "\n",
      "In the struggle--if that can be called a struggle in which the Ghost, with no visible resistance on its own part, was undisturbed by any effort of its adversary--Scrooge observed that its light was burning high and bright; and dimly connecting that with its influence over him, he seized the extinguisher cap, and by a sudden action pressed it down upon its head.\n",
      "\n",
      "The Spirit dropped beneath it, so that the extinguisher covered its whole form; but, though Scrooge pressed it down with all his force, he could not hide the light, which streamed from under it in an unbroken flood upon the ground.\n",
      "\n",
      "He was conscious of being exhausted, and overcome by an irresistible drowsiness; and, further, of being in his own bedroom. He gave the cap a parting squeeze, in which his hand relaxed; and had barely time to reel to bed before he sank into a heavy sleep.\n"
     ]
    }
   ],
   "source": [
    "print(chapter_summary(chapters=chapters, chapter_num=2))"
   ]
  },
  {
   "cell_type": "code",
   "execution_count": 13,
   "id": "b670953c-bac2-42c2-8016-ac20a3dd560f",
   "metadata": {},
   "outputs": [
    {
     "name": "stdout",
     "output_type": "stream",
     "text": [
      "Here is the text with minor formatting adjustments for readability:\n",
      "\n",
      "Much they saw, and far they went, and many homes they visited, but always with a happy end. The Spirit stood beside sick-beds, and they were cheerful; on foreign lands, and they were close at home; by struggling men, and they were patient in their greater hope; by poverty, and it was rich. In almshouse, hospital, and gaol, in misery's every refuge, where vain man in his little brief authority had not made fast the door, and barred the Spirit out, he left his blessing, and taught Scrooge his precepts.\n",
      "\n",
      "It was a long night, if it were only a night; but Scrooge had his doubts of this, because the Christmas holidays appeared to be condensed into the space of time they passed together. It was strange, too, that, while Scrooge remained unaltered in his outward form, the Ghost grew older, clearly older. Scrooge had observed this change, but never spoke of it, until they left a children's Twelfth-Night party, when, looking at the Spirit as they stood together in an open place, he noticed that its hair was grey.\n",
      "\n",
      "\"Are spirits' lives so short?\" asked Scrooge.\n",
      "\n",
      "\"My life upon this globe is very brief,\" replied the Ghost. \"It ends to-night.\"\n",
      "\n",
      "\"To-night!\" cried Scrooge.\n",
      "\n",
      "\"To-night at midnight. Hark! The time is drawing near.\"\n",
      "\n",
      "The chimes were ringing the three-quarters past eleven at that moment.\n",
      "\n",
      "\"Forgive me if I am not justified in what I ask,\" said Scrooge, looking intently at the Spirit's robe, \"but I see something strange, and not belonging to yourself, protruding from your skirts. Is it a foot or a claw?\"\n",
      "\n",
      "\"It might be a claw, for the flesh there is upon it,\" was the Spirit's sorrowful reply. \"Look here.\"\n",
      "\n",
      "From the foldings of its robe it brought two children; wretched, abject, frightful, hideous, miserable. They knelt down at its feet, and clung upon the outside of its garment.\n",
      "\n",
      "\"Oh, Man! look here! Look, look, down here!\" exclaimed the Ghost.\n",
      "\n",
      "They were a boy and girl. Yellow, meagre, ragged, scowling, wolfish; but prostrate, too, in their humility. Where graceful youth should have filled their features out, and touched them with its freshest tints, a stale and shrivelled hand, like that of age, had pinched, and twisted them, and pulled them into shreds. Where angels might have sat enthroned, devils lurked, and glared out menacing. No change, no degradation, no perversion of humanity, in any grade, through all the mysteries of wonderful creation, has monsters half so horrible and dread.\n",
      "\n",
      "Scrooge started back, appalled. Having them shown to him in this way, he tried to say they were fine children, but the words choked themselves, rather than be parties to a lie of such enormous magnitude.\n",
      "\n",
      "\"Spirit! are they yours?\" Scrooge could say no more.\n",
      "\n",
      "\"They are Man's,\" said the Spirit, looking down upon them. \"And they cling to me, appealing from their fathers. This boy is Ignorance. This girl is Want. Beware of them both, and all of their degree, but most of all beware this boy, for on his brow I see that written which is Doom, unless the writing be erased. Deny it!\" cried the Spirit, stretching out its hand towards the city. \"Slander those who tell it ye! Admit it for your factious purposes, and make it worse! And bide the end!\"\n",
      "\n",
      "\"Have they no refuge or resource?\" cried Scrooge.\n",
      "\n",
      "\"Are there no prisons?\" said the Spirit, turning on him for the last time with his own words.\n",
      "\n",
      "The bell struck Twelve.\n",
      "\n",
      "Scrooge looked about him for the Ghost, and saw it not. As the last stroke ceased to vibrate, he remembered the prediction of old Jacob Marley, and, lifting up his eyes, beheld a solemn Phantom, draped and hooded, coming like a mist along the ground towards him.\n"
     ]
    }
   ],
   "source": [
    "print(chapter_summary(chapters=chapters, chapter_num=3))"
   ]
  },
  {
   "cell_type": "markdown",
   "id": "3053e0a2-8ebe-44e0-9a04-8256e694b29e",
   "metadata": {},
   "source": [
    "## Using ChatGPT 4.0 mini"
   ]
  },
  {
   "cell_type": "code",
   "execution_count": 15,
   "id": "590cd3a0-cc66-4ebb-b120-224f1c216247",
   "metadata": {},
   "outputs": [],
   "source": [
    "def chat_session2(query):\n",
    "\n",
    "    messages = [{\"role\": \"user\", \"content\": query}]\n",
    "    response = chat_model.invoke(messages)\n",
    "    return response.content"
   ]
  },
  {
   "cell_type": "code",
   "execution_count": 16,
   "id": "57f4a134-37c6-416b-a278-7276981bcc5b",
   "metadata": {},
   "outputs": [],
   "source": [
    "def chapter_summary2(chapters, chapter_num):\n",
    "\n",
    "    chapter = chapters[chapter_num - 1]\n",
    "    query = \"Provide a summary of the following text in 150 words. Answer must be based on only the text given: \" + chapter\n",
    "    \n",
    "    return(chat_session2(query))"
   ]
  },
  {
   "cell_type": "code",
   "execution_count": 17,
   "id": "409752ae-728c-4e14-8f57-672e5d6acd93",
   "metadata": {},
   "outputs": [
    {
     "name": "stdout",
     "output_type": "stream",
     "text": [
      "In the opening chapter of *Moby-Dick*, titled \"Loomings,\" the narrator, Ishmael, introduces himself and describes his longing for the sea as a means to combat his melancholia. Feeling restless and discontented with life on land, he shares his philosophy that many people harbor similar feelings towards the ocean. Ishmael observes the bustling city of Manhattan, filled with people drawn to the water, and contemplates the magnetic allure of the sea. He reflects on the universal human desire to connect with water, whether it be through meditation or artistic expression. Ishmael expresses his preference for going to sea as a sailor rather than a passenger, appreciating the freedom and exercise it provides. He decides to embark on a whaling voyage, motivated by his fascination with whales and the allure of distant, uncharted waters. This voyage symbolizes a quest for adventure and a deeper understanding of life’s mysteries.\n"
     ]
    }
   ],
   "source": [
    "print(chapter_summary2(chapters=chapters, chapter_num=1))"
   ]
  },
  {
   "cell_type": "code",
   "execution_count": null,
   "id": "6e56dc1d-feaa-4fb3-a0f0-fd047e3de8f2",
   "metadata": {},
   "outputs": [],
   "source": []
  }
 ],
 "metadata": {
  "kernelspec": {
   "display_name": "Python 3 (ipykernel)",
   "language": "python",
   "name": "python3"
  },
  "language_info": {
   "codemirror_mode": {
    "name": "ipython",
    "version": 3
   },
   "file_extension": ".py",
   "mimetype": "text/x-python",
   "name": "python",
   "nbconvert_exporter": "python",
   "pygments_lexer": "ipython3",
   "version": "3.12.9"
  }
 },
 "nbformat": 4,
 "nbformat_minor": 5
}
