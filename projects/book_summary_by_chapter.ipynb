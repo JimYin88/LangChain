{
 "cells": [
  {
   "cell_type": "code",
   "execution_count": 3,
   "id": "04aa264a-3ff2-4632-b17a-25bfb077cd0d",
   "metadata": {},
   "outputs": [],
   "source": [
    "from langchain_openai import OpenAI, ChatOpenAI\n",
    "import ollama\n",
    "# from ollama import chat\n",
    "from langchain_core.prompts import PromptTemplate, ChatPromptTemplate\n",
    "from langchain_core.prompts import SystemMessagePromptTemplate, HumanMessagePromptTemplate, AIMessagePromptTemplate\n",
    "from langchain.schema import SystemMessage, HumanMessage, AIMessage"
   ]
  },
  {
   "cell_type": "code",
   "execution_count": 2,
   "id": "34d883bc-cb05-418a-8751-f705ec807c1a",
   "metadata": {},
   "outputs": [
    {
     "data": {
      "text/plain": [
       "True"
      ]
     },
     "execution_count": 2,
     "metadata": {},
     "output_type": "execute_result"
    }
   ],
   "source": [
    "from dotenv import load_dotenv\n",
    "\n",
    "load_dotenv()"
   ]
  },
  {
   "cell_type": "code",
   "execution_count": 4,
   "id": "bc3e4eba-7a97-4fe7-b700-aef477798ba3",
   "metadata": {},
   "outputs": [],
   "source": [
    "chat_model = ChatOpenAI(model=\"gpt-4o-mini-2024-07-18\",\n",
    "                        max_completion_tokens=256,\n",
    "                        temperature=0.7)"
   ]
  },
  {
   "cell_type": "code",
   "execution_count": 5,
   "id": "db2aa589-d4b1-4878-97a6-acd9c3b3e8d0",
   "metadata": {},
   "outputs": [],
   "source": [
    "with open(file='.\\\\data\\\\Moby_Dick.txt', mode='r') as file:\n",
    "    f = file.read()"
   ]
  },
  {
   "cell_type": "code",
   "execution_count": 6,
   "id": "bec6ae59-7d19-4a8b-9a83-5900f30e080e",
   "metadata": {},
   "outputs": [],
   "source": [
    "f_lines = f.split('\\n')"
   ]
  },
  {
   "cell_type": "code",
   "execution_count": 7,
   "id": "4fe3a829-fe46-4f6e-9241-35b62c37c0a6",
   "metadata": {},
   "outputs": [],
   "source": [
    "title = f_lines[0]"
   ]
  },
  {
   "cell_type": "code",
   "execution_count": 8,
   "id": "f75c5917-77d0-48fd-8e3f-f17d23a14dd4",
   "metadata": {},
   "outputs": [],
   "source": [
    "author = f_lines[2].split('By ')[-1]"
   ]
  },
  {
   "cell_type": "code",
   "execution_count": 9,
   "id": "f6e65872-ecc0-4735-aa3d-e5b55f03ceff",
   "metadata": {},
   "outputs": [],
   "source": [
    "chapters = f.split('[divider]')[1:]"
   ]
  },
  {
   "cell_type": "markdown",
   "id": "9f77744d-332e-4b31-a99d-9ea47234048a",
   "metadata": {},
   "source": [
    "## Using Llama3.2"
   ]
  },
  {
   "cell_type": "code",
   "execution_count": 10,
   "id": "0f2c1ce7-de2e-4f0a-8301-1c2ac5c2fca5",
   "metadata": {},
   "outputs": [],
   "source": [
    "def chat_session(query, model=\"llama3.2\"):\n",
    "\n",
    "    messages = [{\"role\": \"user\", \"content\": query}]\n",
    "    response = ollama.chat(model=model, messages=messages)\n",
    "    return response['message']['content']"
   ]
  },
  {
   "cell_type": "code",
   "execution_count": 11,
   "id": "991bf887-38b8-45c1-b645-bbc8a944cd00",
   "metadata": {},
   "outputs": [],
   "source": [
    "def chapter_summary(chapters, chapter_num):\n",
    "\n",
    "    chapter = chapters[chapter_num - 1]\n",
    "    query = \"Provide a summary of the following text in 150 words. Answer must be based on only the text given: \" + chapter\n",
    "    \n",
    "    return(chat_session(query))"
   ]
  },
  {
   "cell_type": "code",
   "execution_count": 12,
   "id": "2ccee0e9-647f-4379-9ea5-7a3460205e27",
   "metadata": {},
   "outputs": [
    {
     "name": "stdout",
     "output_type": "stream",
     "text": [
      "The narrator, Ishmael, describes his desire to go to sea as a way to escape the monotony of life on land. He finds that the ocean has a profound effect on him, and he is drawn to its power and mystery. The narrator notes that almost all men share this feeling towards the ocean, but few have the opportunity to pursue it. He explains that going to sea is his substitute for violence and conflict, as embodied in the character of Cato, who throws himself onto his sword.\n",
      "\n",
      "The narrator describes the city of New York, where he lives, as a place where people are often lost in thought and contemplation, gazing out at the water. He notes that this fascination with the ocean is not unique to sailors, but is a universal human experience. The narrator then explains why he prefers to go to sea as a simple sailor rather than as a passenger or officer.\n",
      "\n",
      "He argues that being paid for his labor is more important to him than receiving payment from others. Additionally, he values the physical exercise and fresh air of life on board a ship over the comforts and social status associated with being an officer. The narrator's desire to go on a whaling voyage is driven by his fascination with the ocean and its creatures, particularly the great whale.\n",
      "\n",
      "The narrator suggests that his decision to embark on this journey was influenced by forces beyond his control, including the Fates, who have a mysterious hold over him. He believes that this part of his life was a deliberate choice made by him, but one that is also subject to external influences and fate.\n"
     ]
    }
   ],
   "source": [
    "print(chapter_summary(chapters=chapters, chapter_num=1))"
   ]
  },
  {
   "cell_type": "code",
   "execution_count": 13,
   "id": "0ae15996-b2f8-4369-95e6-5849f76c8792",
   "metadata": {},
   "outputs": [
    {
     "name": "stdout",
     "output_type": "stream",
     "text": [
      "Here is a summary of the text in 150 words:\n",
      "\n",
      "The narrator arrives in New Bedford on a Saturday night in December, eager to embark on a whaling voyage. However, he discovers that the packet for Nantucket has already sailed and he must wait until Monday. Feeling disappointed, the narrator sets out to find temporary lodgings. He explores the town's dreary streets, passing by several establishments with ominous names, including \"The Crossed Harpoons\" and \"The Sword-Fish Inn.\" Eventually, he comes across a small, dilapidated building called \"The Spouter-Inn,\" which appears to be the cheapest option in the area. The narrator enters the inn, where he is greeted by a dim light and an interior that resembles a black church. Despite feeling uneasy about his surroundings, he decides to stay at \"The Spouter\" for cheap lodgings and a cup of pea coffee, eager to start his whaling journey as soon as possible.\n"
     ]
    }
   ],
   "source": [
    "print(chapter_summary(chapters=chapters, chapter_num=2))"
   ]
  },
  {
   "cell_type": "code",
   "execution_count": 14,
   "id": "b670953c-bac2-42c2-8016-ac20a3dd560f",
   "metadata": {},
   "outputs": [
    {
     "name": "stdout",
     "output_type": "stream",
     "text": [
      "The text is an excerpt from the novel \"Moby-Dick\" by Herman Melville. It describes a scene where the narrator, Ishmael, is awoken by Queequeg, a harpooneer who has been visiting him at his lodgings, and discovers that Queequeg is actually a cannibal.\n",
      "\n",
      "The scene begins with Ishmael trying to sleep but being disturbed by Queequeg's presence. When the light is extinguished, Queequeg enters the room and attempts to attack Ishmael with his tomahawk. However, before things escalate further, the landlord Peter Coffin intervenes and chases Quigg away.\n",
      "\n",
      "After the commotion has subsided, Ishmael is able to calm down and engage in conversation with Queequeg, who is revealed to be a gentle and friendly person despite his cannibalistic tendencies. The two men eventually agree to share a bed, with Ishmael noting that he would rather sleep with a sober cannibal than a drunken Christian.\n",
      "\n",
      "The passage showcases Melville's characteristic blend of humor, irony, and philosophical insight, as well as his exploration of themes such as cultural differences, tolerance, and the complexities of human nature.\n"
     ]
    }
   ],
   "source": [
    "print(chapter_summary(chapters=chapters, chapter_num=3))"
   ]
  },
  {
   "cell_type": "markdown",
   "id": "3053e0a2-8ebe-44e0-9a04-8256e694b29e",
   "metadata": {},
   "source": [
    "## Using ChatGPT 4.0 mini"
   ]
  },
  {
   "cell_type": "code",
   "execution_count": 15,
   "id": "590cd3a0-cc66-4ebb-b120-224f1c216247",
   "metadata": {},
   "outputs": [],
   "source": [
    "def chat_session2(query):\n",
    "\n",
    "    messages = [{\"role\": \"user\", \"content\": query}]\n",
    "    response = chat_model.invoke(messages)\n",
    "    return response.content"
   ]
  },
  {
   "cell_type": "code",
   "execution_count": 16,
   "id": "57f4a134-37c6-416b-a278-7276981bcc5b",
   "metadata": {},
   "outputs": [],
   "source": [
    "def chapter_summary2(chapters, chapter_num):\n",
    "\n",
    "    chapter = chapters[chapter_num - 1]\n",
    "    query = \"Provide a summary of the following text in 150 words. Answer must be based on only the text given: \" + chapter\n",
    "    \n",
    "    return(chat_session2(query))"
   ]
  },
  {
   "cell_type": "code",
   "execution_count": 17,
   "id": "409752ae-728c-4e14-8f57-672e5d6acd93",
   "metadata": {},
   "outputs": [
    {
     "name": "stdout",
     "output_type": "stream",
     "text": [
      "In the opening chapter of *Moby-Dick*, titled \"Loomings,\" the narrator, Ishmael, introduces himself and describes his longing for the sea as a means to combat his melancholia. Feeling restless and discontented with life on land, he shares his philosophy that many people harbor similar feelings towards the ocean. Ishmael observes the bustling city of Manhattan, filled with people drawn to the water, and contemplates the magnetic allure of the sea. He reflects on the universal human desire to connect with water, whether it be through meditation or artistic expression. Ishmael expresses his preference for going to sea as a sailor rather than a passenger, appreciating the freedom and exercise it provides. He decides to embark on a whaling voyage, motivated by his fascination with whales and the allure of distant, uncharted waters. This voyage symbolizes a quest for adventure and a deeper understanding of life’s mysteries.\n"
     ]
    }
   ],
   "source": [
    "print(chapter_summary2(chapters=chapters, chapter_num=1))"
   ]
  },
  {
   "cell_type": "code",
   "execution_count": null,
   "id": "6e56dc1d-feaa-4fb3-a0f0-fd047e3de8f2",
   "metadata": {},
   "outputs": [],
   "source": []
  }
 ],
 "metadata": {
  "kernelspec": {
   "display_name": "Python 3 (ipykernel)",
   "language": "python",
   "name": "python3"
  },
  "language_info": {
   "codemirror_mode": {
    "name": "ipython",
    "version": 3
   },
   "file_extension": ".py",
   "mimetype": "text/x-python",
   "name": "python",
   "nbconvert_exporter": "python",
   "pygments_lexer": "ipython3",
   "version": "3.12.9"
  }
 },
 "nbformat": 4,
 "nbformat_minor": 5
}
