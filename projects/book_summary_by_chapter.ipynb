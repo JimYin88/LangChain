{
 "cells": [
  {
   "cell_type": "code",
   "execution_count": 1,
   "id": "148dc67d-1c14-419d-8ec4-814a5dafcd5b",
   "metadata": {},
   "outputs": [],
   "source": [
    "import ollama\n",
    "from ollama import chat"
   ]
  },
  {
   "cell_type": "code",
   "execution_count": 6,
   "id": "db2aa589-d4b1-4878-97a6-acd9c3b3e8d0",
   "metadata": {},
   "outputs": [],
   "source": [
    "with open(file='C:\\\\Users\\\\JimYi\\\\Downloads\\\\A_Christmas_Carol.txt', mode='r') as file:\n",
    "    f = file.read()"
   ]
  },
  {
   "cell_type": "code",
   "execution_count": 7,
   "id": "bec6ae59-7d19-4a8b-9a83-5900f30e080e",
   "metadata": {},
   "outputs": [],
   "source": [
    "f_lines = f.split('\\n')"
   ]
  },
  {
   "cell_type": "code",
   "execution_count": 8,
   "id": "4fe3a829-fe46-4f6e-9241-35b62c37c0a6",
   "metadata": {},
   "outputs": [],
   "source": [
    "title = f_lines[0]"
   ]
  },
  {
   "cell_type": "code",
   "execution_count": 9,
   "id": "f75c5917-77d0-48fd-8e3f-f17d23a14dd4",
   "metadata": {},
   "outputs": [],
   "source": [
    "author = f_lines[2].split('By ')[-1]"
   ]
  },
  {
   "cell_type": "code",
   "execution_count": 10,
   "id": "f6e65872-ecc0-4735-aa3d-e5b55f03ceff",
   "metadata": {},
   "outputs": [],
   "source": [
    "chapters = f.split('[divider]')[1:]"
   ]
  },
  {
   "cell_type": "code",
   "execution_count": 14,
   "id": "0f2c1ce7-de2e-4f0a-8301-1c2ac5c2fca5",
   "metadata": {},
   "outputs": [],
   "source": [
    "def chat_session(query, model=\"llama3.2\"):\n",
    "\n",
    "    messages = [{\"role\": \"user\", \"content\": query}]\n",
    "    response = ollama.chat(model=model, messages=messages)\n",
    "    return response['message']['content']"
   ]
  },
  {
   "cell_type": "code",
   "execution_count": 15,
   "id": "991bf887-38b8-45c1-b645-bbc8a944cd00",
   "metadata": {},
   "outputs": [],
   "source": [
    "def chapter_summary(chapters, chapter_num):\n",
    "\n",
    "    chapter = chapters[chapter_num - 1]\n",
    "    query = \"Provide a summary of the following text in 150 words. Answer must be based on only the text given: \" + chapter\n",
    "    \n",
    "    return(chat_session(query))"
   ]
  },
  {
   "cell_type": "code",
   "execution_count": 16,
   "id": "2ccee0e9-647f-4379-9ea5-7a3460205e27",
   "metadata": {},
   "outputs": [
    {
     "name": "stdout",
     "output_type": "stream",
     "text": [
      "Here is the text with the formatting cleaned up:\n",
      "\n",
      "Scrooge was sitting in his dark cold room when he heard a tapping at his door. He slowly got up from his chair and made his way towards the door. As he opened it, a figure appeared before him.\n",
      "\n",
      "It was Jacob Marley, his old business partner who had died seven years earlier. Marley's ghost was dressed in a white sheet with a black hood over his head, and he looked like he had been dead for centuries.\n",
      "\n",
      "\"Jacob!\" Scrooge exclaimed, shocked by the sight of his former partner.\n",
      "\n",
      "Marley's ghostly eyes looked at Scrooge with a mixture of sadness and warning. \"I'm here to warn you, Scrooge,\" Marley said in a voice that sent shivers down Scrooge's spine. \"You have yet a chance and hope of escaping my fate.\"\n",
      "\n",
      "Scrooge was taken aback by the ghost's words. He had always thought of Marley as a ruthless businessman who had been more concerned with making money than with doing good.\n",
      "\n",
      "\"What do you mean?\" Scrooge asked, his curiosity getting the better of him.\n",
      "\n",
      "\"You will be haunted,\" Marley replied. \"By Three Spirits. Expect the first to-morrow when the bell tolls One.\"\n",
      "\n",
      "Scrooge was skeptical at first, but there was something in Marley's eyes that made him believe the ghost was telling the truth.\n",
      "\n",
      "\"I don't want to see any spirits,\" Scrooge said, trying to brush off the feeling of unease that had settled over him.\n",
      "\n",
      "Marley's ghostly face twisted into a sad smile. \"You cannot shun the path I tread, Scrooge,\" he said. \"Expect the second on the next night at the same hour. The third, upon the next night when the last stroke of Twelve has ceased to vibrate.\"\n",
      "\n",
      "With those words, Marley's ghost vanished, leaving Scrooge feeling shaken and confused.\n",
      "\n",
      "Scrooge closed the window and examined the door by which the Ghost had entered. It was double locked, as he had locked it with his own hands, and the bolts were undisturbed. He tried to say \"Humbug!\" but stopped at the first syllable. And being, from the emotion he had undergone, or the fatigues of the day, or his glimpse of the Invisible World, or the dull conversation of the Ghost, or the lateness of the hour, much in need of repose, went straight to bed without undressing, and fell asleep upon the instant.\n"
     ]
    }
   ],
   "source": [
    "print(chapter_summary(chapters=chapters, chapter_num=1))"
   ]
  },
  {
   "cell_type": "code",
   "execution_count": null,
   "id": "20b74f5a-a780-424a-87a8-39d96335be5a",
   "metadata": {},
   "outputs": [],
   "source": []
  }
 ],
 "metadata": {
  "kernelspec": {
   "display_name": "Python 3 (ipykernel)",
   "language": "python",
   "name": "python3"
  },
  "language_info": {
   "codemirror_mode": {
    "name": "ipython",
    "version": 3
   },
   "file_extension": ".py",
   "mimetype": "text/x-python",
   "name": "python",
   "nbconvert_exporter": "python",
   "pygments_lexer": "ipython3",
   "version": "3.12.9"
  }
 },
 "nbformat": 4,
 "nbformat_minor": 5
}
