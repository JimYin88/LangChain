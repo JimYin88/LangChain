{
 "cells": [
  {
   "cell_type": "code",
   "execution_count": 1,
   "id": "04aa264a-3ff2-4632-b17a-25bfb077cd0d",
   "metadata": {},
   "outputs": [],
   "source": [
    "# System\n",
    "from dotenv import load_dotenv\n",
    "import tempfile\n",
    "from titlecase import titlecase\n",
    "\n",
    "# LLM Models\n",
    "from langchain_openai import ChatOpenAI\n",
    "from openai import OpenAI\n",
    "\n",
    "# Template\n",
    "from langchain_core.prompts import ChatPromptTemplate\n",
    "\n",
    "# OutputParsers\n",
    "from langchain.schema.output_parser import StrOutputParser\n",
    "\n",
    "# Gradio frontend\n",
    "import gradio as gr"
   ]
  },
  {
   "cell_type": "code",
   "execution_count": 2,
   "id": "34d883bc-cb05-418a-8751-f705ec807c1a",
   "metadata": {},
   "outputs": [
    {
     "data": {
      "text/plain": [
       "True"
      ]
     },
     "execution_count": 2,
     "metadata": {},
     "output_type": "execute_result"
    }
   ],
   "source": [
    "load_dotenv()"
   ]
  },
  {
   "cell_type": "code",
   "execution_count": 3,
   "id": "e8f64be6-d7f0-48f7-b28d-8aa28c2c5854",
   "metadata": {},
   "outputs": [],
   "source": [
    "client = OpenAI()"
   ]
  },
  {
   "cell_type": "code",
   "execution_count": 4,
   "id": "5594ade8-df62-4d31-a75b-d892c76a2817",
   "metadata": {},
   "outputs": [],
   "source": [
    "books = {\"A Christmas Carol\": '.\\\\data\\\\A_Christmas_Carol.txt',\n",
    "                 \"A Farewell to Arms\": '.\\\\data\\\\A_Farewell_to_Arms.txt',\n",
    "                 \"Adventures of Huckleberry Finn\": '.\\\\data\\\\Adventures_of_Huckleberry_Finn.txt',\n",
    "                 \"Crime and Punishment\": '.\\\\data\\\\Crime_and_Punishment.txt',\n",
    "                 \"Moby-Dick\": '.\\\\data\\\\Moby_Dick.txt',\n",
    "                 \"Macbeth\": '.\\\\data\\\\Macbeth.txt',\n",
    "                 \"Pride and Prejudice\": '.\\\\data\\\\Pride_and_Prejudice.txt',\n",
    "                 \"Silas Marner\": '.\\\\data\\\\Silas_Marner.txt',\n",
    "                 \"The Red Badge of Courage\": '.\\\\data\\\\The_Red_Badge_of_Courage.txt',\n",
    "                 \"Wuthering Heights\": '.\\\\data\\\\Wuthering_Heights.txt',\n",
    "                 \"Treasure Island\": '.\\\\data\\\\Treasure_Island.txt'}"
   ]
  },
  {
   "cell_type": "code",
   "execution_count": 5,
   "id": "1ad41e28-04c9-4a6e-9fdd-85168f35e0e4",
   "metadata": {},
   "outputs": [],
   "source": [
    "def book_headline(book_title=\"Moby-Dick\"):\n",
    "    filepath = books[book_title]\n",
    "\n",
    "    with open(file=filepath, mode='r') as file:\n",
    "        f = file.read()\n",
    "\n",
    "    f_lines = f.split('\\n')\n",
    "    title = titlecase(f_lines[0])\n",
    "    author = f_lines[2].title()\n",
    "    chapters = f.split('[divider]')[1:]\n",
    "    num_chapters = len(chapters)\n",
    "    headline = f'{title} {author} \\nNumber of Chapters: {num_chapters}'.replace(' By ', ' by ')\n",
    "\n",
    "    return headline"
   ]
  },
  {
   "cell_type": "code",
   "execution_count": 6,
   "id": "2ad2a79b-c3e5-4e2a-92ad-6d86c3819b2e",
   "metadata": {},
   "outputs": [],
   "source": [
    "def book_chapter_summary(book_title=\"Moby Dick\", chapter_num=1):\n",
    "\n",
    "    filepath = books[book_title]\n",
    "\n",
    "    with open(file=filepath, mode='r') as file:\n",
    "        f = file.read()\n",
    "\n",
    "    f_lines = f.split('\\n')\n",
    "    title = titlecase(f_lines[0])\n",
    "    author = f_lines[2].title()\n",
    "    chapters = f.split('[divider]')[1:]\n",
    "\n",
    "    num_chapters = len(chapters)\n",
    "\n",
    "    if chapter_num > num_chapters:\n",
    "        chapter_selected = num_chapters\n",
    "    else:\n",
    "        chapter_selected = chapter_num\n",
    "\n",
    "    chapter = chapters[chapter_selected - 1]\n",
    "\n",
    "    prompt = ChatPromptTemplate.from_template(\n",
    "        \"\"\"\n",
    "        Provide a summary of the following text, at most 200 words. Answer must be based only on the text given. \n",
    "        Context: {chapter}\n",
    "        \"\"\"\n",
    "    )\n",
    "\n",
    "    chat_model = ChatOpenAI(model=\"gpt-4.1-nano\",\n",
    "                            max_completion_tokens=256,\n",
    "                            temperature=0.4)\n",
    "\n",
    "    chat_chain = prompt | chat_model | StrOutputParser()\n",
    "\n",
    "    response = chat_chain.invoke({\"chapter\": chapters[chapter_num - 1]})\n",
    "\n",
    "    audio = client.audio.speech.create(input=response,\n",
    "                                       model=\"gpt-4o-mini-tts\",\n",
    "                                       voice='coral',\n",
    "                                       instructions=\"Speak in a story-telling tone.\",\n",
    "                                       response_format=\"mp3\",\n",
    "                                       speed=1.0)\n",
    "\n",
    "    with tempfile.NamedTemporaryFile(delete=False, suffix=\".mp3\") as temp_audio_file:\n",
    "        temp_audio_file.write(audio.content)\n",
    "        temp_file_path = temp_audio_file.name\n",
    "\n",
    "    headline = f'{title} {author} \\nChapter {chapter_selected} of {num_chapters}'.replace(' By ', ' by ')\n",
    "\n",
    "    return headline, response, temp_file_path"
   ]
  },
  {
   "cell_type": "code",
   "execution_count": 7,
   "id": "defda825-c652-4859-bb92-3a8a9e9d788d",
   "metadata": {},
   "outputs": [],
   "source": [
    "def book_chapter_illustration(book_title=\"Moby Dick\", chapter_num=1):\n",
    "    filepath = book_filepath[book_title]\n",
    "\n",
    "    with open(file=filepath, mode='r') as file:\n",
    "        f = file.read()\n",
    "\n",
    "    f_lines = f.split('\\n')\n",
    "    title = f_lines[0].title()\n",
    "    author = f_lines[2].title()\n",
    "    chapters = f.split('[divider]')[1:]\n",
    "\n",
    "    num_chapters = len(chapters)\n",
    "\n",
    "    if chapter_num > num_chapters:\n",
    "        chapter_selected = num_chapters\n",
    "    else:\n",
    "        chapter_selected = chapter_num\n",
    "\n",
    "    chapter = chapters[chapter_selected - 1]\n",
    "\n",
    "    prompt = ChatPromptTemplate.from_template(\"\"\"\n",
    "    Write a caption for a drawing that best capture \n",
    "    the essence theme of the following text in 50 words or less. \n",
    "    Describe the main characters, their looks, their demeanor, the surrounding, and time period.\n",
    "    Response must be based only on the text given. \n",
    "    context: {chapter}\n",
    "    \"\"\")\n",
    "\n",
    "    chat_model = ChatOpenAI(model=\"gpt-4.1-nano\",\n",
    "                                max_completion_tokens=256,\n",
    "                                temperature=0.4)\n",
    "\n",
    "    chat_chain = prompt | chat_model | StrOutputParser()\n",
    "\n",
    "    response = chat_chain.invoke({\"chapter\": chapters[chapter_num - 1]})\n",
    "        \n",
    "    headline = f'{title} {author} \\nChapter {chapter_selected} of {num_chapters}'\n",
    "\n",
    "    return headline, response"
   ]
  },
  {
   "cell_type": "code",
   "execution_count": 8,
   "id": "53fea0d2-d272-4e98-ac17-abf0bfdd09c3",
   "metadata": {},
   "outputs": [],
   "source": [
    "css_template = \"\"\"                   \n",
    "               h1 {\n",
    "                   font-size: 36px;\n",
    "                   font-family: Verdana, Arial, Sans-Serif;\n",
    "                   font-style: normal;\n",
    "                   font-weight: bold;\n",
    "                   # color: black; # rgb(238, 130, 238)\n",
    "                   # background-color: yellow;\n",
    "                   text-align: center;\n",
    "                   text-transform: normal;\n",
    "                   letter-spacing: 2px;\n",
    "                   # border: 1px solid lightblue;\n",
    "                   # border-radius: 0px\n",
    "                   }\n",
    "\n",
    "               p {\n",
    "                   font-size: 14px;\n",
    "                   font-family: Times New Roman, Times;\n",
    "                   font-style: normal;\n",
    "                   font-weight: normal;\n",
    "                   # color: black; # rgb(238, 130, 238)\n",
    "                   # background-color: yellow;\n",
    "                   text-align: left;\n",
    "                   text-transform: normal;\n",
    "                   letter-spacing: 0px;\n",
    "                   # border: 1px solid lightblue;\n",
    "                   # border-radius: 0px\n",
    "                   }\n",
    "               \"\"\""
   ]
  },
  {
   "cell_type": "code",
   "execution_count": 9,
   "id": "cdfb3b23-6898-46f3-aa92-ff4a399603ba",
   "metadata": {},
   "outputs": [],
   "source": [
    "with gr.Blocks(theme=gr.themes.Base(),\n",
    "               title='Book Summary by Chapter',\n",
    "               css=css_template) as interface:\n",
    "    gr.Markdown(\"# Book Summary by Chapter\", elem_id='title')\n",
    "    gr.Markdown(\"This app summarizes classical novels by chapter. Select the book and the chapter. \"\n",
    "                \"Then click on Submit.\")\n",
    "    with gr.Row():  # Create a row to hold two columns\n",
    "        with gr.Column():  # First column\n",
    "            dropdown2 = gr.Dropdown(choices=list(books.keys()),\n",
    "                                    value='Moby-Dick',\n",
    "                                    multiselect=False,\n",
    "                                    label=\"Title of the Book\")\n",
    "            number1 = gr.Number(label=\"Chapter Number\",\n",
    "                                value=1,\n",
    "                                minimum=1)\n",
    "            button1 = gr.Button(value=\"Submit\")\n",
    "        with gr.Column():  # Second column\n",
    "            output1 = gr.Text(label=\"Book Headline\")\n",
    "            output2 = gr.Text(label=\"Chapter Summary\")\n",
    "            output3 = gr.Audio(label=\"Generated Audio\",\n",
    "                               type=\"filepath\",\n",
    "                               autoplay=False,\n",
    "                               show_share_button=False)\n",
    "    button1.click(fn=book_chapter_summary,\n",
    "                  inputs=[dropdown2, number1],\n",
    "                  outputs=[output1, output2, output3])\n",
    "    dropdown2.select(fn=book_headline,\n",
    "                     inputs=[dropdown2],\n",
    "                     outputs=[output1])"
   ]
  },
  {
   "cell_type": "code",
   "execution_count": 10,
   "id": "8d3bf34d-d0c5-4b8c-b9a9-d92ab7413790",
   "metadata": {},
   "outputs": [
    {
     "name": "stdout",
     "output_type": "stream",
     "text": [
      "* Running on local URL:  http://127.0.0.1:7861\n",
      "* To create a public link, set `share=True` in `launch()`.\n"
     ]
    },
    {
     "data": {
      "text/html": [
       "<div><iframe src=\"http://127.0.0.1:7861/\" width=\"100%\" height=\"500\" allow=\"autoplay; camera; microphone; clipboard-read; clipboard-write;\" frameborder=\"0\" allowfullscreen></iframe></div>"
      ],
      "text/plain": [
       "<IPython.core.display.HTML object>"
      ]
     },
     "metadata": {},
     "output_type": "display_data"
    },
    {
     "data": {
      "text/plain": []
     },
     "execution_count": 10,
     "metadata": {},
     "output_type": "execute_result"
    }
   ],
   "source": [
    "interface.launch()"
   ]
  },
  {
   "cell_type": "code",
   "execution_count": 11,
   "id": "84bc7961-9011-4f08-bd74-4b2ee7825d38",
   "metadata": {},
   "outputs": [
    {
     "name": "stdout",
     "output_type": "stream",
     "text": [
      "Closing server running on port: 7861\n"
     ]
    }
   ],
   "source": [
    "interface.close()"
   ]
  },
  {
   "cell_type": "code",
   "execution_count": null,
   "id": "1108114e-8418-4895-b6af-3190cb7e83fe",
   "metadata": {},
   "outputs": [],
   "source": []
  }
 ],
 "metadata": {
  "kernelspec": {
   "display_name": "Python 3 (ipykernel)",
   "language": "python",
   "name": "python3"
  },
  "language_info": {
   "codemirror_mode": {
    "name": "ipython",
    "version": 3
   },
   "file_extension": ".py",
   "mimetype": "text/x-python",
   "name": "python",
   "nbconvert_exporter": "python",
   "pygments_lexer": "ipython3",
   "version": "3.12.9"
  }
 },
 "nbformat": 4,
 "nbformat_minor": 5
}
