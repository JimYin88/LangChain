{
 "cells": [
  {
   "cell_type": "code",
   "execution_count": 1,
   "id": "164dec93-88ac-4611-87ac-037816e41441",
   "metadata": {},
   "outputs": [],
   "source": [
    "# System\n",
    "import os\n",
    "from dotenv import load_dotenv\n",
    "import tempfile\n",
    "from titlecase import titlecase\n",
    "import ast\n",
    "\n",
    "# LLM Models\n",
    "from langchain_openai import ChatOpenAI\n",
    "from openai import OpenAI\n",
    "\n",
    "# Template\n",
    "from langchain_core.prompts import ChatPromptTemplate\n",
    "\n",
    "# OutputParsers\n",
    "from langchain.schema.output_parser import StrOutputParser\n",
    "\n",
    "# Gradio frontend\n",
    "import gradio as gr"
   ]
  },
  {
   "cell_type": "code",
   "execution_count": 2,
   "id": "0216ee2a-f735-4f64-858b-a0c789cbfb36",
   "metadata": {},
   "outputs": [
    {
     "data": {
      "text/plain": [
       "True"
      ]
     },
     "execution_count": 2,
     "metadata": {},
     "output_type": "execute_result"
    }
   ],
   "source": [
    "load_dotenv()"
   ]
  },
  {
   "cell_type": "code",
   "execution_count": 3,
   "id": "b5294a3a-afb8-4ba2-8878-e0b67c0452e3",
   "metadata": {},
   "outputs": [],
   "source": [
    "chat_model = ChatOpenAI(model=\"gpt-4o-mini-2024-07-18\",\n",
    "                        max_completion_tokens=1024,\n",
    "                        api_key=os.getenv(\"OPENAI_API_KEY\"),\n",
    "                        temperature=0.0)"
   ]
  },
  {
   "cell_type": "code",
   "execution_count": 95,
   "id": "ff667a3e-d3b9-439e-abd1-5bcf6733e92c",
   "metadata": {},
   "outputs": [],
   "source": [
    "def strip_double_quotes(s1):\n",
    "    s2 = s1.replace('\"\"\"', '')\n",
    "    return s2"
   ]
  },
  {
   "cell_type": "code",
   "execution_count": 133,
   "id": "e4280b41-58c4-47ba-9143-6af6ac2da808",
   "metadata": {},
   "outputs": [],
   "source": [
    "def code_block_comment(code_block):\n",
    "\n",
    "    prompt = ChatPromptTemplate.from_template(\"\"\"\n",
    "                                              Provide comments on the following block of Python codes.\n",
    "                                              Provide only comments. Do not include the function in your response.\n",
    "                                              Start each line of comments with '#'. Do not include triple quotes.\n",
    "                                              Python code: {raw_text}.\n",
    "                                              \"\"\")\n",
    "\n",
    "    chat_chain = prompt | chat_model | StrOutputParser()\n",
    "    response = chat_chain.invoke({\"raw_text\": code_block})  \n",
    "\n",
    "    return response"
   ]
  },
  {
   "cell_type": "code",
   "execution_count": 134,
   "id": "981982ec-7546-47c6-a27e-7f9eb0bdb33e",
   "metadata": {},
   "outputs": [],
   "source": [
    "ans = code_block_comment(\"if __name__ == '__main__':\\n    main()\")"
   ]
  },
  {
   "cell_type": "code",
   "execution_count": 135,
   "id": "f3dd369f-e1b3-4064-823c-48475396d3c2",
   "metadata": {},
   "outputs": [
    {
     "name": "stdout",
     "output_type": "stream",
     "text": [
      "# This line checks if the current script is being run as the main program.\n",
      "# If the script is executed directly (not imported as a module), the following block will execute.\n",
      "# The 'main()' function is called to start the program's execution.\n"
     ]
    }
   ],
   "source": [
    "print(ans)"
   ]
  },
  {
   "cell_type": "code",
   "execution_count": 126,
   "id": "5246f131-63fa-4cb3-9115-487025906fae",
   "metadata": {},
   "outputs": [],
   "source": [
    "def import_comment(import_line):\n",
    "\n",
    "    prompt = ChatPromptTemplate.from_template(\"\"\"\n",
    "                                              Provide a concise, one-line comment on the imports in Python.\n",
    "                                              Start the line with '#'. \n",
    "                                              Python imports: {raw_text}.\n",
    "                                              \"\"\")\n",
    "\n",
    "    chat_chain = prompt | chat_model | StrOutputParser()\n",
    "    response = chat_chain.invoke({\"raw_text\": import_line})  \n",
    "\n",
    "    return response"
   ]
  },
  {
   "cell_type": "code",
   "execution_count": 100,
   "id": "2d966f94-949b-4e68-b2a5-0a308ad80608",
   "metadata": {},
   "outputs": [
    {
     "data": {
      "text/plain": [
       "'# This import statement brings in the tqdm library, allowing for the use of a progress bar in Python applications.'"
      ]
     },
     "execution_count": 100,
     "metadata": {},
     "output_type": "execute_result"
    }
   ],
   "source": [
    "import_comment('from tqdm import tqdm')"
   ]
  },
  {
   "cell_type": "code",
   "execution_count": 101,
   "id": "d1ca8071-ccf4-46fb-9530-269cdb6336cf",
   "metadata": {},
   "outputs": [],
   "source": [
    "def get_docstring(function_text):\n",
    "\n",
    "    prompt = ChatPromptTemplate.from_template(\"\"\"\n",
    "                                              Create a high quality docstring for the given python function.\n",
    "                                              Break up any line more than 80 characters into multiple\n",
    "                                              lines separated by '\\n'. Do not have any '\\t' in the output.\n",
    "                                              Instead have four spaces '    '.\n",
    "                                              Do not include the function in your response.\n",
    "                                              Python function: {raw_text}.\n",
    "                                              \"\"\")\n",
    "\n",
    "    chat_chain = prompt | chat_model | StrOutputParser()\n",
    "    response = chat_chain.invoke({\"raw_text\": function_text})\n",
    "    response = strip_double_quotes(response)    \n",
    "\n",
    "    return response"
   ]
  },
  {
   "cell_type": "code",
   "execution_count": 102,
   "id": "158b5199-4767-4c2a-a197-934be5c8b7a2",
   "metadata": {},
   "outputs": [],
   "source": [
    "docstring1 = get_docstring(\"def hello(name):\\n\\treturn f'Hello, World. My name is {name}'\")"
   ]
  },
  {
   "cell_type": "code",
   "execution_count": 103,
   "id": "9c24aa97-f519-4104-ade0-cc17ec459c7d",
   "metadata": {},
   "outputs": [
    {
     "name": "stdout",
     "output_type": "stream",
     "text": [
      "\n",
      "    Greets the user with a personalized message.\n",
      "\n",
      "    This function takes a name as an input and returns a greeting string\n",
      "    that includes the provided name. The greeting is formatted to say\n",
      "    \"Hello, World. My name is {name}\", where {name} is replaced by the\n",
      "    actual name passed to the function.\n",
      "\n",
      "    Parameters:\n",
      "        name (str): The name of the user to be included in the greeting.\n",
      "\n",
      "    Returns:\n",
      "        str: A greeting message that includes the user's name.\n",
      "\n",
      "    Example:\n",
      "        >>> hello(\"Alice\")\n",
      "        'Hello, World. My name is Alice'\n",
      "\n",
      "\n"
     ]
    }
   ],
   "source": [
    "print(docstring1)"
   ]
  },
  {
   "cell_type": "code",
   "execution_count": 104,
   "id": "c8fd15a6-7949-4729-b5be-0e02bd48b03e",
   "metadata": {},
   "outputs": [],
   "source": [
    "def merge_docstring_and_function(original_function, docstring):\n",
    "    split = original_function.split(\"\\n\")\n",
    "    first_part, second_part = split[0], split[1:]\n",
    "    if second_part[0].startswith('\\t'):\n",
    "        second_part[0] = '\\n    ' + second_part[0][1:]\n",
    "    docstring = '    '.join(docstring.splitlines(True))\n",
    "    merged_function = first_part + \"\\n\" + '    \"\"\"' + docstring + '    \"\"\"\\n\\n' + \"\\n\".join(second_part)\n",
    "    \n",
    "    # split = original_function.split(\"\\n\")\n",
    "    # first_part, second_part = split[0], split[1:]\n",
    "    # docstring = '\\t'.join(docstring.splitlines(True))\n",
    "    # merged_function = first_part + '\\n\\t' + '\"\"\"\\n\\t' + docstring + '\\n' + '    \"\"\"\\n\\n' + \"\\n\".join(second_part)\n",
    "    # return second_part\n",
    "    return merged_function"
   ]
  },
  {
   "cell_type": "code",
   "execution_count": 136,
   "id": "46f3ef5a-530d-498d-a5a8-e055857d8a42",
   "metadata": {},
   "outputs": [],
   "source": [
    "def docstring_generator(file_path):\n",
    "\n",
    "    filename = file_path.split('\\\\')[-1].split('.')[0]\n",
    "    extention = file_path.split('\\\\')[-1].split('.')[1]\n",
    "\n",
    "    with open(file_path, \"r\") as file:\n",
    "        file_content = file.read()\n",
    "\n",
    "    # Parse the file content into an Abstract Syntax Tree\n",
    "    tree = ast.parse(file_content)\n",
    "\n",
    "    nodes = [node for node in ast.walk(tree) if isinstance(node, tuple([ast.FunctionDef,\n",
    "                                                                        ast.Import,\n",
    "                                                                        ast.If,\n",
    "                                                                        ast.ImportFrom]))]\n",
    "\n",
    "    # Collect function names and their source code\n",
    "    result = \"\"\n",
    "    for func in nodes:\n",
    "        if isinstance(func, ast.FunctionDef):\n",
    "            start_line = func.lineno - 1  # Line numbers in AST are 1-based\n",
    "            end_line = func.end_lineno if hasattr(func, 'end_lineno') else None\n",
    "            function_code = \"\\n\".join(file_content.splitlines()[start_line:end_line])\n",
    "            doc1 = get_docstring(function_code)\n",
    "            combined_code = merge_docstring_and_function(function_code, doc1)\n",
    "            if result.endswith('\\n\\n'):\n",
    "                result += \"\\n\" + combined_code + \"\\n\"\n",
    "            else:\n",
    "                result += \"\\n\\n\" + combined_code + \"\\n\"\n",
    "        elif isinstance(func, ast.Import):\n",
    "            start_line = func.lineno - 1  # Line numbers in AST are 1-based\n",
    "            end_line = func.end_lineno if hasattr(func, 'end_lineno') else None\n",
    "            function_code = \"\\n\".join(file_content.splitlines()[start_line:end_line])\n",
    "            doc1 = import_comment(function_code)\n",
    "            combined_code = doc1 + '\\n' + function_code + '\\n\\n'\n",
    "            result += combined_code\n",
    "        elif isinstance(func, ast.ImportFrom):\n",
    "            start_line = func.lineno - 1  # Line numbers in AST are 1-based\n",
    "            end_line = func.end_lineno if hasattr(func, 'end_lineno') else None\n",
    "            function_code = \"\\n\".join(file_content.splitlines()[start_line:end_line])\n",
    "            doc1 = import_comment(function_code)\n",
    "            combined_code = doc1 + '\\n' + function_code + '\\n\\n'\n",
    "            result += combined_code\n",
    "        elif isinstance(func, ast.If):\n",
    "            start_line = func.lineno - 1  # Line numbers in AST are 1-based\n",
    "            end_line = func.end_lineno if hasattr(func, 'end_lineno') else None\n",
    "            function_code = \"\\n\".join(file_content.splitlines()[start_line:end_line])\n",
    "            doc1 = code_block_comment(function_code)\n",
    "            combined_code = '\\n\\n' + doc1 + '\\n\\n' + function_code + '\\n'\n",
    "            result += combined_code\n",
    "            \n",
    "    output_filename = f\"{filename}_withdocstring.{extention}\"\n",
    "    with open(output_filename, \"w\") as file:\n",
    "        file.write(result)\n",
    "\n",
    "    return output_filename"
   ]
  },
  {
   "cell_type": "code",
   "execution_count": 137,
   "id": "b6345db5-659d-4e34-91a6-7dc0ec8d6ed9",
   "metadata": {},
   "outputs": [],
   "source": [
    "demo = gr.Interface(fn=docstring_generator,\n",
    "                    inputs=[gr.File(type='filepath')],\n",
    "                    outputs=[gr.File(type='filepath')])"
   ]
  },
  {
   "cell_type": "code",
   "execution_count": 138,
   "id": "beec08dd-9787-48bb-81b6-c71d26a33d12",
   "metadata": {},
   "outputs": [
    {
     "name": "stdout",
     "output_type": "stream",
     "text": [
      "* Running on local URL:  http://127.0.0.1:7862\n",
      "* To create a public link, set `share=True` in `launch()`.\n"
     ]
    },
    {
     "data": {
      "text/html": [
       "<div><iframe src=\"http://127.0.0.1:7862/\" width=\"100%\" height=\"500\" allow=\"autoplay; camera; microphone; clipboard-read; clipboard-write;\" frameborder=\"0\" allowfullscreen></iframe></div>"
      ],
      "text/plain": [
       "<IPython.core.display.HTML object>"
      ]
     },
     "metadata": {},
     "output_type": "display_data"
    },
    {
     "data": {
      "text/plain": []
     },
     "execution_count": 138,
     "metadata": {},
     "output_type": "execute_result"
    }
   ],
   "source": [
    "demo.launch()"
   ]
  },
  {
   "cell_type": "code",
   "execution_count": 139,
   "id": "1d8ed18e-cc22-49cf-8571-7df32498727d",
   "metadata": {},
   "outputs": [
    {
     "name": "stdout",
     "output_type": "stream",
     "text": [
      "Closing server running on port: 7862\n"
     ]
    }
   ],
   "source": [
    "demo.close()"
   ]
  },
  {
   "cell_type": "code",
   "execution_count": null,
   "id": "ebb2e747-bd23-4608-aa96-db3788aa8976",
   "metadata": {},
   "outputs": [],
   "source": []
  },
  {
   "cell_type": "code",
   "execution_count": null,
   "id": "c0b95c57-01db-4ec9-a570-24f0b2b8041f",
   "metadata": {},
   "outputs": [],
   "source": []
  },
  {
   "cell_type": "code",
   "execution_count": 141,
   "id": "049b3ae5-c61f-42a1-a189-4209454e2fd2",
   "metadata": {},
   "outputs": [],
   "source": [
    "class LimitedDepthVisitor(ast.NodeVisitor):\n",
    "    def __init__(self, max_depth):\n",
    "        self.max_depth = max_depth\n",
    "\n",
    "    def visit(self, node, current_depth=0):\n",
    "        if current_depth > self.max_depth:\n",
    "            return  # Stop traversal if the depth exceeds the limit\n",
    "        print(f\"{'  ' * current_depth}Visiting: {type(node).__name__}\")\n",
    "        super().visit(node)  # Continue traversal for child nodes"
   ]
  },
  {
   "cell_type": "code",
   "execution_count": null,
   "id": "23d46696-1f8b-4e4b-86d6-dfad96650a20",
   "metadata": {},
   "outputs": [],
   "source": [
    "def tree_view_depth(file_path):\n",
    "\n",
    "    with open(file_path, \"r\") as file:\n",
    "        file_content = file.read()\n",
    "\n",
    "    # Parse the file content into an Abstract Syntax Tree\n",
    "    tree = ast.parse(file_content)\n",
    "\n",
    "    # Traverse the AST with a depth limit of 2\n",
    "    visitor = LimitedDepthVisitor(max_depth=2)\n",
    "    visitor.visit(tree)"
   ]
  },
  {
   "cell_type": "code",
   "execution_count": null,
   "id": "950d135c-dfe0-4683-a016-5834f8b15262",
   "metadata": {},
   "outputs": [],
   "source": []
  },
  {
   "cell_type": "code",
   "execution_count": null,
   "id": "1a057769-8d5c-4bf5-9fed-e49f33cf7c38",
   "metadata": {},
   "outputs": [],
   "source": []
  },
  {
   "cell_type": "code",
   "execution_count": 119,
   "id": "80e0cea4-f3b0-451c-8c77-b40380347307",
   "metadata": {},
   "outputs": [],
   "source": [
    "def tree_view(file_path):\n",
    "\n",
    "    # filename = file_path.split('\\\\')[-1].split('.')[0]\n",
    "    # extention = file_path.split('\\\\')[-1].split('.')[1]\n",
    "\n",
    "    with open(file_path, \"r\") as file:\n",
    "        file_content = file.read()\n",
    "\n",
    "    tree = ast.parse(file_content)\n",
    "    print(ast.dump(tree, indent=4))"
   ]
  },
  {
   "cell_type": "code",
   "execution_count": 123,
   "id": "89cda12c-c7c9-4437-8631-6483ff362dcb",
   "metadata": {},
   "outputs": [
    {
     "name": "stdout",
     "output_type": "stream",
     "text": [
      "Module(\n",
      "    body=[\n",
      "        Import(\n",
      "            names=[\n",
      "                alias(name='time')]),\n",
      "        FunctionDef(\n",
      "            name='letter_value',\n",
      "            args=arguments(\n",
      "                posonlyargs=[],\n",
      "                args=[\n",
      "                    arg(arg='s')],\n",
      "                kwonlyargs=[],\n",
      "                kw_defaults=[],\n",
      "                defaults=[]),\n",
      "            body=[\n",
      "                Assign(\n",
      "                    targets=[\n",
      "                        Name(id='d', ctx=Store())],\n",
      "                    value=Dict(\n",
      "                        keys=[\n",
      "                            Constant(value='A'),\n",
      "                            Constant(value='B'),\n",
      "                            Constant(value='C'),\n",
      "                            Constant(value='D'),\n",
      "                            Constant(value='E'),\n",
      "                            Constant(value='F'),\n",
      "                            Constant(value='G'),\n",
      "                            Constant(value='H'),\n",
      "                            Constant(value='I'),\n",
      "                            Constant(value='J'),\n",
      "                            Constant(value='K'),\n",
      "                            Constant(value='L'),\n",
      "                            Constant(value='M'),\n",
      "                            Constant(value='N'),\n",
      "                            Constant(value='O'),\n",
      "                            Constant(value='P'),\n",
      "                            Constant(value='Q'),\n",
      "                            Constant(value='R'),\n",
      "                            Constant(value='S'),\n",
      "                            Constant(value='T'),\n",
      "                            Constant(value='U'),\n",
      "                            Constant(value='V'),\n",
      "                            Constant(value='W'),\n",
      "                            Constant(value='X'),\n",
      "                            Constant(value='Y'),\n",
      "                            Constant(value='Z')],\n",
      "                        values=[\n",
      "                            Constant(value=1),\n",
      "                            Constant(value=2),\n",
      "                            Constant(value=3),\n",
      "                            Constant(value=4),\n",
      "                            Constant(value=5),\n",
      "                            Constant(value=6),\n",
      "                            Constant(value=7),\n",
      "                            Constant(value=8),\n",
      "                            Constant(value=9),\n",
      "                            Constant(value=10),\n",
      "                            Constant(value=11),\n",
      "                            Constant(value=12),\n",
      "                            Constant(value=13),\n",
      "                            Constant(value=14),\n",
      "                            Constant(value=15),\n",
      "                            Constant(value=16),\n",
      "                            Constant(value=17),\n",
      "                            Constant(value=18),\n",
      "                            Constant(value=19),\n",
      "                            Constant(value=20),\n",
      "                            Constant(value=21),\n",
      "                            Constant(value=22),\n",
      "                            Constant(value=23),\n",
      "                            Constant(value=24),\n",
      "                            Constant(value=25),\n",
      "                            Constant(value=26)])),\n",
      "                Return(\n",
      "                    value=Subscript(\n",
      "                        value=Name(id='d', ctx=Load()),\n",
      "                        slice=Name(id='s', ctx=Load()),\n",
      "                        ctx=Load()))],\n",
      "            decorator_list=[],\n",
      "            type_params=[]),\n",
      "        FunctionDef(\n",
      "            name='word_value',\n",
      "            args=arguments(\n",
      "                posonlyargs=[],\n",
      "                args=[\n",
      "                    arg(arg='w')],\n",
      "                kwonlyargs=[],\n",
      "                kw_defaults=[],\n",
      "                defaults=[]),\n",
      "            body=[\n",
      "                Return(\n",
      "                    value=Call(\n",
      "                        func=Name(id='sum', ctx=Load()),\n",
      "                        args=[\n",
      "                            GeneratorExp(\n",
      "                                elt=Call(\n",
      "                                    func=Name(id='letter_value', ctx=Load()),\n",
      "                                    args=[\n",
      "                                        Name(id='s', ctx=Load())],\n",
      "                                    keywords=[]),\n",
      "                                generators=[\n",
      "                                    comprehension(\n",
      "                                        target=Name(id='s', ctx=Store()),\n",
      "                                        iter=Name(id='w', ctx=Load()),\n",
      "                                        ifs=[],\n",
      "                                        is_async=0)])],\n",
      "                        keywords=[]))],\n",
      "            decorator_list=[],\n",
      "            type_params=[]),\n",
      "        FunctionDef(\n",
      "            name='prob_022',\n",
      "            args=arguments(\n",
      "                posonlyargs=[],\n",
      "                args=[],\n",
      "                kwonlyargs=[],\n",
      "                kw_defaults=[],\n",
      "                defaults=[]),\n",
      "            body=[\n",
      "                With(\n",
      "                    items=[\n",
      "                        withitem(\n",
      "                            context_expr=Call(\n",
      "                                func=Name(id='open', ctx=Load()),\n",
      "                                args=[\n",
      "                                    Constant(value='.\\\\data\\\\0022_names.txt'),\n",
      "                                    Constant(value='r')],\n",
      "                                keywords=[]),\n",
      "                            optional_vars=Name(id='names', ctx=Store()))],\n",
      "                    body=[\n",
      "                        Assign(\n",
      "                            targets=[\n",
      "                                Name(id='namestr', ctx=Store())],\n",
      "                            value=Call(\n",
      "                                func=Attribute(\n",
      "                                    value=Name(id='names', ctx=Load()),\n",
      "                                    attr='readline',\n",
      "                                    ctx=Load()),\n",
      "                                args=[],\n",
      "                                keywords=[])),\n",
      "                        Assign(\n",
      "                            targets=[\n",
      "                                Name(id='namelist', ctx=Store())],\n",
      "                            value=Call(\n",
      "                                func=Attribute(\n",
      "                                    value=Call(\n",
      "                                        func=Attribute(\n",
      "                                            value=Name(id='namestr', ctx=Load()),\n",
      "                                            attr='replace',\n",
      "                                            ctx=Load()),\n",
      "                                        args=[\n",
      "                                            Constant(value='\"'),\n",
      "                                            Constant(value='')],\n",
      "                                        keywords=[]),\n",
      "                                    attr='split',\n",
      "                                    ctx=Load()),\n",
      "                                args=[\n",
      "                                    Constant(value=',')],\n",
      "                                keywords=[])),\n",
      "                        Expr(\n",
      "                            value=Call(\n",
      "                                func=Attribute(\n",
      "                                    value=Name(id='namelist', ctx=Load()),\n",
      "                                    attr='sort',\n",
      "                                    ctx=Load()),\n",
      "                                args=[],\n",
      "                                keywords=[]))]),\n",
      "                Return(\n",
      "                    value=Call(\n",
      "                        func=Name(id='sum', ctx=Load()),\n",
      "                        args=[\n",
      "                            GeneratorExp(\n",
      "                                elt=BinOp(\n",
      "                                    left=Call(\n",
      "                                        func=Name(id='word_value', ctx=Load()),\n",
      "                                        args=[\n",
      "                                            Name(id='name', ctx=Load())],\n",
      "                                        keywords=[]),\n",
      "                                    op=Mult(),\n",
      "                                    right=BinOp(\n",
      "                                        left=Name(id='idx', ctx=Load()),\n",
      "                                        op=Add(),\n",
      "                                        right=Constant(value=1))),\n",
      "                                generators=[\n",
      "                                    comprehension(\n",
      "                                        target=Tuple(\n",
      "                                            elts=[\n",
      "                                                Name(id='idx', ctx=Store()),\n",
      "                                                Name(id='name', ctx=Store())],\n",
      "                                            ctx=Store()),\n",
      "                                        iter=Call(\n",
      "                                            func=Name(id='enumerate', ctx=Load()),\n",
      "                                            args=[\n",
      "                                                Name(id='namelist', ctx=Load())],\n",
      "                                            keywords=[]),\n",
      "                                        ifs=[],\n",
      "                                        is_async=0)])],\n",
      "                        keywords=[]))],\n",
      "            decorator_list=[],\n",
      "            type_params=[]),\n",
      "        If(\n",
      "            test=Compare(\n",
      "                left=Name(id='__name__', ctx=Load()),\n",
      "                ops=[\n",
      "                    Eq()],\n",
      "                comparators=[\n",
      "                    Constant(value='__main__')]),\n",
      "            body=[\n",
      "                Assign(\n",
      "                    targets=[\n",
      "                        Name(id='start_time', ctx=Store())],\n",
      "                    value=Call(\n",
      "                        func=Attribute(\n",
      "                            value=Name(id='time', ctx=Load()),\n",
      "                            attr='perf_counter',\n",
      "                            ctx=Load()),\n",
      "                        args=[],\n",
      "                        keywords=[])),\n",
      "                Expr(\n",
      "                    value=Call(\n",
      "                        func=Name(id='print', ctx=Load()),\n",
      "                        args=[\n",
      "                            Call(\n",
      "                                func=Name(id='prob_022', ctx=Load()),\n",
      "                                args=[],\n",
      "                                keywords=[])],\n",
      "                        keywords=[])),\n",
      "                Assign(\n",
      "                    targets=[\n",
      "                        Name(id='end_time', ctx=Store())],\n",
      "                    value=Call(\n",
      "                        func=Attribute(\n",
      "                            value=Name(id='time', ctx=Load()),\n",
      "                            attr='perf_counter',\n",
      "                            ctx=Load()),\n",
      "                        args=[],\n",
      "                        keywords=[])),\n",
      "                Expr(\n",
      "                    value=Call(\n",
      "                        func=Name(id='print', ctx=Load()),\n",
      "                        args=[\n",
      "                            JoinedStr(\n",
      "                                values=[\n",
      "                                    Constant(value='Time taken = '),\n",
      "                                    FormattedValue(\n",
      "                                        value=BinOp(\n",
      "                                            left=Name(id='end_time', ctx=Load()),\n",
      "                                            op=Sub(),\n",
      "                                            right=Name(id='start_time', ctx=Load())),\n",
      "                                        conversion=-1),\n",
      "                                    Constant(value=' sec')])],\n",
      "                        keywords=[]))],\n",
      "            orelse=[])],\n",
      "    type_ignores=[])\n"
     ]
    }
   ],
   "source": [
    "tree_view('c:/Users/JimYi/PyCharmProjects/ProjectEuler/Problem022.py')"
   ]
  }
 ],
 "metadata": {
  "kernelspec": {
   "display_name": "Python 3 (ipykernel)",
   "language": "python",
   "name": "python3"
  },
  "language_info": {
   "codemirror_mode": {
    "name": "ipython",
    "version": 3
   },
   "file_extension": ".py",
   "mimetype": "text/x-python",
   "name": "python",
   "nbconvert_exporter": "python",
   "pygments_lexer": "ipython3",
   "version": "3.12.9"
  }
 },
 "nbformat": 4,
 "nbformat_minor": 5
}
