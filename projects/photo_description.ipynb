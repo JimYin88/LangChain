{
 "cells": [
  {
   "cell_type": "markdown",
   "id": "f651a513-0c20-4186-b4eb-7f836bab17d6",
   "metadata": {},
   "source": [
    "## Imports"
   ]
  },
  {
   "cell_type": "code",
   "execution_count": null,
   "id": "e3c5a623-d990-4c42-8b07-11307b994373",
   "metadata": {},
   "outputs": [],
   "source": [
    "from IPython.display import Image\n",
    "\n",
    "import ollama\n",
    "\n",
    "# Gradio frontend\n",
    "import gradio as gr"
   ]
  },
  {
   "cell_type": "markdown",
   "id": "eafbee7f-2761-48da-8c49-267732d94b29",
   "metadata": {},
   "source": [
    "## Sample Input"
   ]
  },
  {
   "cell_type": "code",
   "execution_count": null,
   "id": "29b07159-00dc-47a6-96d5-3ff0823cc99a",
   "metadata": {},
   "outputs": [],
   "source": [
    "Image(\".//data//20171224_114326.jpg\")"
   ]
  },
  {
   "cell_type": "code",
   "execution_count": null,
   "id": "9694587f-c0c1-4782-b1e8-422c1ddd8dfa",
   "metadata": {},
   "outputs": [],
   "source": [
    "def image_description(prompt, image):\n",
    "\n",
    "    response = ollama.generate(model='gemma3:4b',\n",
    "                               # model='llava-phi3',\n",
    "                               prompt=prompt,\n",
    "                               images=[image],\n",
    "                               stream=False)\n",
    "\n",
    "    return image, response.response"
   ]
  },
  {
   "cell_type": "code",
   "execution_count": null,
   "id": "3b7fbee6-4e8c-4b90-8045-a9172d5466e6",
   "metadata": {},
   "outputs": [],
   "source": [
    "interface = gr.Interface(fn = image_description,\n",
    "                         inputs=[gr.Dropdown(choices=[\"Write a short title for this image, five words or less.\", \n",
    "                                                      \"Write a caption of this image.\",\n",
    "                                                      \"Describe this image.\",\n",
    "                                                      \"Write a title for this image, followed by a description.\",\n",
    "                                                      \"Name the food dish, followed by the recipe.\",\n",
    "                                                      \"Name the celebrity, followed by a brief history background.\",\n",
    "                                                      \"Identify the animal, followed by a brief description.\"],\n",
    "                                             value=\"Write a title for this image, followed by a description.\",\n",
    "                                             multiselect=False,\n",
    "                                     label=\"Human Prompt Message\"), \n",
    "                                 gr.File(label=\"Photo Upload\")],\n",
    "                         outputs=[gr.Image(label=\"Photo Input\",\n",
    "                                           height=200, \n",
    "                                           width=400),\n",
    "                                  gr.Text(label=\"Photo Description\")],\n",
    "                         flagging_mode=\"never\"\n",
    "                        )"
   ]
  },
  {
   "cell_type": "code",
   "execution_count": null,
   "id": "90e03b55-9b95-45fc-b3ca-654b1f8c5264",
   "metadata": {
    "scrolled": true
   },
   "outputs": [],
   "source": [
    "interface.launch()"
   ]
  },
  {
   "cell_type": "code",
   "execution_count": null,
   "id": "7feccc8f-b865-42d9-8358-a34950891aec",
   "metadata": {},
   "outputs": [],
   "source": [
    "interface.close()"
   ]
  },
  {
   "cell_type": "code",
   "execution_count": null,
   "id": "8b190c63-8768-4478-9b1d-9666637eb36b",
   "metadata": {},
   "outputs": [],
   "source": []
  }
 ],
 "metadata": {
  "kernelspec": {
   "display_name": "Python 3 (ipykernel)",
   "language": "python",
   "name": "python3"
  },
  "language_info": {
   "codemirror_mode": {
    "name": "ipython",
    "version": 3
   },
   "file_extension": ".py",
   "mimetype": "text/x-python",
   "name": "python",
   "nbconvert_exporter": "python",
   "pygments_lexer": "ipython3",
   "version": "3.12.9"
  }
 },
 "nbformat": 4,
 "nbformat_minor": 5
}
