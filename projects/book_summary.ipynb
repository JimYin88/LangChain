{
 "cells": [
  {
   "cell_type": "code",
   "execution_count": 1,
   "id": "a8e201e5-7b69-4c8e-8431-7bd6f16055dd",
   "metadata": {},
   "outputs": [],
   "source": [
    "import requests\n",
    "from bs4 import BeautifulSoup\n",
    "\n",
    "import ollama\n",
    "from ollama import chat"
   ]
  },
  {
   "cell_type": "code",
   "execution_count": 2,
   "id": "81915f12-2b3d-43d8-bbe0-fba947d295df",
   "metadata": {},
   "outputs": [],
   "source": [
    "url = 'https://www.gutenberg.org/cache/epub/24022/pg24022.txt'"
   ]
  },
  {
   "cell_type": "code",
   "execution_count": 4,
   "id": "27fb4d35-b0b7-4574-97a7-b97739abc7b4",
   "metadata": {},
   "outputs": [],
   "source": [
    "response = requests.get(url)"
   ]
  },
  {
   "cell_type": "code",
   "execution_count": 5,
   "id": "014c1d11-98c2-4ddd-85e4-95e1473f403f",
   "metadata": {},
   "outputs": [],
   "source": [
    "soup = BeautifulSoup(response.content, 'html.parser')"
   ]
  },
  {
   "cell_type": "code",
   "execution_count": 6,
   "id": "676949cb-6cf5-4203-9abd-5e7eceae0f9e",
   "metadata": {},
   "outputs": [],
   "source": [
    "book_text = soup.get_text()"
   ]
  },
  {
   "cell_type": "code",
   "execution_count": 7,
   "id": "4bd558ce-1496-45ce-9c8a-9dcc453ebac6",
   "metadata": {},
   "outputs": [],
   "source": [
    "def chat_session(query, model=\"llama3.2\"):\n",
    "\n",
    "    messages = [{\"role\": \"user\", \"content\": query}]\n",
    "    response = ollama.chat(model=model, messages=messages)\n",
    "    return response['message']['content']"
   ]
  },
  {
   "cell_type": "code",
   "execution_count": 8,
   "id": "f53cb2a5-59f6-425d-bb14-31c0e4816a26",
   "metadata": {},
   "outputs": [],
   "source": [
    "query = \"Give me the title of this book and only the title in all upper case: \" + book_text[:1000]"
   ]
  },
  {
   "cell_type": "code",
   "execution_count": 9,
   "id": "e42df96b-cb61-43f9-9e00-6d7aa5e1386f",
   "metadata": {},
   "outputs": [],
   "source": [
    "title = chat_session(query, model=\"llama3.2\")"
   ]
  },
  {
   "cell_type": "code",
   "execution_count": 10,
   "id": "51352f05-db8e-418b-9701-9dfefa7db283",
   "metadata": {},
   "outputs": [
    {
     "name": "stdout",
     "output_type": "stream",
     "text": [
      "A CHRISTMAS CAROL\n"
     ]
    }
   ],
   "source": [
    "print(title)"
   ]
  },
  {
   "cell_type": "code",
   "execution_count": 11,
   "id": "2d854c95-6717-4606-b523-7a72eb9ac6ef",
   "metadata": {},
   "outputs": [],
   "source": [
    "query = \"How is this book divided, like CHAPTER, STAVE. Answer in just one word in singular form and all upper case: \" + book_text[:5000]"
   ]
  },
  {
   "cell_type": "code",
   "execution_count": 20,
   "id": "778bd04e-6e99-44ac-9aca-06d262c494b3",
   "metadata": {},
   "outputs": [],
   "source": [
    "divider = chat_session(query, model=\"llama3.2\")"
   ]
  },
  {
   "cell_type": "code",
   "execution_count": 21,
   "id": "faf85395-f4cc-4e3b-a83c-daa2504ee4a0",
   "metadata": {},
   "outputs": [
    {
     "name": "stdout",
     "output_type": "stream",
     "text": [
      "STAVE\n"
     ]
    }
   ],
   "source": [
    "print(divider)"
   ]
  },
  {
   "cell_type": "code",
   "execution_count": 22,
   "id": "f9563333-529e-4e25-b6b2-5585ff0a2d4b",
   "metadata": {},
   "outputs": [],
   "source": [
    "def header_footer_remover(book_text, title):\n",
    "\n",
    "    book_text1 = book_text.split(f'*** START OF THE PROJECT GUTENBERG EBOOK {title} ***')[-1]\n",
    "    book_text2 = book_text.split(f'*** END OF THE PROJECT GUTENBERG EBOOK {title} ***')[0]\n",
    "\n",
    "    return book_text2"
   ]
  },
  {
   "cell_type": "code",
   "execution_count": 23,
   "id": "85ad85b2-0fd0-404f-ab71-a4e49b9c99f8",
   "metadata": {},
   "outputs": [],
   "source": [
    "main_text = header_footer_remover(book_text=book_text, title=title)"
   ]
  },
  {
   "cell_type": "code",
   "execution_count": 24,
   "id": "58524815-074b-441a-8138-ed106de76365",
   "metadata": {},
   "outputs": [],
   "source": [
    "main_text2 = f'{divider} ONE\\n' + main_text.split(f'{divider} ONE')[-1]"
   ]
  },
  {
   "cell_type": "code",
   "execution_count": 25,
   "id": "28663b5a-4a95-4c73-b09a-cd74e478af2b",
   "metadata": {},
   "outputs": [],
   "source": [
    "chapters = main_text2.split(f'{divider}')[1:]"
   ]
  },
  {
   "cell_type": "code",
   "execution_count": 26,
   "id": "06979d96-c8cf-445e-992d-d1fb7910f4fe",
   "metadata": {},
   "outputs": [],
   "source": [
    "chapter_list = ['CHAPTER' + chapter for chapter in chapters]"
   ]
  },
  {
   "cell_type": "code",
   "execution_count": 27,
   "id": "c700288c-3111-4a97-b80c-a7ac2a60b803",
   "metadata": {},
   "outputs": [
    {
     "data": {
      "text/plain": [
       "5"
      ]
     },
     "execution_count": 27,
     "metadata": {},
     "output_type": "execute_result"
    }
   ],
   "source": [
    "len(chapter_list)"
   ]
  },
  {
   "cell_type": "code",
   "execution_count": 28,
   "id": "55301633-ac53-4830-b044-912cba43e1fe",
   "metadata": {},
   "outputs": [],
   "source": [
    "def strip_illustration_caption(chapter_text):\n",
    "\n",
    "    result = []\n",
    "\n",
    "    illustrated_begin = False\n",
    "    illustrated_cont = False\n",
    "    for line in chapter_text:   \n",
    "        if line.startswith('[Illustration') and line.endswith(']\\r'):\n",
    "            illustrated_begin = True\n",
    "            illustrated_cont = False\n",
    "        elif line.startswith('[Illustration') and not line.endswith(']\\r'):\n",
    "            illustrated_begin = False\n",
    "            illustrated_cont = True\n",
    "        elif not line.startswith('[Illustration') and line.endswith(']\\r'):\n",
    "            illustrated_begin = True\n",
    "            illustrated_cont = False\n",
    "        elif not line.startswith('[Illustration') and not line.endswith(']\\r'):\n",
    "            illustrated_begin = False\n",
    "    \n",
    "        if not illustrated_begin and not illustrated_cont:\n",
    "            result.append(line)\n",
    "\n",
    "    return ''.join(result)"
   ]
  },
  {
   "cell_type": "code",
   "execution_count": 29,
   "id": "fe9b83cb-a10d-460f-ac1b-5efb5cac4921",
   "metadata": {},
   "outputs": [],
   "source": [
    "def chat_session(query, model=\"llama3.2\"):\n",
    "\n",
    "    messages = [{\"role\": \"user\", \"content\": query}]\n",
    "    response = ollama.chat(model=model, messages=messages)\n",
    "    return response['message']['content']"
   ]
  },
  {
   "cell_type": "code",
   "execution_count": 30,
   "id": "ab15e160-19dc-4e78-8c3a-146b950362b9",
   "metadata": {},
   "outputs": [],
   "source": [
    "def chapter_summary(chapters, chapter_num):\n",
    "\n",
    "    chapter = chapters[chapter_num-1].split('\\n')\n",
    "    chapter_text = strip_illustration_caption(chapter)\n",
    "    query = \"Provide a summary of the following text in 150 words. Answer must be based on only the text given: \" + chapter_text\n",
    "    \n",
    "    return(chat_session(query))"
   ]
  },
  {
   "cell_type": "code",
   "execution_count": 31,
   "id": "4e19e796-f22d-4532-acd5-b495344a6019",
   "metadata": {},
   "outputs": [
    {
     "name": "stdout",
     "output_type": "stream",
     "text": [
      "This is the opening chapter of Charles Dickens' \"A Christmas Carol\", a novella about a miserly old man named Ebenezer Scrooge who is visited by three spirits on Christmas Eve, leading him to a transformative experience and a change of heart.\n",
      "\n",
      "The story begins with Scrooge's office, where he is working late on a cold and snowy Christmas Eve. He is visited by the ghost of his former business partner, Jacob Marley, who warns Scrooge that he will be condemned to wander the earth wearing heavy chains if he does not change his ways.\n",
      "\n",
      "Scrooge is skeptical at first, but the ghost vanishes, leaving him feeling uneasy and troubled. He then hears a faint scratching sound at his door, which leads to the arrival of the Ghost of Christmas Past, who takes Scrooge on a journey through his own history, showing him moments from his childhood and younger years that have shaped him into the person he is today.\n",
      "\n",
      "After the ghost vanishes, Scrooge sees a second apparition, the Ghost of Christmas Present, who shows him how others are celebrating the holiday season in his neighborhood. The ghost takes Scrooge to the homes of those around him, where they enjoy food, drink, and each other's company, highlighting the contrast between their joyous celebrations and Scrooge's own isolation.\n",
      "\n",
      "The story ends with the arrival of the Ghost of Christmas Yet to Come, who shows Scrooge a possible future where he has died and is mourned by no one. The ghost takes Scrooge on a visit to his own grave, where he sees his name etched into the tombstone, but also sees the faces of those who are grieving his loss.\n",
      "\n",
      "In the final scene, Scrooge awakens from his long sleep on Christmas morning feeling transformed and renewed, with a newfound appreciation for the value of kindness, generosity, and human connection.\n"
     ]
    }
   ],
   "source": [
    "print(chapter_summary(chapters=chapter_list, chapter_num=1))"
   ]
  },
  {
   "cell_type": "code",
   "execution_count": 40,
   "id": "ff2230c5-bb93-436b-8bac-1b6ab828e709",
   "metadata": {},
   "outputs": [
    {
     "name": "stdout",
     "output_type": "stream",
     "text": [
      "This passage appears to be from the second half of Charles Dickens' novella \"A Christmas Carol\". \n",
      "\n",
      "In this part of the story, Scrooge is visited by four ghosts: the Ghost of Christmas Past, the Ghost of Christmas Present, the Ghost of Christmas Yet to Come, and finally, the Spirit of Christmas Future (which is actually a representation of his former partner who lies dying).\n",
      "\n",
      "The passage describes how the three earlier spirits show Scrooge visions of his own life and its consequences, highlighting his lonely and miserly ways. \n",
      "\n",
      "In contrast, the final scene shows Scrooge sitting with his present love interest in her home.\n"
     ]
    }
   ],
   "source": [
    "print(chapter_summary(chapters=chapter_list, chapter_num=2))"
   ]
  },
  {
   "cell_type": "code",
   "execution_count": 34,
   "id": "ec8ff0e4-013c-42d5-b78f-b0e261dbeb60",
   "metadata": {},
   "outputs": [
    {
     "name": "stdout",
     "output_type": "stream",
     "text": [
      "This is the beginning of Charles Dickens' novella \"A Christmas Carol\". Here's a summary of what happened so far:\n",
      "\n",
      "The story begins with an introduction to Ebenezer Scrooge, a miserly and bitter old man who lives in London. The narrator sets the scene, describing Scrooge's cold and unforgiving nature, as well as his dislike for anyone who is not wealthy or successful.\n",
      "\n",
      "Scrooge is visited by the Ghost of Christmas Past, who takes him on a journey through his childhood and early adulthood, showing him how he became the man he is today. The ghost reveals to Scrooge how he has changed over time, becoming increasingly bitter and cold-hearted.\n",
      "\n",
      "The Ghost of Christmas Present then appears, showing Scrooge how others are celebrating Christmas, including his nephew Fred, who invites Scrooge to join them for dinner. The ghost also shows Scrooge the state of poverty and hunger that many people face in England, highlighting the contrast between the wealthy and the poor.\n",
      "\n",
      "Finally, the Ghost of Christmas Yet to Come appears, revealing to Scrooge a dark and dismal future where he has died and is mourned by no one. The ghost shows Scrooge how his demise will bring no joy or celebration from those who knew him, but rather indifference and relief.\n",
      "\n",
      "As the night wears on, the ghosts vanish, leaving Scrooge alone in his cold, dark room. However, just as it seems like the visitations are over, a new presence appears: the Phantom of Jacob Marley's prediction. The ghost of Marley's former business partner warns Scrooge that he will be condemned to wander the earth wearing heavy chains if he does not change his ways.\n",
      "\n",
      "And so, the story begins in earnest, with Scrooge facing a choice between his old life and a new one, full of hope and redemption.\n"
     ]
    }
   ],
   "source": [
    "print(chapter_summary(chapters=chapter_list, chapter_num=3))"
   ]
  },
  {
   "cell_type": "code",
   "execution_count": 35,
   "id": "723a4ceb-64c6-4bdd-bc49-d9ba4d7652c8",
   "metadata": {},
   "outputs": [
    {
     "name": "stdout",
     "output_type": "stream",
     "text": [
      "This is the 12th chapter of Charles Dickens' \"A Christmas Carol\". In this chapter, Ebenezer Scrooge is visited by the Ghost of Christmas Yet to Come, also known as the Ghost of Christmas Present's companion or the embodiment of death personified. The Ghost takes Scrooge on a journey through time and space, showing him what his future may hold if he does not change his ways.\n",
      "\n",
      "As they walk through the deserted streets, the Ghost points out various scenes that illustrate how Scrooge will die alone, unmourned by anyone, except for perhaps his own dog, Bob Cratchit's family. The Ghost shows Scrooge how he will be buried in a cold and lonely grave, with no one to attend his funeral.\n",
      "\n",
      "Scrooge is horrified by what he sees and begs the Ghost to show him that this is not his future. He asks if there is any way for him to change his fate and live a better life. The Ghost tells Scrooge that it has shown him these things because it must, but that it also wants to warn him of the consequences of his actions.\n",
      "\n",
      "The chapter ends with Scrooge holding onto the Ghost's hand, desperate to prevent this future from coming true. The Ghost's hood and dress begin to shrink and collapse, and it disappears, leaving Scrooge alone in the darkness.\n"
     ]
    }
   ],
   "source": [
    "print(chapter_summary(chapters=chapter_list, chapter_num=4))"
   ]
  },
  {
   "cell_type": "code",
   "execution_count": 41,
   "id": "57416cc0-bf7a-4cdf-9e12-7e1fd670284d",
   "metadata": {},
   "outputs": [
    {
     "name": "stdout",
     "output_type": "stream",
     "text": [
      "A classic Christmas tale by Charles Dickens!\n",
      "\n",
      "This transcription is of the final chapters of \"A Christmas Carol\" by Charles Dickens, where Ebenezer Scrooge undergoes a transformative experience after being visited by three ghosts on Christmas Eve. The story follows his journey from a miserly and bitter old man to a kinder, more generous, and compassionate person.\n",
      "\n",
      "The final chapter describes how Scrooge becomes a second father to Tiny Tim, the young boy with a crippled leg, and his family. He raises their salary, buys them presents, and ensures they have a wonderful Christmas. The story concludes with the phrase \"God bless Us, Every One!\" which has become a beloved and iconic part of the tale.\n",
      "\n",
      "Dickens' writing is masterful in its ability to evoke emotions and convey the importance of kindness, generosity, and redemption during the holiday season. This tale continues to be a timeless classic, reminding readers of the transformative power of compassion and the true meaning of Christmas.\n"
     ]
    }
   ],
   "source": [
    "print(chapter_summary(chapters=chapter_list, chapter_num=5))"
   ]
  },
  {
   "cell_type": "code",
   "execution_count": null,
   "id": "102a9cd7-77fb-4952-8179-6274269abe27",
   "metadata": {},
   "outputs": [],
   "source": []
  }
 ],
 "metadata": {
  "kernelspec": {
   "display_name": "Python 3 (ipykernel)",
   "language": "python",
   "name": "python3"
  },
  "language_info": {
   "codemirror_mode": {
    "name": "ipython",
    "version": 3
   },
   "file_extension": ".py",
   "mimetype": "text/x-python",
   "name": "python",
   "nbconvert_exporter": "python",
   "pygments_lexer": "ipython3",
   "version": "3.12.9"
  }
 },
 "nbformat": 4,
 "nbformat_minor": 5
}
