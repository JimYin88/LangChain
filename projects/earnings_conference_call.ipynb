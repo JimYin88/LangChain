{
 "cells": [
  {
   "cell_type": "markdown",
   "id": "47a0e2f9-2d13-4d90-8481-be386a87c52d",
   "metadata": {},
   "source": [
    "# Earnings Conference Call Transcript"
   ]
  },
  {
   "cell_type": "markdown",
   "id": "60020d48-cdb1-4af5-86e4-ee2c5ce28f4e",
   "metadata": {},
   "source": [
    "## Imports"
   ]
  },
  {
   "cell_type": "code",
   "execution_count": 1,
   "id": "d417b481-c7aa-42d9-bf41-b5ccae0bd05c",
   "metadata": {},
   "outputs": [],
   "source": [
    "# System\n",
    "import os\n",
    "import requests\n",
    "\n",
    "# LLM Models\n",
    "from langchain_openai import ChatOpenAI\n",
    "\n",
    "# Templates\n",
    "from langchain_core.prompts import ChatPromptTemplate\n",
    "\n",
    "# OutputParsers\n",
    "from langchain.schema.output_parser import StrOutputParser\n",
    "\n",
    "from bs4 import BeautifulSoup\n",
    "from docx import Document\n",
    "import markdown\n",
    "\n",
    "# Gradio\n",
    "import gradio as gr\n",
    "\n",
    "# Alpha Vantage\n",
    "from langchain_community.utilities.alpha_vantage import AlphaVantageAPIWrapper"
   ]
  },
  {
   "cell_type": "markdown",
   "id": "fd0dc4c8-6a26-47c1-a0f9-fd6d30c5760e",
   "metadata": {},
   "source": [
    "## Load Environment Variables"
   ]
  },
  {
   "cell_type": "code",
   "execution_count": 2,
   "id": "0cdedcae-4bb0-4053-841e-6a3a63ee37f6",
   "metadata": {},
   "outputs": [],
   "source": [
    "from dotenv import load_dotenv\n",
    "load_dotenv()\n",
    "\n",
    "os.environ['USER_AGENT'] = 'JimYin88'"
   ]
  },
  {
   "cell_type": "code",
   "execution_count": 3,
   "id": "306ae98a-feed-49ec-9ce9-8f596246d90c",
   "metadata": {},
   "outputs": [],
   "source": [
    "advantage_api_key = os.getenv('ALPHAVANTAGE_API_KEY')\n",
    "alpha_vantage = AlphaVantageAPIWrapper()"
   ]
  },
  {
   "cell_type": "code",
   "execution_count": 4,
   "id": "fddbf5e8-2376-47a6-8385-2635ec5519e5",
   "metadata": {},
   "outputs": [],
   "source": [
    "chat_model = ChatOpenAI(model=\"gpt-4o-mini-2024-07-18\",\n",
    "                        max_completion_tokens=4096,\n",
    "                        temperature=0.3)"
   ]
  },
  {
   "cell_type": "code",
   "execution_count": 5,
   "id": "22e7a653-276b-455d-9270-2093407267c2",
   "metadata": {},
   "outputs": [],
   "source": [
    "def markdown_to_docx(markdown_text):\n",
    "    # Convert Markdown to HTML\n",
    "    html = markdown.markdown(markdown_text)\n",
    "\n",
    "    # Create a new Word Document\n",
    "    html_content = ''\n",
    "\n",
    "    # Add the HTML content\n",
    "    for line in html.splitlines():\n",
    "        html_content += line + '\\n'\n",
    "\n",
    "    doc = Document()\n",
    "\n",
    "    # Parse the HTML content\n",
    "    soup = BeautifulSoup(html_content, 'html.parser')\n",
    "\n",
    "    # Convert HTML elements to Word document elements\n",
    "    for element in soup:\n",
    "        if element.name == 'h1':\n",
    "            doc.add_heading(element.get_text(), level=1)\n",
    "        elif element.name == 'h2':\n",
    "            doc.add_heading(element.get_text(), level=2)\n",
    "        elif element.name == 'h3':\n",
    "            doc.add_heading(element.get_text(), level=3)\n",
    "        elif element.name == 'p':\n",
    "            doc.add_paragraph(element.get_text())\n",
    "        elif element.name == 'ul':\n",
    "            for li in element.find_all('li'):\n",
    "                doc.add_paragraph(li.get_text(), style='ListBullet')\n",
    "        elif element.name == 'ol':\n",
    "            for li in element.find_all('li'):\n",
    "                doc.add_paragraph(li.get_text(), style='ListNumber')\n",
    "        # Add more HTML elements as needed\n",
    "\n",
    "    return doc"
   ]
  },
  {
   "cell_type": "code",
   "execution_count": null,
   "id": "c61165fe-56e9-4227-b0fb-88ac34788802",
   "metadata": {},
   "outputs": [],
   "source": [
    "def get_company_ticker(company_name='NVDA'):\n",
    "\n",
    "    prompt = ChatPromptTemplate.from_template(\n",
    "        \"\"\"\n",
    "        Provide the company stock ticker based on the following company name: {raw_text}.\n",
    "        If the stock ticker is already provided, Just return the stock ticker, and nothing else.\n",
    "        \"\"\"\n",
    "    )\n",
    "\n",
    "    chat_chain = prompt | chat_model | StrOutputParser()\n",
    "    response = chat_chain.invoke({\"raw_text\": company_name})\n",
    "\n",
    "    return response"
   ]
  },
  {
   "cell_type": "code",
   "execution_count": 19,
   "id": "0661110e-2fd3-4b57-91f2-d70ca58f5b99",
   "metadata": {},
   "outputs": [],
   "source": [
    "def earnings_conference_call(company_name='NVDA',\n",
    "                             fiscal_year=2025,\n",
    "                             quarter='Q1',\n",
    "                             output_format='Transcript'):\n",
    "\n",
    "    tick = get_company_ticker(company_name).upper()\n",
    "    yr = str(int(fiscal_year))\n",
    "    filename = f'{tick.lower()}_{yr}{quarter}_{output_format.lower()}.docx'\n",
    "\n",
    "    url = (f'https://www.alphavantage.co/query?function=EARNINGS_CALL_TRANSCRIPT&symbol={tick}&quarter={yr}'\n",
    "           f'{quarter}&apikey={advantage_api_key}')\n",
    "\n",
    "    r = requests.get(url)\n",
    "\n",
    "    if r.status_code == 200:\n",
    "        data = r.json()\n",
    "\n",
    "        if output_format == 'Summary':\n",
    "            result = ''\n",
    "            result += f\"Ticker: {data['symbol']}\\n\"\n",
    "            result += f\"Fiscal Quarter: {data['quarter']}\\n\\n\"\n",
    "            for section in data['transcript']:\n",
    "                result += f\"Speaker: {section['speaker']}\\nTitle: {section['title']}\\n\\n{section['content']}\\n\\n\"\n",
    "\n",
    "            prompt = ChatPromptTemplate.from_template(\n",
    "                \"\"\"\n",
    "                Provide a summary of the following company earnings conference call: {raw_text}.\n",
    "                Have the title of conference call followed by a list of speakers and their titles after their names. \n",
    "                Then have sections and key points in each section in bullet points. \n",
    "                Add a conclusion section at the end. Have the output in markdown format. \n",
    "                Do not include the text 'markdown' or the triple (''') in the output. \n",
    "                Do not have bullet points with no text.\n",
    "                \"\"\"\n",
    "            )\n",
    "\n",
    "            chat_chain = prompt | chat_model | StrOutputParser()\n",
    "            response = chat_chain.invoke({\"raw_text\": result})\n",
    "            word_docx = markdown_to_docx(response)\n",
    "            word_docx.save(filename)\n",
    "\n",
    "            print(f\"File {filename} saved:\")\n",
    "            return filename\n",
    "\n",
    "        else:\n",
    "            document = Document()\n",
    "            document.add_heading('Company Earnings Conference Call', level=0)\n",
    "            document.add_heading(f\"Ticker: {data['symbol']}\\nQuarter: FY{data['quarter']}\\n\", level=1)\n",
    "            for section in data['transcript']:\n",
    "                p = document.add_paragraph(\"\")\n",
    "                p.add_run(f\"Speaker: {section['speaker']}\\nTitle: {section['title']}\").bold = True\n",
    "                document.add_paragraph(f\"{section['content']}\")\n",
    "\n",
    "            document.save(filename)\n",
    "\n",
    "        print(f\"File {filename} saved:\")\n",
    "        return filename\n",
    "\n",
    "    else:\n",
    "        print(f\"Request failed with status code: {r.status_code}\")\n",
    "        return None"
   ]
  },
  {
   "cell_type": "code",
   "execution_count": 20,
   "id": "840d9b18-c424-4507-80e4-9bbce87819fa",
   "metadata": {},
   "outputs": [],
   "source": [
    "interface = gr.Interface(fn=earnings_conference_call,\n",
    "                         inputs=[gr.Text(label=\"Company Name or Stock Ticker\",\n",
    "                                         value='',\n",
    "                                         placeholder=\"Type in the Company Name or Stock Ticker\"),\n",
    "                                 gr.Slider(minimum=2006, maximum=2026, value=2025, step=1, label='Fiscal Year'),\n",
    "                                 gr.Dropdown(choices=['Q1', 'Q2', 'Q3', 'Q4'],\n",
    "                                             value='Q1',\n",
    "                                             multiselect=False,\n",
    "                                             allow_custom_value=False,\n",
    "                                             label='Quarter'),\n",
    "                                 gr.Dropdown(choices=['Summary', 'Transcript'],\n",
    "                                             value='Transcript',\n",
    "                                             multiselect=False,\n",
    "                                             allow_custom_value=False,\n",
    "                                             label='Output Type')],\n",
    "                         outputs=[gr.File(label=\"Output\")],\n",
    "                         flagging_mode=\"never\",\n",
    "                         theme=gr.themes.Base(),\n",
    "                         title='Company Earnings Conference Call Retrieval',\n",
    "                         description=\"\"\"\n",
    "                                     This app can retrieve either the raw transcript or a summary of company earnings \n",
    "                                     conference call. Enter the company's stock ticker, the fiscal year, the quarter \n",
    "                                     (Q1, Q2, Q3, or Q4), and the type of output (either Summary or Transcript). \n",
    "                                     Click on 'Submit' to download the file.                         \n",
    "                                     \"\"\")"
   ]
  },
  {
   "cell_type": "code",
   "execution_count": 21,
   "id": "8576fefb-7342-4cf1-abc4-d7976aef7a8d",
   "metadata": {},
   "outputs": [
    {
     "name": "stdout",
     "output_type": "stream",
     "text": [
      "* Running on local URL:  http://127.0.0.1:7861\n",
      "* To create a public link, set `share=True` in `launch()`.\n"
     ]
    },
    {
     "data": {
      "text/html": [
       "<div><iframe src=\"http://127.0.0.1:7861/\" width=\"100%\" height=\"500\" allow=\"autoplay; camera; microphone; clipboard-read; clipboard-write;\" frameborder=\"0\" allowfullscreen></iframe></div>"
      ],
      "text/plain": [
       "<IPython.core.display.HTML object>"
      ]
     },
     "metadata": {},
     "output_type": "display_data"
    },
    {
     "data": {
      "text/plain": []
     },
     "execution_count": 21,
     "metadata": {},
     "output_type": "execute_result"
    },
    {
     "name": "stderr",
     "output_type": "stream",
     "text": [
      "C:\\Users\\JimYi\\anaconda3\\envs\\langchain\\Lib\\site-packages\\docx\\styles\\styles.py:130: UserWarning: style lookup by style_id is deprecated. Use style name as key instead.\n",
      "  return self._get_style_id_from_style(self[style_name], style_type)\n"
     ]
    },
    {
     "name": "stdout",
     "output_type": "stream",
     "text": [
      "File msft_2025Q1_summary.docx saved:\n"
     ]
    }
   ],
   "source": [
    "if __name__ == '__main__':\n",
    "    interface.launch(share=False)"
   ]
  },
  {
   "cell_type": "code",
   "execution_count": 22,
   "id": "f45ebe72-c9de-42dd-91b9-170024153cd4",
   "metadata": {},
   "outputs": [
    {
     "name": "stdout",
     "output_type": "stream",
     "text": [
      "Closing server running on port: 7861\n"
     ]
    }
   ],
   "source": [
    "interface.close()"
   ]
  }
 ],
 "metadata": {
  "kernelspec": {
   "display_name": "Python 3 (ipykernel)",
   "language": "python",
   "name": "python3"
  },
  "language_info": {
   "codemirror_mode": {
    "name": "ipython",
    "version": 3
   },
   "file_extension": ".py",
   "mimetype": "text/x-python",
   "name": "python",
   "nbconvert_exporter": "python",
   "pygments_lexer": "ipython3",
   "version": "3.12.9"
  }
 },
 "nbformat": 4,
 "nbformat_minor": 5
}
