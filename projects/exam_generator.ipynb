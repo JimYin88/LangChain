{
 "cells": [
  {
   "cell_type": "code",
   "execution_count": 1,
   "id": "bceb09dc-6e16-4ea3-b883-65c65952da19",
   "metadata": {},
   "outputs": [],
   "source": [
    "# System\n",
    "import os\n",
    "from dotenv import load_dotenv\n",
    "import ast\n",
    "\n",
    "# LLM Models\n",
    "from langchain_openai import ChatOpenAI\n",
    "# from openai import OpenAI\n",
    "\n",
    "# Template\n",
    "from langchain_core.prompts import ChatPromptTemplate\n",
    "\n",
    "# OutputParsers\n",
    "from langchain.schema.output_parser import StrOutputParser\n",
    "\n",
    "# Gradio frontend\n",
    "import gradio as gr"
   ]
  },
  {
   "cell_type": "code",
   "execution_count": 2,
   "id": "6f93cd5c-7a5e-4110-8ace-cabb51ff967f",
   "metadata": {},
   "outputs": [
    {
     "data": {
      "text/plain": [
       "True"
      ]
     },
     "execution_count": 2,
     "metadata": {},
     "output_type": "execute_result"
    }
   ],
   "source": [
    "load_dotenv()"
   ]
  },
  {
   "cell_type": "code",
   "execution_count": 3,
   "id": "13d4c9f9-5c55-4f01-8668-5b3121f65689",
   "metadata": {},
   "outputs": [],
   "source": [
    "chat_model = ChatOpenAI(model=\"gpt-4o-mini-2024-07-18\",\n",
    "                        max_completion_tokens=8192,\n",
    "                        api_key=os.getenv(\"OPENAI_API_KEY\"),\n",
    "                        temperature=0.8)"
   ]
  },
  {
   "cell_type": "code",
   "execution_count": 4,
   "id": "ee6e2920-d491-4294-88d4-b5c0a1708bc2",
   "metadata": {},
   "outputs": [],
   "source": [
    "questions = [\n",
    "    {\"Question\": \"Question 1\", \"Choices\": [\"A\", \"B\", \"C\", \"D\"], \"Answer\": \"A\"},\n",
    "    {\"Question\": \"Question 2\", \"Choices\": [\"A\", \"B\", \"C\", \"D\"], \"Answer\": \"A\"},\n",
    "    {\"Question\": \"Question 3\", \"Choices\": [\"A\", \"B\", \"C\", \"D\"], \"Answer\": \"A\"},\n",
    "    {\"Question\": \"Question 4\", \"Choices\": [\"A\", \"B\", \"C\", \"D\"], \"Answer\": \"A\"},\n",
    "    {\"Question\": \"Question 5\", \"Choices\": [\"A\", \"B\", \"C\", \"D\"], \"Answer\": \"A\"},\n",
    "    {\"Question\": \"Question 6\", \"Choices\": [\"A\", \"B\", \"C\", \"D\"], \"Answer\": \"A\"},\n",
    "    {\"Question\": \"Question 7\", \"Choices\": [\"A\", \"B\", \"C\", \"D\"], \"Answer\": \"A\"},\n",
    "    {\"Question\": \"Question 8\", \"Choices\": [\"A\", \"B\", \"C\", \"D\"], \"Answer\": \"A\"},\n",
    "    {\"Question\": \"Question 9\", \"Choices\": [\"A\", \"B\", \"C\", \"D\"], \"Answer\": \"A\"},\n",
    "    {\"Question\": \"Question 10\", \"Choices\": [\"A\", \"B\", \"C\", \"D\"], \"Answer\": \"A\"}\n",
    "]"
   ]
  },
  {
   "cell_type": "code",
   "execution_count": 5,
   "id": "cdd884dd-a2bd-4caf-a34e-7bbb68ee3c60",
   "metadata": {},
   "outputs": [],
   "source": [
    "def extract_questions(content):\n",
    "    result = list()\n",
    "    questions = content.split('---')\n",
    "    counter = 1\n",
    "\n",
    "    for ques in questions:\n",
    "        parts = ques.split('\\n')\n",
    "        q = c = a = \"\"\n",
    "        for part in parts:\n",
    "            if part.startswith('Question:'):\n",
    "                q = f'Question {counter}: ' + part.split('Question: ')[1].rstrip(' ')\n",
    "            elif part.startswith('Choices:'):\n",
    "                c = ast.literal_eval(part.split('Choices: ')[1].rstrip(' '))\n",
    "            elif part.startswith('Answer:'):\n",
    "                a = part.split('Answer: ')[1].rstrip(' ').rstrip('\"').lstrip('\"')\n",
    "        if q != \"\":\n",
    "            result.append({\"Question\": q, \"Choices\": c, \"Answer\": a})\n",
    "            counter += 1\n",
    "\n",
    "    return result"
   ]
  },
  {
   "cell_type": "code",
   "execution_count": 6,
   "id": "f2bfa529-70a2-4adf-8783-53574291ba02",
   "metadata": {},
   "outputs": [],
   "source": [
    "def question_generator(subject, grade):\n",
    "\n",
    "    prompt = ChatPromptTemplate.from_template(\n",
    "        \"\"\"\n",
    "        Generate a multiple-choice exam with 10 questions \n",
    "        on {subject} for a {grade} grade level student.\n",
    "        Structure each question in the following format:\n",
    "        Question: What is the capital of France?\n",
    "        Choices: [\"London\", \"Paris\", \"Rome\", \"Berlin\"]\n",
    "        Answer: \"Paris\"\n",
    "        Separate each question by '---'.\n",
    "        Do not surround 'Question' with double asterisk '**'.\n",
    "        \"\"\"\n",
    "    )\n",
    "\n",
    "    chat_chain = prompt | chat_model | StrOutputParser()\n",
    "    response = chat_chain.invoke({\"subject\": subject, \"grade\": grade})\n",
    "\n",
    "    return response"
   ]
  },
  {
   "cell_type": "code",
   "execution_count": 7,
   "id": "c4e1319a-58d2-455b-be7e-995ad66df5fc",
   "metadata": {},
   "outputs": [],
   "source": [
    "def exam_generator2(subject, grade):\n",
    "\n",
    "    global questions\n",
    "\n",
    "    questions_text = question_generator(subject, grade)\n",
    "    questions = extract_questions(questions_text)\n",
    "    inputs = []\n",
    "\n",
    "    for question in questions:\n",
    "        inputs.append(gr.Radio(choices=question[\"Choices\"], value=None, label=question[\"Question\"]))\n",
    "\n",
    "    return inputs"
   ]
  },
  {
   "cell_type": "code",
   "execution_count": 8,
   "id": "e8205a40-f338-454c-a77d-2c4fed2b6ecb",
   "metadata": {},
   "outputs": [],
   "source": [
    "def grade_exam(*answers):\n",
    "    score = 0\n",
    "    for i, question in enumerate(questions):\n",
    "        if answers[i] not in question['Choices']:\n",
    "            score += 0\n",
    "        elif answers[i] == question[\"Answer\"]:\n",
    "            score += 1\n",
    "    total_questions = len(questions)\n",
    "    return f\"You scored {score} out of {total_questions}.\""
   ]
  },
  {
   "cell_type": "code",
   "execution_count": 9,
   "id": "5bfd2c95-a048-41c0-a991-3b60cafdd143",
   "metadata": {},
   "outputs": [],
   "source": [
    "css_template = \"\"\"                   \n",
    "               h1 {\n",
    "                   font-size: 36px;\n",
    "                   font-family: Verdana, Arial, Sans-Serif;\n",
    "                   font-style: normal;\n",
    "                   font-weight: bold;\n",
    "                   # color: black; # rgb(238, 130, 238)\n",
    "                   # background-color: yellow;\n",
    "                   text-align: center;\n",
    "                   text-transform: normal;\n",
    "                   letter-spacing: 2px;\n",
    "                   # border: 1px solid lightblue;\n",
    "                   # border-radius: 0px\n",
    "                   }\n",
    "\n",
    "               p {\n",
    "                   font-size: 14px;\n",
    "                   font-family: Times New Roman, Times;\n",
    "                   font-style: normal;\n",
    "                   font-weight: normal;\n",
    "                   # color: black; # rgb(238, 130, 238)\n",
    "                   # background-color: yellow;\n",
    "                   text-align: left;\n",
    "                   text-transform: normal;\n",
    "                   letter-spacing: 0px;\n",
    "                   # border: 1px solid lightblue;\n",
    "                   # border-radius: 0px\n",
    "                   }\n",
    "               \"\"\""
   ]
  },
  {
   "cell_type": "code",
   "execution_count": 10,
   "id": "07555111-60ec-44ef-b271-bb338be34ba3",
   "metadata": {},
   "outputs": [],
   "source": [
    "with gr.Blocks(css=css_template) as iface:\n",
    "    gr.Markdown(\"# Exam Generator\")\n",
    "    gr.Markdown(\n",
    "        \"This app generates an exam on any subject matter at a selected grade level. \"\n",
    "        \"Type in the subject or select one from the dropdown menu. \"\n",
    "        \"Select the grade level and click on 'Generate New Exam Question'. \"\n",
    "        \"After selecting the most appropriate choices, click on Grade Exam to see your score.\")\n",
    "    with gr.Row():\n",
    "        dropdown1 = gr.Dropdown(choices=['Math',\n",
    "                                         'Geography',\n",
    "                                         'U.S. History',\n",
    "                                         'Science',\n",
    "                                         'History'],\n",
    "                                value='History',\n",
    "                                multiselect=False,\n",
    "                                allow_custom_value=True,\n",
    "                                label=\"Subject\")\n",
    "        dropdown2 = gr.Dropdown(choices=['First grade',\n",
    "                                         'Second grade',\n",
    "                                         'Third grade',\n",
    "                                         'Fourth grade',\n",
    "                                         'Fifth grade',\n",
    "                                         'Sixth grade',\n",
    "                                         'Junior High School',\n",
    "                                         'High School',\n",
    "                                         'Undergraduate',\n",
    "                                         'Master degree',\n",
    "                                         'Doctorate',\n",
    "                                         'Intermediate',\n",
    "                                         'Advanced',\n",
    "                                         'Expert'],\n",
    "                                value='Third grade',\n",
    "                                multiselect=False,\n",
    "                                allow_custom_value=True,\n",
    "                                label=\"Exam Grade Level\")\n",
    "\n",
    "    update_btn1 = gr.Button(\"Generate New Exam Questions\")\n",
    "\n",
    "    inputs = []\n",
    "    for question in questions:\n",
    "        inputs.append(gr.Radio(choices=question[\"Choices\"], label=question[\"Question\"]))\n",
    "\n",
    "    update_btn1.click(fn=exam_generator2,\n",
    "                      inputs=[dropdown1, dropdown2],\n",
    "                      outputs=inputs)\n",
    "\n",
    "    submit_btn = gr.Button(\"Grade Exam\")\n",
    "\n",
    "    output2 = gr.Textbox(label=\"Exam Result\")\n",
    "    submit_btn.click(fn=grade_exam, inputs=inputs, outputs=output2)"
   ]
  },
  {
   "cell_type": "code",
   "execution_count": 11,
   "id": "1d1c31be-af44-4aa2-814d-f9483c570fca",
   "metadata": {
    "scrolled": true
   },
   "outputs": [
    {
     "name": "stdout",
     "output_type": "stream",
     "text": [
      "* Running on local URL:  http://127.0.0.1:7860\n",
      "* To create a public link, set `share=True` in `launch()`.\n"
     ]
    },
    {
     "data": {
      "text/html": [
       "<div><iframe src=\"http://127.0.0.1:7860/\" width=\"100%\" height=\"500\" allow=\"autoplay; camera; microphone; clipboard-read; clipboard-write;\" frameborder=\"0\" allowfullscreen></iframe></div>"
      ],
      "text/plain": [
       "<IPython.core.display.HTML object>"
      ]
     },
     "metadata": {},
     "output_type": "display_data"
    }
   ],
   "source": [
    "if __name__ == '__main__':\n",
    "    iface.launch()"
   ]
  },
  {
   "cell_type": "code",
   "execution_count": 12,
   "id": "8ec0b015-b506-49fb-8622-f68381e6f224",
   "metadata": {},
   "outputs": [
    {
     "name": "stdout",
     "output_type": "stream",
     "text": [
      "Closing server running on port: 7860\n"
     ]
    }
   ],
   "source": [
    "iface.close()"
   ]
  },
  {
   "cell_type": "code",
   "execution_count": null,
   "id": "1aed6256-e08f-46bc-aa69-597a3fb7cd3c",
   "metadata": {},
   "outputs": [],
   "source": []
  }
 ],
 "metadata": {
  "kernelspec": {
   "display_name": "Python 3 (ipykernel)",
   "language": "python",
   "name": "python3"
  },
  "language_info": {
   "codemirror_mode": {
    "name": "ipython",
    "version": 3
   },
   "file_extension": ".py",
   "mimetype": "text/x-python",
   "name": "python",
   "nbconvert_exporter": "python",
   "pygments_lexer": "ipython3",
   "version": "3.12.9"
  }
 },
 "nbformat": 4,
 "nbformat_minor": 5
}
