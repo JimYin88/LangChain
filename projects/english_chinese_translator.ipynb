{
 "cells": [
  {
   "cell_type": "markdown",
   "id": "68d87961-82e1-4dd1-bcc7-49d43fc9d95f",
   "metadata": {},
   "source": [
    "# Language Translation"
   ]
  },
  {
   "cell_type": "markdown",
   "id": "151933ff-29d1-4647-8732-28b9b590a40d",
   "metadata": {},
   "source": [
    "## Imports"
   ]
  },
  {
   "cell_type": "code",
   "execution_count": 1,
   "id": "55cce870-c992-4388-a2fe-602cd249baae",
   "metadata": {},
   "outputs": [],
   "source": [
    "# System\n",
    "import os\n",
    "import tempfile\n",
    "\n",
    "# LLM Models\n",
    "from langchain_openai import ChatOpenAI\n",
    "from openai import OpenAI\n",
    "\n",
    "# Gradio\n",
    "import gradio as gr\n",
    "\n",
    "# Environment variables\n",
    "from dotenv import load_dotenv"
   ]
  },
  {
   "cell_type": "markdown",
   "id": "29683c6f-ec41-4f76-816a-7abe42eb083d",
   "metadata": {},
   "source": [
    "## Load Environment Variables"
   ]
  },
  {
   "cell_type": "code",
   "execution_count": 2,
   "id": "dba79817-a6cc-405c-9051-921d420f588a",
   "metadata": {},
   "outputs": [
    {
     "data": {
      "text/plain": [
       "True"
      ]
     },
     "execution_count": 2,
     "metadata": {},
     "output_type": "execute_result"
    }
   ],
   "source": [
    "os.environ['USER_AGENT'] = 'JimYin88'\n",
    "load_dotenv()"
   ]
  },
  {
   "cell_type": "markdown",
   "id": "f330b83d-e5fd-4730-8a47-9f57dd6a02cf",
   "metadata": {},
   "source": [
    "## Instantiate LLM model"
   ]
  },
  {
   "cell_type": "markdown",
   "id": "a786b5e6-47a0-4df0-be8c-66dcdf3609ba",
   "metadata": {},
   "source": [
    "### Using ChatGPT 4o-mini"
   ]
  },
  {
   "cell_type": "code",
   "execution_count": 3,
   "id": "6061a7a6-4284-4582-b591-09b0bff0adef",
   "metadata": {},
   "outputs": [],
   "source": [
    "chat_model = ChatOpenAI(model=\"gpt-4o-mini-2024-07-18\",\n",
    "                        max_completion_tokens=256,\n",
    "                        api_key=os.getenv(\"OPENAI_API_KEY\"),\n",
    "                        temperature=0.2)"
   ]
  },
  {
   "cell_type": "code",
   "execution_count": 4,
   "id": "2c0f6c06-a9bc-44ad-9404-36b350fba9e0",
   "metadata": {},
   "outputs": [],
   "source": [
    "client = OpenAI()"
   ]
  },
  {
   "cell_type": "code",
   "execution_count": 5,
   "id": "08b34687-c15f-45a6-9cee-b875fffe1590",
   "metadata": {},
   "outputs": [],
   "source": [
    "def english_chinese_translation(text_input: str = 'Hi, how are you?',\n",
    "                                voice: str = 'coral',\n",
    "                                tone: str = 'positive',\n",
    "                                speed: float = 1.0):\n",
    "\n",
    "    response = chat_model.invoke(f\"Translate the following words in English to traditional Chinese. \"\n",
    "                                 f\"Give only the Chinese translation: {text_input}\")\n",
    "\n",
    "    audio = client.audio.speech.create(input=response.content,\n",
    "                                       model=\"gpt-4o-mini-tts\",\n",
    "                                       voice=voice,\n",
    "                                       instructions=f\"Speak in a {tone} tone.\",\n",
    "                                       response_format=\"mp3\",\n",
    "                                       speed=speed)\n",
    "\n",
    "    with tempfile.NamedTemporaryFile(delete=False, suffix=\".mp3\") as temp_audio_file:\n",
    "        temp_audio_file.write(audio.content)\n",
    "        temp_file_path = temp_audio_file.name\n",
    "\n",
    "    return response.content, temp_file_path"
   ]
  },
  {
   "cell_type": "code",
   "execution_count": 6,
   "id": "dead6c05-111a-4390-bacc-8799983c928b",
   "metadata": {},
   "outputs": [],
   "source": [
    "interface = gr.Interface(fn=english_chinese_translation,\n",
    "                         inputs=[gr.Text(value='Hi, how are you?',\n",
    "                                         label=\"English\", elem_classes=\"text_input\", elem_id=\"label\"),\n",
    "                                 gr.Dropdown(choices=['alloy', 'ash', 'ballad', 'coral', 'echo',\n",
    "                                                      'fable', 'nova', 'onyx', 'sage', 'shimmer', 'verse'],\n",
    "                                             value='coral',\n",
    "                                             multiselect=False,\n",
    "                                             elem_classes=\"text_input\",\n",
    "                                             elem_id=\"textarea\",\n",
    "                                             label='VOICE'),\n",
    "                                 gr.Text(value='positive', label='Tone', elem_classes=\"text-container\"),\n",
    "                                 gr.Slider(minimum=0.70,\n",
    "                                           maximum=1.30,\n",
    "                                           value=1.0,\n",
    "                                           step=0.01,\n",
    "                                           label=\"Speed\",\n",
    "                                           elem_classes=\"text_input\")],\n",
    "                         outputs=[gr.Text(label=\"中文\",\n",
    "                                          # interactive=False,\n",
    "                                          elem_classes=\"text_input\",\n",
    "                                          elem_id=\"label\"),\n",
    "                                  gr.Audio(label=\"Generated Audio\",\n",
    "                                           type=\"filepath\",\n",
    "                                           autoplay=True,\n",
    "                                           show_share_button=False)],\n",
    "                         flagging_mode=\"never\",\n",
    "                         # examples=[['Hi, how are you?', 'ash', 'cheerful and positive', 1.0]],\n",
    "                         #           ['Do you speak Chinese?', 'coral', 'commanding', 1.0]],\n",
    "                         # live=False,\n",
    "                         title='English-Chinese Translator',\n",
    "                         description=\"\"\"\n",
    "                                     Translate English words or phrases into traditional Chinese characters,\n",
    "                                     and then pronounce them in Chinese. Type in the English words or phrases.\n",
    "                                     Select the voice among 11 choices. Type in the tone like e.g. 'professional',\n",
    "                                     'friendly', 'cheerful', etc. Select the speed from 0.7 - 1.3. Then click on\n",
    "                                     the Submit button to hear the pronunciation in Chinese.\n",
    "                                     \"\"\",\n",
    "                         theme=gr.themes.Base(),\n",
    "                         css=\"\"\"\n",
    "                             .gradio-container {font-family: 'Arial';\n",
    "                                                # font-size: 54px;\n",
    "                                                # font-weight: normal;\n",
    "                                                # text-align: left;\n",
    "                                                border: 1px solid black;\n",
    "                                                border-radius: 0px;\n",
    "                                                background-color: lightblue}\n",
    "\n",
    "                                textarea {font-size: 24px;\n",
    "                                       font-family: 'Verdana';\n",
    "                                       font-weight: normal;\n",
    "                                       # color: lightblue;\n",
    "                                       # color: rgb(238, 130, 238); \n",
    "                                       background-color: White;\n",
    "                                       text-align: left;\n",
    "                                       border: 1px solid black;\n",
    "                                       border-radius: 0px\n",
    "                                       }\n",
    "\n",
    "                                button {font-size: 16px;\n",
    "                                          font-family: 'Arial';\n",
    "                                          font-weight: bold;\n",
    "                                          # text-align: right;\n",
    "                                          font-style: normal;\n",
    "                                          # text-transform: uppercase;\n",
    "                                          border: 1px solid black;\n",
    "                                       border-radius: 0px;\n",
    "                                       }\n",
    "\n",
    "                                label {font-family: 'Arial';\n",
    "                                       # font-size: 24px;\n",
    "                                       font-weight: bold;\n",
    "                                       text-align: center;\n",
    "                                       font-style: normal;\n",
    "                                       text-transform: uppercase;\n",
    "                                       line-height: 1.0;\n",
    "                                       letter-spacing: 2px}\n",
    "                                       \n",
    "                                h1 {\n",
    "                                       font-size: 28px;\n",
    "                                       font-family: Verdana, Arial, Sans-Serif;\n",
    "                                       font-style: normal;\n",
    "                                       font-weight: bold;\n",
    "                                       color: black; # rgb(238, 130, 238)\n",
    "                                       # background-color: yellow;\n",
    "                                       # text-align: right;\n",
    "                                       text-transform: normal;\n",
    "                                       letter-spacing: 2px;\n",
    "                                       border: 1px solid lightblue;\n",
    "                                       border-radius: 0px\n",
    "                                    }\n",
    "                                    \n",
    "                                p {\n",
    "                                       font-size: 14px;\n",
    "                                       font-family: Times New Roman, Times, Serif;\n",
    "                                       font-style: normal;\n",
    "                                       font-weight: normal;\n",
    "                                       color: black; # rgb(238, 130, 238)\n",
    "                                       # background-color: yellow;\n",
    "                                       text-align: left;\n",
    "                                       text-transform: normal;\n",
    "                                       letter-spacing: 1px;\n",
    "                                       border: 0px solid lightblue;\n",
    "                                       border-radius: 0px\n",
    "                                    }\n",
    "                                    \n",
    "                                div {\n",
    "                                       font-size: 14px;\n",
    "                                       font-family: Verdana, Arial, Sans-Serif;\n",
    "                                       font-style: normal;\n",
    "                                       font-weight: normal;\n",
    "                                       color: black; # rgb(238, 130, 238)\n",
    "                                       # background-color: yellow;\n",
    "                                       text-align: center;\n",
    "                                       text-transform: normal;\n",
    "                                       letter-spacing: 0px;\n",
    "                                       border: 1px solid lightblue;\n",
    "                                       border-radius: 0px\n",
    "                                    }\n",
    "\n",
    "                            .text_input {font-family: 'Arial';\n",
    "                                         # font-size: 32px;\n",
    "                                         # font-weight: normal;\n",
    "                                         # text-align: left;\n",
    "                                         background-color: lightblue}\n",
    "\n",
    "                                textarea {font-size: 20px;\n",
    "                                          font-family: 'Verdana';\n",
    "                                          font-weight: normal;\n",
    "                                          # color: DodgerBlue;\n",
    "                                          text-align: left}\n",
    "\n",
    "                                label {font-family: 'Arial';\n",
    "                                       # font-size: 36px;\n",
    "                                       # font-weight: normal;\n",
    "                                       text-align: center;\n",
    "                                       font-style: normal;\n",
    "                                       text-transform: uppercase;\n",
    "                                       line-height: 1.0;\n",
    "                                       letter-spacing: 0px;\n",
    "                                       border: 1px solid black;\n",
    "                                       border-radius: 0px;\n",
    "                                       }\n",
    "                                       \n",
    "                            .text_container {font-family: 'Arial';\n",
    "                                             font-size: 48px;\n",
    "                                             font-weight: bold;\n",
    "                                             text-align: right;\n",
    "                                             font-style: italic;\n",
    "                                             text-transform: uppercase;\n",
    "                                             line-height: 1.0;\n",
    "                                             }\n",
    "\n",
    "                            \"\"\"\n",
    "                         )"
   ]
  },
  {
   "cell_type": "code",
   "execution_count": 7,
   "id": "6f1a8236-6ab9-4c9f-803d-561904df1357",
   "metadata": {},
   "outputs": [
    {
     "name": "stdout",
     "output_type": "stream",
     "text": [
      "* Running on local URL:  http://127.0.0.1:7862\n",
      "* To create a public link, set `share=True` in `launch()`.\n"
     ]
    },
    {
     "data": {
      "text/html": [
       "<div><iframe src=\"http://127.0.0.1:7862/\" width=\"100%\" height=\"500\" allow=\"autoplay; camera; microphone; clipboard-read; clipboard-write;\" frameborder=\"0\" allowfullscreen></iframe></div>"
      ],
      "text/plain": [
       "<IPython.core.display.HTML object>"
      ]
     },
     "metadata": {},
     "output_type": "display_data"
    },
    {
     "data": {
      "text/plain": []
     },
     "execution_count": 7,
     "metadata": {},
     "output_type": "execute_result"
    }
   ],
   "source": [
    "interface.launch(share=False)"
   ]
  },
  {
   "cell_type": "code",
   "execution_count": 8,
   "id": "59b85614-4559-40f2-91c5-7f686938fd2a",
   "metadata": {},
   "outputs": [
    {
     "name": "stdout",
     "output_type": "stream",
     "text": [
      "Closing server running on port: 7862\n"
     ]
    }
   ],
   "source": [
    "interface.close()"
   ]
  },
  {
   "cell_type": "code",
   "execution_count": null,
   "id": "e93281f8-f7eb-473e-b72d-902807a3e7ce",
   "metadata": {},
   "outputs": [],
   "source": []
  }
 ],
 "metadata": {
  "kernelspec": {
   "display_name": "Python 3 (ipykernel)",
   "language": "python",
   "name": "python3"
  },
  "language_info": {
   "codemirror_mode": {
    "name": "ipython",
    "version": 3
   },
   "file_extension": ".py",
   "mimetype": "text/x-python",
   "name": "python",
   "nbconvert_exporter": "python",
   "pygments_lexer": "ipython3",
   "version": "3.12.9"
  }
 },
 "nbformat": 4,
 "nbformat_minor": 5
}
