{
 "cells": [
  {
   "cell_type": "markdown",
   "id": "68d87961-82e1-4dd1-bcc7-49d43fc9d95f",
   "metadata": {},
   "source": [
    "# Language Translation"
   ]
  },
  {
   "cell_type": "markdown",
   "id": "151933ff-29d1-4647-8732-28b9b590a40d",
   "metadata": {},
   "source": [
    "## Imports"
   ]
  },
  {
   "cell_type": "code",
   "execution_count": 1,
   "id": "55cce870-c992-4388-a2fe-602cd249baae",
   "metadata": {},
   "outputs": [],
   "source": [
    "# System\n",
    "import os\n",
    "os.environ['USER_AGENT'] = 'JimYin88'\n",
    "\n",
    "# LLM Models\n",
    "from langchain_openai import ChatOpenAI\n",
    "# from langchain_ollama import OllamaLLM\n",
    "# from langchain_ollama import ChatOllama\n",
    "\n",
    "# Templates\n",
    "from langchain_core.prompts import PromptTemplate, ChatPromptTemplate\n",
    "from langchain_core.prompts import SystemMessagePromptTemplate, HumanMessagePromptTemplate, AIMessagePromptTemplate\n",
    "from langchain.schema import SystemMessage, HumanMessage, AIMessage\n",
    "from langchain_core.messages import ToolMessage\n",
    "\n",
    "# Document Loaders\n",
    "# from langchain_community.document_loaders import Docx2txtLoader\n",
    "# from langchain_community.document_loaders import WebBaseLoader\n",
    "# from langchain.document_loaders import BSHTMLLoader\n",
    "# from langchain_community.document_loaders import UnstructuredRTFLoader\n",
    "\n",
    "# Document Splitters\n",
    "# from langchain.text_splitter import TokenTextSplitter\n",
    "# from langchain.text_splitter import RecursiveCharacterTextSplitter\n",
    "\n",
    "# Embeddings\n",
    "# from langchain_google_genai import GoogleGenerativeAIEmbeddings\n",
    "# from langchain_openai import OpenAIEmbeddings\n",
    "\n",
    "# Vector Stores\n",
    "# from langchain_chroma import Chroma\n",
    "# from langchain_community.vectorstores.faiss import FAISS\n",
    "\n",
    "# LangChain Chains\n",
    "# from langchain.chains import create_retrieval_chain\n",
    "# from langchain.chains.combine_documents import create_stuff_documents_chain\n",
    "\n",
    "# OutputParsers\n",
    "# from langchain.schema.output_parser import StrOutputParser\n",
    "\n",
    "# Gradio\n",
    "import gradio as gr\n",
    "\n",
    "# from langchain.agents import tool, load_tools, initialize_agent, AgentType\n",
    "\n",
    "# ElevenLabs\n",
    "from elevenlabs.client import ElevenLabs\n",
    "from elevenlabs import play"
   ]
  },
  {
   "cell_type": "markdown",
   "id": "29683c6f-ec41-4f76-816a-7abe42eb083d",
   "metadata": {},
   "source": [
    "## Load Environment Variables"
   ]
  },
  {
   "cell_type": "code",
   "execution_count": 2,
   "id": "dba79817-a6cc-405c-9051-921d420f588a",
   "metadata": {},
   "outputs": [
    {
     "data": {
      "text/plain": [
       "True"
      ]
     },
     "execution_count": 2,
     "metadata": {},
     "output_type": "execute_result"
    }
   ],
   "source": [
    "from dotenv import load_dotenv\n",
    "load_dotenv()"
   ]
  },
  {
   "cell_type": "markdown",
   "id": "f330b83d-e5fd-4730-8a47-9f57dd6a02cf",
   "metadata": {},
   "source": [
    "## Instantiate LLM model and Running the Chain"
   ]
  },
  {
   "cell_type": "markdown",
   "id": "a786b5e6-47a0-4df0-be8c-66dcdf3609ba",
   "metadata": {},
   "source": [
    "### Using ChatGPT 4o-mini"
   ]
  },
  {
   "cell_type": "code",
   "execution_count": 3,
   "id": "6061a7a6-4284-4582-b591-09b0bff0adef",
   "metadata": {},
   "outputs": [],
   "source": [
    "chat_model = ChatOpenAI(model=\"gpt-4o-mini-2024-07-18\",\n",
    "                        max_completion_tokens=1028,\n",
    "                        temperature=0.2)"
   ]
  },
  {
   "cell_type": "code",
   "execution_count": 4,
   "id": "2c0f6c06-a9bc-44ad-9404-36b350fba9e0",
   "metadata": {},
   "outputs": [],
   "source": [
    "client = ElevenLabs(api_key=os.getenv(\"ELEVENLABS_API_KEY\"))"
   ]
  },
  {
   "cell_type": "code",
   "execution_count": 297,
   "id": "08b34687-c15f-45a6-9cee-b875fffe1590",
   "metadata": {},
   "outputs": [],
   "source": [
    "def english_chinese_translation(text_input: str) -> str:\n",
    "\n",
    "    response = chat_model.invoke(f\"Translate the following words in English to traditional Chinese. Give only the Chinese translation: {text_input}\")\n",
    "\n",
    "    audio = client.text_to_speech.convert(text=response.content,\n",
    "                                          voice_id='4VZIsMPtgggwNg7OXbPY',\n",
    "                                          model_id=\"eleven_turbo_v2_5\",\n",
    "                                          output_format=\"mp3_44100_64\", \n",
    "                                          voice_settings={'speed': 0.9})\n",
    "\n",
    "    play(audio)\n",
    "    return response.content"
   ]
  },
  {
   "cell_type": "code",
   "execution_count": 332,
   "id": "dead6c05-111a-4390-bacc-8799983c928b",
   "metadata": {},
   "outputs": [],
   "source": [
    "interface = gr.Interface(fn = english_chinese_translation,\n",
    "                         inputs=[gr.Text(label=\"English\", elem_classes=\"text_input\")],\n",
    "                         outputs=[gr.Text(label=\"Chinese\", elem_classes=\"text_input\")],\n",
    "                         flagging_mode=\"never\",\n",
    "                         examples=['Hi, how are you?'],\n",
    "                         theme=gr.themes.Base(),\n",
    "                         \n",
    "                         css=\"\"\"\n",
    "                             .gradio-container {font-family: 'Arial';\n",
    "                                                # font-size: 32px;\n",
    "                                                # font-weight: normal;\n",
    "                                                # text-align: left;\n",
    "                                                background-color: lightblue}\n",
    "                                                 \n",
    "                                textarea {font-size: 20px;\n",
    "                                          font-family: 'Verdana';\n",
    "                                          font-weight: normal;\n",
    "                                          text-align: left}\n",
    "\n",
    "                                button {font-size: 16px;\n",
    "                                          font-family: 'Arial';\n",
    "                                          font-weight: bold;\n",
    "                                          # text-align: right;\n",
    "                                          font-style: normal}\n",
    "\n",
    "                                label {font-family: 'Arial';\n",
    "                                       # font-size: 24px;\n",
    "                                       # font-weight: bold;\n",
    "                                       font-style: normal;\n",
    "                                       text-transform: uppercase;\n",
    "                                       line-height: 1.5;\n",
    "                                       letter-spacing: 2px;\n",
    "                                       text-align: center}\n",
    "\n",
    "                                .text_input {font-family: 'Arial';\n",
    "                                                # font-size: 32px;\n",
    "                                                # font-weight: normal;\n",
    "                                                # text-align: left;\n",
    "                                                background-color: lightblue}\n",
    "                                                 \n",
    "                                textarea {font-size: 24px;\n",
    "                                          font-family: 'Verdana';\n",
    "                                          font-weight: normal;\n",
    "                                          text-align: left}\n",
    "\n",
    "                                label {font-family: 'Arial';\n",
    "                                       # font-size: 24px;\n",
    "                                       # font-weight: bold;\n",
    "                                       font-style: normal;\n",
    "                                       text-transform: uppercase;\n",
    "                                       line-height: 1.5;\n",
    "                                       letter-spacing: 1px;\n",
    "                                       text-align: center}\n",
    "\n",
    "                                \"\"\"\n",
    "                        )"
   ]
  },
  {
   "cell_type": "code",
   "execution_count": 333,
   "id": "6f1a8236-6ab9-4c9f-803d-561904df1357",
   "metadata": {},
   "outputs": [
    {
     "name": "stdout",
     "output_type": "stream",
     "text": [
      "* Running on local URL:  http://127.0.0.1:7864\n",
      "* To create a public link, set `share=True` in `launch()`.\n"
     ]
    },
    {
     "data": {
      "text/html": [
       "<div><iframe src=\"http://127.0.0.1:7864/\" width=\"100%\" height=\"500\" allow=\"autoplay; camera; microphone; clipboard-read; clipboard-write;\" frameborder=\"0\" allowfullscreen></iframe></div>"
      ],
      "text/plain": [
       "<IPython.core.display.HTML object>"
      ]
     },
     "metadata": {},
     "output_type": "display_data"
    },
    {
     "data": {
      "text/plain": []
     },
     "execution_count": 333,
     "metadata": {},
     "output_type": "execute_result"
    }
   ],
   "source": [
    "interface.launch(share=False)"
   ]
  },
  {
   "cell_type": "code",
   "execution_count": 334,
   "id": "59b85614-4559-40f2-91c5-7f686938fd2a",
   "metadata": {},
   "outputs": [
    {
     "name": "stdout",
     "output_type": "stream",
     "text": [
      "Closing server running on port: 7864\n"
     ]
    }
   ],
   "source": [
    "interface.close()"
   ]
  },
  {
   "cell_type": "code",
   "execution_count": null,
   "id": "e93281f8-f7eb-473e-b72d-902807a3e7ce",
   "metadata": {},
   "outputs": [],
   "source": []
  }
 ],
 "metadata": {
  "kernelspec": {
   "display_name": "Python 3 (ipykernel)",
   "language": "python",
   "name": "python3"
  },
  "language_info": {
   "codemirror_mode": {
    "name": "ipython",
    "version": 3
   },
   "file_extension": ".py",
   "mimetype": "text/x-python",
   "name": "python",
   "nbconvert_exporter": "python",
   "pygments_lexer": "ipython3",
   "version": "3.12.9"
  }
 },
 "nbformat": 4,
 "nbformat_minor": 5
}
