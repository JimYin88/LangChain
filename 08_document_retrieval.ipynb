{
 "cells": [
  {
   "cell_type": "markdown",
   "id": "4d159d00-d182-4ead-85c3-7d9e55edad82",
   "metadata": {},
   "source": [
    "## MultiQuery Retrieval"
   ]
  },
  {
   "cell_type": "code",
   "execution_count": 40,
   "id": "854b5fce-6e68-4833-b7d8-167f3d8315d3",
   "metadata": {},
   "outputs": [],
   "source": [
    "from langchain.document_loaders import WikipediaLoader\n",
    "from langchain_openai import ChatOpenAI, OpenAIEmbeddings\n",
    "\n",
    "from dotenv import load_dotenv"
   ]
  },
  {
   "cell_type": "code",
   "execution_count": 18,
   "id": "66dd2ad6-c6d6-457a-aa7a-dbba57c8027a",
   "metadata": {},
   "outputs": [
    {
     "data": {
      "text/plain": [
       "True"
      ]
     },
     "execution_count": 18,
     "metadata": {},
     "output_type": "execute_result"
    }
   ],
   "source": [
    "load_dotenv()"
   ]
  },
  {
   "cell_type": "code",
   "execution_count": 5,
   "id": "cef807de-001f-479b-8449-e88d21a550e0",
   "metadata": {},
   "outputs": [],
   "source": [
    "loader = WikipediaLoader(query='MKUltra')\n",
    "documents = loader.load()"
   ]
  },
  {
   "cell_type": "code",
   "execution_count": 6,
   "id": "b8cf8ac1-f80a-4ff0-8440-a135d5bd1275",
   "metadata": {},
   "outputs": [
    {
     "data": {
      "text/plain": [
       "24"
      ]
     },
     "execution_count": 6,
     "metadata": {},
     "output_type": "execute_result"
    }
   ],
   "source": [
    "len(documents)"
   ]
  },
  {
   "cell_type": "code",
   "execution_count": 7,
   "id": "bd659059-236d-4342-a920-152c7166bddf",
   "metadata": {},
   "outputs": [],
   "source": [
    "from langchain.text_splitter import CharacterTextSplitter"
   ]
  },
  {
   "cell_type": "code",
   "execution_count": 8,
   "id": "c3edd06d-255d-4f94-bac9-6eda8ed747c6",
   "metadata": {},
   "outputs": [
    {
     "name": "stderr",
     "output_type": "stream",
     "text": [
      "Created a chunk of size 525, which is longer than the specified 500\n",
      "Created a chunk of size 542, which is longer than the specified 500\n",
      "Created a chunk of size 694, which is longer than the specified 500\n"
     ]
    }
   ],
   "source": [
    "text_splitter = CharacterTextSplitter.from_tiktoken_encoder(chunk_size=500)\n",
    "docs = text_splitter.split_documents(documents)"
   ]
  },
  {
   "cell_type": "code",
   "execution_count": 14,
   "id": "b3581d46-30a8-4b1e-85a5-5a0330f6266f",
   "metadata": {},
   "outputs": [
    {
     "name": "stdout",
     "output_type": "stream",
     "text": [
      "Project MKUltra was a human experimentation program designed and undertaken by the U.S. Central Intelligence Agency (CIA) to develop procedures and identify drugs that could be used during interrogations to weaken individuals and force confessions through brainwashing and psychological torture. The term MKUltra is a CIA cryptonym: \"MK\" is an arbitrary prefix standing for the Office of Technical Service and \"Ultra\" is an arbitrary word out of a dictionary used to name this project. The program has been widely condemned as a violation of individual rights and an example of the CIA's abuse of power, with critics highlighting its disregard for consent and its corrosive impact on democratic principles.\n",
      "Project MKUltra began in 1953 and was halted in 1973. MKUltra used numerous methods to manipulate its subjects' mental states and brain functions, such as the covert administration of high doses of psychoactive drugs (especially LSD) and other chemicals without the subjects' consent. Additionally, other methods beyond chemical compounds were used, including electroshocks, hypnosis, sensory deprivation, isolation, verbal and sexual abuse, and other forms of torture.\n",
      "Project MKUltra was preceded by Project Artichoke. It was organized through the CIA's Office of Scientific Intelligence and coordinated with the United States Army Biological Warfare Laboratories. The program engaged in illegal activities, including the use of U.S. and Canadian citizens as unwitting test subjects.: 74  MKUltra's scope was broad, with activities carried out under the guise of research at more than 80 institutions aside from the military, including colleges and universities, hospitals, prisons, and pharmaceutical companies. The CIA operated using front organizations, although some top officials at these institutions were aware of the CIA's involvement.\n",
      "Project MKUltra was revealed to the public in 1975 by the Church Committee (named after Senator Frank Church) of the United States Congress and Gerald Ford's United States President's Commission on CIA Activities within the United States (the Rockefeller Commission). Investigative efforts were hampered by CIA Director Richard Helms's order that all MKUltra files be destroyed in 1973; the Church Committee and Rockefeller Commission investigations relied on the sworn testimony of direct participants and on the small number of documents that survived Helms's order. In 1977, a Freedom of Information Act request uncovered a cache of 20,000 documents relating to MKUltra, which led to Senate hearings. Some surviving information about MKUltra was declassified in 2001.\n",
      "\n",
      "\n",
      "== Background ==\n"
     ]
    }
   ],
   "source": [
    "print(docs[0].page_content)"
   ]
  },
  {
   "cell_type": "code",
   "execution_count": 19,
   "id": "4c80baee-2807-493f-9046-63af0bb18732",
   "metadata": {},
   "outputs": [],
   "source": [
    "embedding_function = OpenAIEmbeddings()"
   ]
  },
  {
   "cell_type": "code",
   "execution_count": 21,
   "id": "4e827d18-c651-40b1-b568-9bf89fb2ac63",
   "metadata": {},
   "outputs": [],
   "source": [
    "from langchain_chroma import Chroma"
   ]
  },
  {
   "cell_type": "code",
   "execution_count": 22,
   "id": "2f9405b4-c6d8-4725-8712-cf9ed805b2ee",
   "metadata": {},
   "outputs": [],
   "source": [
    "db = Chroma.from_documents(documents=docs, \n",
    "                           embedding=embedding_function,\n",
    "                           persist_directory=\"./mkultra\")"
   ]
  },
  {
   "cell_type": "code",
   "execution_count": 26,
   "id": "59356d82-de0b-4bf1-9f20-abc506a55666",
   "metadata": {},
   "outputs": [],
   "source": [
    "from langchain.retrievers.multi_query import MultiQueryRetriever\n",
    "from langchain_openai import ChatOpenAI"
   ]
  },
  {
   "cell_type": "code",
   "execution_count": 27,
   "id": "54c0686b-8ca9-40d3-b933-46155fbf2572",
   "metadata": {},
   "outputs": [],
   "source": [
    "question = \"When was this declassified?\""
   ]
  },
  {
   "cell_type": "code",
   "execution_count": 28,
   "id": "3781557a-c976-460f-943e-497571b3dba7",
   "metadata": {},
   "outputs": [],
   "source": [
    "model = ChatOpenAI(model=\"gpt-4o-mini-2024-07-18\",\n",
    "                   max_tokens=300,\n",
    "                   temperature=0.7)"
   ]
  },
  {
   "cell_type": "code",
   "execution_count": 30,
   "id": "75fe1b4b-045f-43d1-acb1-cdf3c541de7c",
   "metadata": {},
   "outputs": [],
   "source": [
    "retriever_from_llm = MultiQueryRetriever.from_llm(retriever=db.as_retriever(), llm=model)"
   ]
  },
  {
   "cell_type": "code",
   "execution_count": 32,
   "id": "003fb461-1f67-4d3a-a0cb-b1f666f7e611",
   "metadata": {},
   "outputs": [],
   "source": [
    "import logging\n",
    "logging.basicConfig()\n",
    "logging.getLogger('langchain.retrievers.multi_query').setLevel(logging.INFO)"
   ]
  },
  {
   "cell_type": "code",
   "execution_count": 35,
   "id": "6712c7da-df79-4eec-b9aa-5d3c83b73bc4",
   "metadata": {},
   "outputs": [
    {
     "name": "stderr",
     "output_type": "stream",
     "text": [
      "INFO:langchain.retrievers.multi_query:Generated queries: ['When was this document made public after declassification?  ', 'What is the date on which this information was officially released?  ', 'Can you tell me the timeline for when this was declassified?']\n"
     ]
    }
   ],
   "source": [
    "unique_docs = retriever_from_llm.invoke(input=question)"
   ]
  },
  {
   "cell_type": "code",
   "execution_count": 39,
   "id": "6831d705-e533-4e3b-962d-13239a55c9c6",
   "metadata": {},
   "outputs": [
    {
     "name": "stdout",
     "output_type": "stream",
     "text": [
      "== Background ==\n",
      "By the early years of the 1970s, a series of troubling reports had appeared in the press concerning U.S. intelligence activities. First came revelations by Army intelligence officer Christopher Pyle in January 1970 regarding the US Army's spying on the civilian population in the United States. Senator Sam Ervin's investigations of military surveillance produced further revelations. \n",
      "Then on December 22, 1974, The New York Times published a lengthy front-page article by investigative journalist Seymour Hersh detailing covert activities engaged in by the Central Intelligence Agency under Operation CHAOS to collect information on the political activities of American citizens.\n",
      "The resulting uproar led to the creation of the Church Committee, which was approved by the Senate on January 27, 1975, on a vote of 82 to 4.\n",
      "\n",
      "\n",
      "== Overview ==\n",
      "The Church Committee's final report was published in April 1976 in six books. Also published were seven volumes of Church Committee hearings in the Senate.\n",
      "Before the release of the final report, the committee also published an interim report titled \"Alleged Assassination Plots Involving Foreign Leaders\", which investigated alleged attempts to assassinate foreign leaders, including Patrice Lumumba of Zaire, Rafael Trujillo of the Dominican Republic, Ngo Dinh Diem of South Vietnam, Gen. René Schneider of Chile, and Fidel Castro of Cuba. President Gerald Ford urged the Senate to withhold the report from the public, but failed, and under recommendations and pressure by the committee, Ford issued Executive Order 11905 (ultimately replaced in 1981 by President Reagan's Executive Order 12333) to ban US sanctioned assassinations of foreign leaders.\n",
      "In addition, the committee produced seven case studies on covert operations, but only the one on Chile was released, titled \"Covert Action in Chile: 1963–1973\". The rest were kept secret at CIA's request.\n",
      "According to a declassified National Security Agency history, the Church Committee also helped to uncover the NSA's Watch List. The information for the list was compiled into the so-called \"Rhyming Dictionary\" of biographical information, which a\n"
     ]
    }
   ],
   "source": [
    "print(unique_docs[0].page_content)"
   ]
  },
  {
   "cell_type": "code",
   "execution_count": null,
   "id": "206212df-cef8-46d3-b36b-4bffe5815106",
   "metadata": {},
   "outputs": [],
   "source": []
  }
 ],
 "metadata": {
  "kernelspec": {
   "display_name": "Python 3 (ipykernel)",
   "language": "python",
   "name": "python3"
  },
  "language_info": {
   "codemirror_mode": {
    "name": "ipython",
    "version": 3
   },
   "file_extension": ".py",
   "mimetype": "text/x-python",
   "name": "python",
   "nbconvert_exporter": "python",
   "pygments_lexer": "ipython3",
   "version": "3.12.9"
  }
 },
 "nbformat": 4,
 "nbformat_minor": 5
}
